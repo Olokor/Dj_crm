{
  "cells": [
    {
      "cell_type": "code",
      "execution_count": 44,
      "metadata": {
        "id": "YIIz4VpjfqI9"
      },
      "outputs": [],
      "source": [
        "import tensorflow as tf\n",
        "X = tf.cast(tf.constant([-7.0, -4., -1., 2., 5., 11., 13., 14.]),  dtype=tf.float32)\n",
        "y = tf.cast(tf.constant([3., 6., 9., 12., 15., 18., 21., 24.]), dtype=tf.float32)\n",
        "\n",
        "X = tf.expand_dims(X, axis=-1)  # Adds a dimension of size 1 to the last axis"
      ]
    },
    {
      "cell_type": "markdown",
      "metadata": {
        "id": "D3XthtMnoN6u"
      },
      "source": [
        "**create first model**"
      ]
    },
    {
      "cell_type": "code",
      "execution_count": 45,
      "metadata": {
        "colab": {
          "base_uri": "https://localhost:8080/"
        },
        "id": "Y_oqbtDKoS6u",
        "outputId": "f0670816-2476-40b9-c180-6fa74bde77e4"
      },
      "outputs": [
        {
          "output_type": "stream",
          "name": "stdout",
          "text": [
            "Epoch 1/5\n",
            "\u001b[1m1/1\u001b[0m \u001b[32m━━━━━━━━━━━━━━━━━━━━\u001b[0m\u001b[37m\u001b[0m \u001b[1m1s\u001b[0m 672ms/step - loss: 14.9455 - mae: 14.9455\n",
            "Epoch 2/5\n",
            "\u001b[1m1/1\u001b[0m \u001b[32m━━━━━━━━━━━━━━━━━━━━\u001b[0m\u001b[37m\u001b[0m \u001b[1m0s\u001b[0m 279ms/step - loss: 14.7653 - mae: 14.7653\n",
            "Epoch 3/5\n",
            "\u001b[1m1/1\u001b[0m \u001b[32m━━━━━━━━━━━━━━━━━━━━\u001b[0m\u001b[37m\u001b[0m \u001b[1m0s\u001b[0m 23ms/step - loss: 14.5852 - mae: 14.5852\n",
            "Epoch 4/5\n",
            "\u001b[1m1/1\u001b[0m \u001b[32m━━━━━━━━━━━━━━━━━━━━\u001b[0m\u001b[37m\u001b[0m \u001b[1m0s\u001b[0m 22ms/step - loss: 14.4050 - mae: 14.4050\n",
            "Epoch 5/5\n",
            "\u001b[1m1/1\u001b[0m \u001b[32m━━━━━━━━━━━━━━━━━━━━\u001b[0m\u001b[37m\u001b[0m \u001b[1m0s\u001b[0m 22ms/step - loss: 14.2248 - mae: 14.2248\n"
          ]
        },
        {
          "output_type": "execute_result",
          "data": {
            "text/plain": [
              "<keras.src.callbacks.history.History at 0x7abc34e4e550>"
            ]
          },
          "metadata": {},
          "execution_count": 45
        }
      ],
      "source": [
        "model = tf.keras.Sequential([\n",
        "    tf.keras.layers.Dense(1)\n",
        "])\n",
        "# compile the model\n",
        "model.compile(loss=tf.keras.losses.mae, optimizer=tf.keras.optimizers.SGD(), metrics=['mae'])\n",
        "# fit the model\n",
        "model.fit(X, y, epochs=5)"
      ]
    },
    {
      "cell_type": "code",
      "source": [
        "model = tf.keras.Sequential([\n",
        "    tf.keras.layers.Dense(1)\n",
        "])\n",
        "\n",
        "model.compile(\n",
        "    loss=tf.keras.losses.mae,\n",
        "    optimizer=tf.keras.optimizers.SGD(),\n",
        "    metrics=['mae']\n",
        ")\n",
        "\n",
        "model.fit(\n",
        "    X, y,\n",
        "    epochs=100,\n",
        ")"
      ],
      "metadata": {
        "colab": {
          "base_uri": "https://localhost:8080/"
        },
        "id": "43cVWXGwAYih",
        "outputId": "e0485e20-51b6-4ad0-b830-09ea893869fe"
      },
      "execution_count": 3,
      "outputs": [
        {
          "output_type": "stream",
          "name": "stdout",
          "text": [
            "Epoch 1/100\n",
            "\u001b[1m1/1\u001b[0m \u001b[32m━━━━━━━━━━━━━━━━━━━━\u001b[0m\u001b[37m\u001b[0m \u001b[1m1s\u001b[0m 742ms/step - loss: 17.6434 - mae: 17.6434\n",
            "Epoch 2/100\n",
            "\u001b[1m1/1\u001b[0m \u001b[32m━━━━━━━━━━━━━━━━━━━━\u001b[0m\u001b[37m\u001b[0m \u001b[1m0s\u001b[0m 40ms/step - loss: 17.2927 - mae: 17.2927\n",
            "Epoch 3/100\n",
            "\u001b[1m1/1\u001b[0m \u001b[32m━━━━━━━━━━━━━━━━━━━━\u001b[0m\u001b[37m\u001b[0m \u001b[1m0s\u001b[0m 29ms/step - loss: 16.9419 - mae: 16.9419\n",
            "Epoch 4/100\n",
            "\u001b[1m1/1\u001b[0m \u001b[32m━━━━━━━━━━━━━━━━━━━━\u001b[0m\u001b[37m\u001b[0m \u001b[1m0s\u001b[0m 58ms/step - loss: 16.5911 - mae: 16.5911\n",
            "Epoch 5/100\n",
            "\u001b[1m1/1\u001b[0m \u001b[32m━━━━━━━━━━━━━━━━━━━━\u001b[0m\u001b[37m\u001b[0m \u001b[1m0s\u001b[0m 53ms/step - loss: 16.2403 - mae: 16.2403\n",
            "Epoch 6/100\n",
            "\u001b[1m1/1\u001b[0m \u001b[32m━━━━━━━━━━━━━━━━━━━━\u001b[0m\u001b[37m\u001b[0m \u001b[1m0s\u001b[0m 62ms/step - loss: 15.8895 - mae: 15.8895\n",
            "Epoch 7/100\n",
            "\u001b[1m1/1\u001b[0m \u001b[32m━━━━━━━━━━━━━━━━━━━━\u001b[0m\u001b[37m\u001b[0m \u001b[1m0s\u001b[0m 173ms/step - loss: 15.5388 - mae: 15.5388\n",
            "Epoch 8/100\n",
            "\u001b[1m1/1\u001b[0m \u001b[32m━━━━━━━━━━━━━━━━━━━━\u001b[0m\u001b[37m\u001b[0m \u001b[1m0s\u001b[0m 171ms/step - loss: 15.1880 - mae: 15.1880\n",
            "Epoch 9/100\n",
            "\u001b[1m1/1\u001b[0m \u001b[32m━━━━━━━━━━━━━━━━━━━━\u001b[0m\u001b[37m\u001b[0m \u001b[1m0s\u001b[0m 141ms/step - loss: 14.9371 - mae: 14.9371\n",
            "Epoch 10/100\n",
            "\u001b[1m1/1\u001b[0m \u001b[32m━━━━━━━━━━━━━━━━━━━━\u001b[0m\u001b[37m\u001b[0m \u001b[1m0s\u001b[0m 129ms/step - loss: 14.7569 - mae: 14.7569\n",
            "Epoch 11/100\n",
            "\u001b[1m1/1\u001b[0m \u001b[32m━━━━━━━━━━━━━━━━━━━━\u001b[0m\u001b[37m\u001b[0m \u001b[1m0s\u001b[0m 31ms/step - loss: 14.5768 - mae: 14.5768\n",
            "Epoch 12/100\n",
            "\u001b[1m1/1\u001b[0m \u001b[32m━━━━━━━━━━━━━━━━━━━━\u001b[0m\u001b[37m\u001b[0m \u001b[1m0s\u001b[0m 55ms/step - loss: 14.3966 - mae: 14.3966\n",
            "Epoch 13/100\n",
            "\u001b[1m1/1\u001b[0m \u001b[32m━━━━━━━━━━━━━━━━━━━━\u001b[0m\u001b[37m\u001b[0m \u001b[1m0s\u001b[0m 45ms/step - loss: 14.2164 - mae: 14.2164\n",
            "Epoch 14/100\n",
            "\u001b[1m1/1\u001b[0m \u001b[32m━━━━━━━━━━━━━━━━━━━━\u001b[0m\u001b[37m\u001b[0m \u001b[1m0s\u001b[0m 57ms/step - loss: 14.0363 - mae: 14.0363\n",
            "Epoch 15/100\n",
            "\u001b[1m1/1\u001b[0m \u001b[32m━━━━━━━━━━━━━━━━━━━━\u001b[0m\u001b[37m\u001b[0m \u001b[1m0s\u001b[0m 44ms/step - loss: 13.8561 - mae: 13.8561\n",
            "Epoch 16/100\n",
            "\u001b[1m1/1\u001b[0m \u001b[32m━━━━━━━━━━━━━━━━━━━━\u001b[0m\u001b[37m\u001b[0m \u001b[1m0s\u001b[0m 61ms/step - loss: 13.6760 - mae: 13.6760\n",
            "Epoch 17/100\n",
            "\u001b[1m1/1\u001b[0m \u001b[32m━━━━━━━━━━━━━━━━━━━━\u001b[0m\u001b[37m\u001b[0m \u001b[1m0s\u001b[0m 57ms/step - loss: 13.4958 - mae: 13.4958\n",
            "Epoch 18/100\n",
            "\u001b[1m1/1\u001b[0m \u001b[32m━━━━━━━━━━━━━━━━━━━━\u001b[0m\u001b[37m\u001b[0m \u001b[1m0s\u001b[0m 29ms/step - loss: 13.3157 - mae: 13.3157\n",
            "Epoch 19/100\n",
            "\u001b[1m1/1\u001b[0m \u001b[32m━━━━━━━━━━━━━━━━━━━━\u001b[0m\u001b[37m\u001b[0m \u001b[1m0s\u001b[0m 57ms/step - loss: 13.1355 - mae: 13.1355\n",
            "Epoch 20/100\n",
            "\u001b[1m1/1\u001b[0m \u001b[32m━━━━━━━━━━━━━━━━━━━━\u001b[0m\u001b[37m\u001b[0m \u001b[1m0s\u001b[0m 59ms/step - loss: 12.9554 - mae: 12.9554\n",
            "Epoch 21/100\n",
            "\u001b[1m1/1\u001b[0m \u001b[32m━━━━━━━━━━━━━━━━━━━━\u001b[0m\u001b[37m\u001b[0m \u001b[1m0s\u001b[0m 58ms/step - loss: 12.7752 - mae: 12.7752\n",
            "Epoch 22/100\n",
            "\u001b[1m1/1\u001b[0m \u001b[32m━━━━━━━━━━━━━━━━━━━━\u001b[0m\u001b[37m\u001b[0m \u001b[1m0s\u001b[0m 53ms/step - loss: 12.5950 - mae: 12.5950\n",
            "Epoch 23/100\n",
            "\u001b[1m1/1\u001b[0m \u001b[32m━━━━━━━━━━━━━━━━━━━━\u001b[0m\u001b[37m\u001b[0m \u001b[1m0s\u001b[0m 56ms/step - loss: 12.4149 - mae: 12.4149\n",
            "Epoch 24/100\n",
            "\u001b[1m1/1\u001b[0m \u001b[32m━━━━━━━━━━━━━━━━━━━━\u001b[0m\u001b[37m\u001b[0m \u001b[1m0s\u001b[0m 58ms/step - loss: 12.2347 - mae: 12.2347\n",
            "Epoch 25/100\n",
            "\u001b[1m1/1\u001b[0m \u001b[32m━━━━━━━━━━━━━━━━━━━━\u001b[0m\u001b[37m\u001b[0m \u001b[1m0s\u001b[0m 55ms/step - loss: 12.0546 - mae: 12.0546\n",
            "Epoch 26/100\n",
            "\u001b[1m1/1\u001b[0m \u001b[32m━━━━━━━━━━━━━━━━━━━━\u001b[0m\u001b[37m\u001b[0m \u001b[1m0s\u001b[0m 37ms/step - loss: 11.8744 - mae: 11.8744\n",
            "Epoch 27/100\n",
            "\u001b[1m1/1\u001b[0m \u001b[32m━━━━━━━━━━━━━━━━━━━━\u001b[0m\u001b[37m\u001b[0m \u001b[1m0s\u001b[0m 34ms/step - loss: 11.6943 - mae: 11.6943\n",
            "Epoch 28/100\n",
            "\u001b[1m1/1\u001b[0m \u001b[32m━━━━━━━━━━━━━━━━━━━━\u001b[0m\u001b[37m\u001b[0m \u001b[1m0s\u001b[0m 61ms/step - loss: 11.5141 - mae: 11.5141\n",
            "Epoch 29/100\n",
            "\u001b[1m1/1\u001b[0m \u001b[32m━━━━━━━━━━━━━━━━━━━━\u001b[0m\u001b[37m\u001b[0m \u001b[1m0s\u001b[0m 65ms/step - loss: 11.3339 - mae: 11.3339\n",
            "Epoch 30/100\n",
            "\u001b[1m1/1\u001b[0m \u001b[32m━━━━━━━━━━━━━━━━━━━━\u001b[0m\u001b[37m\u001b[0m \u001b[1m0s\u001b[0m 50ms/step - loss: 11.1538 - mae: 11.1538\n",
            "Epoch 31/100\n",
            "\u001b[1m1/1\u001b[0m \u001b[32m━━━━━━━━━━━━━━━━━━━━\u001b[0m\u001b[37m\u001b[0m \u001b[1m0s\u001b[0m 60ms/step - loss: 10.9736 - mae: 10.9736\n",
            "Epoch 32/100\n",
            "\u001b[1m1/1\u001b[0m \u001b[32m━━━━━━━━━━━━━━━━━━━━\u001b[0m\u001b[37m\u001b[0m \u001b[1m0s\u001b[0m 52ms/step - loss: 10.7935 - mae: 10.7935\n",
            "Epoch 33/100\n",
            "\u001b[1m1/1\u001b[0m \u001b[32m━━━━━━━━━━━━━━━━━━━━\u001b[0m\u001b[37m\u001b[0m \u001b[1m0s\u001b[0m 46ms/step - loss: 10.6133 - mae: 10.6133\n",
            "Epoch 34/100\n",
            "\u001b[1m1/1\u001b[0m \u001b[32m━━━━━━━━━━━━━━━━━━━━\u001b[0m\u001b[37m\u001b[0m \u001b[1m0s\u001b[0m 28ms/step - loss: 10.4332 - mae: 10.4332\n",
            "Epoch 35/100\n",
            "\u001b[1m1/1\u001b[0m \u001b[32m━━━━━━━━━━━━━━━━━━━━\u001b[0m\u001b[37m\u001b[0m \u001b[1m0s\u001b[0m 22ms/step - loss: 10.2530 - mae: 10.2530\n",
            "Epoch 36/100\n",
            "\u001b[1m1/1\u001b[0m \u001b[32m━━━━━━━━━━━━━━━━━━━━\u001b[0m\u001b[37m\u001b[0m \u001b[1m0s\u001b[0m 23ms/step - loss: 10.0729 - mae: 10.0729\n",
            "Epoch 37/100\n",
            "\u001b[1m1/1\u001b[0m \u001b[32m━━━━━━━━━━━━━━━━━━━━\u001b[0m\u001b[37m\u001b[0m \u001b[1m0s\u001b[0m 24ms/step - loss: 9.8927 - mae: 9.8927\n",
            "Epoch 38/100\n",
            "\u001b[1m1/1\u001b[0m \u001b[32m━━━━━━━━━━━━━━━━━━━━\u001b[0m\u001b[37m\u001b[0m \u001b[1m0s\u001b[0m 22ms/step - loss: 9.7125 - mae: 9.7125\n",
            "Epoch 39/100\n",
            "\u001b[1m1/1\u001b[0m \u001b[32m━━━━━━━━━━━━━━━━━━━━\u001b[0m\u001b[37m\u001b[0m \u001b[1m0s\u001b[0m 22ms/step - loss: 9.5324 - mae: 9.5324\n",
            "Epoch 40/100\n",
            "\u001b[1m1/1\u001b[0m \u001b[32m━━━━━━━━━━━━━━━━━━━━\u001b[0m\u001b[37m\u001b[0m \u001b[1m0s\u001b[0m 22ms/step - loss: 9.3522 - mae: 9.3522\n",
            "Epoch 41/100\n",
            "\u001b[1m1/1\u001b[0m \u001b[32m━━━━━━━━━━━━━━━━━━━━\u001b[0m\u001b[37m\u001b[0m \u001b[1m0s\u001b[0m 23ms/step - loss: 9.1721 - mae: 9.1721\n",
            "Epoch 42/100\n",
            "\u001b[1m1/1\u001b[0m \u001b[32m━━━━━━━━━━━━━━━━━━━━\u001b[0m\u001b[37m\u001b[0m \u001b[1m0s\u001b[0m 22ms/step - loss: 8.9919 - mae: 8.9919\n",
            "Epoch 43/100\n",
            "\u001b[1m1/1\u001b[0m \u001b[32m━━━━━━━━━━━━━━━━━━━━\u001b[0m\u001b[37m\u001b[0m \u001b[1m0s\u001b[0m 22ms/step - loss: 8.8118 - mae: 8.8118\n",
            "Epoch 44/100\n",
            "\u001b[1m1/1\u001b[0m \u001b[32m━━━━━━━━━━━━━━━━━━━━\u001b[0m\u001b[37m\u001b[0m \u001b[1m0s\u001b[0m 22ms/step - loss: 8.6316 - mae: 8.6316\n",
            "Epoch 45/100\n",
            "\u001b[1m1/1\u001b[0m \u001b[32m━━━━━━━━━━━━━━━━━━━━\u001b[0m\u001b[37m\u001b[0m \u001b[1m0s\u001b[0m 23ms/step - loss: 8.4514 - mae: 8.4514\n",
            "Epoch 46/100\n",
            "\u001b[1m1/1\u001b[0m \u001b[32m━━━━━━━━━━━━━━━━━━━━\u001b[0m\u001b[37m\u001b[0m \u001b[1m0s\u001b[0m 21ms/step - loss: 8.2713 - mae: 8.2713\n",
            "Epoch 47/100\n",
            "\u001b[1m1/1\u001b[0m \u001b[32m━━━━━━━━━━━━━━━━━━━━\u001b[0m\u001b[37m\u001b[0m \u001b[1m0s\u001b[0m 58ms/step - loss: 8.0911 - mae: 8.0911\n",
            "Epoch 48/100\n",
            "\u001b[1m1/1\u001b[0m \u001b[32m━━━━━━━━━━━━━━━━━━━━\u001b[0m\u001b[37m\u001b[0m \u001b[1m0s\u001b[0m 22ms/step - loss: 7.9110 - mae: 7.9110\n",
            "Epoch 49/100\n",
            "\u001b[1m1/1\u001b[0m \u001b[32m━━━━━━━━━━━━━━━━━━━━\u001b[0m\u001b[37m\u001b[0m \u001b[1m0s\u001b[0m 59ms/step - loss: 7.7308 - mae: 7.7308\n",
            "Epoch 50/100\n",
            "\u001b[1m1/1\u001b[0m \u001b[32m━━━━━━━━━━━━━━━━━━━━\u001b[0m\u001b[37m\u001b[0m \u001b[1m0s\u001b[0m 23ms/step - loss: 7.5507 - mae: 7.5507\n",
            "Epoch 51/100\n",
            "\u001b[1m1/1\u001b[0m \u001b[32m━━━━━━━━━━━━━━━━━━━━\u001b[0m\u001b[37m\u001b[0m \u001b[1m0s\u001b[0m 22ms/step - loss: 7.3705 - mae: 7.3705\n",
            "Epoch 52/100\n",
            "\u001b[1m1/1\u001b[0m \u001b[32m━━━━━━━━━━━━━━━━━━━━\u001b[0m\u001b[37m\u001b[0m \u001b[1m0s\u001b[0m 22ms/step - loss: 7.1904 - mae: 7.1904\n",
            "Epoch 53/100\n",
            "\u001b[1m1/1\u001b[0m \u001b[32m━━━━━━━━━━━━━━━━━━━━\u001b[0m\u001b[37m\u001b[0m \u001b[1m0s\u001b[0m 57ms/step - loss: 7.0102 - mae: 7.0102\n",
            "Epoch 54/100\n",
            "\u001b[1m1/1\u001b[0m \u001b[32m━━━━━━━━━━━━━━━━━━━━\u001b[0m\u001b[37m\u001b[0m \u001b[1m0s\u001b[0m 26ms/step - loss: 6.8300 - mae: 6.8300\n",
            "Epoch 55/100\n",
            "\u001b[1m1/1\u001b[0m \u001b[32m━━━━━━━━━━━━━━━━━━━━\u001b[0m\u001b[37m\u001b[0m \u001b[1m0s\u001b[0m 23ms/step - loss: 6.6499 - mae: 6.6499\n",
            "Epoch 56/100\n",
            "\u001b[1m1/1\u001b[0m \u001b[32m━━━━━━━━━━━━━━━━━━━━\u001b[0m\u001b[37m\u001b[0m \u001b[1m0s\u001b[0m 57ms/step - loss: 6.4737 - mae: 6.4737\n",
            "Epoch 57/100\n",
            "\u001b[1m1/1\u001b[0m \u001b[32m━━━━━━━━━━━━━━━━━━━━\u001b[0m\u001b[37m\u001b[0m \u001b[1m0s\u001b[0m 23ms/step - loss: 6.4604 - mae: 6.4604\n",
            "Epoch 58/100\n",
            "\u001b[1m1/1\u001b[0m \u001b[32m━━━━━━━━━━━━━━━━━━━━\u001b[0m\u001b[37m\u001b[0m \u001b[1m0s\u001b[0m 35ms/step - loss: 6.4650 - mae: 6.4650\n",
            "Epoch 59/100\n",
            "\u001b[1m1/1\u001b[0m \u001b[32m━━━━━━━━━━━━━━━━━━━━\u001b[0m\u001b[37m\u001b[0m \u001b[1m0s\u001b[0m 26ms/step - loss: 6.4597 - mae: 6.4597\n",
            "Epoch 60/100\n",
            "\u001b[1m1/1\u001b[0m \u001b[32m━━━━━━━━━━━━━━━━━━━━\u001b[0m\u001b[37m\u001b[0m \u001b[1m0s\u001b[0m 56ms/step - loss: 6.4465 - mae: 6.4465\n",
            "Epoch 61/100\n",
            "\u001b[1m1/1\u001b[0m \u001b[32m━━━━━━━━━━━━━━━━━━━━\u001b[0m\u001b[37m\u001b[0m \u001b[1m0s\u001b[0m 26ms/step - loss: 6.4526 - mae: 6.4526\n",
            "Epoch 62/100\n",
            "\u001b[1m1/1\u001b[0m \u001b[32m━━━━━━━━━━━━━━━━━━━━\u001b[0m\u001b[37m\u001b[0m \u001b[1m0s\u001b[0m 55ms/step - loss: 6.4458 - mae: 6.4458\n",
            "Epoch 63/100\n",
            "\u001b[1m1/1\u001b[0m \u001b[32m━━━━━━━━━━━━━━━━━━━━\u001b[0m\u001b[37m\u001b[0m \u001b[1m0s\u001b[0m 28ms/step - loss: 6.4326 - mae: 6.4326\n",
            "Epoch 64/100\n",
            "\u001b[1m1/1\u001b[0m \u001b[32m━━━━━━━━━━━━━━━━━━━━\u001b[0m\u001b[37m\u001b[0m \u001b[1m0s\u001b[0m 28ms/step - loss: 6.4403 - mae: 6.4403\n",
            "Epoch 65/100\n",
            "\u001b[1m1/1\u001b[0m \u001b[32m━━━━━━━━━━━━━━━━━━━━\u001b[0m\u001b[37m\u001b[0m \u001b[1m0s\u001b[0m 26ms/step - loss: 6.4319 - mae: 6.4319\n",
            "Epoch 66/100\n",
            "\u001b[1m1/1\u001b[0m \u001b[32m━━━━━━━━━━━━━━━━━━━━\u001b[0m\u001b[37m\u001b[0m \u001b[1m0s\u001b[0m 26ms/step - loss: 6.4187 - mae: 6.4187\n",
            "Epoch 67/100\n",
            "\u001b[1m1/1\u001b[0m \u001b[32m━━━━━━━━━━━━━━━━━━━━\u001b[0m\u001b[37m\u001b[0m \u001b[1m0s\u001b[0m 56ms/step - loss: 6.4279 - mae: 6.4279\n",
            "Epoch 68/100\n",
            "\u001b[1m1/1\u001b[0m \u001b[32m━━━━━━━━━━━━━━━━━━━━\u001b[0m\u001b[37m\u001b[0m \u001b[1m0s\u001b[0m 27ms/step - loss: 6.4180 - mae: 6.4180\n",
            "Epoch 69/100\n",
            "\u001b[1m1/1\u001b[0m \u001b[32m━━━━━━━━━━━━━━━━━━━━\u001b[0m\u001b[37m\u001b[0m \u001b[1m0s\u001b[0m 23ms/step - loss: 6.4047 - mae: 6.4047\n",
            "Epoch 70/100\n",
            "\u001b[1m1/1\u001b[0m \u001b[32m━━━━━━━━━━━━━━━━━━━━\u001b[0m\u001b[37m\u001b[0m \u001b[1m0s\u001b[0m 24ms/step - loss: 6.4156 - mae: 6.4156\n",
            "Epoch 71/100\n",
            "\u001b[1m1/1\u001b[0m \u001b[32m━━━━━━━━━━━━━━━━━━━━\u001b[0m\u001b[37m\u001b[0m \u001b[1m0s\u001b[0m 56ms/step - loss: 6.4041 - mae: 6.4041\n",
            "Epoch 72/100\n",
            "\u001b[1m1/1\u001b[0m \u001b[32m━━━━━━━━━━━━━━━━━━━━\u001b[0m\u001b[37m\u001b[0m \u001b[1m0s\u001b[0m 22ms/step - loss: 6.3908 - mae: 6.3908\n",
            "Epoch 73/100\n",
            "\u001b[1m1/1\u001b[0m \u001b[32m━━━━━━━━━━━━━━━━━━━━\u001b[0m\u001b[37m\u001b[0m \u001b[1m0s\u001b[0m 23ms/step - loss: 6.4033 - mae: 6.4033\n",
            "Epoch 74/100\n",
            "\u001b[1m1/1\u001b[0m \u001b[32m━━━━━━━━━━━━━━━━━━━━\u001b[0m\u001b[37m\u001b[0m \u001b[1m0s\u001b[0m 23ms/step - loss: 6.3902 - mae: 6.3902\n",
            "Epoch 75/100\n",
            "\u001b[1m1/1\u001b[0m \u001b[32m━━━━━━━━━━━━━━━━━━━━\u001b[0m\u001b[37m\u001b[0m \u001b[1m0s\u001b[0m 21ms/step - loss: 6.3783 - mae: 6.3783\n",
            "Epoch 76/100\n",
            "\u001b[1m1/1\u001b[0m \u001b[32m━━━━━━━━━━━━━━━━━━━━\u001b[0m\u001b[37m\u001b[0m \u001b[1m0s\u001b[0m 22ms/step - loss: 6.4094 - mae: 6.4094\n",
            "Epoch 77/100\n",
            "\u001b[1m1/1\u001b[0m \u001b[32m━━━━━━━━━━━━━━━━━━━━\u001b[0m\u001b[37m\u001b[0m \u001b[1m0s\u001b[0m 22ms/step - loss: 6.4129 - mae: 6.4129\n",
            "Epoch 78/100\n",
            "\u001b[1m1/1\u001b[0m \u001b[32m━━━━━━━━━━━━━━━━━━━━\u001b[0m\u001b[37m\u001b[0m \u001b[1m0s\u001b[0m 36ms/step - loss: 6.3753 - mae: 6.3753\n",
            "Epoch 79/100\n",
            "\u001b[1m1/1\u001b[0m \u001b[32m━━━━━━━━━━━━━━━━━━━━\u001b[0m\u001b[37m\u001b[0m \u001b[1m0s\u001b[0m 23ms/step - loss: 6.3740 - mae: 6.3740\n",
            "Epoch 80/100\n",
            "\u001b[1m1/1\u001b[0m \u001b[32m━━━━━━━━━━━━━━━━━━━━\u001b[0m\u001b[37m\u001b[0m \u001b[1m0s\u001b[0m 23ms/step - loss: 6.4100 - mae: 6.4100\n",
            "Epoch 81/100\n",
            "\u001b[1m1/1\u001b[0m \u001b[32m━━━━━━━━━━━━━━━━━━━━\u001b[0m\u001b[37m\u001b[0m \u001b[1m0s\u001b[0m 23ms/step - loss: 6.3723 - mae: 6.3723\n",
            "Epoch 82/100\n",
            "\u001b[1m1/1\u001b[0m \u001b[32m━━━━━━━━━━━━━━━━━━━━\u001b[0m\u001b[37m\u001b[0m \u001b[1m0s\u001b[0m 23ms/step - loss: 6.3530 - mae: 6.3530\n",
            "Epoch 83/100\n",
            "\u001b[1m1/1\u001b[0m \u001b[32m━━━━━━━━━━━━━━━━━━━━\u001b[0m\u001b[37m\u001b[0m \u001b[1m0s\u001b[0m 57ms/step - loss: 6.3473 - mae: 6.3473\n",
            "Epoch 84/100\n",
            "\u001b[1m1/1\u001b[0m \u001b[32m━━━━━━━━━━━━━━━━━━━━\u001b[0m\u001b[37m\u001b[0m \u001b[1m0s\u001b[0m 57ms/step - loss: 6.3672 - mae: 6.3672\n",
            "Epoch 85/100\n",
            "\u001b[1m1/1\u001b[0m \u001b[32m━━━━━━━━━━━━━━━━━━━━\u001b[0m\u001b[37m\u001b[0m \u001b[1m0s\u001b[0m 59ms/step - loss: 6.3820 - mae: 6.3820\n",
            "Epoch 86/100\n",
            "\u001b[1m1/1\u001b[0m \u001b[32m━━━━━━━━━━━━━━━━━━━━\u001b[0m\u001b[37m\u001b[0m \u001b[1m0s\u001b[0m 58ms/step - loss: 6.3444 - mae: 6.3444\n",
            "Epoch 87/100\n",
            "\u001b[1m1/1\u001b[0m \u001b[32m━━━━━━━━━━━━━━━━━━━━\u001b[0m\u001b[37m\u001b[0m \u001b[1m0s\u001b[0m 57ms/step - loss: 6.3341 - mae: 6.3341\n",
            "Epoch 88/100\n",
            "\u001b[1m1/1\u001b[0m \u001b[32m━━━━━━━━━━━━━━━━━━━━\u001b[0m\u001b[37m\u001b[0m \u001b[1m0s\u001b[0m 30ms/step - loss: 6.3208 - mae: 6.3208\n",
            "Epoch 89/100\n",
            "\u001b[1m1/1\u001b[0m \u001b[32m━━━━━━━━━━━━━━━━━━━━\u001b[0m\u001b[37m\u001b[0m \u001b[1m0s\u001b[0m 29ms/step - loss: 6.3320 - mae: 6.3320\n",
            "Epoch 90/100\n",
            "\u001b[1m1/1\u001b[0m \u001b[32m━━━━━━━━━━━━━━━━━━━━\u001b[0m\u001b[37m\u001b[0m \u001b[1m0s\u001b[0m 28ms/step - loss: 6.3202 - mae: 6.3202\n",
            "Epoch 91/100\n",
            "\u001b[1m1/1\u001b[0m \u001b[32m━━━━━━━━━━━━━━━━━━━━\u001b[0m\u001b[37m\u001b[0m \u001b[1m0s\u001b[0m 23ms/step - loss: 6.3070 - mae: 6.3070\n",
            "Epoch 92/100\n",
            "\u001b[1m1/1\u001b[0m \u001b[32m━━━━━━━━━━━━━━━━━━━━\u001b[0m\u001b[37m\u001b[0m \u001b[1m0s\u001b[0m 22ms/step - loss: 6.3457 - mae: 6.3457\n",
            "Epoch 93/100\n",
            "\u001b[1m1/1\u001b[0m \u001b[32m━━━━━━━━━━━━━━━━━━━━\u001b[0m\u001b[37m\u001b[0m \u001b[1m0s\u001b[0m 23ms/step - loss: 6.3417 - mae: 6.3417\n",
            "Epoch 94/100\n",
            "\u001b[1m1/1\u001b[0m \u001b[32m━━━━━━━━━━━━━━━━━━━━\u001b[0m\u001b[37m\u001b[0m \u001b[1m0s\u001b[0m 25ms/step - loss: 6.3040 - mae: 6.3040\n",
            "Epoch 95/100\n",
            "\u001b[1m1/1\u001b[0m \u001b[32m━━━━━━━━━━━━━━━━━━━━\u001b[0m\u001b[37m\u001b[0m \u001b[1m0s\u001b[0m 24ms/step - loss: 6.3102 - mae: 6.3102\n",
            "Epoch 96/100\n",
            "\u001b[1m1/1\u001b[0m \u001b[32m━━━━━━━━━━━━━━━━━━━━\u001b[0m\u001b[37m\u001b[0m \u001b[1m0s\u001b[0m 24ms/step - loss: 6.3387 - mae: 6.3387\n",
            "Epoch 97/100\n",
            "\u001b[1m1/1\u001b[0m \u001b[32m━━━━━━━━━━━━━━━━━━━━\u001b[0m\u001b[37m\u001b[0m \u001b[1m0s\u001b[0m 23ms/step - loss: 6.3011 - mae: 6.3011\n",
            "Epoch 98/100\n",
            "\u001b[1m1/1\u001b[0m \u001b[32m━━━━━━━━━━━━━━━━━━━━\u001b[0m\u001b[37m\u001b[0m \u001b[1m0s\u001b[0m 57ms/step - loss: 6.2830 - mae: 6.2830\n",
            "Epoch 99/100\n",
            "\u001b[1m1/1\u001b[0m \u001b[32m━━━━━━━━━━━━━━━━━━━━\u001b[0m\u001b[37m\u001b[0m \u001b[1m0s\u001b[0m 23ms/step - loss: 6.2761 - mae: 6.2761\n",
            "Epoch 100/100\n",
            "\u001b[1m1/1\u001b[0m \u001b[32m━━━━━━━━━━━━━━━━━━━━\u001b[0m\u001b[37m\u001b[0m \u001b[1m0s\u001b[0m 22ms/step - loss: 6.3035 - mae: 6.3035\n"
          ]
        },
        {
          "output_type": "execute_result",
          "data": {
            "text/plain": [
              "<keras.src.callbacks.history.History at 0x7abc4d5e4110>"
            ]
          },
          "metadata": {},
          "execution_count": 3
        }
      ]
    },
    {
      "cell_type": "code",
      "source": [
        "X,y"
      ],
      "metadata": {
        "colab": {
          "base_uri": "https://localhost:8080/"
        },
        "id": "qjDApBO8Bm0Q",
        "outputId": "430c2add-f4e8-4b4b-9e2d-a7cf555cfed7"
      },
      "execution_count": 4,
      "outputs": [
        {
          "output_type": "execute_result",
          "data": {
            "text/plain": [
              "(<tf.Tensor: shape=(8, 1), dtype=float32, numpy=\n",
              " array([[-7.],\n",
              "        [-4.],\n",
              "        [-1.],\n",
              "        [ 2.],\n",
              "        [ 5.],\n",
              "        [11.],\n",
              "        [13.],\n",
              "        [14.]], dtype=float32)>,\n",
              " <tf.Tensor: shape=(8,), dtype=float32, numpy=array([ 3.,  6.,  9., 12., 15., 18., 21., 24.], dtype=float32)>)"
            ]
          },
          "metadata": {},
          "execution_count": 4
        }
      ]
    },
    {
      "cell_type": "code",
      "source": [
        "model.predict(tf.constant([17], dtype=tf.float32))"
      ],
      "metadata": {
        "colab": {
          "base_uri": "https://localhost:8080/"
        },
        "id": "zkPzv3rNBszG",
        "outputId": "1694b5e9-2d42-4991-e0bb-033b38c34d3e"
      },
      "execution_count": 7,
      "outputs": [
        {
          "output_type": "stream",
          "name": "stdout",
          "text": [
            "\u001b[1m1/1\u001b[0m \u001b[32m━━━━━━━━━━━━━━━━━━━━\u001b[0m\u001b[37m\u001b[0m \u001b[1m0s\u001b[0m 25ms/step\n"
          ]
        },
        {
          "output_type": "execute_result",
          "data": {
            "text/plain": [
              "array([[27.81024]], dtype=float32)"
            ]
          },
          "metadata": {},
          "execution_count": 7
        }
      ]
    },
    {
      "cell_type": "code",
      "execution_count": null,
      "metadata": {
        "colab": {
          "base_uri": "https://localhost:8080/"
        },
        "id": "cHw3gpsdqoOI",
        "outputId": "fcbee96f-a9e8-45b6-f646-08cb06bf5f76"
      },
      "outputs": [
        {
          "output_type": "stream",
          "name": "stdout",
          "text": [
            "\u001b[1m1/1\u001b[0m \u001b[32m━━━━━━━━━━━━━━━━━━━━\u001b[0m\u001b[37m\u001b[0m \u001b[1m0s\u001b[0m 45ms/step\n"
          ]
        },
        {
          "output_type": "execute_result",
          "data": {
            "text/plain": [
              "array([[24.258383]], dtype=float32)"
            ]
          },
          "metadata": {},
          "execution_count": 10
        }
      ],
      "source": [
        "import tensorflow as tf\n",
        "\n",
        "# Convert the input value to a TensorFlow tensor\n",
        "input_value = tf.constant([16.0], dtype=tf.float32)  # Match dtype of training data\n",
        "\n",
        "# Reshape the tensor to have the same dimensions as the model input\n",
        "input_value = tf.reshape(input_value, [1, 1])  # Reshape to (1, 1)\n",
        "\n",
        "# Call the predict method\n",
        "prediction = model.predict(input_value)\n",
        "prediction"
      ]
    },
    {
      "cell_type": "markdown",
      "source": [
        "**Model evaluation**\n",
        "> Visualizations"
      ],
      "metadata": {
        "id": "NTVh-2UwE_mJ"
      }
    },
    {
      "cell_type": "code",
      "source": [
        "# create a data set\n",
        "X = tf.range(-100,100, 4)\n",
        "X = tf.cast(X, dtype=tf.float32)\n",
        "# X = tf.expand_dims(X, axis=-1)\n",
        "X"
      ],
      "metadata": {
        "colab": {
          "base_uri": "https://localhost:8080/"
        },
        "id": "IuQ9YYFrFO-t",
        "outputId": "aa3a045d-2065-46f4-a2d2-ad9c3dfc964e"
      },
      "execution_count": 65,
      "outputs": [
        {
          "output_type": "execute_result",
          "data": {
            "text/plain": [
              "<tf.Tensor: shape=(50,), dtype=float32, numpy=\n",
              "array([-100.,  -96.,  -92.,  -88.,  -84.,  -80.,  -76.,  -72.,  -68.,\n",
              "        -64.,  -60.,  -56.,  -52.,  -48.,  -44.,  -40.,  -36.,  -32.,\n",
              "        -28.,  -24.,  -20.,  -16.,  -12.,   -8.,   -4.,    0.,    4.,\n",
              "          8.,   12.,   16.,   20.,   24.,   28.,   32.,   36.,   40.,\n",
              "         44.,   48.,   52.,   56.,   60.,   64.,   68.,   72.,   76.,\n",
              "         80.,   84.,   88.,   92.,   96.], dtype=float32)>"
            ]
          },
          "metadata": {},
          "execution_count": 65
        }
      ]
    },
    {
      "cell_type": "code",
      "source": [
        "y = X+10\n",
        "y"
      ],
      "metadata": {
        "colab": {
          "base_uri": "https://localhost:8080/"
        },
        "id": "rRk38qI-FlKZ",
        "outputId": "52d65197-7859-4354-9486-2c60a7327358"
      },
      "execution_count": 66,
      "outputs": [
        {
          "output_type": "execute_result",
          "data": {
            "text/plain": [
              "<tf.Tensor: shape=(50,), dtype=float32, numpy=\n",
              "array([-90., -86., -82., -78., -74., -70., -66., -62., -58., -54., -50.,\n",
              "       -46., -42., -38., -34., -30., -26., -22., -18., -14., -10.,  -6.,\n",
              "        -2.,   2.,   6.,  10.,  14.,  18.,  22.,  26.,  30.,  34.,  38.,\n",
              "        42.,  46.,  50.,  54.,  58.,  62.,  66.,  70.,  74.,  78.,  82.,\n",
              "        86.,  90.,  94.,  98., 102., 106.], dtype=float32)>"
            ]
          },
          "metadata": {},
          "execution_count": 66
        }
      ]
    },
    {
      "cell_type": "code",
      "source": [
        "# visualize\n",
        "import matplotlib.pyplot as plt\n",
        "plt.scatter(X,y)\n",
        "#"
      ],
      "metadata": {
        "colab": {
          "base_uri": "https://localhost:8080/",
          "height": 447
        },
        "id": "L_PZKl_9Foxk",
        "outputId": "6774ce83-6623-402f-cf73-7315c3e4c68f"
      },
      "execution_count": 67,
      "outputs": [
        {
          "output_type": "execute_result",
          "data": {
            "text/plain": [
              "<matplotlib.collections.PathCollection at 0x7abc34fe5810>"
            ]
          },
          "metadata": {},
          "execution_count": 67
        },
        {
          "output_type": "display_data",
          "data": {
            "text/plain": [
              "<Figure size 640x480 with 1 Axes>"
            ],
            "image/png": "[encoded data removed]"
          },
          "metadata": {}
        }
      ]
    },
    {
      "cell_type": "code",
      "source": [
        "from sklearn.model_selection import train_test_split\n",
        "X_train = X[:40]\n",
        "y_train = y[:40]\n",
        "X_test = X[40:]\n",
        "y_test = y[40:]"
      ],
      "metadata": {
        "id": "CV-I6zjyF4Za"
      },
      "execution_count": 86,
      "outputs": []
    },
    {
      "cell_type": "markdown",
      "source": [
        "**Visualize the data**"
      ],
      "metadata": {
        "id": "fOecQR1hH9iV"
      }
    },
    {
      "cell_type": "code",
      "source": [
        "plt.figure(figsize=(10,7))\n",
        "plt.scatter(X_train, y_train, c='b', label='Training data')\n",
        "plt.scatter(X_test, y_test, c='g', label='Testing data')\n",
        "plt.legend()"
      ],
      "metadata": {
        "colab": {
          "base_uri": "https://localhost:8080/",
          "height": 616
        },
        "id": "Egt5v1T-IC6H",
        "outputId": "e4010f50-d6eb-46ee-9b6d-058bab941d31"
      },
      "execution_count": 87,
      "outputs": [
        {
          "output_type": "execute_result",
          "data": {
            "text/plain": [
              "<matplotlib.legend.Legend at 0x7abc27931cd0>"
            ]
          },
          "metadata": {},
          "execution_count": 87
        },
        {
          "output_type": "display_data",
          "data": {
            "text/plain": [
              "<Figure size 1000x700 with 1 Axes>"
            ],
            "image/png": "[encoded data removed]"
          },
          "metadata": {}
        }
      ]
    },
    {
      "cell_type": "code",
      "source": [
        "model = tf.keras.Sequential([\n",
        "    tf.keras.layers.Dense(1),\n",
        "\n",
        "])\n",
        "\n",
        "model.compile(\n",
        "    loss=tf.keras.losses.mae,\n",
        "    optimizer=tf.keras.optimizers.SGD(),\n",
        "    metrics=[\"mae\"]\n",
        ")"
      ],
      "metadata": {
        "id": "2eEWyNP-J0qY"
      },
      "execution_count": 88,
      "outputs": []
    },
    {
      "cell_type": "code",
      "source": [
        "model = tf.keras.Sequential([\n",
        "    tf.keras.layers.Dense(1, input_shape=[1]),\n",
        "\n",
        "])\n",
        "\n",
        "model.compile(\n",
        "    loss=tf.keras.losses.mae,\n",
        "    optimizer=tf.keras.optimizers.SGD(),\n",
        "    metrics=[\"mae\"]\n",
        ")\n",
        "\n",
        "model.summary()"
      ],
      "metadata": {
        "colab": {
          "base_uri": "https://localhost:8080/",
          "height": 216
        },
        "id": "lB6_LM5rKa6b",
        "outputId": "4f1c6110-01c9-4adb-9e4e-1d351c91350c"
      },
      "execution_count": 89,
      "outputs": [
        {
          "output_type": "stream",
          "name": "stderr",
          "text": [
            "/usr/local/lib/python3.11/dist-packages/keras/src/layers/core/dense.py:87: UserWarning: Do not pass an `input_shape`/`input_dim` argument to a layer. When using Sequential models, prefer using an `Input(shape)` object as the first layer in the model instead.\n",
            "  super().__init__(activity_regularizer=activity_regularizer, **kwargs)\n"
          ]
        },
        {
          "output_type": "display_data",
          "data": {
            "text/plain": [
              "\u001b[1mModel: \"sequential_28\"\u001b[0m\n"
            ],
            "text/html": [
              "<pre style=\"white-space:pre;overflow-x:auto;line-height:normal;font-family:Menlo,'DejaVu Sans Mono',consolas,'Courier New',monospace\"><span style=\"font-weight: bold\">Model: \"sequential_28\"</span>\n",
              "</pre>\n"
            ]
          },
          "metadata": {}
        },
        {
          "output_type": "display_data",
          "data": {
            "text/plain": [
              "┏━━━━━━━━━━━━━━━━━━━━━━━━━━━━━━━━━━━━━━┳━━━━━━━━━━━━━━━━━━━━━━━━━━━━━┳━━━━━━━━━━━━━━━━━┓\n",
              "┃\u001b[1m \u001b[0m\u001b[1mLayer (type)                        \u001b[0m\u001b[1m \u001b[0m┃\u001b[1m \u001b[0m\u001b[1mOutput Shape               \u001b[0m\u001b[1m \u001b[0m┃\u001b[1m \u001b[0m\u001b[1m        Param #\u001b[0m\u001b[1m \u001b[0m┃\n",
              "┡━━━━━━━━━━━━━━━━━━━━━━━━━━━━━━━━━━━━━━╇━━━━━━━━━━━━━━━━━━━━━━━━━━━━━╇━━━━━━━━━━━━━━━━━┩\n",
              "│ dense_28 (\u001b[38;5;33mDense\u001b[0m)                     │ (\u001b[38;5;45mNone\u001b[0m, \u001b[38;5;34m1\u001b[0m)                   │               \u001b[38;5;34m2\u001b[0m │\n",
              "└──────────────────────────────────────┴─────────────────────────────┴─────────────────┘\n"
            ],
            "text/html": [
              "<pre style=\"white-space:pre;overflow-x:auto;line-height:normal;font-family:Menlo,'DejaVu Sans Mono',consolas,'Courier New',monospace\">┏━━━━━━━━━━━━━━━━━━━━━━━━━━━━━━━━━━━━━━┳━━━━━━━━━━━━━━━━━━━━━━━━━━━━━┳━━━━━━━━━━━━━━━━━┓\n",
              "┃<span style=\"font-weight: bold\"> Layer (type)                         </span>┃<span style=\"font-weight: bold\"> Output Shape                </span>┃<span style=\"font-weight: bold\">         Param # </span>┃\n",
              "┡━━━━━━━━━━━━━━━━━━━━━━━━━━━━━━━━━━━━━━╇━━━━━━━━━━━━━━━━━━━━━━━━━━━━━╇━━━━━━━━━━━━━━━━━┩\n",
              "│ dense_28 (<span style=\"color: #0087ff; text-decoration-color: #0087ff\">Dense</span>)                     │ (<span style=\"color: #00d7ff; text-decoration-color: #00d7ff\">None</span>, <span style=\"color: #00af00; text-decoration-color: #00af00\">1</span>)                   │               <span style=\"color: #00af00; text-decoration-color: #00af00\">2</span> │\n",
              "└──────────────────────────────────────┴─────────────────────────────┴─────────────────┘\n",
              "</pre>\n"
            ]
          },
          "metadata": {}
        },
        {
          "output_type": "display_data",
          "data": {
            "text/plain": [
              "\u001b[1m Total params: \u001b[0m\u001b[38;5;34m2\u001b[0m (8.00 B)\n"
            ],
            "text/html": [
              "<pre style=\"white-space:pre;overflow-x:auto;line-height:normal;font-family:Menlo,'DejaVu Sans Mono',consolas,'Courier New',monospace\"><span style=\"font-weight: bold\"> Total params: </span><span style=\"color: #00af00; text-decoration-color: #00af00\">2</span> (8.00 B)\n",
              "</pre>\n"
            ]
          },
          "metadata": {}
        },
        {
          "output_type": "display_data",
          "data": {
            "text/plain": [
              "\u001b[1m Trainable params: \u001b[0m\u001b[38;5;34m2\u001b[0m (8.00 B)\n"
            ],
            "text/html": [
              "<pre style=\"white-space:pre;overflow-x:auto;line-height:normal;font-family:Menlo,'DejaVu Sans Mono',consolas,'Courier New',monospace\"><span style=\"font-weight: bold\"> Trainable params: </span><span style=\"color: #00af00; text-decoration-color: #00af00\">2</span> (8.00 B)\n",
              "</pre>\n"
            ]
          },
          "metadata": {}
        },
        {
          "output_type": "display_data",
          "data": {
            "text/plain": [
              "\u001b[1m Non-trainable params: \u001b[0m\u001b[38;5;34m0\u001b[0m (0.00 B)\n"
            ],
            "text/html": [
              "<pre style=\"white-space:pre;overflow-x:auto;line-height:normal;font-family:Menlo,'DejaVu Sans Mono',consolas,'Courier New',monospace\"><span style=\"font-weight: bold\"> Non-trainable params: </span><span style=\"color: #00af00; text-decoration-color: #00af00\">0</span> (0.00 B)\n",
              "</pre>\n"
            ]
          },
          "metadata": {}
        }
      ]
    },
    {
      "cell_type": "code",
      "source": [
        "model.fit(X_train, y_train, epochs=100, verbose=0)"
      ],
      "metadata": {
        "colab": {
          "base_uri": "https://localhost:8080/"
        },
        "id": "O8j2URCcNhXY",
        "outputId": "879d1467-8da9-4f4a-cdc2-e7646be92421"
      },
      "execution_count": 113,
      "outputs": [
        {
          "output_type": "execute_result",
          "data": {
            "text/plain": [
              "<keras.src.callbacks.history.History at 0x7abc2fca5190>"
            ]
          },
          "metadata": {},
          "execution_count": 113
        }
      ]
    },
    {
      "cell_type": "code",
      "source": [
        "from tensorflow.keras.utils import plot_model\n",
        "plot_model(model, show_shapes=True)"
      ],
      "metadata": {
        "colab": {
          "base_uri": "https://localhost:8080/",
          "height": 273
        },
        "id": "Z2WX3HM5SwPF",
        "outputId": "2bcdb65e-7856-4363-9a21-188151fc84fe"
      },
      "execution_count": 83,
      "outputs": [
        {
          "output_type": "execute_result",
          "data": {
            "image/png": "[encoded data removed]",
            "text/plain": [
              "<IPython.core.display.Image object>"
            ]
          },
          "metadata": {},
          "execution_count": 83
        }
      ]
    },
    {
      "cell_type": "code",
      "source": [
        "model.predict(tf.constant([67.8], dtype=tf.float32))"
      ],
      "metadata": {
        "colab": {
          "base_uri": "https://localhost:8080/"
        },
        "id": "GfHC8sn_TIRA",
        "outputId": "12f359f0-c6a3-43a4-fbd0-f9c93321ab88"
      },
      "execution_count": 84,
      "outputs": [
        {
          "output_type": "stream",
          "name": "stderr",
          "text": [
            "WARNING:tensorflow:5 out of the last 6 calls to <function TensorFlowTrainer.make_predict_function.<locals>.one_step_on_data_distributed at 0x7abc283416c0> triggered tf.function retracing. Tracing is expensive and the excessive number of tracings could be due to (1) creating @tf.function repeatedly in a loop, (2) passing tensors with different shapes, (3) passing Python objects instead of tensors. For (1), please define your @tf.function outside of the loop. For (2), @tf.function has reduce_retracing=True option that can avoid unnecessary retracing. For (3), please refer to https://www.tensorflow.org/guide/function#controlling_retracing and https://www.tensorflow.org/api_docs/python/tf/function for  more details.\n"
          ]
        },
        {
          "output_type": "stream",
          "name": "stdout",
          "text": [
            "\u001b[1m1/1\u001b[0m \u001b[32m━━━━━━━━━━━━━━━━━━━━\u001b[0m\u001b[37m\u001b[0m \u001b[1m0s\u001b[0m 49ms/step\n"
          ]
        },
        {
          "output_type": "execute_result",
          "data": {
            "text/plain": [
              "array([[73.798935]], dtype=float32)"
            ]
          },
          "metadata": {},
          "execution_count": 84
        }
      ]
    },
    {
      "cell_type": "code",
      "source": [
        "y_pred = model.predict(X_test)\n",
        "y_pred"
      ],
      "metadata": {
        "colab": {
          "base_uri": "https://localhost:8080/"
        },
        "id": "gvPE6isOVjWX",
        "outputId": "6dc4913c-13e0-46b3-b86b-f0084ec86a92"
      },
      "execution_count": 94,
      "outputs": [
        {
          "output_type": "stream",
          "name": "stdout",
          "text": [
            "\u001b[1m1/1\u001b[0m \u001b[32m━━━━━━━━━━━━━━━━━━━━\u001b[0m\u001b[37m\u001b[0m \u001b[1m0s\u001b[0m 16ms/step\n"
          ]
        },
        {
          "output_type": "execute_result",
          "data": {
            "text/plain": [
              "array([[ 67.73394],\n",
              "       [ 72.16037],\n",
              "       [ 76.5868 ],\n",
              "       [ 81.01323],\n",
              "       [ 85.43966],\n",
              "       [ 89.86609],\n",
              "       [ 94.29252],\n",
              "       [ 98.71895],\n",
              "       [103.14538],\n",
              "       [107.5718 ]], dtype=float32)"
            ]
          },
          "metadata": {},
          "execution_count": 94
        }
      ]
    },
    {
      "cell_type": "code",
      "source": [
        "y_test"
      ],
      "metadata": {
        "colab": {
          "base_uri": "https://localhost:8080/"
        },
        "id": "FcOfirnhWDPf",
        "outputId": "d7b5b4a2-c140-4cbc-8475-80471931aaf4"
      },
      "execution_count": 93,
      "outputs": [
        {
          "output_type": "execute_result",
          "data": {
            "text/plain": [
              "<tf.Tensor: shape=(10,), dtype=float32, numpy=\n",
              "array([ 70.,  74.,  78.,  82.,  86.,  90.,  94.,  98., 102., 106.],\n",
              "      dtype=float32)>"
            ]
          },
          "metadata": {},
          "execution_count": 93
        }
      ]
    },
    {
      "cell_type": "markdown",
      "source": [
        "**plot predictions...**"
      ],
      "metadata": {
        "id": "OKY99mwpWbVF"
      }
    },
    {
      "cell_type": "code",
      "source": [
        "def plot_predictions(train_data=X_train,\n",
        "                    train_labels=y_train,\n",
        "                    test_data=X_test,\n",
        "                    test_labels=y_test,\n",
        "                    predictions=y_pred):\n",
        "    \"\"\"\n",
        "    Plots training data, test data and compares predictions.\n",
        "    \"\"\"\n",
        "    plt.figure(figsize=(10, 7))\n",
        "    plt.scatter(X_train, y_train, c=\"b\", label=\"Training data\")\n",
        "    plt.scatter(X_test, y_test, c=\"g\", label=\"Testing data\")\n",
        "    plt.scatter(X_test, predictions, c=\"r\", label=\"Predictions\")\n",
        "    plt.legend()"
      ],
      "metadata": {
        "id": "UbhyOgStWaBm"
      },
      "execution_count": 95,
      "outputs": []
    },
    {
      "cell_type": "code",
      "source": [
        "plot_predictions()"
      ],
      "metadata": {
        "colab": {
          "base_uri": "https://localhost:8080/",
          "height": 599
        },
        "id": "tQyBciwwYqur",
        "outputId": "90438904-a7b0-44db-c39a-e94137285f86"
      },
      "execution_count": 96,
      "outputs": [
        {
          "output_type": "display_data",
          "data": {
            "text/plain": [
              "<Figure size 1000x700 with 1 Axes>"
            ],
            "image/png": "[encoded data removed]"
          },
          "metadata": {}
        }
      ]
    },
    {
      "cell_type": "markdown",
      "source": [
        "**Using Evaluation Metrics**"
      ],
      "metadata": {
        "id": "z0gpbLH2Z7aw"
      }
    },
    {
      "cell_type": "code",
      "source": [
        "model.evaluate(X_test, y_test)"
      ],
      "metadata": {
        "colab": {
          "base_uri": "https://localhost:8080/"
        },
        "id": "GOuR8DMAaSJo",
        "outputId": "af3236b7-21ba-43bb-fbb6-97b07b822d5e"
      },
      "execution_count": 97,
      "outputs": [
        {
          "output_type": "stream",
          "name": "stdout",
          "text": [
            "\u001b[1m1/1\u001b[0m \u001b[32m━━━━━━━━━━━━━━━━━━━━\u001b[0m\u001b[37m\u001b[0m \u001b[1m0s\u001b[0m 416ms/step - loss: 1.0929 - mae: 1.0929\n"
          ]
        },
        {
          "output_type": "execute_result",
          "data": {
            "text/plain": [
              "[1.0928558111190796, 1.0928558111190796]"
            ]
          },
          "metadata": {},
          "execution_count": 97
        }
      ]
    },
    {
      "cell_type": "code",
      "source": [
        "for error in range(len(X_test)-1):\n",
        "    print(abs(y_test[error] - X_test[error])/len(X_test))"
      ],
      "metadata": {
        "colab": {
          "base_uri": "https://localhost:8080/"
        },
        "id": "lS7SOXGtapSi",
        "outputId": "735485e9-5f0a-49cd-ff66-ec571d1b5947"
      },
      "execution_count": 98,
      "outputs": [
        {
          "output_type": "stream",
          "name": "stdout",
          "text": [
            "tf.Tensor(1.0, shape=(), dtype=float32)\n",
            "tf.Tensor(1.0, shape=(), dtype=float32)\n",
            "tf.Tensor(1.0, shape=(), dtype=float32)\n",
            "tf.Tensor(1.0, shape=(), dtype=float32)\n",
            "tf.Tensor(1.0, shape=(), dtype=float32)\n",
            "tf.Tensor(1.0, shape=(), dtype=float32)\n",
            "tf.Tensor(1.0, shape=(), dtype=float32)\n",
            "tf.Tensor(1.0, shape=(), dtype=float32)\n",
            "tf.Tensor(1.0, shape=(), dtype=float32)\n"
          ]
        }
      ]
    },
    {
      "cell_type": "code",
      "source": [
        "y_pred.shape"
      ],
      "metadata": {
        "colab": {
          "base_uri": "https://localhost:8080/"
        },
        "id": "fVuVe2kHgCm0",
        "outputId": "373d196f-5995-4625-8a83-706e84680236"
      },
      "execution_count": 104,
      "outputs": [
        {
          "output_type": "execute_result",
          "data": {
            "text/plain": [
              "(10, 1)"
            ]
          },
          "metadata": {},
          "execution_count": 104
        }
      ]
    },
    {
      "cell_type": "code",
      "source": [
        "tf.metrics.mse(y_test, tf.squeeze(y_pred))"
      ],
      "metadata": {
        "colab": {
          "base_uri": "https://localhost:8080/"
        },
        "id": "8HLElkRffQmR",
        "outputId": "82a7b567-02e9-46fe-8f37-22b184076459"
      },
      "execution_count": 106,
      "outputs": [
        {
          "output_type": "execute_result",
          "data": {
            "text/plain": [
              "<tf.Tensor: shape=(), dtype=float32, numpy=1.6206934>"
            ]
          },
          "metadata": {},
          "execution_count": 106
        }
      ]
    },
    {
      "cell_type": "code",
      "source": [
        "# create evaluation metrics functions\n",
        "def mae_value(y_true, y_pred):\n",
        "    return tf.metrics.mae(y_true, tf.squeeze(y_pred))\n",
        "\n",
        "def mse_value(y_true, y_pred):\n",
        "    return tf.metrics.mse(y_true, tf.squeeze(y_pred))"
      ],
      "metadata": {
        "id": "GTjWqhT6iotC"
      },
      "execution_count": 127,
      "outputs": []
    },
    {
      "cell_type": "markdown",
      "source": [
        "**Perform Experiments on several models**\n",
        "\n",
        "\n",
        "*   build a model with 1 layer and 100epochs\n",
        "*   build a model with 2 layers and 100 epochs\n",
        "*   build a model with 2 layers and 500 epochs\n",
        "\n"
      ],
      "metadata": {
        "id": "ByH73DicjA-r"
      }
    },
    {
      "cell_type": "code",
      "source": [
        "X_train.shape, y_train.shape"
      ],
      "metadata": {
        "colab": {
          "base_uri": "https://localhost:8080/"
        },
        "id": "zkXZvZZHkxPF",
        "outputId": "a01bd748-e42a-4ed5-9ee3-deb814d67294"
      },
      "execution_count": 112,
      "outputs": [
        {
          "output_type": "execute_result",
          "data": {
            "text/plain": [
              "(TensorShape([40]), TensorShape([40]))"
            ]
          },
          "metadata": {},
          "execution_count": 112
        }
      ]
    },
    {
      "cell_type": "code",
      "source": [
        "model_1 = tf.keras.Sequential([\n",
        "    tf.keras.layers.Dense(1, input_shape=[1])\n",
        "])\n",
        "\n",
        "print(\"compiling\")\n",
        "model_1.compile(\n",
        "    loss=tf.keras.losses.mae,\n",
        "    optimizer=tf.keras.optimizers.SGD(),\n",
        "    metrics=[\"mae\"]\n",
        ")\n",
        "print(\"done compiling\")\n",
        "\n",
        "model_1.fit(X_train, y_train, epochs=100, verbose=0)"
      ],
      "metadata": {
        "colab": {
          "base_uri": "https://localhost:8080/"
        },
        "id": "yt9ApukNjjM-",
        "outputId": "911704af-6eeb-46e9-caa4-61649eed57e4"
      },
      "execution_count": 115,
      "outputs": [
        {
          "output_type": "stream",
          "name": "stderr",
          "text": [
            "/usr/local/lib/python3.11/dist-packages/keras/src/layers/core/dense.py:87: UserWarning: Do not pass an `input_shape`/`input_dim` argument to a layer. When using Sequential models, prefer using an `Input(shape)` object as the first layer in the model instead.\n",
            "  super().__init__(activity_regularizer=activity_regularizer, **kwargs)\n"
          ]
        },
        {
          "output_type": "stream",
          "name": "stdout",
          "text": [
            "compiling\n",
            "done compiling\n"
          ]
        },
        {
          "output_type": "execute_result",
          "data": {
            "text/plain": [
              "<keras.src.callbacks.history.History at 0x7abc30d4dc50>"
            ]
          },
          "metadata": {},
          "execution_count": 115
        }
      ]
    },
    {
      "cell_type": "code",
      "source": [
        "# Visualize the model\n",
        "y_pred = model_1.predict(X_test)\n",
        "plot_predictions(predictions=y_pred)"
      ],
      "metadata": {
        "colab": {
          "base_uri": "https://localhost:8080/",
          "height": 616
        },
        "id": "dhNwF1vpn3Ri",
        "outputId": "b853c313-e7f1-4a96-e553-0a70d6e55467"
      },
      "execution_count": 139,
      "outputs": [
        {
          "output_type": "stream",
          "name": "stdout",
          "text": [
            "\u001b[1m1/1\u001b[0m \u001b[32m━━━━━━━━━━━━━━━━━━━━\u001b[0m\u001b[37m\u001b[0m \u001b[1m0s\u001b[0m 16ms/step\n"
          ]
        },
        {
          "output_type": "display_data",
          "data": {
            "text/plain": [
              "<Figure size 1000x700 with 1 Axes>"
            ],
            "image/png": "[encoded data removed]"
          },
          "metadata": {}
        }
      ]
    },
    {
      "cell_type": "code",
      "source": [
        "# evaluation matrics\n",
        "mae1, mse1 = mae_value(y_test, y_pred), mse_value(y_test, y_pred)\n",
        "mae1, mse1"
      ],
      "metadata": {
        "colab": {
          "base_uri": "https://localhost:8080/"
        },
        "id": "nvepDdhto4Xk",
        "outputId": "a5a61541-8b18-4bae-f68a-3975d8a13f67"
      },
      "execution_count": 128,
      "outputs": [
        {
          "output_type": "execute_result",
          "data": {
            "text/plain": [
              "(<tf.Tensor: shape=(), dtype=float32, numpy=4.9758368>,\n",
              " <tf.Tensor: shape=(), dtype=float32, numpy=28.601452>)"
            ]
          },
          "metadata": {},
          "execution_count": 128
        }
      ]
    },
    {
      "cell_type": "markdown",
      "source": [
        "**MOdel_2**\n",
        "* 2 dense layer with 100 epochs"
      ],
      "metadata": {
        "id": "MWQ51CygpcJC"
      }
    },
    {
      "cell_type": "code",
      "source": [
        "model_2 = tf.keras.Sequential([\n",
        "    tf.keras.layers.Dense(100, input_shape=[1]),\n",
        "    tf.keras.layers.Dense(1)\n",
        "])\n",
        "\n",
        "model_2.compile(\n",
        "    loss=tf.keras.losses.mae,\n",
        "    optimizer=tf.keras.optimizers.SGD(),\n",
        "    metrics=[\"mae\"]\n",
        ")\n",
        "\n",
        "model_2.fit(X_train, y_train, epochs=100, verbose=0)"
      ],
      "metadata": {
        "colab": {
          "base_uri": "https://localhost:8080/"
        },
        "id": "Hp1SiooEpMQ7",
        "outputId": "3c6112b2-10ba-44bf-dc1a-ef0b2a91d011"
      },
      "execution_count": 122,
      "outputs": [
        {
          "output_type": "stream",
          "name": "stderr",
          "text": [
            "/usr/local/lib/python3.11/dist-packages/keras/src/layers/core/dense.py:87: UserWarning: Do not pass an `input_shape`/`input_dim` argument to a layer. When using Sequential models, prefer using an `Input(shape)` object as the first layer in the model instead.\n",
            "  super().__init__(activity_regularizer=activity_regularizer, **kwargs)\n"
          ]
        },
        {
          "output_type": "execute_result",
          "data": {
            "text/plain": [
              "<keras.src.callbacks.history.History at 0x7abc2fcfcb10>"
            ]
          },
          "metadata": {},
          "execution_count": 122
        }
      ]
    },
    {
      "cell_type": "code",
      "source": [
        "y_pred = model_2.predict(X_test)\n",
        "plot_predictions(predictions=y_pred)"
      ],
      "metadata": {
        "colab": {
          "base_uri": "https://localhost:8080/",
          "height": 616
        },
        "id": "05bGTcF9qgUQ",
        "outputId": "96b930c9-3259-4f47-a7e2-59794e57a62b"
      },
      "execution_count": 138,
      "outputs": [
        {
          "output_type": "stream",
          "name": "stdout",
          "text": [
            "\u001b[1m1/1\u001b[0m \u001b[32m━━━━━━━━━━━━━━━━━━━━\u001b[0m\u001b[37m\u001b[0m \u001b[1m0s\u001b[0m 16ms/step\n"
          ]
        },
        {
          "output_type": "display_data",
          "data": {
            "text/plain": [
              "<Figure size 1000x700 with 1 Axes>"
            ],
            "image/png": "[encoded data removed]"
          },
          "metadata": {}
        }
      ]
    },
    {
      "cell_type": "code",
      "source": [
        "# Evaluation metrics\n",
        "mae2, mse2 = mae_value(y_test, y_pred), mse_value(y_test, y_pred)\n",
        "mae2, mse2"
      ],
      "metadata": {
        "colab": {
          "base_uri": "https://localhost:8080/"
        },
        "id": "1B6KXA8Tq6xA",
        "outputId": "634c4b25-284b-452c-ccb7-f3897efd9ab7"
      },
      "execution_count": 129,
      "outputs": [
        {
          "output_type": "execute_result",
          "data": {
            "text/plain": [
              "(<tf.Tensor: shape=(), dtype=float32, numpy=4.9758368>,\n",
              " <tf.Tensor: shape=(), dtype=float32, numpy=28.601452>)"
            ]
          },
          "metadata": {},
          "execution_count": 129
        }
      ]
    },
    {
      "cell_type": "code",
      "source": [
        "# model 3\n",
        "model_3 = tf.keras.Sequential([\n",
        "    tf.keras.layers.Dense(100, input_shape=[1]),\n",
        "    tf.keras.layers.Dense(100),\n",
        "    tf.keras.layers.Dense(1)\n",
        "])\n",
        "\n",
        "model_3.compile(\n",
        "    loss=tf.keras.losses.mae,\n",
        "    optimizer=tf.keras.optimizers.SGD(),\n",
        "    metrics=[\"mae\"]\n",
        ")\n",
        "\n",
        "model_3.fit(X_train, y_train, epochs=500, verbose=0)"
      ],
      "metadata": {
        "colab": {
          "base_uri": "https://localhost:8080/"
        },
        "id": "0-YsKEjSuGH9",
        "outputId": "723d433c-7475-491f-bce3-db142ab70c64"
      },
      "execution_count": 132,
      "outputs": [
        {
          "output_type": "stream",
          "name": "stderr",
          "text": [
            "/usr/local/lib/python3.11/dist-packages/keras/src/layers/core/dense.py:87: UserWarning: Do not pass an `input_shape`/`input_dim` argument to a layer. When using Sequential models, prefer using an `Input(shape)` object as the first layer in the model instead.\n",
            "  super().__init__(activity_regularizer=activity_regularizer, **kwargs)\n"
          ]
        },
        {
          "output_type": "execute_result",
          "data": {
            "text/plain": [
              "<keras.src.callbacks.history.History at 0x7abc30376b90>"
            ]
          },
          "metadata": {},
          "execution_count": 132
        }
      ]
    },
    {
      "cell_type": "code",
      "source": [
        "y_pred = model_3.predict(X_test)\n",
        "plot_predictions(predictions=y_pred)"
      ],
      "metadata": {
        "colab": {
          "base_uri": "https://localhost:8080/",
          "height": 616
        },
        "id": "8Kuy2Ka7ucM0",
        "outputId": "172915a4-be82-4cea-be52-feda1f26bb69"
      },
      "execution_count": 137,
      "outputs": [
        {
          "output_type": "stream",
          "name": "stdout",
          "text": [
            "\u001b[1m1/1\u001b[0m \u001b[32m━━━━━━━━━━━━━━━━━━━━\u001b[0m\u001b[37m\u001b[0m \u001b[1m0s\u001b[0m 17ms/step\n"
          ]
        },
        {
          "output_type": "display_data",
          "data": {
            "text/plain": [
              "<Figure size 1000x700 with 1 Axes>"
            ],
            "image/png": "[encoded data removed]"
          },
          "metadata": {}
        }
      ]
    },
    {
      "cell_type": "code",
      "source": [
        "mae3, mse3 = mae_value(y_test, y_pred), mse_value(y_test, y_pred)\n",
        "mae3, mse3"
      ],
      "metadata": {
        "colab": {
          "base_uri": "https://localhost:8080/"
        },
        "id": "Zr1oQRLHuuqe",
        "outputId": "cdbf96dd-2c5c-4206-aa8b-4a016f243e16"
      },
      "execution_count": 134,
      "outputs": [
        {
          "output_type": "execute_result",
          "data": {
            "text/plain": [
              "(<tf.Tensor: shape=(), dtype=float32, numpy=46.30338>,\n",
              " <tf.Tensor: shape=(), dtype=float32, numpy=2179.5532>)"
            ]
          },
          "metadata": {},
          "execution_count": 134
        }
      ]
    },
    {
      "cell_type": "code",
      "source": [
        "# collate result of experiments\n",
        "model_results = [[\"model_1\", mae1.numpy(), mse1.numpy()],\n",
        "                 [\"model_2\", mae2.numpy(), mse2.numpy()],\n",
        "                 [\"model_3\", mae3.numpy(), mse3.numpy()]]\n",
        "\n",
        "import pandas as pd\n",
        "model_df = pd.DataFrame(model_results, columns=[\"model\", \"mae\", \"mse\"])\n",
        "model_df"
      ],
      "metadata": {
        "colab": {
          "base_uri": "https://localhost:8080/",
          "height": 1000
        },
        "id": "E1i-FgJQu3oE",
        "outputId": "23d3803d-08ae-4269-c96f-2f9d80ac7769"
      },
      "execution_count": 135,
      "outputs": [
        {
          "output_type": "execute_result",
          "data": {
            "text/plain": [
              "     model        mae          mse\n",
              "0  model_1   4.975837    28.601452\n",
              "1  model_2   4.975837    28.601452\n",
              "2  model_3  46.303379  2179.553223"
            ],
            "text/html": [
              "\n",
              "  <div id=\"df-51b9d88b-6d5e-470e-9d99-67b3a22b8903\" class=\"colab-df-container\">\n",
              "    <div>\n",
              "<style scoped>\n",
              "    .dataframe tbody tr th:only-of-type {\n",
              "        vertical-align: middle;\n",
              "    }\n",
              "\n",
              "    .dataframe tbody tr th {\n",
              "        vertical-align: top;\n",
              "    }\n",
              "\n",
              "    .dataframe thead th {\n",
              "        text-align: right;\n",
              "    }\n",
              "</style>\n",
              "<table border=\"1\" class=\"dataframe\">\n",
              "  <thead>\n",
              "    <tr style=\"text-align: right;\">\n",
              "      <th></th>\n",
              "      <th>model</th>\n",
              "      <th>mae</th>\n",
              "      <th>mse</th>\n",
              "    </tr>\n",
              "  </thead>\n",
              "  <tbody>\n",
              "    <tr>\n",
              "      <th>0</th>\n",
              "      <td>model_1</td>\n",
              "      <td>4.975837</td>\n",
              "      <td>28.601452</td>\n",
              "    </tr>\n",
              "    <tr>\n",
              "      <th>1</th>\n",
              "      <td>model_2</td>\n",
              "      <td>4.975837</td>\n",
              "      <td>28.601452</td>\n",
              "    </tr>\n",
              "    <tr>\n",
              "      <th>2</th>\n",
              "      <td>model_3</td>\n",
              "      <td>46.303379</td>\n",
              "      <td>2179.553223</td>\n",
              "    </tr>\n",
              "  </tbody>\n",
              "</table>\n",
              "</div>\n",
              "    <div class=\"colab-df-buttons\">\n",
              "\n",
              "  <div class=\"colab-df-container\">\n",
              "    <button class=\"colab-df-convert\" onclick=\"convertToInteractive('df-51b9d88b-6d5e-470e-9d99-67b3a22b8903')\"\n",
              "            title=\"Convert this dataframe to an interactive table.\"\n",
              "            style=\"display:none;\">\n",
              "\n",
              "  <svg xmlns=\"http://www.w3.org/2000/svg\" height=\"24px\" viewBox=\"0 -960 960 960\">\n",
              "    <path d=\"M120-120v-720h720v720H120Zm60-500h600v-160H180v160Zm220 220h160v-160H400v160Zm0 220h160v-160H400v160ZM180-400h160v-160H180v160Zm440 0h160v-160H620v160ZM180-180h160v-160H180v160Zm440 0h160v-160H620v160Z\"/>\n",
              "  </svg>\n",
              "    </button>\n",
              "\n",
              "  <style>\n",
              "    .colab-df-container {\n",
              "      display:flex;\n",
              "      gap: 12px;\n",
              "    }\n",
              "\n",
              "    .colab-df-convert {\n",
              "      background-color: #E8F0FE;\n",
              "      border: none;\n",
              "      border-radius: 50%;\n",
              "      cursor: pointer;\n",
              "      display: none;\n",
              "      fill: #1967D2;\n",
              "      height: 32px;\n",
              "      padding: 0 0 0 0;\n",
              "      width: 32px;\n",
              "    }\n",
              "\n",
              "    .colab-df-convert:hover {\n",
              "      background-color: #E2EBFA;\n",
              "      box-shadow: 0px 1px 2px rgba(60, 64, 67, 0.3), 0px 1px 3px 1px rgba(60, 64, 67, 0.15);\n",
              "      fill: #174EA6;\n",
              "    }\n",
              "\n",
              "    .colab-df-buttons div {\n",
              "      margin-bottom: 4px;\n",
              "    }\n",
              "\n",
              "    [theme=dark] .colab-df-convert {\n",
              "      background-color: #3B4455;\n",
              "      fill: #D2E3FC;\n",
              "    }\n",
              "\n",
              "    [theme=dark] .colab-df-convert:hover {\n",
              "      background-color: #434B5C;\n",
              "      box-shadow: 0px 1px 3px 1px rgba(0, 0, 0, 0.15);\n",
              "      filter: drop-shadow(0px 1px 2px rgba(0, 0, 0, 0.3));\n",
              "      fill: #FFFFFF;\n",
              "    }\n",
              "  </style>\n",
              "\n",
              "    <script>\n",
              "      const buttonEl =\n",
              "        document.querySelector('#df-51b9d88b-6d5e-470e-9d99-67b3a22b8903 button.colab-df-convert');\n",
              "      buttonEl.style.display =\n",
              "        google.colab.kernel.accessAllowed ? 'block' : 'none';\n",
              "\n",
              "      async function convertToInteractive(key) {\n",
              "        const element = document.querySelector('#df-51b9d88b-6d5e-470e-9d99-67b3a22b8903');\n",
              "        const dataTable =\n",
              "          await google.colab.kernel.invokeFunction('convertToInteractive',\n",
              "                                                    [key], {});\n",
              "        if (!dataTable) return;\n",
              "\n",
              "        const docLinkHtml = 'Like what you see? Visit the ' +\n",
              "          '<a target=\"_blank\" href=https://colab.research.google.com/notebooks/data_table.ipynb>data table notebook</a>'\n",
              "          + ' to learn more about interactive tables.';\n",
              "        element.innerHTML = '';\n",
              "        dataTable['output_type'] = 'display_data';\n",
              "        await google.colab.output.renderOutput(dataTable, element);\n",
              "        const docLink = document.createElement('div');\n",
              "        docLink.innerHTML = docLinkHtml;\n",
              "        element.appendChild(docLink);\n",
              "      }\n",
              "    </script>\n",
              "  </div>\n",
              "\n",
              "\n",
              "<div id=\"df-30aa5f73-8eac-466b-8b5c-887393dd2116\">\n",
              "  <button class=\"colab-df-quickchart\" onclick=\"quickchart('df-30aa5f73-8eac-466b-8b5c-887393dd2116')\"\n",
              "            title=\"Suggest charts\"\n",
              "            style=\"display:none;\">\n",
              "\n",
              "<svg xmlns=\"http://www.w3.org/2000/svg\" height=\"24px\"viewBox=\"0 0 24 24\"\n",
              "     width=\"24px\">\n",
              "    <g>\n",
              "        <path d=\"M19 3H5c-1.1 0-2 .9-2 2v14c0 1.1.9 2 2 2h14c1.1 0 2-.9 2-2V5c0-1.1-.9-2-2-2zM9 17H7v-7h2v7zm4 0h-2V7h2v10zm4 0h-2v-4h2v4z\"/>\n",
              "    </g>\n",
              "</svg>\n",
              "  </button>\n",
              "\n",
              "<style>\n",
              "  .colab-df-quickchart {\n",
              "      --bg-color: #E8F0FE;\n",
              "      --fill-color: #1967D2;\n",
              "      --hover-bg-color: #E2EBFA;\n",
              "      --hover-fill-color: #174EA6;\n",
              "      --disabled-fill-color: #AAA;\n",
              "      --disabled-bg-color: #DDD;\n",
              "  }\n",
              "\n",
              "  [theme=dark] .colab-df-quickchart {\n",
              "      --bg-color: #3B4455;\n",
              "      --fill-color: #D2E3FC;\n",
              "      --hover-bg-color: #434B5C;\n",
              "      --hover-fill-color: #FFFFFF;\n",
              "      --disabled-bg-color: #3B4455;\n",
              "      --disabled-fill-color: #666;\n",
              "  }\n",
              "\n",
              "  .colab-df-quickchart {\n",
              "    background-color: var(--bg-color);\n",
              "    border: none;\n",
              "    border-radius: 50%;\n",
              "    cursor: pointer;\n",
              "    display: none;\n",
              "    fill: var(--fill-color);\n",
              "    height: 32px;\n",
              "    padding: 0;\n",
              "    width: 32px;\n",
              "  }\n",
              "\n",
              "  .colab-df-quickchart:hover {\n",
              "    background-color: var(--hover-bg-color);\n",
              "    box-shadow: 0 1px 2px rgba(60, 64, 67, 0.3), 0 1px 3px 1px rgba(60, 64, 67, 0.15);\n",
              "    fill: var(--button-hover-fill-color);\n",
              "  }\n",
              "\n",
              "  .colab-df-quickchart-complete:disabled,\n",
              "  .colab-df-quickchart-complete:disabled:hover {\n",
              "    background-color: var(--disabled-bg-color);\n",
              "    fill: var(--disabled-fill-color);\n",
              "    box-shadow: none;\n",
              "  }\n",
              "\n",
              "  .colab-df-spinner {\n",
              "    border: 2px solid var(--fill-color);\n",
              "    border-color: transparent;\n",
              "    border-bottom-color: var(--fill-color);\n",
              "    animation:\n",
              "      spin 1s steps(1) infinite;\n",
              "  }\n",
              "\n",
              "  @keyframes spin {\n",
              "    0% {\n",
              "      border-color: transparent;\n",
              "      border-bottom-color: var(--fill-color);\n",
              "      border-left-color: var(--fill-color);\n",
              "    }\n",
              "    20% {\n",
              "      border-color: transparent;\n",
              "      border-left-color: var(--fill-color);\n",
              "      border-top-color: var(--fill-color);\n",
              "    }\n",
              "    30% {\n",
              "      border-color: transparent;\n",
              "      border-left-color: var(--fill-color);\n",
              "      border-top-color: var(--fill-color);\n",
              "      border-right-color: var(--fill-color);\n",
              "    }\n",
              "    40% {\n",
              "      border-color: transparent;\n",
              "      border-right-color: var(--fill-color);\n",
              "      border-top-color: var(--fill-color);\n",
              "    }\n",
              "    60% {\n",
              "      border-color: transparent;\n",
              "      border-right-color: var(--fill-color);\n",
              "    }\n",
              "    80% {\n",
              "      border-color: transparent;\n",
              "      border-right-color: var(--fill-color);\n",
              "      border-bottom-color: var(--fill-color);\n",
              "    }\n",
              "    90% {\n",
              "      border-color: transparent;\n",
              "      border-bottom-color: var(--fill-color);\n",
              "    }\n",
              "  }\n",
              "</style>\n",
              "\n",
              "  <script>\n",
              "    async function quickchart(key) {\n",
              "      const quickchartButtonEl =\n",
              "        document.querySelector('#' + key + ' button');\n",
              "      quickchartButtonEl.disabled = true;  // To prevent multiple clicks.\n",
              "      quickchartButtonEl.classList.add('colab-df-spinner');\n",
              "      try {\n",
              "        const charts = await google.colab.kernel.invokeFunction(\n",
              "            'suggestCharts', [key], {});\n",
              "      } catch (error) {\n",
              "        console.error('Error during call to suggestCharts:', error);\n",
              "      }\n",
              "      quickchartButtonEl.classList.remove('colab-df-spinner');\n",
              "      quickchartButtonEl.classList.add('colab-df-quickchart-complete');\n",
              "    }\n",
              "    (() => {\n",
              "      let quickchartButtonEl =\n",
              "        document.querySelector('#df-30aa5f73-8eac-466b-8b5c-887393dd2116 button');\n",
              "      quickchartButtonEl.style.display =\n",
              "        google.colab.kernel.accessAllowed ? 'block' : 'none';\n",
              "    })();\n",
              "  </script>\n",
              "</div>\n",
              "\n",
              "  <div id=\"id_14dc71c8-e170-4aae-8e12-6322719575eb\">\n",
              "    <style>\n",
              "      .colab-df-generate {\n",
              "        background-color: #E8F0FE;\n",
              "        border: none;\n",
              "        border-radius: 50%;\n",
              "        cursor: pointer;\n",
              "        display: none;\n",
              "        fill: #1967D2;\n",
              "        height: 32px;\n",
              "        padding: 0 0 0 0;\n",
              "        width: 32px;\n",
              "      }\n",
              "\n",
              "      .colab-df-generate:hover {\n",
              "        background-color: #E2EBFA;\n",
              "        box-shadow: 0px 1px 2px rgba(60, 64, 67, 0.3), 0px 1px 3px 1px rgba(60, 64, 67, 0.15);\n",
              "        fill: #174EA6;\n",
              "      }\n",
              "\n",
              "      [theme=dark] .colab-df-generate {\n",
              "        background-color: #3B4455;\n",
              "        fill: #D2E3FC;\n",
              "      }\n",
              "\n",
              "      [theme=dark] .colab-df-generate:hover {\n",
              "        background-color: #434B5C;\n",
              "        box-shadow: 0px 1px 3px 1px rgba(0, 0, 0, 0.15);\n",
              "        filter: drop-shadow(0px 1px 2px rgba(0, 0, 0, 0.3));\n",
              "        fill: #FFFFFF;\n",
              "      }\n",
              "    </style>\n",
              "    <button class=\"colab-df-generate\" onclick=\"generateWithVariable('model_df')\"\n",
              "            title=\"Generate code using this dataframe.\"\n",
              "            style=\"display:none;\">\n",
              "\n",
              "  <svg xmlns=\"http://www.w3.org/2000/svg\" height=\"24px\"viewBox=\"0 0 24 24\"\n",
              "       width=\"24px\">\n",
              "    <path d=\"M7,19H8.4L18.45,9,17,7.55,7,17.6ZM5,21V16.75L18.45,3.32a2,2,0,0,1,2.83,0l1.4,1.43a1.91,1.91,0,0,1,.58,1.4,1.91,1.91,0,0,1-.58,1.4L9.25,21ZM18.45,9,17,7.55Zm-12,3A5.31,5.31,0,0,0,4.9,8.1,5.31,5.31,0,0,0,1,6.5,5.31,5.31,0,0,0,4.9,4.9,5.31,5.31,0,0,0,6.5,1,5.31,5.31,0,0,0,8.1,4.9,5.31,5.31,0,0,0,12,6.5,5.46,5.46,0,0,0,6.5,12Z\"/>\n",
              "  </svg>\n",
              "    </button>\n",
              "    <script>\n",
              "      (() => {\n",
              "      const buttonEl =\n",
              "        document.querySelector('#id_14dc71c8-e170-4aae-8e12-6322719575eb button.colab-df-generate');\n",
              "      buttonEl.style.display =\n",
              "        google.colab.kernel.accessAllowed ? 'block' : 'none';\n",
              "\n",
              "      buttonEl.onclick = () => {\n",
              "        google.colab.notebook.generateWithVariable('model_df');\n",
              "      }\n",
              "      })();\n",
              "    </script>\n",
              "  </div>\n",
              "\n",
              "    </div>\n",
              "  </div>\n"
            ],
            "application/vnd.google.colaboratory.intrinsic+json": {
              "type": "dataframe",
              "variable_name": "model_df",
              "summary": "{\n  \"name\": \"model_df\",\n  \"rows\": 3,\n  \"fields\": [\n    {\n      \"column\": \"model\",\n      \"properties\": {\n        \"dtype\": \"string\",\n        \"num_unique_values\": 3,\n        \"samples\": [\n          \"model_1\",\n          \"model_2\",\n          \"model_3\"\n        ],\n        \"semantic_type\": \"\",\n        \"description\": \"\"\n      }\n    },\n    {\n      \"column\": \"mae\",\n      \"properties\": {\n        \"dtype\": \"float32\",\n        \"num_unique_values\": 2,\n        \"samples\": [\n          46.30337905883789,\n          4.975836753845215\n        ],\n        \"semantic_type\": \"\",\n        \"description\": \"\"\n      }\n    },\n    {\n      \"column\": \"mse\",\n      \"properties\": {\n        \"dtype\": \"float32\",\n        \"num_unique_values\": 2,\n        \"samples\": [\n          2179.55322265625,\n          28.601451873779297\n        ],\n        \"semantic_type\": \"\",\n        \"description\": \"\"\n      }\n    }\n  ]\n}"
            }
          },
          "metadata": {},
          "execution_count": 135
        },
        {
          "output_type": "display_data",
          "data": {
            "text/plain": [
              "<google.colab._quickchart_helpers.SectionTitle at 0x7abc303dbe10>"
            ],
            "text/html": [
              "<h4 class=\"colab-quickchart-section-title\">Distributions</h4>\n",
              "<style>\n",
              "  .colab-quickchart-section-title {\n",
              "      clear: both;\n",
              "  }\n",
              "</style>"
            ]
          },
          "metadata": {}
        },
        {
          "output_type": "display_data",
          "data": {
            "text/plain": [
              "from matplotlib import pyplot as plt\n",
              "model_df['mae'].plot(kind='hist', bins=20, title='mae')\n",
              "plt.gca().spines[['top', 'right',]].set_visible(False)"
            ],
            "text/html": [
              "      <div class=\"colab-quickchart-chart-with-code\" id=\"chart-41cb2716-34dc-455e-8994-cbc5706917d8\">\n",
              "        <img style=\"width: 180px;\" src=\"data:image/png;base64,iVBORw0KGgoAAAANSUhEUgAAAjEAAAGrCAYAAAAxesZMAAAAOnRFWHRTb2Z0d2FyZQBNYXRwbG90\n",
              "bGliIHZlcnNpb24zLjEwLjAsIGh0dHBzOi8vbWF0cGxvdGxpYi5vcmcvlHJYcgAAAAlwSFlzAAAP\n",
              "YQAAD2EBqD+naQAAI59JREFUeJzt3X1QlXX+//HXCepoBXjLQHtERm50NQNOwZK2Zn+40R26apPd\n",
              "bWooVrPW0KzJWG1ahjubTNaOCxbLVu7ieoMto91Mlhlum2hGUzqpGEfAQDYrIJeIm+v3h9P5dn4C\n",
              "ethzcfjk8zFzzXiu68PF+wxzxuecc8HlsCzLEgAAgGEuCPYAAAAAfUHEAAAAIxExAADASEQMAAAw\n",
              "EhEDAACMRMQAAAAjETEAAMBIRAwAADASEQMAAIxExAAAACMRMQAAwEhEDAAAMBIRAyDopk6dqt/+\n",
              "9re67bbbFB4eLpfLpQ0bNuiTTz7R1VdfrbCwMKWlpenQoUOSpE2bNunKK6/U0KFDNWLECGVmZqq6\n",
              "utrnnK+99pp+8YtfaOjQoUpISNBzzz0XjKcGwEZEDIAB4ZVXXtEDDzygb775Rr/73e907733aunS\n",
              "pSopKdHJkyc1atQoLV68WJIUFhamv/zlL/ryyy/12WefybIs3XHHHd5z7dy5U3fccYeefvppnTx5\n",
              "Ulu3btUf//hH/e1vfwvW0wNgA4dlWVawhwBwfps6dari4uJUVFQkSWpqatKQIUP097//Xbfffrsk\n",
              "acuWLcrKytLXX399xtd/9NFHcrvdam5uVlhYmDIzMzVhwgTl5eV516xcuVI7d+7Ujh07+udJAbBd\n",
              "aLAHAABJio6O9v77kksu6XZfS0uLJGnXrl1asWKFDh48qFOnTnnXNDY2KiwsTEeOHNGOHTv05z//\n",
              "2Xuss7NTMTExdj8NAP2Ij5MAGOX777/XzTffrIyMDB0+fFjNzc3atWuXJOmHN5ajoqK0dOlSffPN\n",
              "N96tpaVFBw4cCOboAAKMiAFglO+//16tra0aOnSowsLC9MUXX+jRRx/1WfPggw/q+eef19tvv62O\n",
              "jg51dHTo008/1XvvvRekqQHYgYgBYJRLL71UL774op566ildeumluuGGG3Trrbf6rJkxY4ZeeeUV\n",
              "Pf7444qMjFRkZKSysrL05ZdfBmlqAHbgwl4AAGAk3okBAABGImIAAICRiBgAAGAkIgYAABiJiAEA\n",
              "AEYiYgAAgJGIGAAAYKSffMSsWbMm2CMAAAAb/OQj5tixY8EeAQAA2OAnHzEAAOCniYgBAABGImIA\n",
              "AICRiBgAAGAkIgYAABiJiAEAAEYiYgAAgJGIGAAAYCQiBgAAGImIAQAARiJiAACAkYgYAABgJNsi\n",
              "5rvvvtOMGTOUmJiopKQkTZs2TVVVVd2u3bZtm8aNG6eEhATNnDlTzc3N53QMAACcv2x9J2bhwoU6\n",
              "dOiQPv74Y02fPl1ZWVlnrPn2229177336tVXX9WRI0d02WWX6cknnzzrMQAAcH6zLWIGDRqkG2+8\n",
              "UQ6HQ5KUnp4uj8dzxrrXX39dKSkpGjdunCTp/vvvV0lJyVmPdaetrU3Nzc0+W2dnZ4CfGQAAGAhC\n",
              "++sbrVmzRtOnTz9jf01NjUaPHu19HBsbq/r6enV0dPR6LDT0zNHz8vK0fPlyn33p6ekBfBb/J3bp\n",
              "dlvOK0meVTfZdm4AAH4q+uXC3qefflpVVVXKy8uz9fvk5uaqqanJZ0tLS7P1ewIAgOCwPWKeeeYZ\n",
              "lZaW6vXXX9fFF198xvGYmBgdO3bM+9jj8Sg6OlqhoaG9HuuO0+lUeHi4zxYSEhL4JwUAAILO1ojJ\n",
              "z89XSUmJ3nrrLQ0ZMqTbNRkZGdq/f78+++wzSdLatWs1Z86csx4DAADnN9uuiamrq9PDDz+sMWPG\n",
              "6LrrrpN0+p2SPXv26PHHH9dll12mRYsWKSwsTC+++KJmzJihjo4OXX755XrppZckqddjAADg/Oaw\n",
              "LMsK9hB2ysnJUX5+fsDPy4W9AAAEF3+xFwAAGImIAQAARiJiAACAkYgYAABgJCIGAAAYiYgBAABG\n",
              "ImIAAICRiBgAAGAkIgYAABiJiAEAAEYiYgAAgJGIGAAAYCQiBgAAGImIAQAARiJiAACAkYgYAABg\n",
              "JCIGAAAYiYgBAABGImIAAICRiBgAAGAkIgYAABiJiAEAAEYiYgAAgJGIGAAAYCQiBgAAGImIAQAA\n",
              "RiJiAACAkYgYAABgJCIGAAAYiYgBAABGImIAAICRiBgAAGAkIgYAABiJiAEAAEYiYgAAgJFsjZjF\n",
              "ixcrNjZWDodDlZWV3a4pLi5WcnKydxsxYoRmzpwpSfJ4PAoJCfE5fvToUTtHBgAAhgi18+SzZ8/W\n",
              "kiVLdM011/S4Zt68eZo3b5738eWXX64777zT+zgsLKzHAAIAAOcvWyNmypQpfq3fs2ePGhsblZmZ\n",
              "2afv19bWpra2Np99nZ2dfToXAAAY2AbUNTFFRUW6++67deGFF3r3nTp1SqmpqXK73VqxYkWvUZKX\n",
              "l6eIiAifraKioj9GBwAA/WzARMypU6e0YcMG3Xvvvd590dHROn78uPbu3asdO3aovLxcq1ev7vEc\n",
              "ubm5ampq8tnS0tL6Y3wAANDPBkzEbNq0SRMmTND48eO9+5xOpyIjIyVJw4YN0/z581VeXt7jOZxO\n",
              "p8LDw322kJAQ22cHAAD9b8BETFFRkc+7MJLU2Nio9vZ2SaevdyktLVVKSkowxgMAAAOMrRGTnZ0t\n",
              "l8uluro6XX/99YqPj5ckZWVlqayszLvu0KFDqqys1G233ebz9bt371ZKSoqSkpLkdrsVFRWlZcuW\n",
              "2TkyAAAwhMOyLCvYQ9gpJydH+fn5AT9v7NLtAT/nDzyrbrLt3AAA/FQMmI+TAAAA/EHEAAAAIxEx\n",
              "AADASEQMAAAwEhEDAACMRMQAAAAjETEAAMBIRAwAADASEQMAAIxExAAAACMRMQAAwEhEDAAAMBIR\n",
              "AwAAjETEAAAAIxExAADASEQMAAAwEhEDAACMRMQAAAAjETEAAMBIRAwAADASEQMAAIxExAAAACMR\n",
              "MQAAwEhEDAAAMBIRAwAAjETEAAAAIxExAADASEQMAAAwEhEDAACMRMQAAAAjETEAAMBIRAwAADAS\n",
              "EQMAAIxExAAAACMRMQAAwEi2RszixYsVGxsrh8OhysrKbte8++67Gjx4sJKTk71ba2ur93hRUZES\n",
              "EhIUFxenBQsWqL293c6RAQCAIWyNmNmzZ2v37t0aPXp0r+vGjh2ryspK7zZ48GBJUnV1tR577DGV\n",
              "l5erqqpKJ06c0Lp16+wcGQAAGMLWiJkyZYpcLlefv37z5s3KzMxUVFSUHA6HFi1apJKSkh7Xt7W1\n",
              "qbm52Wfr7Ozs8/cHAAAD14C4Jubo0aNyu91KTU3V2rVrvftramp83sWJjY1VTU1Nj+fJy8tTRESE\n",
              "z1ZRUWHr7AAAIDiCHjFut1t1dXXav3+/tm7dqoKCAm3cuLFP58rNzVVTU5PPlpaWFuCJAQDAQBD0\n",
              "iAkPD1dERIQkyeVy6fbbb1d5ebkkKSYmRseOHfOu9Xg8iomJ6fFcTqdT4eHhPltISIi9TwAAAARF\n",
              "0COmvr5eXV1dkqSWlhZt27ZNKSkpkqRZs2aprKxMDQ0NsixLBQUFmjNnTjDHBQAAA4StEZOdnS2X\n",
              "y6W6ujpdf/31io+PlyRlZWWprKxMkrRlyxZNnDhRSUlJSk9P17Rp0zRv3jxJ0pgxY7R8+XJNnjxZ\n",
              "8fHxGjlypLKzs+0cGQAAGMJhWZYV7CHslJOTo/z8/ICfN3bp9oCf8weeVTfZdm4AAH4qgv5xEgAA\n",
              "QF8QMQAAwEhEDAAAMBIRAwAAjETEAAAAIxExAADASEQMAAAwEhEDAACMRMQAAAAjETEAAMBIRAwA\n",
              "ADASEQMAAIxExAAAACMRMQAAwEhEDAAAMBIRAwAAjETEAAAAIxExAADASEQMAAAwEhEDAACMRMQA\n",
              "AAAjETEAAMBIRAwAADASEQMAAIxExAAAACMRMQAAwEhEDAAAMBIRAwAAjETEAAAAIxExAADASEQM\n",
              "AAAwEhEDAACMRMQAAAAjETEAAMBIRAwAADCSrRGzePFixcbGyuFwqLKysts177zzjtLS0jR+/HhN\n",
              "mDBBS5YsUVdXlyTJ4/EoJCREycnJ3u3o0aN2jgwAAAxha8TMnj1bu3fv1ujRo3tcM3ToUG3YsEEH\n",
              "Dx7Uhx9+qPfff18vv/yy93hYWJgqKyu9W1xcnJ0jAwAAQ4TaefIpU6acdU1KSor334MGDVJycrI8\n",
              "Hk+fvl9bW5va2tp89nV2dvbpXAAAYGAbUNfENDQ0aPPmzbr55pu9+06dOqXU1FS53W6tWLGi1yjJ\n",
              "y8tTRESEz1ZRUdEfowMAgH42YCKmublZt9xyi5YsWaKrrrpKkhQdHa3jx49r79692rFjh8rLy7V6\n",
              "9eoez5Gbm6umpiafLS0trb+eAgAA6EcDImJaWlqUkZGh6dOnKycnx7vf6XQqMjJSkjRs2DDNnz9f\n",
              "5eXlPZ7H6XQqPDzcZwsJCbF9fgAA0P+CHjHffvutMjIylJGRoUcffdTnWGNjo9rb2yWdvt6ltLTU\n",
              "5xoaAABw/rI1YrKzs+VyuVRXV6frr79e8fHxkqSsrCyVlZVJktasWaOKigqVlpZ6f4165cqVkqTd\n",
              "u3crJSVFSUlJcrvdioqK0rJly+wcGQAAGMJhWZYV7CHslJOTo/z8/ICfN3bp9oCf8weeVTfZdm4A\n",
              "AH4qgv5xEgAAQF8QMQAAwEhEDAAAMBIRAwAAjOR3xLz55pt2zAEAAOAXvyNmxYoVGjt2rNasWaPm\n",
              "5mY7ZgIAADgrvyPmX//6lzZs2KBPP/1UiYmJuv/++3Xw4EE7ZgMAAOhRn66JSUlJ0QsvvKA33nhD\n",
              "27Zt0xVXXKFp06bpk08+CfR8AAAA3epTxOzYsUPTp0/XzJkz9cADD6ihoUHZ2dn69a9/Hej5AAAA\n",
              "uhXq7xf8/Oc/14gRI7R48WLNnDnTe4PF2bNnq6ioKOADAgAAdMfviFm/fr2uvPLKbo+9/vrr//NA\n",
              "AAAA58Lvj5M+/PBDffXVV97HJ0+e1AsvvBDQoQAAAM7G74hZu3athg0b5n08fPhwrV27NqBDAQAA\n",
              "nI3fEdPdTa87OzsDMgwAAMC58jtioqOjtXHjRu/jf/zjH4qOjg7oUAAAAGfj94W9zz77rKZPn64l\n",
              "S5ZIki6++GL985//DPhgAAAAvfE7YsaNG6eDBw/q0KFDkqSxY8d6f80aAACgv/gdMZLkcDg0ZMgQ\n",
              "dXR06Pjx45KkmJiYgA4GAADQG78j5q9//asWL16sCy+8UBdccPqSGofDocbGxoAPBwAA0BO/I+bJ\n",
              "J5/U3r17NXbsWDvmAQAAOCd+/3bSiBEjCBgAABB0fkfMjBkz9Oyzz6qxsVHNzc3eDQAAoD/5/XHS\n",
              "smXLJEk5OTlyOByyLEsOh4M/eAcAAPqV3xHT1dVlxxwAAAB+8fvjJOn0TSBfeeUVSdI333yj+vr6\n",
              "gA4FAABwNn26AeT8+fP1xBNPSDp9F+s77rgj0HMBAAD0yu+IWbdunT744AOFh4dLkuLi4vSf//wn\n",
              "4IMBAAD0xu+IcTqdGjx4sM++0NA+/eFfAACAPvM7YkaOHKnDhw/L4XBIOv0XfLnlAAAA6G99uov1\n",
              "7bffrs8++0yjRo1SeHi4tm3bZsdsAAAAPfI7YuLj47Vnzx4dOnRIlmVxF2sAABAUfkdMTU2NJOmS\n",
              "Sy6RJO5iDQAAgsLviLnyyiu9f6n3u+++03//+18NHz6cu1gDAIB+5XfE/P+/Tl1aWqqPP/44YAMB\n",
              "AACciz79xd4fmzlzprZv3x6IWQAAAM6Z3xHz4ztXf/3113rjjTd6vIv14sWLFRsbK4fDocrKyh7P\n",
              "WVRUpISEBMXFxWnBggVqb28/p2MAAOD85XfEDBkyREOHDtWQIUMUGRmpnJwcPffcc92unT17tnbv\n",
              "3q3Ro0f3eL7q6mo99thjKi8vV1VVlU6cOKF169ad9RgAADi/+R0xXV1d6uzsVFdXl9rb23Xw4EFl\n",
              "ZGR0u3bKlClyuVy9nm/z5s3KzMxUVFSUHA6HFi1apJKSkrMe605bW5vPO0XNzc3q7Oz09ykCAAAD\n",
              "BP1+ATU1NT7v1MTGxnp/jbu3Y93Jy8vT8uXLffalp6cHeGIAAMwSu9Sea1c9q26y5bznyu93Yi64\n",
              "4AKFhIScsf2wP5hyc3PV1NTks6WlpQV1JgAAYA+/34lZsWKFWltbdd9990mSCgoKNHjwYD300EN9\n",
              "GiAmJkZHjx71PvZ4PN4/nNfbse44nU45nU6ffcEOKwAAYA+/34nZunWrVq5cKZfLJZfLpaeeekql\n",
              "paW65JJLvH/F1x+zZs1SWVmZGhoaZFmWCgoKNGfOnLMeAwAA5ze/I6alpcXnr/M2NjaqpaWl27XZ\n",
              "2dlyuVyqq6vT9ddfr/j4eElSVlaWysrKJEljxozR8uXLNXnyZMXHx2vkyJHKzs4+6zEAAHB+8/vj\n",
              "pIcfflhJSUm68cYbJUlvvPGGnnjiiW7XFhYWdrv/xRdf9Hm8YMECLViwoNu1vR0DAADnL78jJjs7\n",
              "W5MnT9bOnTslSTk5OZowYULABwMAAOhNn37Fevjw4Zo4caKmTp2qjo4Off/997rooosCPRsAAECP\n",
              "/L4mZvPmzUpPT9e8efMkSQcOHNCMGTMCPRcAAECv/I6YvLw87d+/X0OGDJEkJSUl6dixY4GeCwAA\n",
              "oFd+R0xISIiGDx/us4+PkgAAQH/zO2LCwsJ04sQJORwOSdLbb7+tYcOGBXwwAACA3vh9Ye8f/vAH\n",
              "3XDDDfr88891zTXXqLq6Wtu323NPBgAAgJ74FTE/3MF6586dev/992VZliZNmuS9PgYAAKC/+BUx\n",
              "F1xwgRYuXKiPP/5YN9xwg10zAQAAnJXf18QkJCSoqqrKjlkAAADOmd/XxHz11VdKTk7WpEmTdOml\n",
              "l3r3l5aWBnQwAACA3pxzxCxcuFDr1q3TPffco8zMTA0dOtTOuQAAAHp1zhGzb98+SdI999wjt9ut\n",
              "/fv32zYUAADA2fh9TYwkWZYV6DkAAAD8cs7vxLS2tuqTTz6RZVn67rvvvP/+wRVXXGHLgAAAAN3x\n",
              "K2IyMzO9j3/8b4fDoc8//zywkwEAAPTinCPG4/HYOAYAAIB/+nRNDAAAQLARMQAAwEhEDAAAMBIR\n",
              "AwAAjETEAAAAIxExAADASEQMAAAwEhEDAACMRMQAAAAjETEAAMBIRAwAADASEQMAAIxExAAAACMR\n",
              "MQAAwEhEDAAAMBIRAwAAjETEAAAAIxExAADASLZGzJEjRzRp0iQlJiYqNTVVBw4cOGNNcXGxkpOT\n",
              "vduIESM0c+ZMSZLH41FISIjP8aNHj9o5MgAAMESonSfPzs7WwoULNXfuXG3evFlz587V3r17fdbM\n",
              "mzdP8+bN8z6+/PLLdeedd3ofh4WFqbKy0s4xAQCAgWx7J6axsVH79u3TXXfdJUmaNWuWamtrVVVV\n",
              "1ePX7NmzR42NjcrMzOzT92xra1Nzc7PP1tnZ2adzAQCAgc22iKmtrVV0dLRCQ0+/2eNwOBQTE6Oa\n",
              "mpoev6aoqEh33323LrzwQu++U6dOKTU1VW63WytWrOg1SvLy8hQREeGzVVRUBO5JAQCAAWPAXNh7\n",
              "6tQpbdiwQffee693X3R0tI4fP669e/dqx44dKi8v1+rVq3s8R25urpqamny2tLS0/hgfAAD0M9si\n",
              "ZtSoUaqvr1dHR4ckybIs1dTUKCYmptv1mzZt0oQJEzR+/HjvPqfTqcjISEnSsGHDNH/+fJWXl/f4\n",
              "PZ1Op8LDw322kJCQAD4rAAAwUNgWMZGRkXK73Vq/fr0kacuWLXK5XIqPj+92fVFRkc+7MNLp62ra\n",
              "29slnb7epbS0VCkpKXaNDAAADGLrx0mFhYUqLCxUYmKiVq1apeLiYklSVlaWysrKvOsOHTqkyspK\n",
              "3XbbbT5fv3v3bqWkpCgpKUlut1tRUVFatmyZnSMDAABD2Por1mPHjtW///3vM/a/+OKLZ6xraWk5\n",
              "Y93MmTO9fzMGAADgxwbMhb0AAAD+IGIAAICRiBgAAGAkIgYAABiJiAEAAEYiYgAAgJGIGAAAYCQi\n",
              "BgAAGImIAQAARiJiAACAkYgYAABgJCIGAAAYiYgBAABGImIAAICRiBgAAGAkIgYAABiJiAEAAEYi\n",
              "YgAAgJGIGAAAYCQiBgAAGImIAQAARiJiAACAkYgYAABgJCIGAAAYiYgBAABGImIAAICRiBgAAGAk\n",
              "IgYAABiJiAEAAEYiYgAAgJGIGAAAYCQiBgAAGImIAQAARiJiAACAkYgYAABgJFsj5siRI5o0aZIS\n",
              "ExOVmpqqAwcOnLHm3Xff1eDBg5WcnOzdWltbvceLioqUkJCguLg4LViwQO3t7XaODAAADGFrxGRn\n",
              "Z2vhwoU6fPiwHnnkEc2dO7fbdWPHjlVlZaV3Gzx4sCSpurpajz32mMrLy1VVVaUTJ05o3bp1do4M\n",
              "AAAMYVvENDY2at++fbrrrrskSbNmzVJtba2qqqrO+RybN29WZmamoqKi5HA4tGjRIpWUlPS4vq2t\n",
              "Tc3NzT5bZ2fn//xcAADAwGNbxNTW1io6OlqhoaGSJIfDoZiYGNXU1Jyx9ujRo3K73UpNTdXatWu9\n",
              "+2tqajR69Gjv49jY2G6//gd5eXmKiIjw2SoqKgL4rAAAwEAR9At73W636urqtH//fm3dulUFBQXa\n",
              "uHFjn86Vm5urpqYmny0tLS3AEwMAgIHAtogZNWqU6uvr1dHRIUmyLEs1NTWKiYnxWRceHq6IiAhJ\n",
              "ksvl0u23367y8nJJUkxMjI4dO+Zd6/F4zvj6H3M6nQoPD/fZQkJCAv3UAADAAGBbxERGRsrtdmv9\n",
              "+vWSpC1btsjlcik+Pt5nXX19vbq6uiRJLS0t2rZtm1JSUiSdvo6mrKxMDQ0NsixLBQUFmjNnjl0j\n",
              "AwAAg9j6cVJhYaEKCwuVmJioVatWqbi4WJKUlZWlsrIySafjZuLEiUpKSlJ6erqmTZumefPmSZLG\n",
              "jBmj5cuXa/LkyYqPj9fIkSOVnZ1t58gAAMAQDsuyrGAPYaecnBzl5+cH/LyxS7cH/Jw/8Ky6ybZz\n",
              "AwDOP3b9nxXs/6+CfmEvAABAXxAxAADASEQMAAAwEhEDAACMRMQAAAAjETEAAMBIRAwAADASEQMA\n",
              "AIxExAAAACMRMQAAwEhEDAAAMBIRAwAAjETEAAAAIxExAADASEQMAAAwEhEDAACMRMQAAAAjETEA\n",
              "AMBIRAwAADASEQMAAIxExAAAACMRMQAAwEhEDAAAMBIRAwAAjETEAAAAIxExAADASEQMAAAwEhED\n",
              "AACMRMQAAAAjETEAAMBIRAwAADASEQMAAIxExAAAACMRMQAAwEhEDAAAMJKtEXPkyBFNmjRJiYmJ\n",
              "Sk1N1YEDB85Y88477ygtLU3jx4/XhAkTtGTJEnV1dUmSPB6PQkJClJyc7N2OHj1q58gAAMAQtkZM\n",
              "dna2Fi5cqMOHD+uRRx7R3Llzz1gzdOhQbdiwQQcPHtSHH36o999/Xy+//LL3eFhYmCorK71bXFyc\n",
              "nSMDAABD2BYxjY2N2rdvn+666y5J0qxZs1RbW6uqqiqfdSkpKRozZowkadCgQUpOTpbH4+nT92xr\n",
              "a1Nzc7PP1tnZ+T89DwAAMDDZFjG1tbWKjo5WaGioJMnhcCgmJkY1NTU9fk1DQ4M2b96sm2++2bvv\n",
              "1KlTSk1Nldvt1ooVK3qNkry8PEVERPhsFRUVgXtSAABgwBgwF/Y2Nzfrlltu0ZIlS3TVVVdJkqKj\n",
              "o3X8+HHt3btXO3bsUHl5uVavXt3jOXJzc9XU1OSzpaWl9ddTAAAA/ci2iBk1apTq6+vV0dEhSbIs\n",
              "SzU1NYqJiTljbUtLizIyMjR9+nTl5OR49zudTkVGRkqShg0bpvnz56u8vLzH7+l0OhUeHu6zhYSE\n",
              "BPiZAQCAgcC2iImMjJTb7db69eslSVu2bJHL5VJ8fLzPum+//VYZGRnKyMjQo48+6nOssbFR7e3t\n",
              "kk5f71JaWqqUlBS7RgYAAAax9eOkwsJCFRYWKjExUatWrVJxcbEkKSsrS2VlZZKkNWvWqKKiQqWl\n",
              "pd5fo165cqUkaffu3UpJSVFSUpLcbreioqK0bNkyO0cGAACGcFiWZQV7CDvl5OQoPz8/4OeNXbo9\n",
              "4Of8gWfVTbadGwBw/rHr/6xg/381YC7sBQAA8AcRAwAAjETEAAAAIxExAADASEQMAAAwEhEDAACM\n",
              "RMQAAAAjETEAAMBIRAwAADASEQMAAIxExAAAACMRMQAAwEhEDAAAMBIRAwAAjETEAAAAIxExAADA\n",
              "SEQMAAAwEhEDAACMRMQAAAAjETEAAMBIRAwAADASEQMAAIxExAAAACMRMQAAwEhEDAAAMBIRAwAA\n",
              "jETEAAAAIxExAADASEQMAAAwEhEDAACMRMQAAAAjETEAAMBIRAwAADASEQMAAIxExAAAACPZGjFH\n",
              "jhzRpEmTlJiYqNTUVB04cKDbdUVFRUpISFBcXJwWLFig9vb2czoGAADOX7ZGTHZ2thYuXKjDhw/r\n",
              "kUce0dy5c89YU11drccee0zl5eWqqqrSiRMntG7durMeAwAA5zfbIqaxsVH79u3TXXfdJUmaNWuW\n",
              "amtrVVVV5bNu8+bNyszMVFRUlBwOhxYtWqSSkpKzHutOW1ubmpubfbbOzk67niIAAAiiULtOXFtb\n",
              "q+joaIWGnv4WDodDMTExqqmpUXx8vHddTU2NRo8e7X0cGxurmpqasx7rTl5enpYvX+6zb9y4ccrJ\n",
              "yQnIc/qxmQE/4//JyXnbxrP3rrOzUxUVFUpLS1NISEjQ5sC542dmHn5mZjL552bX/1l2/n81evRo\n",
              "Pfjgg72usS1igiE3N/eMYHE6nXI6nUGayDzNzc2KiIjQm2++qfDw8GCPg3PAz8w8/MzMxM9t4LEt\n",
              "YkaNGqX6+np1dHQoNDRUlmWppqZGMTExPutiYmJ09OhR72OPx+Nd09ux7hAsAACcP2y7JiYyMlJu\n",
              "t1vr16+XJG3ZskUul8vnoyTp9LUyZWVlamhokGVZKigo0Jw5c856DAAAnN9s/e2kwsJCFRYWKjEx\n",
              "UatWrVJxcbEkKSsrS2VlZZKkMWPGaPny5Zo8ebLi4+M1cuRIZWdnn/UYAAA4vzksy7KCPQQGjra2\n",
              "NuXl5Sk3N5eP5gzBz8w8/MzMxM9t4CFiAACAkbjtAAAAMBIRAwAAjETEAAAAIxExAADASETMeWzx\n",
              "4sWKjY2Vw+FQZWWld/+53n0c/e+7777TjBkzlJiYqKSkJE2bNs17P7LGxkZlZGQoISFBl19+ud57\n",
              "770gT4sf/OpXv9IVV1yh5ORk/fKXv9RHH30kideaCYqLi+VwOPTqq69K4nU24Fg4b+3atcuqra21\n",
              "Ro8ebX300Ufe/dddd51VXFxsWZZlbdq0ybrqqquCMyDO0Nraam3fvt3q6uqyLMuynn/+eevaa6+1\n",
              "LMuy5s2bZ/3+97+3LMuyKioqrJ/97GfW999/H6RJ8WNff/2199+lpaXWFVdcYVkWr7WBrrq62rr6\n",
              "6qut9PR0a+vWrZZl8TobaHgn5jw2ZcoUuVwun33nevdxBMegQYN04403yuFwSJLS09Pl8XgkSRs3\n",
              "btSiRYskSampqbrsssu0a9euYI2KHxkyZIj3301NTXI4HLzWBriuri5lZWXp+eef9/mbMLzOBpaf\n",
              "1A0g8b8717uPY2BYs2aNpk+frpMnT6q9vV1RUVHeY2e76zv6129+8xvt3LlTkvTaa6/xWhvg8vPz\n",
              "NXnyZF155ZXefbzOBh4iBjDU008/raqqKr399ttqbW0N9jg4i5dfflmS9NJLL+mRRx7Rk08+GeSJ\n",
              "0JNPP/1UW7Zs4XoXA/BxEnz8+O7jknq8+ziC65lnnlFpaalef/11XXzxxRo+fLhCQ0PV0NDgXXO2\n",
              "u74jOO655x7t3LlTLpeL19oAVV5eLo/Ho4SEBMXGxuqDDz7QwoULtXHjRl5nAwwRAx/nevdxBE9+\n",
              "fr5KSkr01ltv+Vxrceutt6qgoECStHfvXh0/flzXXnttkKbED7755ht98cUX3sevvvqqhg8fzmtt\n",
              "ALvvvvtUX18vj8cjj8ej9PR0rVu3Tvfddx+vswGGeyedx7Kzs7V9+3Y1NDRo+PDhCgsLU1VVlQ4d\n",
              "OqS5c+fq5MmTCg8PV3FxsSZOnBjscSGprq5Oo0aN0pgxYxQWFiZJcjqd2rNnj06cOKG7775b1dXV\n",
              "uuiii/SnP/1J1113XZAnxrFjx3TrrbeqtbVVF1xwgUaOHKlnnnlGycnJvNYMMXXqVD300EOaMWMG\n",
              "r7MBhogBAABG4uMkAABgJCIGAAAYiYgBAABGImIAAICRiBgAAGAkIgYAABiJiAEAAEYiYgAAgJGI\n",
              "GAAAYCQiBgAAGOn/AdIMMhsA1rQEAAAAAElFTkSuQmCC\n",
              "\">\n",
              "      </div>\n",
              "      <script type=\"text/javascript\">\n",
              "        (() => {\n",
              "          const chartElement = document.getElementById(\"chart-41cb2716-34dc-455e-8994-cbc5706917d8\");\n",
              "          async function getCodeForChartHandler(event) {\n",
              "            const chartCodeResponse =  await google.colab.kernel.invokeFunction(\n",
              "                'getCodeForChart', [\"chart-41cb2716-34dc-455e-8994-cbc5706917d8\"], {});\n",
              "            const responseJson = chartCodeResponse.data['application/json'];\n",
              "            await google.colab.notebook.addCell(responseJson.code, 'code');\n",
              "          }\n",
              "          chartElement.onclick = getCodeForChartHandler;\n",
              "        })();\n",
              "      </script>\n",
              "      <style>\n",
              "        .colab-quickchart-chart-with-code  {\n",
              "            display: block;\n",
              "            float: left;\n",
              "            border: 1px solid transparent;\n",
              "        }\n",
              "\n",
              "        .colab-quickchart-chart-with-code:hover {\n",
              "            cursor: pointer;\n",
              "            border: 1px solid #aaa;\n",
              "        }\n",
              "      </style>"
            ]
          },
          "metadata": {}
        },
        {
          "output_type": "display_data",
          "data": {
            "text/plain": [
              "from matplotlib import pyplot as plt\n",
              "model_df['mse'].plot(kind='hist', bins=20, title='mse')\n",
              "plt.gca().spines[['top', 'right',]].set_visible(False)"
            ],
            "text/html": [
              "      <div class=\"colab-quickchart-chart-with-code\" id=\"chart-41579285-c84c-4ea2-9d29-43029068c46e\">\n",
              "        <img style=\"width: 180px;\" src=\"data:image/png;base64,iVBORw0KGgoAAAANSUhEUgAAAjEAAAGrCAYAAAAxesZMAAAAOnRFWHRTb2Z0d2FyZQBNYXRwbG90\n",
              "bGliIHZlcnNpb24zLjEwLjAsIGh0dHBzOi8vbWF0cGxvdGxpYi5vcmcvlHJYcgAAAAlwSFlzAAAP\n",
              "YQAAD2EBqD+naQAAI4BJREFUeJzt3XtQVOfh//HPCgYvAbxSSHBhBMF6CbAGajUxSaeO5IZWbWMS\n",
              "03hBsUlrM2RqQoxtNDXYmcjEZuqACWOTOMV4IS2jo5nY3LBpRWNIUm1UiOuCA5KaKsQoQTi/Pxz3\n",
              "l/0K6JI9LI++XzNnxj3n2cOzeYbwnt0Dx2FZliUAAADD9Ar2BAAAALqCiAEAAEYiYgAAgJGIGAAA\n",
              "YCQiBgAAGImIAQAARiJiAACAkYgYAABgJCIGAAAYiYgBAABGImIAAICRiBgAAGAkIgZAj3D77bfr\n",
              "V7/6le677z5FREQoNjZWGzdu1Keffqof/vCHCg8PV0ZGhg4dOiRJ2rRpk0aPHq2IiAgNGTJEP/7x\n",
              "j73nOnfunJ566iklJCRo4MCBmjRpkj766KNgvTQANiFiAPQYr732mh599FGdOnVKv/nNbzR//nw9\n",
              "+eSTKikp0cmTJzVs2DAtXrxYX3/9tWbPnq0XX3xRjY2Nqq2t1VNPPeU9z6JFi1RRUaH33ntPX3zx\n",
              "hX72s59pypQpOnXqVPBeHICAI2IA9BgzZszQpEmT1KtXL82ZM8cbK/Hx8bruuuv0wAMPqKKiQpLU\n",
              "u3dv/ec//9F///tf9enTRz/60Y8kSSdPntQrr7yiP/3pT4qNjVVoaKh++ctfKjIyUtu2bQvmywMQ\n",
              "YEQMgB4jJibG++/+/fu3u6+pqUn9+vXTzp07tWvXLiUnJ2vs2LFas2aNJKmqqkqS9IMf/EADBgzw\n",
              "bsePH1dtbW03vhoAdgsN9gQAoCtuvfVW3XrrrbIsS++9954yMzM1atQoJSUlSZI++eQTOZ3OIM8S\n",
              "gJ14JwaAcerr67V582adOnVKDodDAwYMkMPhUGhoqOLi4jRt2jQ9+uijOnbsmCSpqalJO3bsUF1d\n",
              "XZBnDiCQiBgAxrEsS4WFhRo+fLiuv/56zZw5UytXrtQdd9whSfrLX/6icePGafLkyQoPD1dycrJe\n",
              "euklWZYV5JkDCCSHxXc1AAAwEO/EAAAAIxExAADASEQMAAAwEhEDAACMRMQAAAAjETEAAMBIRAwA\n",
              "ADDSVR8xF++nAgAAri5XfcRc/LPjAADg6nLVRwwAALg6ETEAAMBIRAwAADASEQMAAIxExAAAACMR\n",
              "MQAAwEhEDAAAMBIRAwAAjETEAAAAIxExAADASEQMAAAwEhEDAACMZFvEnDt3TtOmTVNSUpJSUlI0\n",
              "efJkVVVVtTt227ZtGjlypEaMGKHp06ersbHxio4BAIBrl63vxCxcuFCHDh3Sxx9/rKlTpyo7O/uS\n",
              "MV999ZXmz5+vv/71rzpy5IhuuOEGPfvss5c9BgAArm22RUyfPn101113yeFwSJLGjx8vt9t9ybgd\n",
              "O3YoLS1NI0eOlCQ98sgjKikpueyx9jQ3N6uxsdFna21tDfArAwAAPUFod32hNWvWaOrUqZfs93g8\n",
              "iouL8z6Oj49XXV2dzp8/3+mx0NBLp56fn6/ly5f77Bs/fnwAX8X/F//kdlvOK0nuVXfbdm4AAK4W\n",
              "3XJh73PPPaeqqirl5+fb+nXy8vJ0+vRpny0jI8PWrwkAAILD9oh5/vnnVVpaqh07dqhfv36XHHc6\n",
              "nTp27Jj3sdvtVkxMjEJDQzs91p6wsDBFRET4bCEhIYF/UQAAIOhsjZiCggKVlJTorbfe0oABA9od\n",
              "k5mZqf379+uzzz6TJK1du1azZs267DEAAHBts+2amNraWj3++OMaPny47rjjDkkX3inZs2ePfvvb\n",
              "3+qGG27QokWLFB4erpdfflnTpk3T+fPnNWbMGL3yyiuS1OkxAABwbXNYlmUFexJ2ys3NVUFBQcDP\n",
              "y4W9AAAEF3+xFwAAGImIAQAARiJiAACAkYgYAABgJCIGAAAYiYgBAABGImIAAICRiBgAAGAkIgYA\n",
              "ABiJiAEAAEYiYgAAgJGIGAAAYCQiBgAAGImIAQAARiJiAACAkYgYAABgJCIGAAAYiYgBAABGImIA\n",
              "AICRiBgAAGAkIgYAABiJiAEAAEYiYgAAgJGIGAAAYCQiBgAAGImIAQAARiJiAACAkYgYAABgJCIG\n",
              "AAAYiYgBAABGImIAAICRiBgAAGAkIgYAABiJiAEAAEYiYgAAgJFsjZjFixcrPj5eDodDlZWV7Y5Z\n",
              "v369UlNTvduQIUM0ffp0SZLb7VZISIjP8erqajunDAAADBFq58lnzpypJUuW6JZbbulwzNy5czV3\n",
              "7lzv4zFjxujBBx/0Pg4PD+8wgAAAwLXL1oiZNGmSX+P37NmjhoYGZWVldenrNTc3q7m52Wdfa2tr\n",
              "l84FAAB6th51TUxxcbEeeugh9e7d27vvzJkzSk9Pl8vl0ooVKzqNkvz8fEVGRvpsFRUV3TF1AADQ\n",
              "zXpMxJw5c0YbN27U/PnzvftiYmJ0/Phx7d27V7t27VJ5eblWr17d4Tny8vJ0+vRpny0jI6M7pg8A\n",
              "ALpZj4mYzZs3a/To0Ro1apR3X1hYmKKioiRJgwYN0rx581ReXt7hOcLCwhQREeGzhYSE2D53AADQ\n",
              "/XpMxBQXF/u8CyNJDQ0NamlpkXThepfS0lKlpaUFY3oAAKCHsTVicnJyFBsbq9raWk2ZMkWJiYmS\n",
              "pOzsbJWVlXnHHTp0SJWVlbrvvvt8nr97926lpaUpJSVFLpdL0dHRWrp0qZ1TBgAAhnBYlmUFexJ2\n",
              "ys3NVUFBQcDPG//k9oCf8yL3qrttOzcAAFeLHvNxEgAAgD+IGAAAYCQiBgAAGImIAQAARiJiAACA\n",
              "kYgYAABgJCIGAAAYiYgBAABGImIAAICRiBgAAGAkIgYAABiJiAEAAEYiYgAAgJGIGAAAYCQiBgAA\n",
              "GImIAQAARiJiAACAkYgYAABgJCIGAAAYiYgBAABGImIAAICRiBgAAGAkIgYAABiJiAEAAEYiYgAA\n",
              "gJGIGAAAYCQiBgAAGImIAQAARiJiAACAkYgYAABgJCIGAAAYiYgBAABGImIAAICRiBgAAGAkIgYA\n",
              "ABjJ1ohZvHix4uPj5XA4VFlZ2e6Yd999V3379lVqaqp3O3v2rPd4cXGxRowYoYSEBC1YsEAtLS12\n",
              "ThkAABjC1oiZOXOmdu/erbi4uE7HJScnq7Ky0rv17dtXknT06FEtW7ZM5eXlqqqq0okTJ7Ru3To7\n",
              "pwwAAAxha8RMmjRJsbGxXX7+li1blJWVpejoaDkcDi1atEglJSUdjm9ublZjY6PP1tra2uWvDwAA\n",
              "eq4ecU1MdXW1XC6X0tPTtXbtWu9+j8fj8y5OfHy8PB5Ph+fJz89XZGSkz1ZRUWHr3AEAQHAEPWJc\n",
              "Lpdqa2u1f/9+vfHGGyosLNSmTZu6dK68vDydPn3aZ8vIyAjwjAEAQE8Q9IiJiIhQZGSkJCk2Nlb3\n",
              "33+/ysvLJUlOp1PHjh3zjnW73XI6nR2eKywsTBERET5bSEiIvS8AAAAERdAjpq6uTm1tbZKkpqYm\n",
              "bdu2TWlpaZKkGTNmqKysTPX19bIsS4WFhZo1a1YwpwsAAHoIWyMmJydHsbGxqq2t1ZQpU5SYmChJ\n",
              "ys7OVllZmSRp69atGjt2rFJSUjR+/HhNnjxZc+fOlSQNHz5cy5cv18SJE5WYmKihQ4cqJyfHzikD\n",
              "AABDOCzLsoI9CTvl5uaqoKAg4OeNf3J7wM95kXvV3badGwCAq0XQP04CAADoCiIGAAAYiYgBAABG\n",
              "ImIAAICRiBgAAGAkIgYAABiJiAEAAEYiYgAAgJGIGAAAYCQiBgAAGImIAQAARiJiAACAkYgYAABg\n",
              "JCIGAAAYiYgBAABGImIAAICRiBgAAGAkIgYAABiJiAEAAEYiYgAAgJGIGAAAYCQiBgAAGImIAQAA\n",
              "RiJiAACAkYgYAABgJCIGAAAYiYgBAABGImIAAICRiBgAAGAkIgYAABiJiAEAAEYiYgAAgJGIGAAA\n",
              "YCQiBgAAGImIAQAARrI1YhYvXqz4+Hg5HA5VVla2O+btt99WRkaGRo0apdGjR2vJkiVqa2uTJLnd\n",
              "boWEhCg1NdW7VVdX2zllAABgCFsjZubMmdq9e7fi4uI6HDNw4EBt3LhRBw8e1IcffqgPPvhAr776\n",
              "qvd4eHi4KisrvVtCQoKdUwYAAIYItfPkkyZNuuyYtLQ077/79Omj1NRUud3uLn295uZmNTc3++xr\n",
              "bW3t0rkAAEDP1qOuiamvr9eWLVt0zz33ePedOXNG6enpcrlcWrFiRadRkp+fr8jISJ+toqKiO6YO\n",
              "AAC6WY+JmMbGRt17771asmSJbr75ZklSTEyMjh8/rr1792rXrl0qLy/X6tWrOzxHXl6eTp8+7bNl\n",
              "ZGR010sAAADdqEdETFNTkzIzMzV16lTl5uZ694eFhSkqKkqSNGjQIM2bN0/l5eUdnicsLEwRERE+\n",
              "W0hIiO3zBwAA3S/oEfPVV18pMzNTmZmZevrpp32ONTQ0qKWlRdKF611KS0t9rqEBAADXLlsjJicn\n",
              "R7GxsaqtrdWUKVOUmJgoScrOzlZZWZkkac2aNaqoqFBpaan316hXrlwpSdq9e7fS0tKUkpIil8ul\n",
              "6OhoLV261M4pAwAAQzgsy7KCPQk75ebmqqCgIODnjX9ye8DPeZF71d22nRsAgKtF0D9OAgAA6Aoi\n",
              "BgAAGImIAQAARiJiAACAkfyOmDfffNOOeQAAAPjF74hZsWKFkpOTtWbNGjU2NtoxJwAAgMvyO2L+\n",
              "8Y9/aOPGjfr3v/+tpKQkPfLIIzp48KAdcwMAAOhQl66JSUtL00svvaSdO3dq27ZtuummmzR58mR9\n",
              "+umngZ4fAABAu7oUMbt27dLUqVM1ffp0Pfroo6qvr1dOTo5+8pOfBHp+AAAA7Qr19wnf//73NWTI\n",
              "EC1evFjTp0/33mBx5syZKi4uDvgEAQAA2uN3xGzYsEHjxo1r99iOHTu+84QAAACuhN8fJ3344Yf6\n",
              "8ssvvY9Pnjypl156KaCTAgAAuBy/I2bt2rUaNGiQ9/HgwYO1du3agE4KAADgcvyOmPZuet3a2hqQ\n",
              "yQAAAFwpvyMmJiZGmzZt8j5+/fXXFRMTE9BJAQAAXI7fF/a+8MILmjp1qpYsWSJJ6tevn/72t78F\n",
              "fGIAAACd8TtiRo4cqYMHD+rQoUOSpOTkZO+vWQMAAHQXvyNGkhwOhwYMGKDz58/r+PHjkiSn0xnQ\n",
              "iQEAAHTG74j585//rMWLF6t3797q1evCJTUOh0MNDQ0BnxwAAEBH/I6YZ599Vnv37lVycrId8wEA\n",
              "ALgifv920pAhQwgYAAAQdH5HzLRp0/TCCy+ooaFBjY2N3g0AAKA7+f1x0tKlSyVJubm5cjgcsixL\n",
              "DoeDP3gHAAC6ld8R09bWZsc8AAAA/OL3x0nShZtAvvbaa5KkU6dOqa6uLqCTAgAAuJwu3QBy3rx5\n",
              "euaZZyRduIv1Aw88EOh5AQAAdMrviFm3bp3+9a9/KSIiQpKUkJCgL774IuATAwAA6IzfERMWFqa+\n",
              "ffv67AsN7dIf/gUAAOgyvyNm6NChOnz4sBwOh6QLf8GXWw4AAIDu1qW7WN9///367LPPNGzYMEVE\n",
              "RGjbtm12zA0AAKBDfkdMYmKi9uzZo0OHDsmyLO5iDQAAgsLviPF4PJKk/v37SxJ3sQYAAEHhd8SM\n",
              "GzfO+5d6z507p6+//lqDBw/mLtYAAKBb+R0x//fXqUtLS/Xxxx8HbEIAAABXokt/sffbpk+fru3b\n",
              "twdiLgAAAFfM74j59p2r//e//2nnzp0d3sV68eLFio+Pl8PhUGVlZYfnLC4u1ogRI5SQkKAFCxao\n",
              "paXlio4BAIBrl98RM2DAAA0cOFADBgxQVFSUcnNz9cc//rHdsTNnztTu3bsVFxfX4fmOHj2qZcuW\n",
              "qby8XFVVVTpx4oTWrVt32WMAAODa5nfEtLW1qbW1VW1tbWppadHBgweVmZnZ7thJkyYpNja20/Nt\n",
              "2bJFWVlZio6OlsPh0KJFi1RSUnLZY+1pbm72eaeosbFRra2t/r5EAABggKDfL8Dj8fi8UxMfH+/9\n",
              "Ne7OjrUnPz9fy5cv99k3fvz4AM8YAACzxD9pz7Wr7lV323LeK+X3OzG9evVSSEjIJdvF/cGUl5en\n",
              "06dP+2wZGRlBnRMAALCH3+/ErFixQmfPntUvfvELSVJhYaH69u2rxx57rEsTcDqdqq6u9j52u93e\n",
              "P5zX2bH2hIWFKSwszGdfsMMKAADYw+93Yt544w2tXLlSsbGxio2N1e9//3uVlpaqf//+3r/i648Z\n",
              "M2aorKxM9fX1sixLhYWFmjVr1mWPAQCAa5vfEdPU1OTz13kbGhrU1NTU7ticnBzFxsaqtrZWU6ZM\n",
              "UWJioiQpOztbZWVlkqThw4dr+fLlmjhxohITEzV06FDl5ORc9hgAALi2+f1x0uOPP66UlBTddddd\n",
              "kqSdO3fqmWeeaXdsUVFRu/tffvlln8cLFizQggUL2h3b2TEAAHDt8jticnJyNHHiRL3zzjuSpNzc\n",
              "XI0ePTrgEwMAAOhMl37FevDgwRo7dqxuv/12nT9/Xt98842uu+66QM8NAACgQ35fE7NlyxaNHz9e\n",
              "c+fOlSQdOHBA06ZNC/S8AAAAOuV3xOTn52v//v0aMGCAJCklJUXHjh0L9LwAAAA65XfEhISEaPDg\n",
              "wT77+CgJAAB0N78jJjw8XCdOnJDD4ZAk/f3vf9egQYMCPjEAAIDO+H1h7x/+8Afdeeed+vzzz3XL\n",
              "Lbfo6NGj2r7dnnsyAAAAdMSviLl4B+t33nlHH3zwgSzL0oQJE7zXxwAAAHQXvyKmV69eWrhwoT7+\n",
              "+GPdeeedds0JAADgsvy+JmbEiBGqqqqyYy4AAABXzO9rYr788kulpqZqwoQJuv766737S0tLAzox\n",
              "AACAzlxxxCxcuFDr1q3Tww8/rKysLA0cONDOeQEAAHTqiiNm3759kqSHH35YLpdL+/fvt21SAAAA\n",
              "l+P3NTGSZFlWoOcBAADglyt+J+bs2bP69NNPZVmWzp075/33RTfddJMtEwQAAGiPXxGTlZXlffzt\n",
              "fzscDn3++eeBnRkAAEAnrjhi3G63jdMAAADwT5euiQEAAAg2IgYAABiJiAEAAEYiYgAAgJGIGAAA\n",
              "YCQiBgAAGImIAQAARiJiAACAkYgYAABgJCIGAAAYiYgBAABGImIAAICRiBgAAGAkIgYAABiJiAEA\n",
              "AEYiYgAAgJGIGAAAYCQiBgAAGMnWiDly5IgmTJigpKQkpaen68CBA5eMWb9+vVJTU73bkCFDNH36\n",
              "dEmS2+1WSEiIz/Hq6mo7pwwAAAwRaufJc3JytHDhQs2ZM0dbtmzRnDlztHfvXp8xc+fO1dy5c72P\n",
              "x4wZowcffND7ODw8XJWVlXZOEwAAGMi2d2IaGhq0b98+zZ49W5I0Y8YM1dTUqKqqqsPn7NmzRw0N\n",
              "DcrKyurS12xublZjY6PP1tra2qVzAQCAns22iKmpqVFMTIxCQy+82eNwOOR0OuXxeDp8TnFxsR56\n",
              "6CH17t3bu+/MmTNKT0+Xy+XSihUrOo2S/Px8RUZG+mwVFRWBe1EAAKDH6DEX9p45c0YbN27U/Pnz\n",
              "vftiYmJ0/Phx7d27V7t27VJ5eblWr17d4Tny8vJ0+vRpny0jI6M7pg8AALqZbREzbNgw1dXV6fz5\n",
              "85Iky7Lk8XjkdDrbHb9582aNHj1ao0aN8u4LCwtTVFSUJGnQoEGaN2+eysvLO/yaYWFhioiI8NlC\n",
              "QkIC+KoAAEBPYVvEREVFyeVyacOGDZKkrVu3KjY2VomJie2OLy4u9nkXRrpwXU1LS4ukC9e7lJaW\n",
              "Ki0tza4pAwAAg9j6cVJRUZGKioqUlJSkVatWaf369ZKk7OxslZWVeccdOnRIlZWVuu+++3yev3v3\n",
              "bqWlpSklJUUul0vR0dFaunSpnVMGAACGsPVXrJOTk/XPf/7zkv0vv/zyJeOampouGTd9+nTv34wB\n",
              "AAD4th5zYS8AAIA/iBgAAGAkIgYAABiJiAEAAEYiYgAAgJGIGAAAYCQiBgAAGImIAQAARiJiAACA\n",
              "kYgYAABgJCIGAAAYiYgBAABGImIAAICRiBgAAGAkIgYAABiJiAEAAEYiYgAAgJGIGAAAYCQiBgAA\n",
              "GImIAQAARiJiAACAkYgYAABgJCIGAAAYiYgBAABGImIAAICRiBgAAGAkIgYAABiJiAEAAEYiYgAA\n",
              "gJGIGAAAYCQiBgAAGImIAQAARiJiAACAkYgYAABgJCIGAAAYydaIOXLkiCZMmKCkpCSlp6frwIED\n",
              "l4x599131bdvX6Wmpnq3s2fPeo8XFxdrxIgRSkhI0IIFC9TS0mLnlAEAgCFsjZicnBwtXLhQhw8f\n",
              "1hNPPKE5c+a0Oy45OVmVlZXerW/fvpKko0ePatmyZSovL1dVVZVOnDihdevW2TllAABgCNsipqGh\n",
              "Qfv27dPs2bMlSTNmzFBNTY2qqqqu+BxbtmxRVlaWoqOj5XA4tGjRIpWUlHQ4vrm5WY2NjT5ba2vr\n",
              "d34tAACg57EtYmpqahQTE6PQ0FBJksPhkNPplMfjuWRsdXW1XC6X0tPTtXbtWu9+j8ejuLg47+P4\n",
              "+Ph2n39Rfn6+IiMjfbaKiooAvioAANBTBP3CXpfLpdraWu3fv19vvPGGCgsLtWnTpi6dKy8vT6dP\n",
              "n/bZMjIyAjxjAADQE9gWMcOGDVNdXZ3Onz8vSbIsSx6PR06n02dcRESEIiMjJUmxsbG6//77VV5e\n",
              "LklyOp06duyYd6zb7b7k+d8WFhamiIgIny0kJCTQLw0AAPQAtkVMVFSUXC6XNmzYIEnaunWrYmNj\n",
              "lZiY6DOurq5ObW1tkqSmpiZt27ZNaWlpki5cR1NWVqb6+npZlqXCwkLNmjXLrikDAACD2PpxUlFR\n",
              "kYqKipSUlKRVq1Zp/fr1kqTs7GyVlZVJuhA3Y8eOVUpKisaPH6/Jkydr7ty5kqThw4dr+fLlmjhx\n",
              "ohITEzV06FDl5OTYOWUAAGAIh2VZVrAnYafc3FwVFBQE/LzxT24P+Dkvcq+627ZzAwCuPXb9zAr2\n",
              "z6ugX9gLAADQFUQMAAAwEhEDAACMRMQAAAAjETEAAMBIRAwAADASEQMAAIxExAAAACMRMQAAwEhE\n",
              "DAAAMBIRAwAAjETEAAAAIxExAADASEQMAAAwEhEDAACMRMQAAAAjETEAAMBIRAwAADASEQMAAIxE\n",
              "xAAAACMRMQAAwEhEDAAAMBIRAwAAjETEAAAAIxExAADASEQMAAAwEhEDAACMRMQAAAAjETEAAMBI\n",
              "RAwAADASEQMAAIxExAAAACMRMQAAwEhEDAAAMBIRAwAAjGRrxBw5ckQTJkxQUlKS0tPTdeDAgUvG\n",
              "vP3228rIyNCoUaM0evRoLVmyRG1tbZIkt9utkJAQpaamerfq6mo7pwwAAAxha8Tk5ORo4cKFOnz4\n",
              "sJ544gnNmTPnkjEDBw7Uxo0bdfDgQX344Yf64IMP9Oqrr3qPh4eHq7Ky0rslJCTYOWUAAGAI2yKm\n",
              "oaFB+/bt0+zZsyVJM2bMUE1NjaqqqnzGpaWlafjw4ZKkPn36KDU1VW63u0tfs7m5WY2NjT5ba2vr\n",
              "d3odAACgZ7ItYmpqahQTE6PQ0FBJksPhkNPplMfj6fA59fX12rJli+655x7vvjNnzig9PV0ul0sr\n",
              "VqzoNEry8/MVGRnps1VUVATuRQEAgB6jx1zY29jYqHvvvVdLlizRzTffLEmKiYnR8ePHtXfvXu3a\n",
              "tUvl5eVavXp1h+fIy8vT6dOnfbaMjIzuegkAAKAb2RYxw4YNU11dnc6fPy9JsixLHo9HTqfzkrFN\n",
              "TU3KzMzU1KlTlZub690fFhamqKgoSdKgQYM0b948lZeXd/g1w8LCFBER4bOFhIQE+JUBAICewLaI\n",
              "iYqKksvl0oYNGyRJW7duVWxsrBITE33GffXVV8rMzFRmZqaefvppn2MNDQ1qaWmRdOF6l9LSUqWl\n",
              "pdk1ZQAAYBBbP04qKipSUVGRkpKStGrVKq1fv16SlJ2drbKyMknSmjVrVFFRodLSUu+vUa9cuVKS\n",
              "tHv3bqWlpSklJUUul0vR0dFaunSpnVMGAACGcFiWZQV7EnbKzc1VQUFBwM8b/+T2gJ/zIvequ207\n",
              "NwDg2mPXz6xg/7zqMRf2AgAA+IOIAQAARiJiAACAkYgYAABgJCIGAAAYiYgBAABGImIAAICRiBgA\n",
              "AGAkIgYAABiJiAEAAEYiYgAAgJGIGAAAYCQiBgAAGImIAQAARiJiAACAkYgYAABgJCIGAAAYiYgB\n",
              "AABGImIAAICRiBgAAGAkIgYAABiJiAEAAEYiYgAAgJGIGAAAYCQiBgAAGImIAQAARiJiAACAkYgY\n",
              "AABgJCIGAAAYiYgBAABGImIAAICRiBgAAGAkIgYAABiJiAEAAEYiYgAAgJFsjZgjR45owoQJSkpK\n",
              "Unp6ug4cONDuuOLiYo0YMUIJCQlasGCBWlparugYAAC4dtkaMTk5OVq4cKEOHz6sJ554QnPmzLlk\n",
              "zNGjR7Vs2TKVl5erqqpKJ06c0Lp16y57DAAAXNtsi5iGhgbt27dPs2fPliTNmDFDNTU1qqqq8hm3\n",
              "ZcsWZWVlKTo6Wg6HQ4sWLVJJScllj7WnublZjY2NPltra6tdLxEAAARRqF0nrqmpUUxMjEJDL3wJ\n",
              "h8Mhp9Mpj8ejxMRE7ziPx6O4uDjv4/j4eHk8nssea09+fr6WL1/us2/kyJHKzc3t0mtobW1VRUWF\n",
              "MjIyFBIS4nNsepfOeGVyc/9u49mvLp2tEXoG1qjnY416vu+6Rnb9zLLz51VcXJx+/etfdzrGtogJ\n",
              "hry8vEuCJSwsTGFhYV06X2NjoyIjI/Xmm28qIiIiEFNEgLFGPR9r1POxRj0fa9Q+2yJm2LBhqqur\n",
              "0/nz5xUaGirLsuTxeOR0On3GOZ1OVVdXex+73W7vmM6Otee7BAsAADCLbdfEREVFyeVyacOGDZKk\n",
              "rVu3KjY21uejJOnCtTJlZWWqr6+XZVkqLCzUrFmzLnsMAABc22z97aSioiIVFRUpKSlJq1at0vr1\n",
              "6yVJ2dnZKisrkyQNHz5cy5cv18SJE5WYmKihQ4cqJyfnsscAAMC1zWFZlhXsSfRUzc3Nys/PV15e\n",
              "Hh9T9VCsUc/HGvV8rFHPxxq1j4gBAABG4rYDAADASEQMAAAwEhEDAACMRMQAAAAjETGduNK7cMNe\n",
              "8fHxSk5OVmpqqlJTU/X6669L6nx9WDv7LF68WPHx8XI4HKqsrPTu7+p6sFaB19EadfS9JLFG3enc\n",
              "uXOaNm2akpKSlJKSosmTJ3vvK9jQ0KDMzEyNGDFCY8aM0fvvv+99XlePXdUsdOiOO+6w1q9fb1mW\n",
              "ZW3evNm6+eabgzuha1RcXJz10UcfXbK/s/Vh7ezz3nvvWTU1NZesS1fXg7UKvI7WqKPvJctijbrT\n",
              "2bNnre3bt1ttbW2WZVnWiy++aN12222WZVnW3Llzrd/97neWZVlWRUWFdeONN1rffPPNdzp2NSNi\n",
              "OnDixAkrPDzcamlpsSzLstra2qzvfe971pEjR4I8s2tPe//j7Wx9WLvu8e116ep6sFb2utKIYY2C\n",
              "a+/evVZcXJxlWZbVv39/q66uznssPT3deuutt77TsasZHyd1oLO7cKP7/fznP9fYsWM1f/58ffHF\n",
              "F52uD2vX/bq6HqxV9/u/30tS19cPgbFmzRpNnTpVJ0+eVEtLi6Kjo73H4uPj5fF4unzsakfEoMd7\n",
              "//339cknn2j//v0aMmSIHn744WBPCTAS30s9z3PPPaeqqirl5+cHeypGsu0u1qa70rtww34X/5v3\n",
              "7t1bjz32mJKSkjpdn4iICNaum3V1PVir7tXe95LU9fXDd/P888+rtLRUu3btUr9+/dSvXz+Fhoaq\n",
              "vr7e+66K2+2W0+nU4MGDu3Tsasc7MR240rtww15nzpzRqVOnvI9LSkqUlpbW6fqwdt2vq+vBWnWf\n",
              "jr6XpK6vH7quoKBAJSUleuuttzRgwADv/p/+9KcqLCyUJO3du1fHjx/Xbbfd9p2OXdWCdzlOz/fZ\n",
              "Z59Z48ePt0aMGGGNGzfO+uSTT4I9pWtOdXW1lZqaao0dO9YaM2aMlZWVZR09etSyrM7Xh7Wzz8KF\n",
              "C60bb7zRCgkJsaKioqyEhATLsrq+HqxV4LW3Rp19L1kWa9SdampqLEnW8OHDrZSUFCslJcXKyMiw\n",
              "LMuy6uvrrcmTJ1uJiYnWqFGjrLffftv7vK4eu5pxA0gAAGAkPk4CAABGImIAAICRiBgAAGAkIgYA\n",
              "ABiJiAEAAEYiYgAAgJGIGAAAYCQiBgAAGImIAQAARiJiAACAkf4feXvTOALHagMAAAAASUVORK5C\n",
              "YII=\n",
              "\">\n",
              "      </div>\n",
              "      <script type=\"text/javascript\">\n",
              "        (() => {\n",
              "          const chartElement = document.getElementById(\"chart-41579285-c84c-4ea2-9d29-43029068c46e\");\n",
              "          async function getCodeForChartHandler(event) {\n",
              "            const chartCodeResponse =  await google.colab.kernel.invokeFunction(\n",
              "                'getCodeForChart', [\"chart-41579285-c84c-4ea2-9d29-43029068c46e\"], {});\n",
              "            const responseJson = chartCodeResponse.data['application/json'];\n",
              "            await google.colab.notebook.addCell(responseJson.code, 'code');\n",
              "          }\n",
              "          chartElement.onclick = getCodeForChartHandler;\n",
              "        })();\n",
              "      </script>\n",
              "      <style>\n",
              "        .colab-quickchart-chart-with-code  {\n",
              "            display: block;\n",
              "            float: left;\n",
              "            border: 1px solid transparent;\n",
              "        }\n",
              "\n",
              "        .colab-quickchart-chart-with-code:hover {\n",
              "            cursor: pointer;\n",
              "            border: 1px solid #aaa;\n",
              "        }\n",
              "      </style>"
            ]
          },
          "metadata": {}
        },
        {
          "output_type": "display_data",
          "data": {
            "text/plain": [
              "<google.colab._quickchart_helpers.SectionTitle at 0x7abc27a5ee50>"
            ],
            "text/html": [
              "<h4 class=\"colab-quickchart-section-title\">Categorical distributions</h4>\n",
              "<style>\n",
              "  .colab-quickchart-section-title {\n",
              "      clear: both;\n",
              "  }\n",
              "</style>"
            ]
          },
          "metadata": {}
        },
        {
          "output_type": "display_data",
          "data": {
            "text/plain": [
              "from matplotlib import pyplot as plt\n",
              "import seaborn as sns\n",
              "model_df.groupby('model').size().plot(kind='barh', color=sns.palettes.mpl_palette('Dark2'))\n",
              "plt.gca().spines[['top', 'right',]].set_visible(False)"
            ],
            "text/html": [
              "      <div class=\"colab-quickchart-chart-with-code\" id=\"chart-644ad0e6-c073-4788-b0d7-51afc46d7bc1\">\n",
              "        <img style=\"width: 180px;\" src=\"data:image/png;base64,iVBORw0KGgoAAAANSUhEUgAAAkgAAAGZCAYAAABylM64AAAAOnRFWHRTb2Z0d2FyZQBNYXRwbG90\n",
              "bGliIHZlcnNpb24zLjEwLjAsIGh0dHBzOi8vbWF0cGxvdGxpYi5vcmcvlHJYcgAAAAlwSFlzAAAP\n",
              "YQAAD2EBqD+naQAAGaBJREFUeJzt3X+slvV9//HX8RCO7SzU5VsrYSrVHjcBDz96PGejHgei8QyQ\n",
              "4dpN5phEBnbD2dVO7FiaNOsKdJh10XUNxVBMz0mMqetgQ3RLAauYzA1pUXDjS7cqTLD1GxbOJI5z\n",
              "Duf6/tHsrHz80XPsgZtzfDySO/E+57rv631/Qryfua7rvk9dVVVVAADod06tBwAAONsIJACAgkAC\n",
              "ACgIJACAgkACACgIJACAgkACACgIJACAgkACACgIpJ/CfffdV+sRAIDTQCD9FF566aVajwAAnAYC\n",
              "CQCgIJAAAAoCCQCgIJAAAAoCCQCgIJAAAAoCCQCgIJAAAAoCCQCgIJAAAAoCCQCgIJAAAAoCCQCg\n",
              "IJAAAAoCCQCgIJAAAAoCCQCgIJAAAAoCCQCgIJAAAAoCCQCgIJAAAAoCCQCgIJAAAAoCCQCgIJAA\n",
              "AAoCCQCgIJAAAAp1VVVVtR5iuGqeviDX/vLSWo8BACPK2r+YV+sRHEECACgJJACAgkACACgIJACA\n",
              "gkACACgIJACAgkACACgIJACAgkACACgIJACAgkACACgIJACAgkACACgIJACAgkACACgIJACAgkAC\n",
              "ACgIJACAgkACACgIJACAgkACACgIJACAgkACACgIJACAgkACACgIJACAgkACACgIJACAwrALpC1b\n",
              "tmTmzJk/cbsHH3wwCxYseNtt/uqv/ipXXnllpk6dmsmTJ+f+++8fmiEBgGFtVK0HqKVFixbljjvu\n",
              "SJJ0dXVl8uTJaWtry7Rp096w7YkTJ3LixIlTflb19Z2ROQGAM+u0HkGqq6vLqlWr0tramgkTJmTT\n",
              "pk1Zs2ZNmpub09jYmCeeeKJ/246OjjQ1NaWpqSlz587Nyy+/nCTp6enJ8uXL09jYmJaWluzYseOU\n",
              "fXR0dKS1tTXTp0/PNddckz179gx4vrFjx/b/9/Hjx9PT0/OW265ZsyZjx4495XbkB/93wPsCAIaP\n",
              "036K7bzzzsszzzyTDRs2ZNGiRRk3blx27dqV1atXZ8WKFUmSvXv3ZsWKFXnsscfy3HPPZcaMGVm6\n",
              "dGmSZP369dm/f3/27duXnTt3Zvfu3f3P/fTTT+ehhx7Kk08+md27d2fVqlW55ZZbBjXfI488kkmT\n",
              "JmXChAm5++673/ToUZKsXLkyx44dO+U27oOXv8NVAQDOZqc9kG6++eYkSXNzc44fP56FCxcmSVpa\n",
              "WnLgwIEkyY4dO9Le3p7x48cnSZYvX57t27fn5MmT2bZtW2699daMHj06o0ePzpIlS/qfe/Pmzdmz\n",
              "Z09aW1szderU3HnnnTl69Ghef/31Ac/38Y9/PPv27cv+/fvT2dmZ/fv3v+l2DQ0NGTNmzCm3unOG\n",
              "3SVcAMAAnPZrkM4999wkSX19/Rvu9/b2vulj6urq3vL5fvx3VVVl8eLFWb169U8954QJE9La2pot\n",
              "W7bk53/+53/q5wMAhq+z4hDIrFmz8vjjj+fw4cNJknXr1mX27Nmpr6/Pddddl87OzvT09KS7uzsb\n",
              "N27sf9z8+fPT2dmZgwcPJkn6+vqya9euAe/3hRde6P/vV199Ndu3b09TU9MQvSoAYLg6Kz7FNnny\n",
              "5Nx7771pb29Pklx00UV54IEHkiTLli3L3r17M3HixJx//vlpa2vLs88+myRpa2vL2rVrc9NNN6W3\n",
              "tzfd3d2ZO3dumpubB7Tf++67L0899VRGjx6dqqryqU99Ktdff/3peZEAwLBRV1VVVeshhqvm6Qty\n",
              "7S8vrfUYADCirP2LebUe4ew4xQYAcDYZ8YG0devWTJ069Q23hx9+uNajAQBnqbPiGqTTac6cOZkz\n",
              "Z06txwAAhpERfwQJAGCwBBIAQEEgAQAUBBIAQEEgAQAUBBIAQEEgAQAUBBIAQEEgAQAUBBIAQEEg\n",
              "AQAUBBIAQEEgAQAUBBIAQEEgAQAUBBIAQEEgAQAUBBIAQEEgAQAUBBIAQEEgAQAURtV6gOHsmpmX\n",
              "Zu2X5tV6DABgiDmCBABQEEgAAAWBBABQEEgAAAWBBABQEEgAAAWBBABQEEgAAAWBBABQEEgAAAWB\n",
              "BABQEEgAAAWBBABQEEgAAAWBBABQEEgAAAWBBABQEEgAAAWBBABQEEgAAAWBBABQEEgAAAWBBABQ\n",
              "EEgAAAWBBABQEEgAAAWBBABQEEgAAAWBBABQEEgAAAWBBABQEEgAAAWBBABQEEgAAAWBBABQEEgA\n",
              "AAWBBABQEEgAAAWBBABQEEgAAAWBBABQEEgAAAWBBABQEEgAAAWBBABQEEgAAAWBBABQEEgAAAWB\n",
              "BABQEEgAAAWBBABQEEgAAAWBBABQEEgAAAWBBABQEEgAAAWBBABQEEgAAAWBBABQEEgAAAWBBABQ\n",
              "qKuqqqr1EMPVbZPqsvIqjQkAQ+nyB0/WegRHkAAASgIJAKAgkAAACgIJAKAgkAAACgIJAKAgkAAA\n",
              "CgIJAKAgkAAACgIJAKAgkAAACgIJAKAgkAAACgIJAKAgkAAACqMGuuFNN92Uurq6t/z9N7/5zSEZ\n",
              "CACg1gYcSAsWLDiNYwAAnD0GHEiLFy8+5f6JEyfS0NAw5AMBANTaoK9Bev755zN58uRcdtllSZJn\n",
              "n30299xzz5APBgBQK4MOpDvvvDPr1q3LBz7wgSTJ9OnT8+ijjw75YAAAtTLoQHrttddy9dVX99+v\n",
              "q6vL6NGjh3QoAIBaGnQgjRo1Kj09Pf2faDt06FDq6+uHfDAAgFoZdCD9/u//fhYsWJBXX301n/3s\n",
              "Z9PW1uYaJABgRBnwp9j+x6JFi3LppZdm8+bN6e7uTmdn5ymn3AAAhrtBB1KSzJgxIzNmzBjqWQAA\n",
              "zgoDDqRZs2a97Tdpb9++fUgGAgCotQEH0t13350k2bFjR3bv3p0lS5akrq4uGzduzLRp007bgAAA\n",
              "Z9qAL9KeO3du5s6dm507d+Yf/uEfsmjRovzWb/1Wtm7dmqeeeup0zthvy5YtmTlz5k/c7sEHH/yJ\n",
              "fxrl/vvvz+TJk3PllVemqakpnZ2dQzMkADDsDfoapKNHj55yqu2cc87J0aNHh3SoM2HSpEl5+umn\n",
              "M3bs2Bw6dCjTpk3LL/3SL/V/Q3jpxIkTOXHixCk/O9l3JiYFAM60QX/M/7rrrkt7e3s6OjrS0dGR\n",
              "uXPn5vrrr3/DdnV1dVm1alVaW1szYcKEbNq0KWvWrElzc3MaGxvzxBNP9G/b0dGRpqamNDU1Ze7c\n",
              "uXn55ZeTJD09PVm+fHkaGxvT0tKSHTt2nLKPjo6OtLa2Zvr06bnmmmuyZ8+eAb+O2bNnZ+zYsUmS\n",
              "iy66KBdeeGEOHTr0ltuvWbMmY8eOPeX23P8b8O4AgGFk0IF0//33Z8GCBdm0aVM2bdqUBQsW5L77\n",
              "7nvTbc8777w888wz2bBhQxYtWpRx48Zl165dWb16dVasWJEk2bt3b1asWJHHHnsszz33XGbMmJGl\n",
              "S5cmSdavX5/9+/dn37592blzZ3bv3t3/3E8//XQeeuihPPnkk9m9e3dWrVqVW2655Z2sQb71rW/l\n",
              "P//zP3PVVVe95TYrV67MsWPHTrk1/Z93tDsA4Cw36FNso0aNyh133JHly5cnydt+su3mm29OkjQ3\n",
              "N+f48eNZuHBhkqSlpSUHDhxI8qOLvtvb2zN+/PgkyfLly/P5z38+J0+ezLZt23Lrrbf2/ymTJUuW\n",
              "ZMOGDUmSzZs3Z8+ePWltbe3f39GjR/P6668P6vU8//zzue222/Lwww/nZ37mZ95yu4aGhjQ0NJzy\n",
              "s/pB5yUAMBwM+i3+8OHDmTNnTt773vfmve99b+bNm5cjR4686bbnnntukvT/KZIfv9/b2/umj3m7\n",
              "4Prx31VVlcWLF+e73/1u/+3IkSN5z3veM+DX8sILL2TevHn52te+5ssuAYB+gw6kT3ziE7n66qtz\n",
              "5MiRHDlyJFdffXVuv/32dzzArFmz8vjjj+fw4cNJknXr1mX27Nmpr6/Pddddl87OzvT09KS7uzsb\n",
              "N27sf9z8+fPT2dmZgwcPJkn6+vqya9euAe/3X/7lXzJnzpysX7/+Ta+hAgDevQZ9iu3QoUP5u7/7\n",
              "u/77f/RHf5SpU6e+4wEmT56ce++9N+3t7Ul+dMH0Aw88kCRZtmxZ9u7dm4kTJ+b8889PW1tbnn32\n",
              "2SRJW1tb1q5dm5tuuim9vb3p7u7O3Llz09zcPKD9fvKTn8yxY8fymc98Jp/5zGeSJH/2Z3+WG264\n",
              "4R2/FgBgZKirqqoazAOmTJmSv//7v8+FF16YJHnllVdyww03DOoTZCPFbZPqsvIqFyIBwFC6/MGT\n",
              "tR5h8EeQ7r777kybNi2/8iu/kiR5/PHHc++99w75YAAAtTLoQPrt3/7tTJs2rf97jP7wD/8wkyZN\n",
              "Guq5hsTWrVvzx3/8x2/4+cqVK/s/YQcAUBr0KTb+l1NsADD0zoZTbIN+d3/yySfT0tKSn/3Zn82Y\n",
              "MWPyvve9L2PGjDkdswEA1MSgT7EtW7Ysq1atSktLS//3GwEAjCSDDqQxY8bk4x//+OmYBQDgrDDo\n",
              "U2wf+9jH0tHRke7u7tMxDwBAzQ06kK644oosX74873nPe1JfX59zzjnHqTYAYEQZ9Cm2u+66K5s3\n",
              "b05zc7MwAgBGpEEH0gUXXJBrr732dMwCAHBWGPQptvnz5+fLX/5yfvjDH6arq6v/BgAwUgz6iyLP\n",
              "Oed/m6quri5VVaWuri4nT9b+S53ONF8UCQBD72z4oshBn2Lr6+s7HXMAAJw1HP4AACgIJACAgkAC\n",
              "ACgIJACAgkACACgIJACAgkACACgIJACAgkACACgIJACAgkACACgM+m+x8b/Ov+GuXP6lL9V6DABg\n",
              "iDmCBABQEEgAAAWBBABQEEgAAAWBBABQEEgAAAWBBABQEEgAAAWBBABQEEgAAAWBBABQEEgAAAWB\n",
              "BABQEEgAAAWBBABQEEgAAAWBBABQEEgAAAWBBABQEEgAAAWBBABQEEgAAAWBBABQEEgAAAWBBABQ\n",
              "EEgAAAWBBABQEEgAAAWBBABQEEgAAAWBBABQEEgAAAWBBABQEEgAAAWBBABQEEgAAAWBBABQEEgA\n",
              "AAWBBABQEEgAAAWBBABQEEgAAAWBBABQEEgAAAWBBABQEEgAAAWBBABQEEgAAAWBBABQEEgAAAWB\n",
              "BABQEEgAAAWBBABQEEgAAAWBBABQEEgAAAWBBABQEEgAAAWBBABQEEgAAAWBBABQqKuqqqr1EMPV\n",
              "eTdclfcvnF3rMQBgRPmP275Y6xEcQQIAKAkkAICCQAIAKAgkAICCQAIAKAgkAICCQAIAKAgkAICC\n",
              "QAIAKAgkAICCQAIAKAgkAICCQAIAKAgkAICCQAIAKAgkAICCQAIAKAgkAICCQAIAKAgkAICCQAIA\n",
              "KAgkAICCQAIAKAgkAICCQAIAKAgkAICCQAIAKAy7QNqyZUtmzpz5E7d78MEHs2DBgrfd5tFHH81H\n",
              "PvKRNDQ05FOf+tSQzAcADH+jaj1ALTU2NuZrX/tavvGNb+S1116r9TgAwFnitB5Bqqury6pVq9La\n",
              "2poJEyZk06ZNWbNmTZqbm9PY2Jgnnniif9uOjo40NTWlqakpc+fOzcsvv5wk6enpyfLly9PY2JiW\n",
              "lpbs2LHjlH10dHSktbU106dPzzXXXJM9e/YMeL7LL788U6ZMyahRP7kTT5w4ka6urlNuOVkNeF8A\n",
              "wPBx2k+xnXfeeXnmmWeyYcOGLFq0KOPGjcuuXbuyevXqrFixIkmyd+/erFixIo899liee+65zJgx\n",
              "I0uXLk2SrF+/Pvv378++ffuyc+fO7N69u/+5n3766Tz00EN58skns3v37qxatSq33HLLaXkda9as\n",
              "ydixY0+5dX//yGnZFwBQW6c9kG6++eYkSXNzc44fP56FCxcmSVpaWnLgwIEkyY4dO9Le3p7x48cn\n",
              "SZYvX57t27fn5MmT2bZtW2699daMHj06o0ePzpIlS/qfe/PmzdmzZ09aW1szderU3HnnnTl69Ghe\n",
              "f/31IX8dK1euzLFjx065jf7QuCHfDwBQe6f9GqRzzz03SVJfX/+G+729vW/6mLq6urd8vh//XVVV\n",
              "Wbx4cVavXj1U476lhoaGNDQ0nPrD+reeEwAYvs6KT7HNmjUrjz/+eA4fPpwkWbduXWbPnp36+vpc\n",
              "d9116ezsTE9PT7q7u7Nx48b+x82fPz+dnZ05ePBgkqSvry+7du2qyWsAAEaOs+JTbJMnT869996b\n",
              "9vb2JMlFF12UBx54IEmybNmy7N27NxMnTsz555+ftra2PPvss0mStra2rF27NjfddFN6e3vT3d2d\n",
              "uXPnprm5eUD73bZtWxYvXpyurq5UVZVHHnkkX/nKVzJ//vzT80IBgGGhrqoqH8V6h8674aq8f+Hs\n",
              "Wo8BACPKf9z2xVqPcHacYgMAOJuM+EDaunVrpk6d+obbww8/XOvRAICz1FlxDdLpNGfOnMyZM6fW\n",
              "YwAAw8iIP4IEADBYAgkAoCCQAAAKAgkAoCCQAAAKAgkAoCCQAAAKAgkAoCCQAAAKAgkAoCCQAAAK\n",
              "AgkAoCCQAAAKAgkAoCCQAAAKAgkAoCCQAAAKAgkAoCCQAAAKAgkAoCCQAAAKo2o9wHB2+6S2fOm2\n",
              "L9Z6DABgiDmCBABQEEgAAAWBBABQEEgAAAWBBABQEEgAAAWBBABQEEgAAAWBBABQEEgAAAWBBABQ\n",
              "EEgAAAWBBABQEEgAAAWBBABQEEgAAAWBBABQEEgAAAWBBABQEEgAAAWBBABQEEgAAAWBBABQEEgA\n",
              "AAWBBABQEEgAAAWBBABQEEgAAAWBBABQEEgAAIVRtR5guDpx4kQee+yxnDx5MvX19bUe513j5MmT\n",
              "+ad/+qe0tLRY9zPM2teGda8da18bZ2LdL7nkkvzBH/zB225TV1VVdVr2PsJ1dXVl7NixOXbsWMaM\n",
              "GVPrcd41rHvtWPvasO61Y+1r42xZd6fYAAAKAgkAoCCQAAAKAukdamhoyOc+97k0NDTUepR3Fete\n",
              "O9a+Nqx77Vj72jhb1t1F2gAABUeQAAAKAgkAoCCQAAAKAuknOHDgQGbMmJHLL788V111Vfbt2/em\n",
              "223YsCGNjY257LLLsmzZsvT09JzhSUeWgaz79u3b09LSkokTJ2bSpEm555570tfXV4NpR46B/ntP\n",
              "kqqqcu211+b973//mRtwBBvo2j///POZOXNmrrjiilxxxRX55je/eYYnHVkGsu59fX359Kc/nYkT\n",
              "J6apqSmzZs3K9773vRpMO3J88pOfzIQJE1JXV5fvfve7b7ldTd9bK97WrFmzqo0bN1ZVVVXf+MY3\n",
              "qubm5jds8+///u/VuHHjqiNHjlR9fX3VjTfeWH35y18+w5OOLANZ9927d1f/9m//VlVVVb3++uvV\n",
              "Rz/60f7H8M4MZN3/x5//+Z9XS5curcaOHXtmhhvhBrL2x48frz70oQ9VTz31VFVVVdXb21v98Ic/\n",
              "PJNjjjgDWfe/+Zu/qVpaWqru7u6qqqrqT//0T6tf//VfP5Njjjjf/va3q0OHDlWXXHJJ9Z3vfOdN\n",
              "t6n1e6tAehs/+MEPqve9731VT09PVVVV1dfXV33wgx+sDhw4cMp2a9eurT7xiU/033/00Uerj370\n",
              "o2d01pFkoOteuuOOO6rPfe5zZ2DCkWkw6753796qra2t+t73vieQhsBA1/6BBx6ofvM3f7MWI45I\n",
              "A133TZs2VVOmTKm6urqqvr6+asWKFdVdd91Vi5FHnLcLpFq/tzrF9jYOHTqUcePGZdSoH/1N37q6\n",
              "ulx88cU5ePDgKdsdPHgwl1xySf/9CRMmvGEbBm6g6/7jXnnllTzyyCOZN2/emRpzxBnouvf09GTZ\n",
              "smX56le/6g94DpGBrv0LL7yQhoaGzJs3L1OnTs2tt96aV199tRYjjwgDXfcbb7wxM2fOzIUXXphx\n",
              "48Zl27Zt+fznP1+Lkd9Vav3eKpAY9rq6unLjjTfmnnvuSXNzc63HGfH+5E/+JL/2a7+WK664otaj\n",
              "vOv09vbmW9/6Vr761a/mO9/5TsaPH5/f+73fq/VYI96uXbuyd+/evPzyyzl8+HBmz56d3/3d3631\n",
              "WJxmAultXHTRRTly5Eh6e3uT/Oii1IMHD+biiy8+ZbuLL744L730Uv/9F1988Q3bMHADXfck+a//\n",
              "+q+0t7fnV3/1V/PpT3/6TI86ogx03b/97W/nL//yLzNhwoRcffXV6erqyoQJExzJ+CkM5v81s2bN\n",
              "yvjx41NXV5dFixblH//xH2sx8ogw0HX/+te/3v+BhHPOOSeLFy/Ojh07ajHyu0qt31sF0tu44IIL\n",
              "Mn369HR2diZJ/vqv/zo/93M/lw9/+MOnbPexj30sf/u3f5tXXnklVVVl3bp1WbhwYS1GHhEGuu6v\n",
              "vfZa2tvb097ens9+9rO1GHVEGei6P/XUU3nppZfy4osvZufOnRkzZkxefPHFfOADH6jF2CPCQNf+\n",
              "N37jN/LP//zP6erqSpJs3bo1U6ZMOePzjhQDXfdLL70027dvT3d3d5Jky5YtmTx58hmf992m5u+t\n",
              "Z+xqp2HqX//1X6tf/MVfrBobG6uPfOQj1XPPPVdVVVX9zu/8TrV58+b+7davX19deuml1aWXXlot\n",
              "WbKk/9MOvDMDWfcvfOEL1ahRo6opU6b0377whS/Ucuxhb6D/3v/H97//fRdpD5GBrv3Xv/71atKk\n",
              "SdWVV15Ztbe3VwcPHqzVyCPCQNb9v//7v6ulS5dWv/ALv1BdeeWV1fXXX9//CVremdtvv70aP358\n",
              "VV9fX11wwQXVZZddVlXV2fXe6m+xAQAUnGIDACgIJACAgkACACgIJACAgkACACgIJACAgkACACgI\n",
              "JACAgkACACgIJACAgkACACj8f+UFI88MawtDAAAAAElFTkSuQmCC\n",
              "\">\n",
              "      </div>\n",
              "      <script type=\"text/javascript\">\n",
              "        (() => {\n",
              "          const chartElement = document.getElementById(\"chart-644ad0e6-c073-4788-b0d7-51afc46d7bc1\");\n",
              "          async function getCodeForChartHandler(event) {\n",
              "            const chartCodeResponse =  await google.colab.kernel.invokeFunction(\n",
              "                'getCodeForChart', [\"chart-644ad0e6-c073-4788-b0d7-51afc46d7bc1\"], {});\n",
              "            const responseJson = chartCodeResponse.data['application/json'];\n",
              "            await google.colab.notebook.addCell(responseJson.code, 'code');\n",
              "          }\n",
              "          chartElement.onclick = getCodeForChartHandler;\n",
              "        })();\n",
              "      </script>\n",
              "      <style>\n",
              "        .colab-quickchart-chart-with-code  {\n",
              "            display: block;\n",
              "            float: left;\n",
              "            border: 1px solid transparent;\n",
              "        }\n",
              "\n",
              "        .colab-quickchart-chart-with-code:hover {\n",
              "            cursor: pointer;\n",
              "            border: 1px solid #aaa;\n",
              "        }\n",
              "      </style>"
            ]
          },
          "metadata": {}
        },
        {
          "output_type": "display_data",
          "data": {
            "text/plain": [
              "<google.colab._quickchart_helpers.SectionTitle at 0x7abc4d189950>"
            ],
            "text/html": [
              "<h4 class=\"colab-quickchart-section-title\">2-d distributions</h4>\n",
              "<style>\n",
              "  .colab-quickchart-section-title {\n",
              "      clear: both;\n",
              "  }\n",
              "</style>"
            ]
          },
          "metadata": {}
        },
        {
          "output_type": "display_data",
          "data": {
            "text/plain": [
              "from matplotlib import pyplot as plt\n",
              "model_df.plot(kind='scatter', x='mae', y='mse', s=32, alpha=.8)\n",
              "plt.gca().spines[['top', 'right',]].set_visible(False)"
            ],
            "text/html": [
              "      <div class=\"colab-quickchart-chart-with-code\" id=\"chart-92cdc9f2-aabb-42f4-97e5-825ba90c8ba3\">\n",
              "        <img style=\"width: 180px;\" src=\"data:image/png;base64,iVBORw0KGgoAAAANSUhEUgAAAjUAAAGkCAYAAADJx9TjAAAAOnRFWHRTb2Z0d2FyZQBNYXRwbG90\n",
              "bGliIHZlcnNpb24zLjEwLjAsIGh0dHBzOi8vbWF0cGxvdGxpYi5vcmcvlHJYcgAAAAlwSFlzAAAP\n",
              "YQAAD2EBqD+naQAAGhdJREFUeJzt3X+s1vV99/HXdc4FB50csFiEDg5n3nDIotQjgyNlUesyN9s0\n",
              "1Q69bQkqiw50uW/naBZGsq5ZegvZYmioZrcu29haKtUOp38wmzZrJ3V3KzLFRpIJJxHP0YHHoR4Q\n",
              "8cA557r/cD3pWZnjoOdchw+PR/KNnutznXO9v15+k2e+3+tHpVar1QIAcIZrqPcAAAAfBlEDABRB\n",
              "1AAARRA1AEARRA0AUARRAwAUQdQAAEUQNQBAEc6qqNm0aVO9RwAARslZFTUvv/xyvUcAAEbJWRU1\n",
              "AEC5RA0AUARRAwAUQdQAAEUQNQBAEUQNAFAEUQMAFEHUAABFEDUAQBFEDQBQBFEDAHxg754YyL+/\n",
              "3Zd3TwzUbYZq3R4ZADjjvX6kL1t+vD/feeG1HDsxkHMmNOZTl8zIik/MyQXnNY3pLM7UAACn5fUj\n",
              "ffnfW5/LN5/uytG+/lQbKjna158tT7+c//XQc/n3t/vGdB5RAwCcli0/3p/OniP56HlNOf8XJuYX\n",
              "mqo5/xcm5qPnNaWz50i2/OjlMZ1H1AAAI/buiYF854XXMqnamGrj8JyoNjakqdqYJ/YcHNPX2Iga\n",
              "AGDE3u7rz7ETA5lYPXlKNFUbcuz4QN7u6x+zmUQNADBi5zVVc86ExhzvHzzpel//YM6Z2Jjzmsbu\n",
              "PUmiBgAYsUkTGnPtJRfm3f6B9A8MD5v+gcH09Q/kUxfPyKQJjWM2k7d0AwCn5eZPtObpl95MZ8+R\n",
              "NFUb01RtSF//e0Ezb/rkrPjEnDGdx5kaAOC0XHBeU+5ffllWXD4n502qpn+wlvMmVbPi8jm5b/ll\n",
              "Y/45Nc7UAACn7YLzmnL3NW2545P/I2/39ee8puqYXnL6WaIGAPjAJk1orFvM/JTLTwBAEUQNAFAE\n",
              "UQMAFEHUAABFEDUAQBFEDQBQBFEDABRB1AAARRA1AEARRA0AUARRAwAUQdQAAEUQNQBAEUQNAFAE\n",
              "UQMAFEHUAABFEDUAQBFEDQBQhFGLmnfffTfXX3992tracumll+aaa65JZ2dnkqSnpyfXXntt5s2b\n",
              "l0suuSQ7duwY+r3TXQMAzm6jeqZm1apVefHFF/P888/nuuuuy+23354k+cM//MMsWbIk+/bty+bN\n",
              "m7N8+fKcOHHiA60BAGe3UYuaSZMm5dOf/nQqlUqSZMmSJdm/f3+S5JFHHskdd9yRJFm8eHE+9rGP\n",
              "5cknn/xAa/9ZX19fDh8+PGwbGBgYrd0FAOpszF5Ts2nTplx33XU5dOhQTpw4kRkzZgyttba2pqur\n",
              "67TXTmbDhg2ZMmXKsG3nzp2jt4MAQF2NSdSsX78+nZ2d2bBhw1g8XJJk3bp16e3tHbZ1dHSM2eMD\n",
              "AGNr1KPm3nvvzaOPPponnngi5557bqZNm5ZqtZqDBw8O3Wf//v1paWk57bWTaWpqSnNz87CtsbFx\n",
              "9HYUAKirUY2ajRs3ZuvWrfne976XqVOnDt1+44035oEHHkiSPPPMM3n11Vdz1VVXfaA1AODsVh2t\n",
              "P/zKK6/ki1/8Yi666KJcffXVSd47e/L000/nT//0T3PzzTdn3rx5mThxYrZs2ZIJEyYkyWmvAQBn\n",
              "t0qtVqvVe4ixsmbNmmzcuLHeYwAAo8AnCgMARRA1AEARRA0AUARRAwAUQdQAAEUQNQBAEUQNAFAE\n",
              "UQMAFEHUAABFEDUAQBFEDQBQBFEDABRB1AAARRA1AEARRA0AUARRAwAUQdQAAEUQNQBAEUQNAFAE\n",
              "UQMAFEHUAABFEDUAQBFEDQBQBFEDABRB1AAARRA1AEARRA0AUARRAwAUQdQAAEUQNQBAEUQNAFAE\n",
              "UQMAFEHUAABFEDUAQBFEDQBQBFEDABRB1AAARRA1AEARRA0AUARRAwAUQdQAAEUQNQBAEUQNAFAE\n",
              "UQMAFEHUAABFEDUAQBFEDQBQBFEDABRB1AAARRA1AEARRA0AUARRAwAUQdQAAEUQNQBAEUQNAFAE\n",
              "UQMAFEHUAABFEDUAQBFEDQBQBFEDABRB1AAARRA1AEARRA0AUARRAwAUQdQAAEUQNQBAEUQNAFAE\n",
              "UQMAFEHUAABFGNWoueuuu9La2ppKpZLdu3cP3d7a2pr58+envb097e3tefjhh4fW9u3bl6VLl6at\n",
              "rS2LFy/Onj17TmkNADi7jWrU3HDDDXnqqacyZ86cn1t7+OGHs3v37uzevTs33XTT0O2rV6/OqlWr\n",
              "snfv3qxduzYrV648pTUA4Ow2qlFz5ZVXZtasWad8/56enuzatSsrVqxIkixbtizd3d3p7Ox837WT\n",
              "6evry+HDh4dtAwMDH3ynAIBxqW6vqbnllluyYMGC3HbbbXn99deTJN3d3Zk5c2aq1WqSpFKppKWl\n",
              "JV1dXe+7djIbNmzIlClThm07d+4cm50DAMZcXaJmx44d+clPfpJnn302F1xwQW699dYP/THWrVuX\n",
              "3t7eYVtHR8eH/jgAwPhQrceDtrS0JEkmTJiQu+++O21tbUmS2bNn58CBA+nv70+1Wk2tVktXV1da\n",
              "WlrS3Nz8X66dTFNTU5qamobd1tjYOLo7BgDUzZifqTl69GjeeuutoZ+3bt2ayy67LEkyffr0LFy4\n",
              "MFu2bEmSbNu2LbNmzcrcuXPfdw0AoFKr1Wqj9cdXr16d7du35+DBg5k2bVomT56c7373u1m2bFkG\n",
              "BgZSq9Vy0UUXZdOmTWltbU2SvPjii1m5cmUOHTqU5ubmbN68OQsWLPhv107FmjVrsnHjxtHYVQCg\n",
              "zkY1asYbUQMA5fKJwgBAEUQNAFAEUQMAFEHUAABFEDUAQBFEDQBQBFEDABRB1AAARRA1AEARRA0A\n",
              "UARRAwAUQdQAAEUQNQBAEUQNAFAEUQMAFEHUAABFEDUAQBFEDQBQBFEDABRB1AAARRA1AEARRA0A\n",
              "UARRAwAUQdQAAEUQNQBAEUQNAFAEUQMAFEHUAABFEDUAQBFEDQBQBFEDABRB1AAARRA1AEARRA0A\n",
              "UARRAwAUQdQAAEUQNQBAEUQNAFAEUQMAFEHUAABFEDUAQBFEDQBQBFEDABRB1AAARRA1AEARRA0A\n",
              "UARRAwAUQdQAAEUYcdR0d3fnM5/5TNrb25Mku3fvzle/+tUPey4AgBEZcdSsXr06n//851Or1ZIk\n",
              "l1xySf76r//6Qx8MAGAkRhw1PT09WbFiRRoa3vvVarWaarX6oQ8GADASI46aarU6dJYmSd58881h\n",
              "PwMA1MOIo+bGG2/M6tWrc/jw4fzlX/5lrrnmmtx+++2jMRsAwCkb8XWjL37xi9m6dWt6e3vz3e9+\n",
              "N2vWrMny5ctHYzYAgFN2Wi+G+cIXvpAvfOELqdVqefvttz/smQAARmzEl59uu+22vPXWWzl+/Hja\n",
              "29tz4YUX5s///M9HYzYAgFM24qj5l3/5l0ydOjXf+c53ctlll+XgwYN54IEHRmM2AIBTNuKo+ek7\n",
              "nX74wx/mM5/5TJqbm9PY2PihDwYAMBIjjpoZM2bkzjvvzLe//e38+q//ek6cOJGBgYHRmA0A4JSN\n",
              "OGq++c1vZv78+fnWt76VqVOn5tVXX82aNWtGYzYAgFNWqZ1Fn5y3Zs2abNy4sd5jAACjYMRnanbs\n",
              "2JGOjo585CMfSXNzcyZPnpzm5ubRmA0A4JSN+HNqfud3fif33HNPOjo6vEAYABg3Rhw1zc3NueGG\n",
              "G0ZjFgCA0zbiy0/Lli3LN77xjRw/fnw05gEAOC0jjppf/uVfzu/+7u/mnHPOSWNjYxoaGlyGAgDq\n",
              "bsSXn37/938/jz/+eBYtWiRmAIBxY8RRM3369Pzar/3aaMwCAHDaRnz56bOf/Wzuv//+9PT05PDh\n",
              "w0MbAEA9jThq/uiP/ih33XVXZsyYkfPPPz9Tp07N+eeff9L73nXXXWltbU2lUsnu3buHbt+3b1+W\n",
              "Ll2atra2LF68OHv27PnAawDA2W3EUTM4ODi0DQwMDP3zZG644YY89dRTmTNnzrDbV69enVWrVmXv\n",
              "3r1Zu3ZtVq5c+YHXAICz25h8TUJra2see+yxtLe3p6enJ3Pnzs0bb7yRarWaWq2WmTNn5qmnnkpz\n",
              "c/Nprc2dO/fnHrOvry99fX3DbvvSl76UTZs2jfbuAgB1MOIzNR9Ud3d3Zs6cmWr1vdcoVyqVtLS0\n",
              "pKur67TXTmbDhg2ZMmXKsG3nzp1js5MAwJgb86gZK+vWrUtvb++wraOjo95jAQCjZMRv6f6gZs+e\n",
              "nQMHDqS/v3/oMlJXV1daWlrS3Nx8Wmsn09TUlKampmG3+VwdACjXmJ+pmT59ehYuXJgtW7YkSbZt\n",
              "25ZZs2Zl7ty5p70GADCqLxRevXp1tm/fnoMHD2batGmZPHlyOjs78+KLL2blypU5dOhQmpubs3nz\n",
              "5ixYsCBJTnvtVKxZsyYbN24clX0FAOprTN79NF6IGgAoV7EvFAYAzi6iBgAogqgBAIogagCAIoga\n",
              "AKAIogYAKIKoAQCKIGoAgCKIGgCgCKIGACiCqAEAiiBqAIAiiBoAoAiiBgAogqgBAIogagCAIoga\n",
              "AKAIogYAKIKoAQCKIGoAgCKIGgCgCKIGACiCqAEAiiBqAIAiiBoAoAiiBgAogqgBAIogagCAIoga\n",
              "AKAIogYAKIKoAQCKIGoAgCKIGgCgCKIGACiCqAEAiiBqAIAiiBoAoAiiBgAogqgBAIogagCAIoga\n",
              "AKAIogYAKIKoAQCKIGoAgCKIGgCgCKIGACiCqAEAiiBqAIAiiBoAoAiiBgAogqgBAIogagCAIoga\n",
              "AKAIogYAKIKoAQCKIGoAgCKIGgCgCKIGACiCqAEAiiBqAIAiiBoAoAiiBgAogqgBAIogagCAIoga\n",
              "AKAIogYAKIKoAQCKIGoAgCKIGgCgCHWLmtbW1syfPz/t7e1pb2/Pww8/nCTZt29fli5dmra2tixe\n",
              "vDh79uwZ+p33WwMAzm51PVPz8MMPZ/fu3dm9e3duuummJMnq1auzatWq7N27N2vXrs3KlSuH7v9+\n",
              "awDA2W1cXX7q6enJrl27smLFiiTJsmXL0t3dnc7OzvddO5m+vr4cPnx42DYwMDBm+wIAjK26Rs0t\n",
              "t9ySBQsW5Lbbbsvrr7+e7u7uzJw5M9VqNUlSqVTS0tKSrq6u9107mQ0bNmTKlCnDtp07d47ZvgEA\n",
              "Y6tuUbNjx4785Cc/ybPPPpsLLrggt95664f699etW5fe3t5hW0dHx4f6GADA+FGt1wO3tLQkSSZM\n",
              "mJC77747bW1tmT17dg4cOJD+/v5Uq9XUarV0dXWlpaUlzc3N/+XayTQ1NaWpqWnYbY2NjaO+XwBA\n",
              "fdTlTM3Ro0fz1ltvDf28devWXHbZZZk+fXoWLlyYLVu2JEm2bduWWbNmZe7cue+7BgBQlzM1r732\n",
              "WpYtW5aBgYHUarVcdNFF+frXv54kefDBB7Ny5cqsX78+zc3N2bx589Dvvd8aAHB2q9RqtVq9hxgr\n",
              "a9asycaNG+s9BgAwCsbVW7oBAE6XqAEAiiBqAIAiiBoAoAiiBgAogqgBAIogagCAIogaAKAIogYA\n",
              "KIKoAQCKIGoAgCKIGgCgCKIGACiCqAEAiiBqAIAiiBoAoAiiBgAogqgBAIogagCAIogaAKAIogYA\n",
              "KIKoAQCKIGoAgCKIGgCgCKIGACiCqAEAiiBqAIAiiBoAoAiiBgAogqgBAIogagCAIogaAKAIogYA\n",
              "KIKoAQCKIGoAgCKIGgCgCKIGACiCqAEAiiBqAIAiiBoAoAiiBgAogqgBAIogagCAIogaAKAIogYA\n",
              "KIKoAQCKIGoAgCKIGgCgCKIGACiCqAEAiiBqAIAiiBoAoAiiBgAogqgBAIogagCAIogaAKAIogYA\n",
              "KIKoAQCKIGoAgCKIGgCgCKIGACiCqAEAiiBqAIAiiJoPQe87x7P3tSPpfed4vUcBgLNWtd4DnMn+\n",
              "9cDh/PHjL2T3K70ZHKyloaGSy2ZPzVeuvyRtF06u93gAcFZxpuY0/euBw/mfD/4oz+x/MwMDg0kl\n",
              "GRgYzM6X3sgN//f/Ze9rR+o9IgCcVUTNafrjx1/IkXf7M7GxkonVxkxoaMjEamMmNlZy5N3+fOmx\n",
              "F+o9IgCcVUTNaeh953h2v9KbhkrS0DD8P2FDQ0MaKslz3W95jQ0AjCFRcxpeO9KXwcFaKg2Vk65X\n",
              "GioZHKzltSN9YzwZAJy9zrio2bdvX5YuXZq2trYsXrw4e/bsGfMZLpzclIaGSmqDtZOu1/7jRcMX\n",
              "Tm4a48kA4Ox1xkXN6tWrs2rVquzduzdr167NypUrx3yGKedOTPusKRmsJYODg8PWBgcHM1hLLps9\n",
              "NVPOnTjmswHA2eqMipqenp7s2rUrK1asSJIsW7Ys3d3d6ezsHPNZ/s/nFmTypGqOD9RyvH8gJwYH\n",
              "c7x/IMcHapk8qZqvXH/JmM8EAGezMypquru7M3PmzFSr7328TqVSSUtLS7q6un7uvn19fTl8+PCw\n",
              "bWBg4EObpe3Cyfm7O5em45c+ksbGhqSWNDY2pOOXPpK/u3Opz6kBgDFW7IfvbdiwIX/yJ38y7LYl\n",
              "S5Z8qI/RduHkPLz6E+l953heO9KXCyc3ueQEAHVyRp2pmT17dg4cOJD+/v4kSa1WS1dXV1paWn7u\n",
              "vuvWrUtvb++wraOjY1TmmnLuxLRdOFnQAEAdnVFRM3369CxcuDBbtmxJkmzbti2zZs3K3Llzf+6+\n",
              "TU1NaW5uHrY1NjaO9cgAwBg54y4/Pfjgg1m5cmXWr1+f5ubmbN68ud4jAQDjwBkXNfPnz8+PfvSj\n",
              "eo8BAIwzZ9TlJwCA/4qoAQCKIGoAgCKIGgCgCKIGACiCqAEAiiBqAIAiVGq1Wq3eQ4yV3/qt30pr\n",
              "a2u9xzijDAwMZOfOneno6PCJzGcIz9mZx3N25vGcja05c+bk937v9/7b+51VUcPIHT58OFOmTElv\n",
              "b2+am5vrPQ6nwHN25vGcnXk8Z+OTy08AQBFEDQBQBFEDABRB1PC+mpqa8uUvfzlNTU31HoVT5Dk7\n",
              "83jOzjyes/HJC4UBgCI4UwMAFEHUAABFEDUAQBFEDUPuuuuutLa2plKpZPfu3UO379u3L0uXLk1b\n",
              "W1sWL16cPXv21G9Ihnn33Xdz/fXXp62tLZdeemmuueaadHZ2Jkl6enpy7bXXZt68ebnkkkuyY8eO\n",
              "Ok/LT/3Gb/xGPv7xj6e9vT1XXHFFnnvuuSSOtfFu8+bNqVQqeeyxx5I4xsalGvyHJ598stbd3V2b\n",
              "M2dO7bnnnhu6/eqrr65t3ry5VqvVat/+9rdrixYtqs+A/Jxjx47Vtm/fXhscHKzVarXafffdV7vq\n",
              "qqtqtVqt9tu//du1L3/5y7VarVbbuXNn7Rd/8Rdrx48fr9Ok/Kw333xz6N8fffTR2sc//vFareZY\n",
              "G89eeuml2ic+8YnakiVLan//939fq9UcY+ORMzUMufLKKzNr1qxht/X09GTXrl1ZsWJFkmTZsmXp\n",
              "7u4eOhtAfU2aNCmf/vSnU6lUkiRLlizJ/v37kySPPPJI7rjjjiTJ4sWL87GPfSxPPvlkvUblZ0yd\n",
              "OnXo33t7e1OpVBxr49jg4GBuv/323HfffcPewu0YG3+q9R6A8a27uzszZ85Mtfre/yqVSiUtLS3p\n",
              "6urK3Llz6zwd/9mmTZty3XXX5dChQzlx4kRmzJgxtNba2pqurq46TsfPuuWWW/KDH/wgSfIP//AP\n",
              "jrVxbOPGjfnVX/3V/Mqv/MrQbY6x8UnUQCHWr1+fzs7O/OM//mOOHTtW73H4b3z9619Pkvzt3/5t\n",
              "1q5dm6985St1noiTeeGFF7Jt2zavlzlDuPzE+5o9e3YOHDiQ/v7+JEmtVktXV1daWlrqPBk/6957\n",
              "782jjz6aJ554Iueee26mTZuWarWagwcPDt1n//79nrdx6NZbb80PfvCDzJo1y7E2Dv3whz/M/v37\n",
              "M2/evLS2tubHP/5xVq1alUceecQxNg6JGt7X9OnTs3DhwmzZsiVJsm3btsyaNcvp8HFk48aN2bp1\n",
              "a773ve8Ne63GjTfemAceeCBJ8swzz+TVV1/NVVddVacp+am33nor//Zv/zb082OPPZZp06Y51sap\n",
              "O++8MwcOHMj+/fuzf//+LFmyJH/xF3+RO++80zE2DvmaBIasXr0627dvz8GDBzNt2rRMnjw5nZ2d\n",
              "efHFF7Ny5cocOnQozc3N2bx5cxYsWFDvcUnyyiuvZPbs2bnooosyefLkJO99J83TTz+d1157LTff\n",
              "fHNeeumlTJw4Mffff3+uvvrqOk/Myy+/nBtvvDHHjh1LQ0NDPvrRj+bee+9Ne3u7Y+0M8MlPfjJ3\n",
              "3313rr/+esfYOCRqAIAiuPwEABRB1AAARRA1AEARRA0AUARRAwAUQdQA41alUsk999yTyy+/PK2t\n",
              "rXnssceyYcOGLFq0KPPmzcs//dM/JUn6+/vzm7/5m1m0aFEuvvjiLF++PEePHh36O9/4xjdy+eWX\n",
              "Z+HChbnyyivz/PPP12mPgNEkaoBx7bzzzsvTTz+dv/qrv8qKFSsyc+bM7Nq1K+vXr88f/MEfJEka\n",
              "Gxvz0EMPZdeuXXnhhRcyZcqU3HfffUmSf/7nf87WrVuzY8eOPPvss7nnnnuyfPnyeu4SMEp89xMw\n",
              "rt10001JkkWLFuXo0aP5/Oc/nyTp6OjIvn37krz3lQJf/epXs3379vT396e3tzdLly5Nkjz++ON5\n",
              "/vnnc/nllw/9zTfeeCPHjh3LOeecM8Z7A4wmUQOMa5MmTUry3tmY//zzT78n6aGHHsr3v//9PPnk\n",
              "k2lubs7Xvva1fP/730/yXvDceuutWb9+fR2mB8aSy0/AGe/NN9/MBRdckObm5hw5ciR/8zd/M7T2\n",
              "2c9+Nlu2bElXV1eSZHBwMLt27arTpMBoEjXAGe+WW27JO++8k/nz5+dTn/pUrrjiiqG1K664In/2\n",
              "Z3+Wz33uc7n00ktz8cUX51vf+lYdpwVGi+9+AgCK4EwNAFAEUQMAFEHUAABFEDUAQBFEDQBQBFED\n",
              "ABRB1AAARRA1AEARRA0AUARRAwAU4f8DiE9jo9Re79QAAAAASUVORK5CYII=\n",
              "\">\n",
              "      </div>\n",
              "      <script type=\"text/javascript\">\n",
              "        (() => {\n",
              "          const chartElement = document.getElementById(\"chart-92cdc9f2-aabb-42f4-97e5-825ba90c8ba3\");\n",
              "          async function getCodeForChartHandler(event) {\n",
              "            const chartCodeResponse =  await google.colab.kernel.invokeFunction(\n",
              "                'getCodeForChart', [\"chart-92cdc9f2-aabb-42f4-97e5-825ba90c8ba3\"], {});\n",
              "            const responseJson = chartCodeResponse.data['application/json'];\n",
              "            await google.colab.notebook.addCell(responseJson.code, 'code');\n",
              "          }\n",
              "          chartElement.onclick = getCodeForChartHandler;\n",
              "        })();\n",
              "      </script>\n",
              "      <style>\n",
              "        .colab-quickchart-chart-with-code  {\n",
              "            display: block;\n",
              "            float: left;\n",
              "            border: 1px solid transparent;\n",
              "        }\n",
              "\n",
              "        .colab-quickchart-chart-with-code:hover {\n",
              "            cursor: pointer;\n",
              "            border: 1px solid #aaa;\n",
              "        }\n",
              "      </style>"
            ]
          },
          "metadata": {}
        },
        {
          "output_type": "display_data",
          "data": {
            "text/plain": [
              "<google.colab._quickchart_helpers.SectionTitle at 0x7abc4d189590>"
            ],
            "text/html": [
              "<h4 class=\"colab-quickchart-section-title\">Time series</h4>\n",
              "<style>\n",
              "  .colab-quickchart-section-title {\n",
              "      clear: both;\n",
              "  }\n",
              "</style>"
            ]
          },
          "metadata": {}
        },
        {
          "output_type": "display_data",
          "data": {
            "text/plain": [
              "from matplotlib import pyplot as plt\n",
              "import seaborn as sns\n",
              "def _plot_series(series, series_name, series_index=0):\n",
              "  palette = list(sns.palettes.mpl_palette('Dark2'))\n",
              "  counted = (series['mae']\n",
              "                .value_counts()\n",
              "              .reset_index(name='counts')\n",
              "              .rename({'index': 'mae'}, axis=1)\n",
              "              .sort_values('mae', ascending=True))\n",
              "  xs = counted['mae']\n",
              "  ys = counted['counts']\n",
              "  plt.plot(xs, ys, label=series_name, color=palette[series_index % len(palette)])\n",
              "\n",
              "fig, ax = plt.subplots(figsize=(10, 5.2), layout='constrained')\n",
              "df_sorted = model_df.sort_values('mae', ascending=True)\n",
              "for i, (series_name, series) in enumerate(df_sorted.groupby('model')):\n",
              "  _plot_series(series, series_name, i)\n",
              "  fig.legend(title='model', bbox_to_anchor=(1, 1), loc='upper left')\n",
              "sns.despine(fig=fig, ax=ax)\n",
              "plt.xlabel('mae')\n",
              "_ = plt.ylabel('count()')"
            ],
            "text/html": [
              "      <div class=\"colab-quickchart-chart-with-code\" id=\"chart-65d597ba-9640-44af-b6e6-45f8375d04ac\">\n",
              "        <img style=\"width: 180px;\" src=\"data:image/png;base64,iVBORw0KGgoAAAANSUhEUgAABFQAAAITCAYAAAApcEi+AAAAOnRFWHRTb2Z0d2FyZQBNYXRwbG90\n",
              "bGliIHZlcnNpb24zLjEwLjAsIGh0dHBzOi8vbWF0cGxvdGxpYi5vcmcvlHJYcgAAAAlwSFlzAAAP\n",
              "YQAAD2EBqD+naQAAL8lJREFUeJzt3XuQVPWd//9XDwiiCFqKVwREQIOIqDjeRRMj6Cri3VJUNqKY\n",
              "TUoN6zXfZRPjqrmSEHFFLdYbK2rEVTcak6zGexRZvES8jmFE4z3RQRGQmenfH1bmFzYqfHDGAXw8\n",
              "qrqkuz/d532o6uri6TmnK9VqtRoAAAAAlltNew8AAAAAsKoRVAAAAAAKCSoAAAAAhQQVAAAAgEKC\n",
              "CgAAAEAhQQUAAACgkKACAAAAUEhQAQAAACi02geVSZMmtfcIAAAAwGqmY3sP0NZeeuml9h4BAAAA\n",
              "Wl1TU1M++OCDLFq0qL1HWa107do1Xbp0Wea61T6oAAAAwOrm3XffTX19fZKkUqm07zCrmebm5vTo\n",
              "0SM9e/b81HWCCgAAAKxCPvzww8ydOzddunTJhhtumE6dOokqraRareatt97KW2+9lfXXX/9Tj1QR\n",
              "VAAAAGAV0tDQkJqammy22WZZZ5112nuc1dL8+fPz/vvvf2pQWe0vSgsAAACro5oa/6RvC8t7tI+/\n",
              "fQAAAIBCggoAAADwuZs+fXpqa2uXuW7SpEnZd999P4eJyggqAAAAAIUEFQAAAOBTVSqVnHXWWRk8\n",
              "eHA23XTTXHvttTnnnHOyzTbbpHfv3vnlL3/ZsvaSSy7JgAEDMmDAgOy999754x//mCRZvHhxRo8e\n",
              "nd69e2fbbbfNXXfdtdQ2LrnkkgwePDgDBw7M0KFD8/vf//5z3cdSggoAAACwTF27ds2TTz6ZSy+9\n",
              "NOPGjcsmm2ySOXPm5F//9V9zzjnnJElmzpyZ73znO7nzzjvz/PPPp7a2NmPGjEmS/OQnP0ldXV2e\n",
              "e+65PProo/nDH/7Q8t6/+c1vcsMNN+SRRx7J008/nfPPPz/HHXdce+zmcvOzyQAAAMAy/TWM7LHH\n",
              "Hlm4cGHGjh3bcv/0009P8lEYGTZsWPr27ZskOeOMM9KzZ880NjbmnnvuybHHHps111wzSXL88cfn\n",
              "6quvTpLcfPPNefbZZ7P99tu3bK+hoSHvv//+57R35QQVAAAAYJm6dOmSJOnQoUOSZO21106SdOzY\n",
              "MU1NTR/7mk/7CeK/fa5arebII4/M5MmTW2vcNueUHwAAAKBV7Lfffrn33nszd+7cJMnEiROzyy67\n",
              "pGPHjtlnn30yffr0LF68OIsWLco111zT8rpRo0ZlxowZef7555MkTU1Nuffee9tlH5aXI1QAAACA\n",
              "VlFbW5vzzjsvw4cPT5Jsuummueqqq5Ik48ePz5w5czJgwIB069YtO++8c5588skkyf7775/zzjsv\n",
              "o0aNSlNTU5YsWZJ99903w4YNa69dWaZKtVqttvcQbWn8+PGZOHFie48BAAAAreKtt97Kq6++mn79\n",
              "+rWcdkPrWbBgQerq6rLpppumR48en7jOKT8AAAAAhQQVAAAAgEKCCgAAAEAhQQUAAACgkKACAAAA\n",
              "UEhQAQAAACgkqAAAAAAUElQAAACAldL06dNTW1u7zHWTJk3Kvvvu+6lrrr/++gwcODCdOnXK1772\n",
              "tc88W8fP/A4AAABAu2lubs6CJR+26TbWXqNTampW7WMyvvSlL2Xq1Km57rrrsmDBgs/8foIKAAAA\n",
              "rMIWLPkwX7ruu226jWeO+W7W6bzmp66pVCo588wzc+edd+btt9/OD37wg8yZMyf//d//nffffz+X\n",
              "XHJJDjzwwCTJJZdckkmTJiVJNt100/zHf/xH+vbtm8WLF+fEE0/M/fffn27dumXnnXdeahuXXHJJ\n",
              "LrvssjQ2NmattdbKxRdfnF133XW59mG77bZLktx4442lu/+xVu28BAAAAKw0unbtmieffDKXXnpp\n",
              "xo0bl0022SRz5szJv/7rv+acc85JksycOTPf+c53cuedd+b5559PbW1txowZkyT5yU9+krq6ujz3\n",
              "3HN59NFH84c//KHlvX/zm9/khhtuyCOPPJKnn346559/fo477rj22M0kjlABAACAVdraa3TKM8d8\n",
              "t823sTz+Gkb22GOPLFy4MGPHjm25f/rppyf5KIwMGzYsffv2TZKcccYZ6dmzZxobG3PPPffk2GOP\n",
              "zZprfnQ0zPHHH5+rr746SXLzzTfn2Wefzfbbb9+yvYaGhrz//vutsYvFBBUAAABYhdXU1CzzdJzP\n",
              "S5cuXZIkHTp0SJKsvfbaSZKOHTumqanpY19TqVQ+8f3+9rlqtZojjzwykydPbq1xPxOn/AAAAACf\n",
              "m/322y/33ntv5s6dmySZOHFidtlll3Ts2DH77LNPpk+fnsWLF2fRokW55pprWl43atSozJgxI88/\n",
              "/3ySpKmpKffee2+77EMiqAAAAACfo9ra2px33nkZPnx4BgwYkN///ve56qqrkiTjx49P3759M2DA\n",
              "gOy0004ZNGhQy+v233//nHfeeRk1alS22mqr9O/fP//5n/+53Nu99dZbs9FGG+WKK67IDTfckI02\n",
              "2ijTpk1b4f2oVKvV6gq/ehUwfvz4TJw4sb3HAAAAgFbx1ltv5dVXX02/fv1aTqmh9SxYsCB1dXXZ\n",
              "dNNN06NHj09c5wgVAAAAgEKCCgAAALBauOGGG7L11lv/3e2KK65o9W35lR8AAABgtXDUUUflqKOO\n",
              "+ly25QgVAAAAgEKOUAEAAIBVSMeOH/1TvlqtZjX/nZl21aFDh099XlABAACAVUhNTU0qlUoqlYqg\n",
              "0gaq1WoqlYqgAgAAAKujv0YVWldNzfJdHUVQAQAAgFWUoNJ+XJQWAAAAVmHNzc1pWji/TW/Nzc3t\n",
              "sm/XX399amtrl7nu4osvzle/+tVPXXPBBRekf//+GTBgQAYMGJBLL730M83mCBUAAABYhVUXv58X\n",
              "v75em25jy0vfSbp0a9NttLVtt902Dz/8cNZff/28+OKLGTp0aIYNG5aBAweu0Ps5QgUAAAD4zCqV\n",
              "Ss4555wMHjw4m222WaZNm5Zvf/vbGTRoUHr37p077rijZe2ll17acqTI3nvvnblz5yZJFi9enOOO\n",
              "Oy69e/fO4MGDc/fddy+1jUsvvTSDBw/OwIEDM3To0Dz88MPLPd/IkSOz/vrrJ0m23HLLbLDBBqmv\n",
              "r1/h/XWECgAAAKzCKp27fnQESRtvY3l07do1Tz75ZG677bYcffTR+cEPfpCnnnoqV155Zc4666wc\n",
              "cMABmTVrViZMmJBHH300W2yxRc4555yccMIJue+++/LTn/40dXV1ee6555Ikw4YNa3nv3/72t7n+\n",
              "+uvzyCOPpEuXLvn1r3+d0aNHp66urnh/br311jQ0NGSPPfYofu1fCSoAAACwCqupqVlpTsc54YQT\n",
              "kiS77757Fi5cmBNPPLHl/qmnnpok+fWvf5299947W2yxRZLkn//5nzNx4sQ0Njbm7rvvzrHHHps1\n",
              "11wzSTJmzJhceeWVSZKbb745zzzzTLbffvuW7TU0NGTBggVFM86cOTPjxo3LtGnT0q3biv+9CSoA\n",
              "AABAq+jSpUuSpGPHj3LDWmut1XK/qanpY1+zvL9UVK1Wc+SRR2by5MkrPN/s2bMzatSoTJkyJfvt\n",
              "t98Kv0/iGioAAADA52j48OG55557Wq5fMnHixOy6667p2LFjvvKVr2T69OlZvHhxFi1alGuuuabl\n",
              "dYccckhmzJiRF154IUnS1NSU+++/f7m3+9hjj+Wggw7K5MmTM2rUqM+8H4IKAAAA8LkZOnRozj//\n",
              "/Oy3334ZMGBAHnrooVx11VVJktNPPz19+/bNgAEDUltbm2233bbldcOHD8/555+fUaNGZauttkr/\n",
              "/v0zbdq05d7uN7/5zbz33nv59re/na233jpbb711br755hXej0q1Wq2u8KtXAePHj8/EiRPbewwA\n",
              "AABoFQ0NDXnppZfSr1+/llNqaD0ffPBB6urq0rt373Tv3v0T1zlCBQAAAKCQoAIAAACsFn7xi1+0\n",
              "nM7zt7epU6e2+rb8yg8AAACwWjjiiCNyxBFHfC7bcoQKAAAArEL++pPEzc3N7TzJ6umvf681NZ+e\n",
              "TByhAgAAAKuQDh06pKamJo2NjWlsbFzmP/xZftVqNU1NTalUKi3h6pMIKgAAALCK+WtUWbJkSXuP\n",
              "slrq0KFDKpXKp64RVAAAAGAV1KlTp3Tu3DnVarW9R1ntLCumJK6hAgAAAKusSqWSmpqa1fZ2xx13\n",
              "5Mtf/vIy111zzTU59NBDP3XNpZdemu222y477LBDBg8enMmTJ3/suuWJKYkjVAAAAGCVVq1Ws+TD\n",
              "pjbdxhqdln0KzMpu9OjR+cY3vpEkmT9/fgYNGpQ999wz22+//Qq9n6ACAAAAq7AlHzblX865s023\n",
              "8W/fH5FOnT89IVQqlfzbv/1bbrvttrzxxhv52c9+lmeeeSYzZsxIQ0NDrrjiiuy9995JkmuvvTY/\n",
              "+tGPkiSbb755Lr/88my22WZZsmRJTjvttPz2t7/Neuutlz333HOpbVx77bWZPHlylixZkq5du+bi\n",
              "iy/Odtttt1z70L1795Y/L1iw4DNff8YpPwAAAECr6Nq1ax555JFMnTo1o0ePziabbJJZs2blwgsv\n",
              "zJlnnpkkeeqpp3LmmWfmV7/6VZ588snstttuGTt2bJLk8ssvz3PPPZc5c+bkgQceyOzZs1ve+8EH\n",
              "H8z06dNz3333Zfbs2bngggtyzDHHFM130003ZZtttkmfPn1yxhlnrPDRKYkjVAAAAGCVtkanDvm3\n",
              "749o820sj6OOOipJMnTo0CxYsCBHH310kqS2tjYvvPBCkuR3v/tdRowYkc022yxJ8k//9E/53ve+\n",
              "l6amptx11105/vjj06lTpyTJ1772tUydOjVJcuutt+aJJ57Izjvv3LK9v/zlL1m4cOFy78fhhx+e\n",
              "ww8/PPX19TnkkENy4IEHZquttlru1/8tQQUAAABWYZVKZZmn43xe1lxzzSQf/ezw/73f2Nj4sa/5\n",
              "tGuz/O1z1Wo1J5xwQi688MLPPGefPn2y884755e//OUKBxWn/AAAAACfm3322Sd33nlnXn311STJ\n",
              "lClT8pWvfCUdOnTIvvvum2nTpmXJkiX58MMPc+WVV7a8buTIkZk2bVrmzZuXJGlubs6sWbOWe7tP\n",
              "P/10y5/feuut3H333Rk8ePAK70ebBpVTTz01ffr0SaVSyeOPP/6J66ZOnZr+/ftnyy23zEknnfR3\n",
              "F4apVqv58pe/nHXXXbctxwUAAADa2KBBg/KjH/0oI0aMyODBg3P//ffniiuuSJKcdNJJ6d+/fwYO\n",
              "HJg99tgjQ4YMaXndnnvumR/+8Ic55JBDst1222WbbbbJ9ddfv9zbnTRpUgYOHJghQ4Zk3333zemn\n",
              "n56vfvWrK7wflWq1Wl3hVy/Dfffdl759+2aPPfbILbfcstRfxF/NnTs3u+++e2bPnp2NNtooBx98\n",
              "cIYPH97yU0ZJMnHixDzzzDP5xS9+kXfffbdohvHjx2fixImfcU8AAABg5bBo0aLMnTs3W2yxRcsp\n",
              "NbSe5f37bdMjVPbaa6/07NnzU9fcdNNNGTlyZDbeeONUKpWccsopmT59esvzc+bMyS233JJzzjln\n",
              "mdtbvHhx5s+fv9Stqaltf4sbAAAA+OJp92uozJs3L717926536dPn5bzoZYsWZKTTjopl112WcsF\n",
              "bT7NRRddlO7duy91mzlzZpvNDgAAAKw87rjjjgwZMuTvbjfccEOrb2vluAzwJzjvvPNy6KGH5ktf\n",
              "+lLq6+uXuf7cc8/N+PHjl3pswoQJbTQdAAAAsDI54IADcsABB3wu22r3oNKrV6+8+OKLLffr6+vT\n",
              "q1evJMm9996befPmZfLkyWlsbMz8+fPTp0+fPProo+nRo8ffvVfnzp3TuXPnpR5bniNbAAAAYFXT\n",
              "3Nzc3iOslpb3UrPtHlQOO+yw7LHHHvnud7+bjTbaKFOmTMnRRx+dJLn//vtb1tXX12fIkCHLdaQK\n",
              "AAAArK46deqUmpqavPrqq+nRo0c6deqUSqXS3mOtFqrVat56661UKpWsscYan7q2TYPKuHHjcvvt\n",
              "t+f111/P8OHDs84666Suri5jx47NyJEjM3LkyPTt2zfnnXdedt999yTJ3nvvnXHjxrXlWAAAALDK\n",
              "qqmpyRZbbJHXXnstr776anuPs9qpVCrp2bPnMs94adOfTV4Z+NlkAAAAVkfVajWNjY1+3baVrbHG\n",
              "Gst1+ZB2P+UHAAAAKPfX01KWdWoKbaPdfzYZAAAAYFUjqAAAAAAUElQAAAAACgkqAAAAAIUEFQAA\n",
              "AIBCggoAAABAIUEFAAAAoJCgAgAAAFBIUAEAAAAoJKgAAAAAFBJUAAAAAAoJKgAAAACFBBUAAACA\n",
              "QoIKAAAAQCFBBQAAAKCQoAIAAABQSFABAAAAKCSoAAAAABQSVAAAAAAKCSoAAAAAhQQVAAAAgEKC\n",
              "CgAAAEAhQQUAAACgkKACAAAAUEhQAQAAACgkqAAAAAAUElQAAAAACgkqAAAAAIUEFQAAAIBCggoA\n",
              "AABAIUEFAAAAoJCgAgAAAFBIUAEAAAAoJKgAAAAAFBJUAAAAAAoJKgAAAACFBBUAAACAQoIKAAAA\n",
              "QCFBBQAAAKCQoAIAAABQSFABAAAAKCSoAAAAABQSVAAAAAAKCSoAAAAAhQQVAAAAgEKCCgAAAEAh\n",
              "QQUAAACgkKACAAAAUEhQAQAAACgkqAAAAAAUElQAAAAACgkqAAAAAIUEFQAAAIBCggoAAABAIUEF\n",
              "AAAAoJCgAgAAAFBIUAEAAAAoJKgAAAAAFBJUAAAAAAoJKgAAAACFBBUAAACAQoIKAAAAQCFBBQAA\n",
              "AKCQoAIAAABQSFABAAAAKCSoAAAAABQSVAAAAAAKCSoAAAAAhQQVAAAAgEKCCgAAAEAhQQUAAACg\n",
              "kKACAAAAUEhQAQAAACgkqAAAAAAUElQAAAAACgkqAAAAAIUEFQAAAIBCbRpUTj311PTp0yeVSiWP\n",
              "P/74J66bOnVq+vfvny233DInnXRSlixZkiS5++67U1tbm4EDB2abbbbJWWedlebm5rYcGQAAAGCZ\n",
              "2jSoHH744XnggQfSu3fvT1wzd+7cTJgwIffff3/q6uryxhtv5PLLL0+SrLfeern++uvz9NNP53//\n",
              "93/z0EMP5ZprrmnLkQEAAACWqU2Dyl577ZWePXt+6pqbbropI0eOzMYbb5xKpZJTTjkl06dPT5Js\n",
              "v/326du3b5JkzTXXzJAhQ1JfX/+J77V48eLMnz9/qVtTU1Or7Q8AAABAshJcQ2XevHlLHcHSp0+f\n",
              "zJs37+/Wvf7667npppty4IEHfuJ7XXTRRenevftSt5kzZ7bJ3AAAAMAXV7sHleUxf/78HHTQQTnr\n",
              "rLMydOjQT1x37rnnpqGhYalbbW3t5zgpAAAA8EXQsb0H6NWrV1588cWW+/X19enVq1fL/ffeey8j\n",
              "RozIwQcfnPHjx3/qe3Xu3DmdO3de6rEOHTq07sAAAADAF167H6Fy2GGH5bbbbsvrr7+earWaKVOm\n",
              "5Oijj06SvP/++xkxYkRGjBiRf/mXf2nnSQEAAAA+0qZBZdy4cenZs2deeeWVDB8+PP369UuSjB07\n",
              "NrfddluSpG/fvjnvvPOy++67p1+/funRo0fGjRuXJJk0aVJmzpyZm2++OUOGDMmQIUNywQUXtOXI\n",
              "AAAAAMtUqVar1fYeoi2NHz8+EydObO8xAAAAgNVIu5/yAwAAALCqEVQAAAAACgkqAAAAAIUEFQAA\n",
              "AIBCggoAAABAIUEFAAAAoJCgAgAAAFBIUAEAAAAoJKgAAAAAFBJUAAAAAAoJKgAAAACFBBUAAACA\n",
              "QoIKAAAAQCFBBQAAAKCQoAIAAABQSFABAAAAKCSoAAAAABQSVAAAAAAKCSoAAAAAhQQVAAAAgEKC\n",
              "CgAAAEAhQQUAAACgkKACAAAAUEhQAQAAACgkqAAAAAAUElQAAAAACgkqAAAAAIUEFQAAAIBCggoA\n",
              "AABAIUEFAAAAoJCgAgAAAFBIUAEAAAAoJKgAAAAAFBJUAAAAAAoJKgAAAACFBBUAAACAQoIKAAAA\n",
              "QCFBBQAAAKCQoAIAAABQSFABAAAAKCSoAAAAABQSVAAAAAAKCSoAAAAAhQQVAAAAgEKCCgAAAEAh\n",
              "QQUAAACgkKACAAAAUEhQAQAAACgkqAAAAAAUElQAAAAACgkqAAAAAIUEFQAAAIBCggoAAABAIUEF\n",
              "AAAAoJCgAgAAAFBIUAEAAAAoJKgAAAAAFBJUAAAAAAoJKgAAAACFBBUAAACAQoIKAAAAQCFBBQAA\n",
              "AKCQoAIAAABQSFABAAAAKNRxRV709NNP55VXXkmXLl2y7bbbZt11123lsQAAAABWXssdVN577738\n",
              "+Mc/zhVXXJG11lorG220URYtWpQXX3wxtbW1Ofvss/OVr3ylLWcFAAAAWCksd1DZZ599cvzxx+ex\n",
              "xx7LRhtt1PJ4c3Nz7r///kyZMiV1dXUZN25cmwwKAAAAsLJY7qDy4IMPpnPnzn/3eE1NTYYNG5Zh\n",
              "w4Zl8eLFrTocAAAAwMpouS9K+3ExZUXWAAAAAKzqljuoHHjggXnooYc+9rl33303P/nJT3LZZZe1\n",
              "2mAAAAAAK6vlPuXnwgsvzLnnnpunn346O+20U8tFaZ999tn86U9/yje+8Y187Wtfa8tZAQAAAFYK\n",
              "yx1UBg8enNtvvz0vv/xy7r333rzyyitZa621cuyxx2aPPfZIx44r9AvMAAAAAKuc4gryzjvvZPTo\n",
              "0Us99uSTT2bw4MGtNhQAAADAymy5r6HyV2PGjFmuxwAAAABWV8t9hMqbb76Z119/PQsXLswf/vCH\n",
              "VKvVJElDQ0MWLFjQZgMCAAAArGyWO6hMnz49P/vZz/Lqq69m5MiRLY937949Z511VpsMBwAAALAy\n",
              "Wu6gctppp+W0007L+eefnwkTJrTlTAAAAAArteKL0k6YMCHNzc15/fXX09jY2PJ4r169WnUwAAAA\n",
              "gJVV8UVpr7766qy77rrZdttts+OOO2bHHXfM0KFDP3btqaeemj59+qRSqeTxxx//xPecOnVq+vfv\n",
              "ny233DInnXRSlixZslzPAQAAALSH4qDyve99L48++mj+/Oc/56233spbb72VN99882PXHn744Xng\n",
              "gQfSu3fvT3y/uXPnZsKECbn//vtTV1eXN954I5dffvkynwMAAABoL8VBZYMNNshWW221XGv32muv\n",
              "9OzZ81PX3HTTTRk5cmQ23njjVCqVnHLKKZk+ffoynwMAAABoL8XXUBk1alR+9rOf5Zhjjsmaa67Z\n",
              "8ni3bt1WaIB58+YtdQRLnz59Mm/evGU+93EWL16cxYsXL/VYU1PTCs0FAAAA8EmKj1D5f//v/2X8\n",
              "+PHZeOONs95662XdddfNeuut1xazFbvooovSvXv3pW4zZ85s77EAAACA1UxxUGlubm65NTU1tfx3\n",
              "RfXq1SsvvfRSy/36+vqWXwz6tOc+zrnnnpuGhoalbrW1tSs8GwAAAMDHKQ4qre2www7Lbbfdltdf\n",
              "fz3VajVTpkzJ0UcfvcznPk7nzp3TrVu3pW4dOnT4vHYFAAAA+IIoDio1NTXp0KHD390+zrhx49Kz\n",
              "Z8+88sorGT58ePr165ckGTt2bG677bYkSd++fXPeeedl9913T79+/dKjR4+MGzdumc8BAAAAtJdK\n",
              "tVqtlrxgwYIFLX9euHBhrrnmmjQ1NeXMM89s9eFaw/jx4zNx4sT2HgMAAABYjRQfobL22mu33DbY\n",
              "YIOMHz8+N910U1vMBgAAALBS+szXUHn22Wfz9ttvt8YsAAAAAKuEjqUvWG+99VKpVJIkjY2NSZKL\n",
              "L764dacCAAAAWIkVB5XHH3/8/39xx47ZeOON/ZIOAAAA8IVSHFR69+6dDz74oCWsrLfeellrrbVa\n",
              "ey4AAACAlVZxUHnooYdy2GGHZeONN06SvPHGG5kxY0Z23XXXVh8OAAAAYGVUHFT++qs+u+++e5KP\n",
              "Asu3vvWtPPzww60+HAAAAMDKqPhXfhYuXNgSU5Jkt912y6JFi1p1KAAAAICVWXFQ6dq1a/7nf/6n\n",
              "5f5dd92Vtddeu1WHAgAAAFiZFZ/y8/Of/zyHHnpoyy/7NDc35+abb271wQAAAABWVsVB5dVXX82s\n",
              "WbPyxhtvJEk22mijzJw5s9UHAwAAAFhZFZ/yM2HChPTo0SODBg3KoEGDssEGG2TChAltMRsAAADA\n",
              "Sqk4qPxflUolTU1NrTELAAAAwCqhOKiss846eeihh1ruP/jgg1lnnXVadSgAAACAlVnxNVR++MMf\n",
              "5pBDDsnWW2+dJHnhhRfyX//1X60+GAAAAMDKqjio7LrrrnnmmWfy+9//Pkmy2267Zd11123tuQAA\n",
              "AABWWsVBJUnWW2+9HHDAAa09CwAAAMAq4TNflBYAAADgi0ZQAQAAACgkqAAAAAAUElQAAAAACgkq\n",
              "AAAAAIUEFQAAAIBCggoAAABAIUEFAAAAoJCgAgAAAFBIUAEAAAAoJKgAAAAAFBJUAAAAAAoJKgAA\n",
              "AACFBBUAAACAQoIKAAAAQCFBBQAAAKCQoAIAAABQSFABAAAAKCSoAAAAABQSVAAAAAAKCSoAAAAA\n",
              "hQQVAAAAgEKCCgAAAEAhQQUAAACgkKACAAAAUEhQAQAAACgkqAAAAAAUElQAAAAACgkqAAAAAIUE\n",
              "FQAAAIBCggoAAABAIUEFAAAAoJCgAgAAAFBIUAEAAAAoJKgAAAAAFBJUAAAAAAoJKgAAAACFBBUA\n",
              "AACAQoIKAAAAQCFBBQAAAKCQoAIAAABQSFABAAAAKCSoAAAAABQSVAAAAAAKCSoAAAAAhQQVAAAA\n",
              "gEKCCgAAAEAhQQUAAACgkKACAAAAUEhQAQAAACgkqAAAAAAUElQAAAAACgkqAAAAAIUEFQAAAIBC\n",
              "ggoAAABAIUEFAAAAoJCgAgAAAFBIUAEAAAAoJKgAAAAAFBJUAAAAAAoJKgAAAACFBBUAAACAQm0a\n",
              "VF544YXstttuGTBgQHbaaafMmTPn79Y0NzfnjDPOyKBBg7L11lvnxBNPzIcfftjy/A9+8IMMHDgw\n",
              "Q4YMyS677JKZM2e25cgAAAAAy9SmQWXcuHE5+eST8/zzz+fss8/OmDFj/m7N1KlTM3v27MyePTvP\n",
              "PPNMampqMmnSpCTJ448/nn//93/PzJkz8/jjj+eb3/xmvvnNb7blyAAAAADL1GZB5c0338ysWbMy\n",
              "evToJMlhhx2Wl19+OXV1dUute+KJJ7LvvvumU6dOqVQq2X///XPttdcmSSqVSpYsWZIFCxYkSd59\n",
              "99307NnzE7e5ePHizJ8/f6lbU1NTG+0hAAAA8EXVZkHl5ZdfziabbJKOHTsm+SiO9OrVK/PmzVtq\n",
              "3Y477pjbbrst8+fPz5IlS3LjjTemvr4+SbLddtvlW9/6VrbYYov07NkzP/3pT3PxxRd/4jYvuuii\n",
              "dO/efambU4QAAACA1tbuF6UdM2ZMRowYkWHDhmXYsGEZMGBAS4SZO3dubr755tTV1eWVV17Jt771\n",
              "rRx11FGf+F7nnntuGhoalrrV1tZ+XrsCAAAAfEG0WVDZfPPN89prr6WxsTFJUq1WM2/evPTq1Wup\n",
              "dZVKJd/97nfz2GOP5aGHHsrAgQOzzTbbJElmzJiRbbfdNptuummS5B//8R/z4IMPLnXR2r/VuXPn\n",
              "dOvWbalbhw4d2moXAQAAgC+oNgsqG264YXbYYYdMmzYtyUdxpGfPnunXr99S6xYtWpR33nknSfL2\n",
              "22/n+9//fs4666wkSd++ffPggw/m/fffT5L88pe/zIABA9KpU6e2GhsAAABgmTq25ZtfdtllGTNm\n",
              "TC688MJ069YtV155ZZJk7NixGTlyZEaOHJmGhobsvffeqampSXNzc0477bQcdNBBSZJDDjkkjz76\n",
              "aIYOHZrOnTtn7bXXznXXXdeWIwMAAAAsU6VarVbbe4i2NH78+EycOLG9xwAAAABWI+1+UVoAAACA\n",
              "VY2gAgAAAFBIUAEAAAAoJKgAAAAAFBJUAAAAAAoJKgAAAACFBBUAAACAQoIKAAAAQCFBBQAAAKCQ\n",
              "oAIAAABQSFABAAAAKCSoAAAAABQSVAAAAAAKCSoAAAAAhQQVAAAAgEKCCgAAAEAhQQUAAACgkKAC\n",
              "AAAAUEhQAQAAACgkqAAAAAAUElQAAAAACgkqAAAAAIUEFQAAAIBCggoAAABAIUEFAAAAoJCgAgAA\n",
              "AFBIUAEAAAAoJKgAAAAAFBJUAAAAAAoJKgAAAACFBBUAAACAQoIKAAAAQCFBBQAAAKCQoAIAAABQ\n",
              "SFABAAAAKCSoAAAAABQSVAAAAAAKCSoAAAAAhQQVAAAAgEKCCgAAAEAhQQUAAACgkKACAAAAUEhQ\n",
              "AQAAACgkqAAAAAAUElQAAAAACgkqAAAAAIUEFQAAAIBCggoAAABAIUEFAAAAoJCgAgAAAFBIUAEA\n",
              "AAAoJKgAAAAAFBJUAAAAAAoJKgAAAACFBBUAAACAQoIKAAAAQCFBBQAAAKCQoAIAAABQSFABAAAA\n",
              "KCSoAAAAABQSVAAAAAAKCSoAAAAAhQQVAAAAgEKCCgAAAEAhQQUAAACgkKACAAAAUEhQAQAAACgk\n",
              "qAAAAAAUElQAAAAACgkqAAAAAIUEFQAAAIBCggoAAABAIUEFAAAAoJCgAgAAAFBIUAEAAAAoJKgA\n",
              "AAAAFBJUAAAAAAoJKgAAAACF2jSovPDCC9ltt90yYMCA7LTTTpkzZ87frWlubs4ZZ5yRQYMGZeut\n",
              "t86JJ56YDz/8sOX5efPm5aCDDspWW22VgQMH5uKLL27LkQEAAACWqU2Dyrhx43LyySfn+eefz9ln\n",
              "n50xY8b83ZqpU6dm9uzZmT17dp555pnU1NRk0qRJSZJqtZpDDjkkxx9/fJ577rk8/fTTOfLII9ty\n",
              "ZAAAAIBlarOg8uabb2bWrFkZPXp0kuSwww7Lyy+/nLq6uqXWPfHEE9l3333TqVOnVCqV7L///rn2\n",
              "2muTJHfddVc6d+6cI444omX9Rhtt9InbXLx4cebPn7/UrampqQ32DgAAAPgia7Og8vLLL2eTTTZJ\n",
              "x44dkySVSiW9evXKvHnzllq344475rbbbsv8+fOzZMmS3Hjjjamvr0+SPP300+nRo0eOPvrobL/9\n",
              "9jnkkEPyxz/+8RO3edFFF6V79+5L3WbOnNlWuwgAAAB8QbX7RWnHjBmTESNGZNiwYRk2bFgGDBjQ\n",
              "EmEaGxtz9913Z8KECXnssccyfPjwTz3l59xzz01DQ8NSt9ra2s9rVwAAAIAviDYLKptvvnlee+21\n",
              "NDY2Jvnoeijz5s1Lr169llpXqVTy3e9+N4899lgeeuihDBw4MNtss02SpFevXtl+++1b7h933HGZ\n",
              "PXt2lixZ8rHb7Ny5c7p167bUrUOHDm21iwAAAMAXVJsFlQ033DA77LBDpk2bliSZMWNGevbsmX79\n",
              "+i21btGiRXnnnXeSJG+//Xa+//3v56yzzkqS7L///nnllVfypz/9KUlyxx135Etf+lLWWGONthob\n",
              "AAAAYJk6tuWbX3bZZRkzZkwuvPDCdOvWLVdeeWWSZOzYsRk5cmRGjhyZhoaG7L333qmpqUlzc3NO\n",
              "O+20HHTQQUmStddeO1OmTMk//MM/pFqtpnv37rn++uvbcmQAAACAZapUq9Vqew/RlsaPH5+JEye2\n",
              "9xgAAADAaqTdL0oLAAAAsKoRVAAAAAAKCSoAAAAAhQQVAAAAgEKCCgAAAEAhQQUAAACgkKACAAAA\n",
              "UEhQAQAAACgkqAAAAAAUElQAAAAACgkqAAAAAIUEFQAAAIBCggoAAABAIUEFAAAAoJCgAgAAAFBI\n",
              "UAEAAAAoJKgAAAAAFBJUAAAAAAoJKgAAAACFBBUAAACAQoIKAAAAQCFBBQAAAKCQoAIAAABQSFAB\n",
              "AAAAKCSoAAAAABQSVAAAAAAKCSoAAAAAhQQVAAAAgEKCCgAAAEAhQQUAAACgkKACAAAAUEhQAQAA\n",
              "ACgkqAAAAAAUElQAAAAACgkqAAAAAIUEFQAAAIBCggoAAABAIUEFAAAAoJCgAgAAAFBIUAEAAAAo\n",
              "JKgAAAAAFBJUAAAAAAoJKgAAAACFBBUAAACAQoIKAAAAQCFBBQAAAKCQoAIAAABQSFABAAAAKCSo\n",
              "AAAAABQSVAAAAAAKCSoAAAAAhQQVAAAAgEKCCgAAAEAhQQUAAACgkKACAAAAUEhQAQAAACgkqAAA\n",
              "AAAUElQAAAAACgkqAAAAAIUEFQAAAIBClWq1Wm3vIdrSoYcemj59+rT3GKzimpqaMnPmzNTW1qZD\n",
              "hw7tPQ6scnyGYMX5/MCK8/lhVdW7d++cdtpp7T0Gy7DaBxVoDfPnz0/37t3T0NCQbt26tfc4sMrx\n",
              "GYIV5/MDK87nB2hLTvkBAAAAKCSoAAAAABQSVAAAAAAKCSqwHDp37pzvfOc76dy5c3uPAqsknyFY\n",
              "cT4/sOJ8foC25KK0AAAAAIUcoQIAAABQSFABAAAAKCSoAAAAABQSVOBjnHrqqenTp08qlUoef/zx\n",
              "lsdfeOGF7LbbbhkwYEB22mmnzJkzp/2GhJXQokWLMmrUqAwYMCDbbbddvvrVr6auri5J8uabb2bE\n",
              "iBHp379/Bg0alPvuu6+dp4WVz3777ZfBgwdnyJAh2XPPPfPYY48l8f0DJa688spUKpXccsstSXz/\n",
              "AG1HUIGPcfjhh+eBBx5I7969l3p83LhxOfnkk/P888/n7LPPzpgxY9pnQFiJnXzyyXnuuefyxBNP\n",
              "5OCDD87YsWOTJOecc0522WWXvPDCC7nyyitzzDHHZMmSJe08Laxcbrzxxjz55JN5/PHHM378+Jbv\n",
              "Gd8/sHzq6+tzxRVXZJdddml5zPcP0FYEFfgYe+21V3r27LnUY2+++WZmzZqV0aNHJ0kOO+ywvPzy\n",
              "yy3/9x1I1lxzzRxwwAGpVCpJkl122SX19fVJPvqH4imnnJIk2WmnnbLpppvm3nvvba9RYaW07rrr\n",
              "tvy5oaEhlUrF9w8sp+bm5owdOzYXX3zxUj+T7PsHaCsd23sAWFW8/PLL2WSTTdKx40cfm0qlkl69\n",
              "emXevHnp169fO08HK6dJkybl4IMPzp///OcsWbIkG2+8cctzffr0ybx589pxOlg5HX/88fnd736X\n",
              "JLnjjjt8/8BymjhxYnbffffsuOOOLY/5/gHakqACQJu48MILU1dXl7vuuisLFy5s73FglXHNNdck\n",
              "Sa6++uqcffbZOf/889t5Ilj5PfXUU5kxY4browCfK6f8wHLafPPN89prr6WxsTFJUq1WM2/evPTq\n",
              "1audJ4OVz49//OPcfPPN+dWvfpW11lor66+/fjp27JjXX3+9ZU19fb3PD3yKE044Ib/73e/Ss2dP\n",
              "3z+wDPfff3/q6+vTv3//9OnTJw8//HBOPvnk3Hjjjb5/gDYjqMBy2nDDDbPDDjtk2rRpSZIZM2ak\n",
              "Z8+eDreG/2PixImZPn16fvvb3y51PYgjjjgiU6ZMSZI8+uij+dOf/pRhw4a105Sw8nn33Xfz6quv\n",
              "tty/5ZZbsv766/v+geXw9a9/Pa+99lrq6+tTX1+fXXbZJZdffnm+/vWv+/4B2kylWq1W23sIWNmM\n",
              "Gzcut99+e15//fWsv/76WWeddVJXV5fnnnsuY8aMyZ///Od069YtV155Zbbddtv2HhdWGq+88ko2\n",
              "33zz9O3bN+uss06SpHPnznnkkUfyxhtv5LjjjsvcuXPTqVOnTJ48Ofvss087Twwrj5deeilHHHFE\n",
              "Fi5cmJqamvTo0SM//vGPM2TIEN8/UGjvvffO6aefnlGjRvn+AdqMoAIAAABQyCk/AAAAAIUEFQAA\n",
              "AIBCggoAAABAIUEFAAAAoJCgAgAAAFBIUAEAWlQqlVxwwQXZeeed06dPn9xyyy256KKLMnTo0PTv\n",
              "3z/33HNPkqSxsTHDhw/P0KFDs8022+SYY47JggULWt7n2muvzc4775wddtghe+21V5544ol22iMA\n",
              "gLYhqAAAS+natWseeeSRTJ06NaNHj84mm2ySWbNm5cILL8yZZ56ZJOnQoUOuu+66zJo1K0899VS6\n",
              "d++eiy++OEny4IMPZvr06bnvvvsye/bsXHDBBTnmmGPac5cAAFpdx/YeAABYuRx11FFJkqFDh2bB\n",
              "ggU5+uijkyS1tbV54YUXkiTVajU//elPc/vtt6exsTENDQ3ZbbfdkiS33nprnnjiiey8884t7/mX\n",
              "v/wlCxcuTJcuXT7nvQEAaBuCCgCwlDXXXDPJR0eh/N/7jY2NSZLrrrsud999d+69995069YtP//5\n",
              "z3P33Xcn+Si2nHDCCbnwwgvbYXoAgM+HU34AgGLvvPNONthgg3Tr1i3vvfderrrqqpbnRo4cmWnT\n",
              "pmXevHlJkubm5syaNaudJgUAaBuCCgBQ7Pjjj88HH3yQrbbaKvvvv3/23HPPluf23HPP/PCHP8wh\n",
              "hxyS7bbbLttss02uv/76dpwWAKD1VarVarW9hwAAAABYlThCBQAAAKCQoAIAAABQSFABAAAAKCSo\n",
              "AAAAABQSVAAAAAAKCSoAAAAAhQQVAAAAgEKCCgAAAEAhQQUAAACgkKACAAAAUOj/Axhc27rzqqb6\n",
              "AAAAAElFTkSuQmCC\n",
              "\">\n",
              "      </div>\n",
              "      <script type=\"text/javascript\">\n",
              "        (() => {\n",
              "          const chartElement = document.getElementById(\"chart-65d597ba-9640-44af-b6e6-45f8375d04ac\");\n",
              "          async function getCodeForChartHandler(event) {\n",
              "            const chartCodeResponse =  await google.colab.kernel.invokeFunction(\n",
              "                'getCodeForChart', [\"chart-65d597ba-9640-44af-b6e6-45f8375d04ac\"], {});\n",
              "            const responseJson = chartCodeResponse.data['application/json'];\n",
              "            await google.colab.notebook.addCell(responseJson.code, 'code');\n",
              "          }\n",
              "          chartElement.onclick = getCodeForChartHandler;\n",
              "        })();\n",
              "      </script>\n",
              "      <style>\n",
              "        .colab-quickchart-chart-with-code  {\n",
              "            display: block;\n",
              "            float: left;\n",
              "            border: 1px solid transparent;\n",
              "        }\n",
              "\n",
              "        .colab-quickchart-chart-with-code:hover {\n",
              "            cursor: pointer;\n",
              "            border: 1px solid #aaa;\n",
              "        }\n",
              "      </style>"
            ]
          },
          "metadata": {}
        },
        {
          "output_type": "display_data",
          "data": {
            "text/plain": [
              "from matplotlib import pyplot as plt\n",
              "import seaborn as sns\n",
              "def _plot_series(series, series_name, series_index=0):\n",
              "  palette = list(sns.palettes.mpl_palette('Dark2'))\n",
              "  counted = (series['mse']\n",
              "                .value_counts()\n",
              "              .reset_index(name='counts')\n",
              "              .rename({'index': 'mse'}, axis=1)\n",
              "              .sort_values('mse', ascending=True))\n",
              "  xs = counted['mse']\n",
              "  ys = counted['counts']\n",
              "  plt.plot(xs, ys, label=series_name, color=palette[series_index % len(palette)])\n",
              "\n",
              "fig, ax = plt.subplots(figsize=(10, 5.2), layout='constrained')\n",
              "df_sorted = model_df.sort_values('mse', ascending=True)\n",
              "for i, (series_name, series) in enumerate(df_sorted.groupby('model')):\n",
              "  _plot_series(series, series_name, i)\n",
              "  fig.legend(title='model', bbox_to_anchor=(1, 1), loc='upper left')\n",
              "sns.despine(fig=fig, ax=ax)\n",
              "plt.xlabel('mse')\n",
              "_ = plt.ylabel('count()')"
            ],
            "text/html": [
              "      <div class=\"colab-quickchart-chart-with-code\" id=\"chart-aca8a62a-7cde-482a-9b11-b824a3ca60f8\">\n",
              "        <img style=\"width: 180px;\" src=\"data:image/png;base64,iVBORw0KGgoAAAANSUhEUgAABFQAAAITCAYAAAApcEi+AAAAOnRFWHRTb2Z0d2FyZQBNYXRwbG90\n",
              "bGliIHZlcnNpb24zLjEwLjAsIGh0dHBzOi8vbWF0cGxvdGxpYi5vcmcvlHJYcgAAAAlwSFlzAAAP\n",
              "YQAAD2EBqD+naQAAL8lJREFUeJzt3Xu0lnWd///XvUHwgKBLEQ8IiLA1BATFbR4SLRN0FPHsyhN5\n",
              "iH7VUmPUtBlSc9SOFCOOqIuxlAlNZcpJxzQdD6kJDpKGx20gmie0hCTAfbh/f7Ta3xjl8MG92YCP\n",
              "x1r3yvu+r/u+3herz0Kf67quu1KtVqsBAAAAYLXVtPcAAAAAAOsbQQUAAACgkKACAAAAUEhQAQAA\n",
              "ACgkqAAAAAAUElQAAAAACgkqAAAAAIUEFQAAAIBCG3xQmThxYnuPAAAAAGxgOrb3AG3t5Zdfbu8R\n",
              "AAAAoNU1NTXlL3/5S5YuXdreo2xQunTpkk022WSV223wQQUAAAA2NO+++27mzZuXJKlUKu07zAam\n",
              "ubk53bt3T8+ePVe6naACAAAA65H3338/c+fOzSabbJJtttkmnTp1ElVaSbVazYIFC7JgwYJstdVW\n",
              "Kz1TRVABAACA9cjChQtTU1OTHXbYIZtvvnl7j7NBWrRoUd57772VBpUN/qa0AAAAsCGqqfGf9G1h\n",
              "dc/28acPAAAAUEhQAQAAANa6adOmpa6ubpXbTZw4MQcffPBamKiMoAIAAABQSFABAAAAVqpSqeSC\n",
              "Cy7I4MGDs/322+emm27KhRdemN122y29e/fOL37xi5Ztr7766tTW1qa2tjYHHnhgfv/73ydJli1b\n",
              "lpNPPjm9e/fOoEGDct999y23j6uvvjqDBw/OgAEDMmzYsDz22GNr9RhLCSoAAADAKnXp0iVPPfVU\n",
              "rrnmmowdOzbbbbdd5syZk2984xu58MILkyQzZszIxRdfnLvvvjsvvPBC6urqMmbMmCTJ97///dTX\n",
              "1+f555/PzJkz8/TTT7d89z333JNbbrkljz/+eJ555plcdtllOeWUU9rjMFebn00GAAAAVulvYWT/\n",
              "/ffPkiVLcuaZZ7Y8P/fcc5P8NYwMHz48ffv2TZKcd9556dmzZxobG/PAAw/kpJNOysYbb5wkOfXU\n",
              "U/PjH/84STJ9+vQ899xzGTp0aMv+Fi5cmPfee28tHV05QQUAAABYpU022SRJ0qFDhyTJZpttliTp\n",
              "2LFjmpqaPvQzK/sJ4r9/r1qt5vjjj8+kSZNaa9w255IfAAAAoFUccsghefDBBzN37twkyYQJE/LJ\n",
              "T34yHTt2zEEHHZRp06Zl2bJlWbp0aW688caWz40ePTq33357XnjhhSRJU1NTHnzwwXY5htXlDBUA\n",
              "AACgVdTV1eXSSy/NiBEjkiTbb799fvSjHyVJxo0blzlz5qS2tjZdu3bN3nvvnaeeeipJcuihh+bS\n",
              "Sy/N6NGj09TUlIaGhhx88MEZPnx4ex3KKlWq1Wq1vYdoS+PGjcuECRPaewwAAABoFQsWLMhrr72W\n",
              "fv36tVx2Q+tZvHhx6uvrs/3226d79+4r3M4lPwAAAACFBBUAAACAQoIKAAAAQCFBBQAAAKCQoAIA\n",
              "AABQSFABAAAAKCSoAAAAABQSVAAAAIB10rRp01JXV7fK7SZOnJiDDz54pdvcfPPNGTBgQDp16pTT\n",
              "Tz/9I8/W8SN/AwAAANBumpubs7jh/Tbdx2YbdUpNzfp9TsYnPvGJTJkyJT/5yU+yePHij/x9ggoA\n",
              "AACsxxY3vJ9P/OSSNt3Hs5+7JJt33nil21QqlZx//vm5++678/bbb+fb3/525syZk//6r//Ke++9\n",
              "l6uvvjqHH354kuTqq6/OxIkTkyTbb799/v3f/z19+/bNsmXLcsYZZ+Thhx9O165ds/feey+3j6uv\n",
              "vjrXXnttGhsbs+mmm+aqq67KPvvss1rHsPvuuydJfvrTn5Ye/odav/MSAAAAsM7o0qVLnnrqqVxz\n",
              "zTUZO3Zstttuu8yZMyff+MY3cuGFFyZJZsyYkYsvvjh33313XnjhhdTV1WXMmDFJku9///upr6/P\n",
              "888/n5kzZ+bpp59u+e577rknt9xySx5//PE888wzueyyy3LKKae0x2EmcYYKAAAArNc226hTnv3c\n",
              "JW2+j9XxtzCy//77Z8mSJTnzzDNbnp977rlJ/hpGhg8fnr59+yZJzjvvvPTs2TONjY154IEHctJJ\n",
              "J2Xjjf96Nsypp56aH//4x0mS6dOn57nnnsvQoUNb9rdw4cK89957rXGIxQQVAAAAWI/V1NSs8nKc\n",
              "tWWTTTZJknTo0CFJstlmmyVJOnbsmKampg/9TKVSWeH3/f171Wo1xx9/fCZNmtRa434kLvkBAAAA\n",
              "1ppDDjkkDz74YObOnZskmTBhQj75yU+mY8eOOeiggzJt2rQsW7YsS5cuzY033tjyudGjR+f222/P\n",
              "Cy+8kCRpamrKgw8+2C7HkAgqAAAAwFpUV1eXSy+9NCNGjEhtbW0ee+yx/OhHP0qSjBs3Ln379k1t\n",
              "bW322muvDBw4sOVzhx56aC699NKMHj06u+yyS/r375//+I//WO39/vznP0+PHj1y/fXX55ZbbkmP\n",
              "Hj0yderUNT6OSrVara7xp9cD48aNy4QJE9p7DAAAAGgVCxYsyGuvvZZ+/fq1XFJD61m8eHHq6+uz\n",
              "/fbbp3v37ivczhkqAAAAAIUEFQAAAGCDcMstt2TXXXf9wOP6669v9X35lR8AAABgg3DCCSfkhBNO\n",
              "WCv7coYKAAAAQCFnqAAAAMB6pGPHv/6nfLVazQb+OzPtqkOHDit9X1ABAACA9UhNTU0qlUoqlYqg\n",
              "0gaq1WoqlYqgAgAAABuiv0UVWldNzerdHUVQAQAAgPWUoNJ+3JQWAAAA1mPNzc1pWrKoTR/Nzc3t\n",
              "cmw333xz6urqVrndVVddlc9+9rMr3ebyyy9P//79U1tbm9ra2lxzzTUfaTZnqAAAAMB6rLrsvbz0\n",
              "/23ZpvvY+Zo/JZt0bdN9tLVBgwblN7/5Tbbaaqu89NJLGTZsWIYPH54BAwas0fc5QwUAAAD4yCqV\n",
              "Si688MIMHjw4O+ywQ6ZOnZqvf/3rGThwYHr37p277rqrZdtrrrmm5UyRAw88MHPnzk2SLFu2LKec\n",
              "ckp69+6dwYMH5/77719uH9dcc00GDx6cAQMGZNiwYfnNb36z2vONGjUqW221VZJk5513ztZbb515\n",
              "8+at8fE6QwUAAADWY5XOXf56Bkkb72N1dOnSJU899VTuuOOOnHjiifn2t7+d3/3ud7nhhhtywQUX\n",
              "5LDDDssTTzyR8ePHZ+bMmdlpp51y4YUX5rTTTstDDz2UH/zgB6mvr8/zzz+fJBk+fHjLd9977725\n",
              "+eab8/jjj2eTTTbJL3/5y5x88smpr68vPp6f//znWbhwYfbff//iz/6NoAIAAADrsZqamnXmcpzT\n",
              "TjstSbLffvtlyZIlOeOMM1qen3322UmSX/7ylznwwAOz0047JUn+8R//MRMmTEhjY2Puv//+nHTS\n",
              "Sdl4442TJGPGjMkNN9yQJJk+fXqeffbZDB06tGV/CxcuzOLFi4tmnDFjRsaOHZupU6ema9c1/3MT\n",
              "VAAAAIBWsckmmyRJOnb8a27YdNNNW543NTV96GdW95eKqtVqjj/++EyaNGmN55s1a1ZGjx6dyZMn\n",
              "55BDDlnj70ncQwUAAABYi0aMGJEHHnig5f4lEyZMyD777JOOHTvmM5/5TKZNm5Zly5Zl6dKlufHG\n",
              "G1s+d9RRR+X222/Piy++mCRpamrKww8/vNr7ffLJJ3PEEUdk0qRJGT169Ec+DkEFAAAAWGuGDRuW\n",
              "yy67LIccckhqa2vz6KOP5kc/+lGS5Nxzz03fvn1TW1uburq6DBo0qOVzI0aMyGWXXZbRo0dnl112\n",
              "Sf/+/TN16tTV3u9XvvKV/PnPf87Xv/717Lrrrtl1110zffr0NT6OSrVara7xp9cD48aNy4QJE9p7\n",
              "DAAAAGgVCxcuzMsvv5x+/fq1XFJD6/nLX/6S+vr69O7dO926dVvhds5QAQAAACgkqAAAAAAbhFtv\n",
              "vbXlcp6/f0yZMqXV9+VXfgAAAIANwnHHHZfjjjturezLGSoAAACwHvnbTxI3Nze38yQbpr/9udbU\n",
              "rDyZOEMFAAAA1iMdOnRITU1NGhsb09jYuMr/8Gf1VavVNDU1pVKptISrFRFUAAAAYD3zt6jS0NDQ\n",
              "3qNskDp06JBKpbLSbQQVAAAAWA916tQpnTt3TrVabe9RNjiriimJe6gAAADAeqtSqaSmpmaDfdx1\n",
              "11359Kc/vcrtbrzxxhx99NEr3eaaa67J7rvvnj322CODBw/OpEmTPnS71YkpiTNUAAAAYL1WrVbT\n",
              "8H5Tm+5jo06rvgRmXXfyySfny1/+cpJk0aJFGThwYD71qU9l6NCha/R9ggoAAACsxxreb8o/X3h3\n",
              "m+7jX741Mp06rzwhVCqV/Mu//EvuuOOOvPnmm/nhD3+YZ599NrfffnsWLlyY66+/PgceeGCS5Kab\n",
              "bsp3v/vdJMmOO+6Y6667LjvssEMaGhpyzjnn5N57782WW26ZT33qU8vt46abbsqkSZPS0NCQLl26\n",
              "5Kqrrsruu+++WsfQrVu3ln9evHjxR77/jEt+AAAAgFbRpUuXPP7445kyZUpOPvnkbLfddnniiSdy\n",
              "xRVX5Pzzz0+S/O53v8v555+f//7v/85TTz2VfffdN2eeeWaS5Lrrrsvzzz+fOXPm5Ne//nVmzZrV\n",
              "8t2PPPJIpk2bloceeiizZs3K5Zdfns997nNF8912223Zbbfd0qdPn5x33nlrfHZK4gwVAAAAWK9t\n",
              "1KlD/uVbI9t8H6vjhBNOSJIMGzYsixcvzoknnpgkqaury4svvpgk+Z//+Z+MHDkyO+ywQ5LkS1/6\n",
              "Ur75zW+mqakp9913X0499dR06tQpSXL66adnypQpSZKf//zn+e1vf5u99967ZX9//OMfs2TJktU+\n",
              "jmOPPTbHHnts5s2bl6OOOiqHH354dtlll9X+/N8TVAAAAGA9VqlUVnk5ztqy8cYbJ/nrzw7/3+eN\n",
              "jY0f+pmV3Zvl79+rVqs57bTTcsUVV3zkOfv06ZO99947v/jFL9Y4qLjkBwAAAFhrDjrooNx99915\n",
              "7bXXkiSTJ0/OZz7zmXTo0CEHH3xwpk6dmoaGhrz//vu54YYbWj43atSoTJ06NfPnz0+SNDc354kn\n",
              "nljt/T7zzDMt/7xgwYLcf//9GTx48BofR5sGlbPPPjt9+vRJpVLJ7NmzV7jdlClT0r9//+y88845\n",
              "66yzPnBjmGq1mk9/+tPZYost2nJcAAAAoI0NHDgw3/3udzNy5MgMHjw4Dz/8cK6//vokyVlnnZX+\n",
              "/ftnwIAB2X///TNkyJCWz33qU5/Kd77znRx11FHZfffds9tuu+Xmm29e7f1OnDgxAwYMyJAhQ3Lw\n",
              "wQfn3HPPzWc/+9k1Po5KtVqtrvGnV+Ghhx5K3759s//+++dnP/vZcn8QfzN37tzst99+mTVrVnr0\n",
              "6JEjjzwyI0aMaPkpoySZMGFCnn322dx666159913i2YYN25cJkyY8BGPBAAAANYNS5cuzdy5c7PT\n",
              "Tju1XFJD61ndP982PUPlgAMOSM+ePVe6zW233ZZRo0Zl2223TaVSyRe/+MVMmzat5f05c+bkZz/7\n",
              "WS688MJV7m/ZsmVZtGjRco+mprb9LW4AAADg46fd76Eyf/789O7du+V5nz59Wq6HamhoyFlnnZVr\n",
              "r7225YY2K3PllVemW7duyz1mzJjRZrMDAAAA64677rorQ4YM+cDjlltuafV9rRu3AV6BSy+9NEcf\n",
              "fXQ+8YlPZN68eavc/qKLLsq4ceOWe238+PFtNB0AAACwLjnssMNy2GGHrZV9tXtQ6dWrV1566aWW\n",
              "5/PmzUuvXr2SJA8++GDmz5+fSZMmpbGxMYsWLUqfPn0yc+bMdO/e/QPf1blz53Tu3Hm511bnzBYA\n",
              "AABY3zQ3N7f3CBuk1b3VbLsHlWOOOSb7779/LrnkkvTo0SOTJ0/OiSeemCR5+OGHW7abN29ehgwZ\n",
              "slpnqgAAAMCGqlOnTqmpqclrr72W7t27p1OnTqlUKu091gahWq1mwYIFqVQq2WijjVa6bZsGlbFj\n",
              "x+bOO+/MG2+8kREjRmTzzTdPfX19zjzzzIwaNSqjRo1K3759c+mll2a//fZLkhx44IEZO3ZsW44F\n",
              "AAAA662amprstNNOef311/Paa6+19zgbnEqlkp49e67yipc2/dnkdYGfTQYAAGBDVK1W09jY6Ndt\n",
              "W9lGG220WrcPafdLfgAAAIByf7ssZVWXptA22v1nkwEAAADWN4IKAAAAQCFBBQAAAKCQoAIAAABQ\n",
              "SFABAAAAKCSoAAAAABQSVAAAAAAKCSoAAAAAhQQVAAAAgEKCCgAAAEAhQQUAAACgkKACAAAAUEhQ\n",
              "AQAAACgkqAAAAAAUElQAAAAACgkqAAAAAIUEFQAAAIBCggoAAABAIUEFAAAAoJCgAgAAAFBIUAEA\n",
              "AAAoJKgAAAAAFBJUAAAAAAoJKgAAAACFBBUAAACAQoIKAAAAQCFBBQAAAKCQoAIAAABQSFABAAAA\n",
              "KCSoAAAAABQSVAAAAAAKCSoAAAAAhQQVAAAAgEKCCgAAAEAhQQUAAACgkKACAAAAUEhQAQAAACgk\n",
              "qAAAAAAUElQAAAAACgkqAAAAAIUEFQAAAIBCggoAAABAIUEFAAAAoJCgAgAAAFBIUAEAAAAoJKgA\n",
              "AAAAFBJUAAAAAAoJKgAAAACFBBUAAACAQoIKAAAAQCFBBQAAAKCQoAIAAABQSFABAAAAKCSoAAAA\n",
              "ABQSVAAAAAAKCSoAAAAAhQQVAAAAgEKCCgAAAEAhQQUAAACgkKACAAAAUEhQAQAAACgkqAAAAAAU\n",
              "ElQAAAAACgkqAAAAAIUEFQAAAIBCggoAAABAIUEFAAAAoJCgAgAAAFBIUAEAAAAoJKgAAAAAFBJU\n",
              "AAAAAAoJKgAAAACFBBUAAACAQoIKAAAAQCFBBQAAAKCQoAIAAABQSFABAAAAKNSmQeXss89Onz59\n",
              "UqlUMnv27BVuN2XKlPTv3z8777xzzjrrrDQ0NCRJ7r///tTV1WXAgAHZbbfdcsEFF6S5ubktRwYA\n",
              "AABYpTYNKscee2x+/etfp3fv3ivcZu7cuRk/fnwefvjh1NfX580338x1112XJNlyyy1z880355ln\n",
              "nsn//u//5tFHH82NN97YliMDAAAArFKbBpUDDjggPXv2XOk2t912W0aNGpVtt902lUolX/ziFzNt\n",
              "2rQkydChQ9O3b98kycYbb5whQ4Zk3rx5K/yuZcuWZdGiRcs9mpqaWu14AAAAAJJ14B4q8+fPX+4M\n",
              "lj59+mT+/Pkf2O6NN97IbbfdlsMPP3yF33XllVemW7duyz1mzJjRJnMDAAAAH1/tHlRWx6JFi3LE\n",
              "EUfkggsuyLBhw1a43UUXXZSFCxcu96irq1uLkwIAAAAfBx3be4BevXrlpZdeank+b9689OrVq+X5\n",
              "n//854wcOTJHHnlkxo0bt9Lv6ty5czp37rzcax06dGjdgQEAAICPvXY/Q+WYY47JHXfckTfeeCPV\n",
              "ajWTJ0/OiSeemCR57733MnLkyIwcOTL//M//3M6TAgAAAPxVmwaVsWPHpmfPnnn11VczYsSI9OvX\n",
              "L0ly5pln5o477kiS9O3bN5deemn222+/9OvXL927d8/YsWOTJBMnTsyMGTMyffr0DBkyJEOGDMnl\n",
              "l1/eliMDAAAArFKlWq1W23uItjRu3LhMmDChvccAAAAANiDtfskPAAAAwPpGUAEAAAAoJKgAAAAA\n",
              "FBJUAAAAAAoJKgAAAACFBBUAAACAQoIKAAAAQCFBBQAAAKCQoAIAAABQSFABAAAAKCSoAAAAABQS\n",
              "VAAAAAAKCSoAAAAAhQQVAAAAgEKCCgAAAEAhQQUAAACgkKACAAAAUEhQAQAAACgkqAAAAAAUElQA\n",
              "AAAACgkqAAAAAIUEFQAAAIBCggoAAABAIUEFAAAAoJCgAgAAAFBIUAEAAAAoJKgAAAAAFBJUAAAA\n",
              "AAoJKgAAAACFBBUAAACAQoIKAAAAQCFBBQAAAKCQoAIAAABQSFABAAAAKCSoAAAAABQSVAAAAAAK\n",
              "CSoAAAAAhQQVAAAAgEKCCgAAAEAhQQUAAACgkKACAAAAUEhQAQAAACgkqAAAAAAUElQAAAAACgkq\n",
              "AAAAAIUEFQAAAIBCggoAAABAIUEFAAAAoJCgAgAAAFBIUAEAAAAoJKgAAAAAFBJUAAAAAAoJKgAA\n",
              "AACFBBUAAACAQoIKAAAAQCFBBQAAAKCQoAIAAABQSFABAAAAKCSoAAAAABQSVAAAAAAKCSoAAAAA\n",
              "hQQVAAAAgEKCCgAAAEAhQQUAAACgUMc1+dAzzzyTV199NZtsskkGDRqULbbYopXHAgAAAFh3rXZQ\n",
              "+fOf/5zvfe97uf7667PpppumR48eWbp0aV566aXU1dXla1/7Wj7zmc+05awAAAAA64TVDioHHXRQ\n",
              "Tj311Dz55JPp0aNHy+vNzc15+OGHM3ny5NTX12fs2LFtMigAAADAumK1g8ojjzySzp07f+D1mpqa\n",
              "DB8+PMOHD8+yZctadTgAAACAddFq35T2w2LKmmwDAAAAsL5b7aBy+OGH59FHH/3Q99599918//vf\n",
              "z7XXXttqgwEAAACsq1b7kp8rrrgiF110UZ555pnstddeLTelfe655/KHP/whX/7yl3P66ae35awA\n",
              "AAAA64TVDiqDBw/OnXfemVdeeSUPPvhgXn311Wy66aY56aSTsv/++6djxzX6BWYAAACA9U5xBfnT\n",
              "n/6Uk08+ebnXnnrqqQwePLjVhgIAAABYl632PVT+ZsyYMav1GgAAAMCGarXPUHnrrbfyxhtvZMmS\n",
              "JXn66adTrVaTJAsXLszixYvbbEAAAACAdc1qB5Vp06blhz/8YV577bWMGjWq5fVu3brlggsuaJPh\n",
              "AAAAANZFqx1UzjnnnJxzzjm57LLLMn78+LacCQAAAGCdVnxT2vHjx6e5uTlvvPFGGhsbW17v1atX\n",
              "qw4GAAAAsK4qvintj3/842yxxRYZNGhQ9txzz+y5554ZNmzYh2579tlnp0+fPqlUKpk9e/YKv3PK\n",
              "lCnp379/dt5555x11llpaGhYrfcAAAAA2kNxUPnmN7+ZmTNn5p133smCBQuyYMGCvPXWWx+67bHH\n",
              "Hptf//rX6d279wq/b+7cuRk/fnwefvjh1NfX580338x11123yvcAAAAA2ktxUNl6662zyy67rNa2\n",
              "BxxwQHr27LnSbW677baMGjUq2267bSqVSr74xS9m2rRpq3wPAAAAoL0U30Nl9OjR+eEPf5jPfe5z\n",
              "2XjjjVte79q16xoNMH/+/OXOYOnTp0/mz5+/yvc+zLJly7Js2bLlXmtqalqjuQAAAABWpPgMlX/6\n",
              "p3/KuHHjsu2222bLLbfMFltskS233LItZit25ZVXplu3bss9ZsyY0d5jAQAAABuY4qDS3Nzc8mhq\n",
              "amr53zXVq1evvPzyyy3P582b1/KLQSt778NcdNFFWbhw4XKPurq6NZ4NAAAA4MMUB5XWdswxx+SO\n",
              "O+7IG2+8kWq1msmTJ+fEE09c5XsfpnPnzunatetyjw4dOqytQwEAAAA+JoqDSk1NTTp06PCBx4cZ\n",
              "O3ZsevbsmVdffTUjRoxIv379kiRnnnlm7rjjjiRJ3759c+mll2a//fZLv3790r1794wdO3aV7wEA\n",
              "AAC0l0q1Wq2WfGDx4sUt/7xkyZLceOONaWpqyvnnn9/qw7WGcePGZcKECe09BgAAALABKT5DZbPN\n",
              "Nmt5bL311hk3blxuu+22tpgNAAAAYJ30ke+h8txzz+Xtt99ujVkAAAAA1gsdSz+w5ZZbplKpJEka\n",
              "GxuTJFdddVXrTgUAAACwDisOKrNnz/5/H+7YMdtuu61f0gEAAAA+VoqDSu/evfOXv/ylJaxsueWW\n",
              "2XTTTVt7LgAAAIB1VnFQefTRR3PMMcdk2223TZK8+eabuf3227PPPvu0+nAAAAAA66LioPK3X/XZ\n",
              "b7/9kvw1sHz1q1/Nb37zm1YfDgAAAGBdVPwrP0uWLGmJKUmy7777ZunSpa06FAAAAMC6rDiodOnS\n",
              "Jb/61a9ant93333ZbLPNWnUoAAAAgHVZ8SU///qv/5qjjz665Zd9mpubM3369FYfDAAAAGBdVRxU\n",
              "XnvttTzxxBN58803kyQ9evTIjBkzWn0wAAAAgHVV8SU/48ePT/fu3TNw4MAMHDgwW2+9dcaPH98W\n",
              "swEAAACsk4qDyv9VqVTS1NTUGrMAAAAArBeKg8rmm2+eRx99tOX5I488ks0337xVhwIAAABYlxXf\n",
              "Q+U73/lOjjrqqOy6665JkhdffDH/+Z//2eqDAQAAAKyrioPKPvvsk2effTaPPfZYkmTffffNFlts\n",
              "0dpzAQAAAKyzioNKkmy55ZY57LDDWnsWAAAAgPXCR74pLQAAAMDHjaACAAAAUEhQAQAAACgkqAAA\n",
              "AAAUElQAAAAACgkqAAAAAIUEFQAAAIBCggoAAABAIUEFAAAAoJCgAgAAAFBIUAEAAAAoJKgAAAAA\n",
              "FBJUAAAAAAoJKgAAAACFBBUAAACAQoIKAAAAQCFBBQAAAKCQoAIAAABQSFABAAAAKCSoAAAAABQS\n",
              "VAAAAAAKCSoAAAAAhQQVAAAAgEKCCgAAAEAhQQUAAACgkKACAAAAUEhQAQAAACgkqAAAAAAUElQA\n",
              "AAAACgkqAAAAAIUEFQAAAIBCggoAAABAIUEFAAAAoJCgAgAAAFBIUAEAAAAoJKgAAAAAFBJUAAAA\n",
              "AAoJKgAAAACFBBUAAACAQoIKAAAAQCFBBQAAAKCQoAIAAABQSFABAAAAKCSoAAAAABQSVAAAAAAK\n",
              "CSoAAAAAhQQVAAAAgEKCCgAAAEAhQQUAAACgkKACAAAAUEhQAQAAACgkqAAAAAAUElQAAAAACgkq\n",
              "AAAAAIUEFQAAAIBCggoAAABAIUEFAAAAoJCgAgAAAFBIUAEAAAAoJKgAAAAAFBJUAAAAAAoJKgAA\n",
              "AACF2jSovPjii9l3331TW1ubvfbaK3PmzPnANs3NzTnvvPMycODA7LrrrjnjjDPy/vvvt7z/7W9/\n",
              "OwMGDMiQIUPyyU9+MjNmzGjLkQEAAABWqU2DytixY/OFL3whL7zwQr72ta9lzJgxH9hmypQpmTVr\n",
              "VmbNmpVnn302NTU1mThxYpJk9uzZ+bd/+7fMmDEjs2fPzle+8pV85StfacuRAQAAAFapzYLKW2+9\n",
              "lSeeeCInn3xykuSYY47JK6+8kvr6+uW2++1vf5uDDz44nTp1SqVSyaGHHpqbbropSVKpVNLQ0JDF\n",
              "ixcnSd5999307NlzhftctmxZFi1atNyjqampjY4QAAAA+Lhqs6DyyiuvZLvttkvHjh2T/DWO9OrV\n",
              "K/Pnz19uuz333DN33HFHFi1alIaGhvz0pz/NvHnzkiS77757vvrVr2annXZKz54984Mf/CBXXXXV\n",
              "Cvd55ZVXplu3bss9XCIEAAAAtLZ2vyntmDFjMnLkyAwfPjzDhw9PbW1tS4SZO3dupk+fnvr6+rz6\n",
              "6qv56le/mhNOOGGF33XRRRdl4cKFyz3q6urW1qEAAAAAHxNtFlR23HHHvP7662lsbEySVKvVzJ8/\n",
              "P7169Vpuu0qlkksuuSRPPvlkHn300QwYMCC77bZbkuT222/PoEGDsv322ydJPv/5z+eRRx5Z7qa1\n",
              "f69z587p2rXrco8OHTq01SECAAAAH1NtFlS22Wab7LHHHpk6dWqSv8aRnj17pl+/fsttt3Tp0vzp\n",
              "T39Kkrz99tv51re+lQsuuCBJ0rdv3zzyyCN57733kiS/+MUvUltbm06dOrXV2AAAAACr1LEtv/za\n",
              "a6/NmDFjcsUVV6Rr16654YYbkiRnnnlmRo0alVGjRmXhwoU58MADU1NTk+bm5pxzzjk54ogjkiRH\n",
              "HXVUZs6cmWHDhqVz587ZbLPN8pOf/KQtRwYAAABYpUq1Wq229xBtady4cZkwYUJ7jwEAAABsQNr9\n",
              "prQAAAAA6xtBBQAAAKCQoAIAAABQSFABAAAAKCSoAAAAABQSVAAAAAAKCSoAAAAAhQQVAAAAgEKC\n",
              "CgAAAEAhQQUAAACgkKACAAAAUEhQAQAAACgkqAAAAAAUElQAAAAACgkqAAAAAIUEFQAAAIBCggoA\n",
              "AABAIUEFAAAAoJCgAgAAAFBIUAEAAAAoJKgAAAAAFBJUAAAAAAoJKgAAAACFBBUAAACAQoIKAAAA\n",
              "QCFBBQAAAKCQoAIAAABQSFABAAAAKCSoAAAAABQSVAAAAAAKCSoAAAAAhQQVAAAAgEKCCgAAAEAh\n",
              "QQUAAACgkKACAAAAUEhQAQAAACgkqAAAAAAUElQAAAAACgkqAAAAAIUEFQAAAIBCggoAAABAIUEF\n",
              "AAAAoJCgAgAAAFBIUAEAAAAoJKgAAAAAFBJUAAAAAAoJKgAAAACFBBUAAACAQoIKAAAAQCFBBQAA\n",
              "AKCQoAIAAABQSFABAAAAKCSoAAAAABQSVAAAAAAKCSoAAAAAhQQVAAAAgEKCCgAAAEAhQQUAAACg\n",
              "kKACAAAAUEhQAQAAACgkqAAAAAAUElQAAAAACgkqAAAAAIUEFQAAAIBCggoAAABAIUEFAAAAoJCg\n",
              "AgAAAFBIUAEAAAAoJKgAAAAAFBJUAAAAAAoJKgAAAACFBBUAAACAQoIKAAAAQCFBBQAAAKCQoAIA\n",
              "AABQSFABAAAAKCSoAAAAABQSVAAAAAAKtWlQefHFF7PvvvumtrY2e+21V+bMmfOBbZqbm3Peeedl\n",
              "4MCB2XXXXXPGGWfk/fffb3l//vz5OeKII7LLLrtkwIABueqqq9pyZAAAAIBVatOgMnbs2HzhC1/I\n",
              "Cy+8kK997WsZM2bMB7aZMmVKZs2alVmzZuXZZ59NTU1NJk6cmCSpVqs56qijcuqpp+b555/PM888\n",
              "k+OPP74tRwYAAABYpTYLKm+99VaeeOKJnHzyyUmSY445Jq+88krq6+uX2+63v/1tDj744HTq1CmV\n",
              "SiWHHnpobrrppiTJfffdl86dO+e4445r2b5Hjx4r3OeyZcuyaNGi5R5NTU1tcHQAAADAx1mbBZVX\n",
              "Xnkl2223XTp27JgkqVQq6dWrV+bPn7/cdnvuuWfuuOOOLFq0KA0NDfnpT3+aefPmJUmeeeaZdO/e\n",
              "PSeeeGKGDh2ao446Kr///e9XuM8rr7wy3bp1W+4xY8aMtjpEAAAA4GOq3W9KO2bMmIwcOTLDhw/P\n",
              "8OHDU1tb2xJhGhsbc//992f8+PF58sknM2LEiJVe8nPRRRdl4cKFyz3q6urW1qEAAAAAHxNtFlR2\n",
              "3HHHvP7662lsbEzy1/uhzJ8/P7169Vpuu0qlkksuuSRPPvlkHn300QwYMCC77bZbkqRXr14ZOnRo\n",
              "y/NTTjkls2bNSkNDw4fus3Pnzunatetyjw4dOrTVIQIAAAAfU20WVLbZZpvssccemTp1apLk9ttv\n",
              "T8+ePdOvX7/ltlu6dGn+9Kc/JUnefvvtfOtb38oFF1yQJDn00EPz6quv5g9/+EOS5K677sonPvGJ\n",
              "bLTRRm01NgAAAMAqdWzLL7/22mszZsyYXHHFFenatWtuuOGGJMmZZ56ZUaNGZdSoUVm4cGEOPPDA\n",
              "1NTUpLm5Oeecc06OOOKIJMlmm22WyZMn5x/+4R9SrVbTrVu33HzzzW05MgAAAMAqVarVarW9h2hL\n",
              "48aNy4QJE9p7DAAAAGAD0u43pQUAAABY3wgqAAAAAIUEFQAAAIBCggoAAABAIUEFAAAAoJCgAgAA\n",
              "AFBIUAEAAAAoJKgAAAAAFBJUAAAAAAoJKgAAAACFBBUAAACAQoIKAAAAQCFBBQAAAKCQoAIAAABQ\n",
              "SFABAAAAKCSoAAAAABQSVAAAAAAKCSoAAAAAhQQVAAAAgEKCCgAAAEAhQQUAAACgkKACAAAAUEhQ\n",
              "AQAAACgkqAAAAAAUElQAAAAACgkqAAAAAIUEFQAAAIBCggoAAABAIUEFAAAAoJCgAgAAAFBIUAEA\n",
              "AAAoJKgAAAAAFBJUAAAAAAoJKgAAAACFBBUAAACAQoIKAAAAQCFBBQAAAKCQoAIAAABQSFABAAAA\n",
              "KCSoAAAAABQSVAAAAAAKCSoAAAAAhQQVAAAAgEKCCgAAAEAhQQUAAACgkKACAAAAUEhQAQAAACgk\n",
              "qAAAAAAUElQAAAAACgkqAAAAAIUEFQAAAIBCggoAAABAIUEFAAAAoJCgAgAAAFBIUAEAAAAoJKgA\n",
              "AAAAFBJUAAAAAAoJKgAAAACFBBUAAACAQoIKAAAAQKFKtVqttvcQbenoo49Onz592mXfTU1NmTFj\n",
              "Rurq6tKhQ4d2mQHWRdYGrJj1AStmfcCKWR8blt69e+ecc85p7zFYhQ0+qLSnRYsWpVu3blm4cGG6\n",
              "du3a3uPAOsPagBWzPmDFrA9YMesD1j6X/AAAAAAUElQAAAAACgkqAAAAAIUElTbUuXPnXHzxxenc\n",
              "uXN7jwLrFGsDVsz6gBWzPmDFrA9Y+9yUFgAAAKCQM1QAAAAACgkqAAAAAIUEFQAAAIBCgkobefHF\n",
              "F7PvvvumtrY2e+21V+bMmdPeI8Fa1adPn+yyyy4ZMmRIhgwZkltuuSXJyteGdcOG6Oyzz06fPn1S\n",
              "qVQye/bsltfXdC1YJ2xIVrQ+VvR3SGJ98PGxdOnSjB49OrW1tdl9993z2c9+NvX19UmSt956KyNH\n",
              "jkz//v0zcODAPPTQQy2fW9P3gDVQpU0cdNBB1RtuuKFarVart956a3XYsGHtOxCsZb17964++eST\n",
              "H3h9ZWvDumFD9OCDD1ZfeeWVD6yJNV0L1gkbkhWtjxX9HVKtWh98fCxZsqR65513Vpubm6vVarV6\n",
              "1VVXVYcPH16tVqvVz3/+89WLL764Wq1WqzNmzKjusMMO1ffff/8jvQeUE1TawJtvvlndfPPNqw0N\n",
              "DdVqtVptbm6u9ujRo/riiy+282Sw9nzYvwyvbG1YN2zo/n5NrOlasE7YUK1uULE++DibOXNmtXfv\n",
              "3tVqtVrdbLPNqq+//nrLe3vttVf13nvv/UjvAeVc8tMGXnnllWy33Xbp2LFjkqRSqaRXr16ZP39+\n",
              "O08Ga9epp56aQYMG5YwzzsiCBQtWujasGz5O1nQtWCd8nPzfv0OSNV87sCGYOHFijjzyyLzzzjtp\n",
              "aGjItttu2/Jenz59Mn/+/DV+D1gzggrQJh566KE89dRTmTVrVrbeeuucdtpp7T0SAOsJf4fA8q64\n",
              "4orU19fnyiuvbO9RgL/Tsb0H2BDtuOOOef3119PY2JiOHTumWq1m/vz56dWrV3uPBmvN3/7/vtFG\n",
              "G+Xcc89NbW3tStdG165drRs+NtZ0LVgnfFx82N8hyZqvHViffe9738v06dPzq1/9Kptuumk23XTT\n",
              "dOzYMW+88UbL2Sbz5s1Lr169stVWW63Re8CacYZKG9hmm22yxx57ZOrUqUmS22+/PT179ky/fv3a\n",
              "eTJYOxYvXpx333235fm0adMydOjQla4N64aPkzVdC9YJHwcr+jskWfO1A+urCRMmZNq0abn33nuz\n",
              "xRZbtLx+3HHHZfLkyUmSmTNn5g9/+EOGDx/+kd4DylWq1Wq1vYfYED3//PMZM2ZM3nnnnXTt2jU3\n",
              "3HBDBg0a1N5jwVrx+9//Psccc0yamppSrVbTt2/fTJw4MX369Fnp2rBu2BCNHTs2d955Z954441s\n",
              "tdVW2XzzzVNfX7/Ga8E6YUPyYevjnnvuWeHfIYn1wcfHq6++mh133DF9+/bN5ptvniTp3LlzHn/8\n",
              "8bz55ps55ZRTMnfu3HTq1CmTJk3KQQcdlCRr/B5QTlABAAAAKOSSHwAAAIBCggoAAABAIUEFAAAA\n",
              "oJCgAgAAAFBIUAEAAAAoJKgAAC0qlUouv/zy7L333unTp09+9rOf5corr8ywYcPSv3//PPDAA0mS\n",
              "BQsW5JBDDsmgQYMyePDgfP7zn2/5ju9973upq6vLHnvskZEjR+bll19up6MBAGg7Hdt7AABg3dKl\n",
              "S5c8/vjjue+++3LkkUdm0qRJeeKJJ3Lrrbfm/PPPz8yZMzN16tTstNNOueeee5Ikf/zjH5MkP/nJ\n",
              "T/L888/nscceS4cOHXLTTTflS1/6Uu688872PCQAgFZXqVar1fYeAgBYN1Qqlbz++uvZdttts3Dh\n",
              "wmyxxRZZsmRJNt5447z88svZfffd8+677+axxx7LCSeckOOOOy4HHHBARo4cmc6dO+f444/PzJkz\n",
              "061btyRJU1NTkuTpp59uz8MCAGh1LvkBAJaz8cYbJ0k6dOjwgeeNjY1Jkn322SezZ8/O3nvvnenT\n",
              "p2evvfZKU1NTqtVqLrroosyePTuzZ8/O008/LaYAABskQQUAKDZ37tx06dIlxx9/fK666qq88MIL\n",
              "ee+99zJ69OhMnjy55RKghoaGPPnkk+08LQBA63MPFQCg2AMPPJAJEya0nLXy3e9+N926dctJJ52U\n",
              "d955JwcddFCSpLGxMaeffnqGDh3azhMDALQu91ABAAAAKOSSHwAAAIBCggoAAABAIUEFAAAAoJCg\n",
              "AgAAAFBIUAEAAAAoJKgAAAAAFBJUAAAAAAoJKgAAAACFBBUAAACAQoIKAAAAQKH/H4ZycjwwNXNV\n",
              "AAAAAElFTkSuQmCC\n",
              "\">\n",
              "      </div>\n",
              "      <script type=\"text/javascript\">\n",
              "        (() => {\n",
              "          const chartElement = document.getElementById(\"chart-aca8a62a-7cde-482a-9b11-b824a3ca60f8\");\n",
              "          async function getCodeForChartHandler(event) {\n",
              "            const chartCodeResponse =  await google.colab.kernel.invokeFunction(\n",
              "                'getCodeForChart', [\"chart-aca8a62a-7cde-482a-9b11-b824a3ca60f8\"], {});\n",
              "            const responseJson = chartCodeResponse.data['application/json'];\n",
              "            await google.colab.notebook.addCell(responseJson.code, 'code');\n",
              "          }\n",
              "          chartElement.onclick = getCodeForChartHandler;\n",
              "        })();\n",
              "      </script>\n",
              "      <style>\n",
              "        .colab-quickchart-chart-with-code  {\n",
              "            display: block;\n",
              "            float: left;\n",
              "            border: 1px solid transparent;\n",
              "        }\n",
              "\n",
              "        .colab-quickchart-chart-with-code:hover {\n",
              "            cursor: pointer;\n",
              "            border: 1px solid #aaa;\n",
              "        }\n",
              "      </style>"
            ]
          },
          "metadata": {}
        },
        {
          "output_type": "display_data",
          "data": {
            "text/plain": [
              "<google.colab._quickchart_helpers.SectionTitle at 0x7abc4d17b650>"
            ],
            "text/html": [
              "<h4 class=\"colab-quickchart-section-title\">Values</h4>\n",
              "<style>\n",
              "  .colab-quickchart-section-title {\n",
              "      clear: both;\n",
              "  }\n",
              "</style>"
            ]
          },
          "metadata": {}
        },
        {
          "output_type": "display_data",
          "data": {
            "text/plain": [
              "from matplotlib import pyplot as plt\n",
              "model_df['mae'].plot(kind='line', figsize=(8, 4), title='mae')\n",
              "plt.gca().spines[['top', 'right']].set_visible(False)"
            ],
            "text/html": [
              "      <div class=\"colab-quickchart-chart-with-code\" id=\"chart-c671be68-7568-481e-aff7-27d1b1f5f5fe\">\n",
              "        <img style=\"width: 180px;\" src=\"data:image/png;base64,iVBORw0KGgoAAAANSUhEUgAAApcAAAFuCAYAAADUGTPdAAAAOnRFWHRTb2Z0d2FyZQBNYXRwbG90\n",
              "bGliIHZlcnNpb24zLjEwLjAsIGh0dHBzOi8vbWF0cGxvdGxpYi5vcmcvlHJYcgAAAAlwSFlzAAAP\n",
              "YQAAD2EBqD+naQAALUBJREFUeJzt3Xd0lGXeh/HvkEAASQIIoYUQgQACUgIpgiu6Nqy4KEpvoeiy\n",
              "9lV017Kvi2B3kbVQI1KlKS6WVRRRV0JCF6QkQEhoRloSIHXmfv+YEIkGSMgkz5Trc86cY2aeGX5z\n",
              "n5mHy3sSYjPGGAEAAAAuUM3qAQAAAOA9iEsAAAC4DHEJAAAAlyEuAQAA4DLEJQAAAFyGuAQAAIDL\n",
              "EJcAAABwGeISAAAALkNcAgAAwGWISwAAALgMcQkAAACXIS4BAADgMsQlAFzANddcowceeED33nuv\n",
              "goKCFBoaqoULF+rHH3/UlVdeqcDAQEVHR2vnzp2SpMWLF6tbt26qV6+eGjRooDvuuEN79+4t8Zif\n",
              "fvqpYmJiVK9ePUVEROjNN9+04qkBgMsRlwBQBnPmzNG4ceN04sQJPf7444qLi9OTTz6pBQsW6OjR\n",
              "o2revLkefPBBSVJgYKBmzZqlI0eOaMeOHTLGaODAgcWPtWrVKg0cOFATJ07U0aNH9eGHH+qVV17R\n",
              "vHnzrHp6AOAyNmOMsXoIAHBn11xzjVq1aqWZM2dKkjIzM1W3bl3Nnz9fAwYMkCQtXbpUo0aN0vHj\n",
              "x393/40bNyoyMlJZWVkKDAzUHXfcoQ4dOmjSpEnFx7zwwgtatWqVVq5cWTVPCgAqib/VAwCAJ2jS\n",
              "pEnxf19yySWlXpednS1JWr16tZ5//nn99NNPOnXqVPExGRkZCgwMVHJyslauXKl33nmn+Da73a6w\n",
              "sLDKfhoAUOn4WBwAXCg/P1+33XabevfurV27dikrK0urV6+WJJ35oKhx48Z68skndeLEieJLdna2\n",
              "tm3bZuXoAOASxCUAuFB+fr5ycnJUr149BQYG6uDBg3r66adLHPPQQw9pypQp+uqrr1RYWKjCwkJt\n",
              "3bpV3377rUVTA4DrEJcA4EJ16tTRjBkzNGHCBNWpU0c333yz+vXrV+KYO++8U3PmzNGzzz6rkJAQ\n",
              "hYSEaNSoUTpy5IhFUwOA6/ADPQAAAHAZdi4BAADgMsQlAAAAXIa4BAAAgMsQlwAAAHAZ4hIAAAAu\n",
              "Q1wCAADAZYhLAAAAuIzbxOXkyZOtHgEAAAAV5DZxuW/fPqtHAAAAQAW5TVwCAADA8xGXAAAAcBni\n",
              "EgAAAC5DXAIAAMBliEsAAAC4DHEJAAAAlyEuAQAA4DLEJQAAAFyGuAQAAIDLEJcAAABwGeISAADA\n",
              "A+Xk260eoVTEJQAAgIfZe+SUrnvtGy1Zv9/qUX6HuAQAAPAge4+cUv9pa3QwM1czvtujArvD6pFK\n",
              "8Ld6AAAAAJTN7l9OasC0BGVk56lto0DNHRWj6n7utVdIXAIAAHiAs8OyXeNAzRsVo0vrBFg91u8Q\n",
              "lwAAAG4uJeOkBkxP0C9uHpYScQkAAODWUjKy1X/aWh05mafLmwRp3qgY1b+khtVjnRNxCQAA4KaS\n",
              "f87WgOkJOnIyX+2LwrKeG4elxE+LAwAAuKVdZ4Vlh6aeEZYSO5cAAABuZ+fhbA2cnqCjp/LVsVmQ\n",
              "5sbFqG5t9w9LibgEAABwKzsOZ2ng9LU6dipfVzQL1py4aI8JS4m4BAAAcBvbD2Vp0AxnWHYKDdac\n",
              "kTEKrl3d6rHKhbgEAABwAz8dzNKgGQk6frpAnUOD9X5cjIJreVZYSsQlAACA5bYdzNSgGWt14nSB\n",
              "Ojevq/dHRntkWErEJQAAgKW2HsjU4JnOsOzSvK7ej4tWUE3PDEuJuAQAALDM1gPOHcvMnAJ1DXPu\n",
              "WAZ6cFhKxCUAAIAlftyfqUEzEpSVW6jIsLqa7QVhKRGXAAAAVW7L/hMaPGOtsnIL1b1FPb03Mlp1\n",
              "Arwjy7zjWQAAAHiIzeknNHjmWmXnFioqvJ7iR3hPWEr8+kcAAIAqsynduWOZnVuo6PD6XheWEjuX\n",
              "AAAAVWJj2nENnZmo7LxCRV9WX/HDo3SJl4WlRFwCAABUuvX7jmvYrESdzCtUzGX1FT8iSrVreGeG\n",
              "eeezAgAAcBPr9x3TsFlJOplXqNiW9TVruPeGpURcAgAAVJp1qcc0bFaiTuXb1aPVpZo5LEq1avhZ\n",
              "PVal4gd6AAAAKkHSWWHZs7VvhKXEziUAAIDLJe49puHxiTqdb9dVrRto+tDuPhGWEnEJAADgUmv3\n",
              "HNWI95J0Ot+uP0Q4w7Jmdd8IS4m4BAAAcJmEPUc1Ij5JOQV2Xd2moaYN6eZTYSnxPZcAAAAusWb3\n",
              "r2HZy0fDUmLnEgAAoMJ+SDmikbOTlFvg0DVtG+rdwb4ZlhI7lwAAABXyv7PC8tq2DTXVR3csz2Dn\n",
              "EgAA4CJ9n3xEcbOTlFfo0B/bheidwZEK8PfdsJTYuQQAALgo3yX/UhyW119OWJ7BziUAAEA5rd71\n",
              "i0a/v075hQ5df3kjvTWoK2FZhLgEAAAoh292ZmjMnPXKL3TohvaN9NbASNXw58PgM1gJAACAMlp1\n",
              "Vlje1IGwLA07lwAAAGWwakeGxs5Zr3y7Q707NNaUgV1V3Y+w/C1WBAAA4AK+2v5zcVje3JGwPB92\n",
              "LgEAAM5j5U8/6/5561VgN7r1iib6V/8uhOV5sDIAAADn8OXZYdmJsCwLdi4BAABK8cW2wxo3f4MK\n",
              "7Ea3d26qN+7pLH/C8oIueoXi4+Nls9n00UcfSZIyMjLUu3dvRUREqGPHjvr2229dNSMAAECV+nzr\n",
              "Yf15njMs7yAsy+WiVik1NVXTp09XbGxs8XVPPvmkYmNjlZycrPj4eA0cOFAFBQUuGxQAAKAqfL71\n",
              "kP4yf4MKHUZ9ujTV64RluZR7pRwOh0aNGqUpU6YoICCg+PpFixbpvvvukyRFRUWpadOmWr16tesm\n",
              "BQAAqGSf/XhI4+ZvVKHD6E9dm+n1e7oQluVU7u+5fP3119WzZ09169at+LqjR4+qoKBAjRs3Lr4u\n",
              "PDxcaWlppT5GXl6e8vLySlxnt9vLOwoAAIDLfLLlkB5cuFF2h1Hfrs30Sr/O8qtms3osj1OuFN+6\n",
              "dauWLl2qp59+ukJ/6KRJkxQcHFzikpiYWKHHBAAAuFgrthz8NSwjCcuKKFdcfvfdd0pNTVVERITC\n",
              "w8OVkJCgMWPGaNGiRfL399fhw4eLj01NTVVYWFipj/PUU08pMzOzxCU6OrpizwQAAOAi/GfzQT20\n",
              "cJPsDqO7u4XqlbsJy4ooV1zef//9OnTokFJTU5WamqrY2FhNmzZN999/v/r166d3331XkpSUlKQD\n",
              "Bw6oV69epT5OQECAgoKCSlz8/Pwq/mwAAADKYfmmA3qoaMeyX7dQvXxXJ8Kyglz271y+9NJLGjJk\n",
              "iCIiIlSjRg3NnTtX1atXd9XDAwAAuNTyTQf0yAeb5DDSvd2ba1LfK1SNsKywCsXlN998U/zfjRo1\n",
              "0hdffFHReQAAACrdhxv367FFm+UwUv+o5pr4J8LSVfgNPQAAwKcs27Bff13sDMsB0WF64c6OhKUL\n",
              "8Q83AQAAn7Fk/X49VhSWA2MIy8pAXAIAAJ+weF26Hl+yWcZIg2PDNKEPYVkZ+FgcAAB4vUXr0jV+\n",
              "6RYZIw2JbaHn+3SQzUZYVgZ2LgEAgFf7ICmtOCyHXUlYVjZ2LgEAgNdamJimJ5f9KEka3iNcz93e\n",
              "nrCsZMQlAADwSvPXpulvHzrDckTPcD17G2FZFYhLAADgdeat3ae/f7hVkjSy52V65rbLCcsqQlwC\n",
              "AACvMidhn575yBmWo666TH+/lbCsSsQlAADwGnPWpOqZ5dskSWOubqmnbm5HWFYxflocAAB4hdk/\n",
              "/BqWYwlLy7BzCQAAPN57/9urf/znJ0nSfb1aaXzvtoSlRYhLAADg0WZ9v1fPr3CG5Z+vaaXHbyIs\n",
              "rURcAgAAjzXjuz2a8Ml2SdK4a1vprzcSllYjLgEAgEc6Oywf+GNrPXpDG8LSDRCXAADA40z/do9e\n",
              "+NQZlg9eF6FHro8gLN0EcQkAADzK1NW7NemzHZKkh66L0CM3tLF4IpyNuAQAAB7jnW9266XPnWH5\n",
              "8PURevh6wtLdEJcAAMAjvP1Nil7+fKck6dEb2ujB6yIsngilIS4BAIDbe2tVil75rzMsH7uhjR4g\n",
              "LN0WcQkAANzalK+S9dqXuyRJj9/UVuOubW3xRDgf4hIAALitN79K1utFYflE77b68zWEpbsjLgEA\n",
              "gFv618pd+tfKZEnS+N7tdP81rSyeCGVBXAIAALfzxpe7NPkrZ1g+dXM7je1FWHoK4hIAALgNY4ze\n",
              "WJmsN4vC8u+3XK7RV7e0eCqUB3EJAADcgjFGr3+5S1O+TpEkPX3r5Rr1B8LS0xCXAADAcsYYvfrF\n",
              "Tr21arck6Znb2ivuqsssngoXg7gEAACWMsbolf/u1NvfOMPy2dvaayRh6bGISwAAYBljjF76fKfe\n",
              "Xe0My3/c3l7DexKWnoy4BAAAljDG6MXPdmjqt3skSc/36aChV4ZbOxQqjLgEAABVzhijSZ/t0LSi\n",
              "sPxnnw4aQlh6BeISAABUKWOMXvhku2Z8v1eS9M87O2pIbAuLp4KrEJcAAKDKGGP0zxXbNet/zrB8\n",
              "4U8dNSiGsPQmxCUAAKgSxhg9v+Inxf8vVZI08U9XaGBMmLVDweWISwAAUOmMMfq///yk935IlSS9\n",
              "2PcK9Y8mLL0RcQkAACqVMUb/+HibZq/ZJ5vNGZb3RhGW3oq4BAAAlcYYo2eXb9OcBGdYvtS3k+6J\n",
              "am71WKhExCUAAKgUDofRsx9v1dyENNls0st3dVK/7oSltyMuAQCAyzkcRk8v36r5a51h+crdnXV3\n",
              "t1Crx0IVIC4BAIBLORxGf/9oqxYkOsPytX6d1TeSsPQVxCUAAHAZh8Pobx/+qIVJ6apmk167p7P+\n",
              "1JWw9CXEJQAAcAmHw+ipZT/qg3XOsHzj3i7q06WZ1WOhihGXAACgwhwOo/FLt2jx+v2EpY8jLgEA\n",
              "QIXYi8Jyyfr98qtm07/u7aLbOze1eixYhLgEAAAXze4wenzJZi3bcEB+1Wya3L+LbutEWPoy4hIA\n",
              "AFwUu8Po8cWbtWyjMyzf7N9Vt3ZqYvVYsBhxCQAAys3uMHps0SZ9tOmg/KvZNGVAV918BWEJ4hIA\n",
              "AJRTod2hxxZv1vKisPz3wK7q3ZGwhBNxCQAAyqzQ7tCjizbr481nwjJSvTs2tnosuBHiEgAAlEmh\n",
              "3aGHP9ikFVsOqbqfTW8NjNSNHQhLlERcAgCACyq0O/TQB5v0SVFYvj2om25o38jqseCGiEsAAHBe\n",
              "BXaHHl64SZ/86AzLdwZ10/WEJc6BuAQAAOdUYHfowQUb9dnWw6rhV03vDI7UdZcTljg34hIAAJSq\n",
              "wO7QA/M36vNtzrCcOqSbrm0XYvVYcHPEJQAA+J38QoceWLBB/932s2r4F4VlW8ISF0ZcAgCAEvIL\n",
              "HRo3f4O+/MkZltOGdNM1hCXKiLgEAADF8gsd+vO8DVq53RmW04d2V682Da0eCx6EuAQAAJKkvEK7\n",
              "xs3boJXbMxRQFJZXE5YoJ+ISAAAor9Cu++du0Nc7nGE5c1iUropoYPVY8EDVynuHG2+8UZ06dVKX\n",
              "Ll30hz/8QRs3bpQkJScnq0ePHmrTpo2ioqK0bds2lw8LAABcL7fArvvmrNfXOzJUs3o1zRpOWOLi\n",
              "lTsuFy1apC1btmjTpk169NFHNXz4cEnS2LFjNWbMGO3atUvjx48vvh4AALiv3AK77pu7Xqt2/uIM\n",
              "y2FR6tmasMTFK3dc1q1bt/i/MzMzZbPZlJGRoXXr1mnw4MGSpLvuukvp6elKSUlx2aAAAMC1cgvs\n",
              "GjNnvb7Z+YtqVfdT/PBo9SAsUUEX9T2XQ4cO1apVqyRJn376qdLT09WkSRP5+zsfzmazKSwsTGlp\n",
              "aWrduvXv7p+Xl6e8vLwS19nt9osZBQAAXITcArtGv79O3yUfcYbliCjFtrzU6rHgBcq9cylJ77//\n",
              "vtLT0zVhwgSNHz++3PefNGmSgoODS1wSExMvZhQAAFBOZ4dl7Rp+eo+whAvZjDGmIg9Qq1Ytpaam\n",
              "KiIiQseOHZO/v7+MMWrSpIm+//77Mu9cPvPMM5o8eXJFRgEAABeQk+8My+9TzoRltKIvq2/1WPAi\n",
              "5dq5PHHihA4ePFj89UcffaRLL71UISEhioyM1Ny5cyVJS5cuVWhoaKlhKUkBAQEKCgoqcfHz86vA\n",
              "0wAAABeSk29X3OwkfZ9yRJfU8NPskYQlXK9c33OZmZmpfv36KScnR9WqVVPDhg21YsUK2Ww2TZ06\n",
              "VcOHD9fEiRMVFBSk+Pj4ypoZAACU0+n8QsW9t05r9hwtDsvu4YQlXK9ccdmiRYtzfm9k27ZttWbN\n",
              "GpcMBQAAXOd0fqFGvpekhD3HVCfAX7NHRqlbC8ISlYPf0AMAgBc7nV+oEfFJWrv3TFhGq1uLelaP\n",
              "BS9GXAIA4KVO5RVqxHtJStx7TIEB/podF63IMMISlYu4BADAC53MK9SI+EQlpR5XYE1/zYmLUZfm\n",
              "da0eCz6AuAQAwMuczCvU8FmJWrfPGZZz42LUmbBEFSEuAQDwItm5BRoen6T1+44rqKa/5o6KUafQ\n",
              "ulaPBR9CXAIA4CWycws0bFaiNqSdUHCt6pobF6MrQoOtHgs+hrgEAMALZBWF5caisJw3KkYdmxGW\n",
              "qHrEJQAAHi4rt0BDZyZqU/oJ1a3t3LEkLGEV4hIAAA+WmVOgobMStbkoLOeNilGHpoQlrENcAgDg\n",
              "oTJzCjR05lpt3p+perWra96oWLVvGmT1WPBxxCUAAB4o83SBhsxaqy37M1X/khqaNypGlzchLGE9\n",
              "4hIAAA9z4nS+Bs9cq60HslT/khqaPzpG7RoTlnAPxCUAAB7kxOl8DZqxVtsOZunSS2po/uhYtW0c\n",
              "aPVYQDHiEgAAD3H8lDMsfzqUpQZ1nGHZphFhCfdCXAIA4AGOFYXl9qKwXDA6VhGEJdwQcQkAgJs7\n",
              "dipfA6cnaMfhbDWoE6AFo2MIS7gt4hIAADd29GSeBs1Yqx2Hs9UwMEALRseqdUgdq8cCzom4BADA\n",
              "TR05madB09dq58+EJTwHcQkAgBs6cjJPA6cnaNfPJxUSGKAFY2LVqiFhCfdHXAIA4GZ+yXaGZXLG\n",
              "STUKcu5YtiQs4SGISwAA3EhGdq4GTl+rlIyTahxUUwvGxOqyBpdYPRZQZsQlAABuIiM7VwOmJWj3\n",
              "L6fUJLimFoyOVThhCQ9DXAIA4AYysnI1YLozLJsGO3csW1xKWMLzEJcAAFjs5yznjuWeI86wXDjm\n",
              "SoVdWtvqsYCLQlwCAGChs8OyWd1aWjA6lrCERyMuAQCwyOFM50fhe4vCcuGYWDWvT1jCsxGXAABY\n",
              "4FBmjgZMS1Dq0dMKrefcsSQs4Q2ISwAAqtjBEzkaMD1B+4rCcuGYWIXWIyzhHYhLAACq0IETzh3L\n",
              "tGOn1bx+LS0cc6Wa1a1l9ViAyxCXAABUkf3HT2vA9ASlH8tRWP3aWjgmVk0JS3gZ4hIAgCqw//hp\n",
              "9Z+WoP3Hc9Ti0tpaMJqwhHciLgEAqGTpx5w7lvuP5yj80tpaMCZWTYIJS3gn4hIAgEqUfsy5Y3ng\n",
              "RI4ua3CJFoyOVePgmlaPBVSaalYPAACAt0o7+mtYtiQs4SPYuQQAoBI4w3KNDmbmqmVDZ1g2CiIs\n",
              "4f2ISwAAXGzf0VPqPy1BhzJz1aooLEMIS/gI4hIAABdKPeIMy8NZRWE5JlYhgYQlfAdxCQCAi+w9\n",
              "ckoDisIyIqSO5o+OVcPAAKvHAqoUcQkAgAvs+eWkBkxP0M9ZeYQlfBpxCQBABe3+5aQGTEtQRnae\n",
              "2jRyhmWDOoQlfBNxCQBABaRknNTA6c6wbNc4UPNGxehSwhI+jLgEAOAipWRka8D0tfqFsASKEZcA\n",
              "AFyE5J+dYXnkpDMs54+OVf1Lalg9FmA54hIAgHJyhmWCjpzMV/smQZo3Kkb1CEtAEnEJAEC57Dyc\n",
              "rYHTE3T0VL46NA3S3DjCEjgbcQkAQBn9NiznjYpR3dqEJXA24hIAgDLYcThLA6ev1bFT+bqiWbDm\n",
              "xEUTlkApiEsAAC7gp4NZGjQjQcdPF6hTaLDmjIxRcO3qVo8FuKVqVg8AAIA7OzssO4cGa04cYQmc\n",
              "DzuXAACcw7aDmRo0Y61OnC5Q5+Z19f7IaAXXIiyB8yEuAQAoxdYDzrDMzClQl+Z19X5ctIJqEpbA\n",
              "hfCxOAAAv3F2WHYNIyyB8mDnEgCAs/y4P1ODZiQoK7dQkWF1NXtktAIJS6DMiEsAAIpsTj+hITPX\n",
              "Kiu3UN1a1NPskdGqE8BflUB58LE4AACSNqWf0OCisOxOWAIXjXcNAMDnbUw7rqEzE5WdV6jo8Pqa\n",
              "NSKKsAQuEu8cAIBP25B2XMPOhOVl9RU/PEqXEJbAReNjcQCAz1q/79cdyxjCEnAJ3kEAAJ+0ft8x\n",
              "DZuVpJN5hYptWV+zhkepdg3+WgQqqlw7l7m5ubrzzjvVpk0bde7cWTfccINSUlIkSRkZGerdu7ci\n",
              "IiLUsWNHffvtt5UyMAAAFbUu9ZiGzkzUybxCXdnyUsUPjyYsARcp98fiY8aM0c6dO7V582b16dNH\n",
              "o0aNkiQ9+eSTio2NVXJysuLj4zVw4EAVFBS4fGAAACoiKfWYhs5K1Kl8u3q0ulSzhkepVg0/q8cC\n",
              "vEa54rJmzZq65ZZbZLPZJEmxsbFKTU2VJC1atEj33XefJCkqKkpNmzbV6tWrS32cvLw8ZWVllbjY\n",
              "7fYKPA0AAC4sce8xDZuVqNP5dl3VuoFmDiMsAVer0A/0TJ48WX369NHRo0dVUFCgxo0bF98WHh6u\n",
              "tLS0Uu83adIkBQcHl7gkJiZWZBQAAM4rYc9RDY93huUfIhpoxrDuhCVQCS46LidOnKiUlBRNmjSp\n",
              "3Pd96qmnlJmZWeISHR19saMAAHBea3Yf1Yj4pOKwnD60u2pWJyyBynBR37386quvatmyZVq5cqVq\n",
              "166t2rVry9/fX4cPHy7evUxNTVVYWFip9w8ICFBAQECJ6/z8eJMDAFzvh91HFPfeOuUU2HV1m4aa\n",
              "NqQbYQlUonLvXL7++utasGCBvvzyS9WtW7f4+n79+undd9+VJCUlJenAgQPq1auXywYFAKC8fkg5\n",
              "opHvJSmnwK5ehCVQJcq1c7l//3499thjatmypa699lpJzl3ItWvX6qWXXtKQIUMUERGhGjVqaO7c\n",
              "uapevXqlDA0AwIX8rygs8wodurZtQ70zmLAEqkK54jI0NFTGmFJva9Sokb744guXDAUAQEV8n3xE\n",
              "cbOdYfnHdiF6Z3CkAvwJS6Aq8OsfAQBe5dtdvxSH5XWEJVDl+HUEAACvsXrXLxr9/jrlFzp0/eWN\n",
              "9NagroQlUMWISwCAV/hmZ4bGzFmv/EKHbmjfSG8NjFQNfz6gA6oa7zoAgMdbtSNDY953huWNhCVg\n",
              "KXYuAQAe7esdP+u+ORuUb3eod4fGmjKwq6r7EZaAVXj3AQA81lfbfw3LmzsSloA7YOcSAOCRVv70\n",
              "s+6ft14FdqNbrmisyf0JS8AdEJcAAI/zxbbDGjd/gwrsRrd2aqJ/3duFsATcBO9EAIBH+e9ZYXlb\n",
              "pyaaTFgCboWdSwCAx/h862H9Zf4GFTqMbu/cVG/c01n+hCXgVnhHAgA8wmc/HioOyz5dCEvAXbFz\n",
              "CQBwe5/+eEgPLNgou8Pozi5N9do9XeRXzWb1WABKwf/yAQDc2idbfg3Lvl2bEZaAm2PnEgDgtv6z\n",
              "+aAe/mCTMywjm+mVuzsTloCbY+cSAOCWPj4rLO/uFkpYAh6CnUsAgNtZvumAHvlgkxxG6tctVC/e\n",
              "1YmwBDwEcQkAcCsfbTygRxc5w/Le7s01qe8VqkZYAh6Dj8UBAG7jw437i8OyfxRhCXgidi4BAG5h\n",
              "6fr9+uuSzTJGGhDdXC/cSVgCnoidSwCA5ZacFZYDY8IIS8CDEZcAAEstXpeux4vCcnBsmCb06UhY\n",
              "Ah6Mj8UBAJZZlJSu8cu2yBhpSGwLPd+ng2w2whLwZMQlAMASHySlafzSHyVJw65soX/cQVgC3oC4\n",
              "BABUuQWJaXpqmTMsh/cI13O3tycsAS9BXAIAqtT8tWn624fOsBzRM1zP3kZYAt6EuAQAVJm5Cfv0\n",
              "9EdbJUkje16mZ267nLAEvAxxCQCoEnMS9umZorAcddVl+vuthCXgjYhLAECle39Nqp5dvk2SNPoP\n",
              "l+lvtxCWgLciLgEAlWr2D6l67mNnWI69uqWevLkdYQl4MeISAFBp4v+3V//3n58kSff1aqXxvdsS\n",
              "loCXIy4BAJVi5vd79c8VzrC8/5pWeuImwhLwBcQlAMDlZny3RxM+2S5JGndtK/31RsIS8BXEJQDA\n",
              "pc4Oywf+2FqP3tCGsAR8CHEJAHCZad/u1sRPd0iSHvxjaz1CWAI+h7gEALjEu6t368XPnGH50HUR\n",
              "euSGNhZPBMAKxCUAoMLe+Wa3XvrcGZYPXx+hh68nLAFfRVwCACrkrVUpeuW/OyVJj1zfRg9dH2Hx\n",
              "RACsRFwCAC7av79O1qtf7JIkPXZDGz1wHWEJ+DriEgBwUaZ8lazXvnSG5eM3tdW4a1tbPBEAd0Bc\n",
              "AgDKbfLKZL2xkrAE8HvEJQCgXN74cpcmf5UsSRrfu53uv6aVxRMBcCfEJQCgTIwxemNlst4sCsun\n",
              "bm6nsb0ISwAlEZcAgAsyxuiNL3fpza9TJEl/u6WdxlxNWAL4PeISAHBexhi99sUu/XuVMyyfvvVy\n",
              "jfpDS4unAuCuiEsAwDkZY/TqFzv11qrdkghLABdGXAIASmWM0cv/3al3vnGG5bO3tdfIqy6zeCoA\n",
              "7o64BAD8jjFGL36+Q1NX75EkPXd7e43oSVgCuDDiEgBQgjFGL362Q1O/dYbl/93RQcN6hFs7FACP\n",
              "QVwCAIoZYzTx0+2a/t1eSdLzfTpo6JXh1g4FwKMQlwAASc6wnPDJds383hmW/7yzo4bEtrB4KgCe\n",
              "hrgEAMgYo3+u2K5Z/3OG5YQ7O2owYQngIhCXAODjjDH6v//8pPd+SJUkTfzTFRoYE2btUAA8FnEJ\n",
              "AD7st2E5qe8VGhBNWAK4eMQlAPgoY4ye+3ib3l+zTzab9GLfK3RvFGEJoGKISwDwQcYYPbt8m+Yk\n",
              "OMPypb6ddE9Uc6vHAuAFiEsA8DEOh9GzH2/V3IQ02WzSy3d1Ur/uhCUA1yAuAcCHOBxGTy/fqvlr\n",
              "nWH5yt2ddXe3UKvHAuBFiEsA8BEOh9HfP/pRCxLTZbNJr/XrrL6RhCUA16pWnoMffPBBhYeHy2az\n",
              "adOmTcXXJycnq0ePHmrTpo2ioqK0bds2V88JAKgAh8Pobx86w7KaTXr9HsISQOUoV1zefffd+v77\n",
              "79WiRcl/WHfs2LEaM2aMdu3apfHjx2v48OGunBEAUAEOh9GTy7ZoYdKZsOyiP3UlLAFUjnLF5dVX\n",
              "X63Q0JInpIyMDK1bt06DBw+WJN11111KT09XSkqK66YEAFwUh8No/NItWrRuv6rZpDfu7aI7uzaz\n",
              "eiwAXqzC33OZnp6uJk2ayN/f+VA2m01hYWFKS0tT69atS71PXl6e8vLySlxnt9srOgoA4Cz2orBc\n",
              "st4Zlv/q31V3dG5q9VgAvFy5di5dZdKkSQoODi5xSUxMtGIUAPBKdofR40s2a8n6/fKrZtNkwhJA\n",
              "FalwXDZv3lyHDh1SYWGhJOc/zJuWlqawsHP/loennnpKmZmZJS7R0dEVHQUAoKKwXLxZyzYckF81\n",
              "m97s31W3E5YAqkiF4zIkJESRkZGaO3euJGnp0qUKDQ0950fikhQQEKCgoKASFz8/v4qOAgA+z+4w\n",
              "emzRJi3b6AzLKQO66tZOTaweC4APKVdcjh07VqGhodq/f79uuumm4oCcOnWqpk6dqjZt2ujFF19U\n",
              "fHx8pQwLADi3QrtDjy7apI82HZR/NZv+PaCrbrmCsARQtcr1Az1Tp04t9fq2bdtqzZo1LhkIAFB+\n",
              "hXaHHlm0Wf/ZXBSWAyPVu2Njq8cC4IP4DT0A4OEK7Q49/MEmrdhySP7VbHprUKRu6kBYArAGcQkA\n",
              "HqzA7tDDCzfpkx8PqbqfTW8NjNSNhCUACxGXAOChCuwOPbRwoz798bCq+9n0zqBuur59I6vHAuDj\n",
              "iEsA8EAFdoceXLBRn209rBp+1fTO4EhddzlhCcB6xCUAeJj8QoceWLBB/932s2r4VdO7QyL1x3aE\n",
              "JQD3QFwCgAfJL3ToL/M36IufflYN/2qaOqSbrm0bYvVYAFCMuAQAD5Ff6NC4+Rv0ZVFYThvSTdcQ\n",
              "lgDcDHEJAB4gr9CucfM2aOX2DNXwr6bpQ7urV5uGVo8FAL9DXAKAm8srtOvPczfoqx0ZCigKy6sJ\n",
              "SwBuirgEADeWV2jX/XM36OuisJw5LEpXRTSweiwAOCfiEgDcVG6BXffPXa9VO39RzerOsOzZmrAE\n",
              "4N6ISwBwQ7kFdo2ds16rdznDctawKPUgLAF4AOISANxMboFdY+as17dnwnJ4lHq0IiwBeAbiEgDc\n",
              "SG6BXaPfX6fvko+oVnU/zRoepStbXWr1WABQZsQlALiJs8Oydg0/xQ+PUkxLwhKAZyEuAcAN5OQ7\n",
              "w/L7FGdYvjciWtGX1bd6LAAoN+ISACyWk29X3Owk/bD7qC6p4af3RkYrKpywBOCZiEsAsNDp/ELF\n",
              "vbdOa/Y4w3L2yGh1JywBeDDiEgAscjq/UCPfS1LCnmOqE+Cv2SOj1K0FYQnAsxGXAGCBU3mFGvFe\n",
              "khL3ngnLaHVrUc/qsQCgwohLAKhip/IKNSI+SYmpxxQY4K/ZcdGKDCMsAXgH4hIAqtDJvEKNiE9U\n",
              "UupxBQb46/24aHUlLAF4EeISAKrIybxCDZ+VqHX7jiuwpr/mxMWoS/O6Vo8FAC5FXAJAFcjOLdDw\n",
              "+CSt33dcQTX9NXdUjDqF1rV6LABwOeISACpZdm6Bhs1K1Ia0Ewqq6a95o2J1RWiw1WMBQKUgLgGg\n",
              "EmUVheXGtBMKrlVd80bFqGMzwhKA9yIuAaCSZOUWaOjMRG1KJywB+A7iEgAqQWZOgYbOStTm9BOq\n",
              "W7u65sYRlgB8g8/Fpd1hdO/UNVaPAcDLHcrM1YETOapXu7rmjYpV+6ZBVo8EAFXC5+JSktbtO271\n",
              "CAB8AGEJwBf5XFxWs0nvDo60egwAXs+mqPB6urROgNWDAECV8rm4tNls6t2xidVjAAAAeKVqVg8A\n",
              "AAAA70FcAgAAwGWISwAAALgMcQkAAACXIS4BAADgMsQlAAAAXIa4BAAAgMsQlwAAAHAZ4hIAAAAu\n",
              "Q1wCAADAZYhLAAAAuIzNGGOsHkKS+vbtq/Dw8Cr5s+x2uxITExUdHS0/P78q+TM9AetybqxN6ViX\n",
              "c2NtSse6nBtrUzrW5dysWJsWLVrooYceOu8xbhOXVSkrK0vBwcHKzMxUUFCQ1eO4Ddbl3Fib0rEu\n",
              "58balI51OTfWpnSsy7m569rwsTgAAABchrgEAACAyxCXAAAAcBmfjMuAgAA999xzCggIsHoUt8K6\n",
              "nBtrUzrW5dxYm9KxLufG2pSOdTk3d10bn/yBHgAAAFQOn9y5BAAAQOUgLgEAAOAyxCUAAABcxqvi\n",
              "Mjk5WT169FCbNm0UFRWlbdu2lXrczJkzFRERoVatWmn06NEqKCgo022erCxr8/XXXys6Olrt27dX\n",
              "hw4d9MQTT8jhcEiSUlNT5efnpy5duhRfdu/eXdVPw+XKsi7ffPONatWqVeK55+TkFN/uy6+Z+Pj4\n",
              "EuvSoEED9e3bV5L3vmYefPBBhYeHy2azadOmTec8ztfOM2VZF188x0hlWxtfPM+UZV188RyTm5ur\n",
              "O++8U23atFHnzp11ww03KCUlpdRjV6xYoXbt2ikiIkJ9+/ZVVlZWmW6rdMaLXHvttSY+Pt4YY8zi\n",
              "xYtN9+7df3fMnj17TJMmTcyhQ4eMw+Ewt99+u/n3v/99wds8XVnWZsOGDWb37t3GGGNycnJMz549\n",
              "i++zd+9eExwcXEXTVp2yrMuqVatM586dS72/r79mfqtDhw5myZIlxhjvfc2sXr3apKenmxYtWpiN\n",
              "GzeWeowvnmfKsi6+eI4xpmxr44vnmbKsy2/5wjkmJyfHfPLJJ8bhcBhjjJkyZYrp1avX747Lzs42\n",
              "ISEhZvv27cYYY8aNG2f++te/XvC2quA1cfnzzz+bwMBAU1BQYIwxxuFwmEaNGpnk5OQSx7388stm\n",
              "7NixxV9/8sknpmfPnhe8zZOVdW1+a9y4cea5554zxnjnm7is63K+kz6vmV8lJCSYhg0bmvz8fGOM\n",
              "d75mzna+vxB98TxzRnlCwdvPMb91sXHJa8bJ184xZyQlJZkWLVr87vpFixaZm266qfjrbdu2mWbN\n",
              "ml3wtqrgNR+Lp6enq0mTJvL395ck2Ww2hYWFKS0trcRxaWlpatGiRfHX4eHhxcec7zZPVta1Odvh\n",
              "w4e1ZMkS3XbbbcXXnTp1SlFRUYqMjNTzzz8vu91e6bNXpvKsy+7duxUZGamoqCi9/fbbxdfzmvnV\n",
              "zJkzNWTIEFWvXr34Om97zZSVL55nyssXzjHl5WvnmfLy1XPM5MmT1adPn99dX9rr4tChQyosLDzv\n",
              "bVXBv0r+FHiUrKws3X777XriiSfUvXt3SVKTJk104MABhYSE6NixY7r33nv12muv6YknnrB42soX\n",
              "GRmp/fv3Kzg4WPv379ctt9yiBg0a6J577rF6NLdx6tQpLVy4UAkJCcXX+fJrBufHOeb3OM+cn6+e\n",
              "YyZOnKiUlBR99dVXVo9SLl6zc9m8efMSVW6MUVpamsLCwkocFxYWpn379hV/nZqaWnzM+W7zZGVd\n",
              "G0nKzs5W79691adPHz366KPF1wcEBCgkJESSVL9+fY0cOVLfffdd1TyBSlLWdQkKClJwcLAkKTQ0\n",
              "VAMGDCh+7rxmnBYvXqwOHTqoffv2xdd542umrHzxPFNWvnSOKQ9fPM+Uhy+eY1599VUtW7ZMn332\n",
              "mWrXrv2720t7XZz5xOl8t1UFr4nLkJAQRUZGau7cuZKkpUuXKjQ0VK1bty5x3F133aWPP/5Yhw8f\n",
              "ljFG7777rvr373/B2zxZWdfm5MmT6t27t3r37q2nn366xG0ZGRnFP52Yl5enZcuWqWvXrlXzBCpJ\n",
              "Wdfl0KFDxT/Rmp2drRUrVhQ/d19/zZwxc+ZMxcXFlbjOG18zZeWL55my8LVzTHn44nmmPHztHPP6\n",
              "669rwYIF+vLLL1W3bt1Sj+ndu7c2bNigHTt2SJLefvvt4tfF+W6rElX23Z1VYMeOHSY2NtZERESY\n",
              "bt26mS1bthhjjImLizPLly8vPm7atGmmZcuWpmXLlmbkyJHF3xx8ods8WVnWZsKECcbf39907ty5\n",
              "+DJhwgRjjDFLly41HTp0MJ06dTLt27c3f/nLX0xubq5lz8dVyrIuU6ZMMe3bty9+7s8991zxT/EZ\n",
              "49uvmTPH1alTx2RlZZW4v7e+ZsaMGWOaNWtm/Pz8TEhIiGnVqpUxhvNMWdbFF88xxpRtbXzxPFPW\n",
              "95KvnWPS09ONJNOyZcvi90l0dLQxxphnnnnGvPPOO8XHLl++3LRt29a0atXK9OnTx5w4caJMt1U2\n",
              "frc4AAAAXMZrPhYHAACA9YhLAAAAuAxxCQAAAJchLgEAAOAyxCUAAABchrgEAACAyxCXAAAAcBni\n",
              "EgAAAC5DXAIAAMBliEsAAAC4DHEJAAAAl/l/veObjqOFtZQAAAAASUVORK5CYII=\n",
              "\">\n",
              "      </div>\n",
              "      <script type=\"text/javascript\">\n",
              "        (() => {\n",
              "          const chartElement = document.getElementById(\"chart-c671be68-7568-481e-aff7-27d1b1f5f5fe\");\n",
              "          async function getCodeForChartHandler(event) {\n",
              "            const chartCodeResponse =  await google.colab.kernel.invokeFunction(\n",
              "                'getCodeForChart', [\"chart-c671be68-7568-481e-aff7-27d1b1f5f5fe\"], {});\n",
              "            const responseJson = chartCodeResponse.data['application/json'];\n",
              "            await google.colab.notebook.addCell(responseJson.code, 'code');\n",
              "          }\n",
              "          chartElement.onclick = getCodeForChartHandler;\n",
              "        })();\n",
              "      </script>\n",
              "      <style>\n",
              "        .colab-quickchart-chart-with-code  {\n",
              "            display: block;\n",
              "            float: left;\n",
              "            border: 1px solid transparent;\n",
              "        }\n",
              "\n",
              "        .colab-quickchart-chart-with-code:hover {\n",
              "            cursor: pointer;\n",
              "            border: 1px solid #aaa;\n",
              "        }\n",
              "      </style>"
            ]
          },
          "metadata": {}
        },
        {
          "output_type": "display_data",
          "data": {
            "text/plain": [
              "from matplotlib import pyplot as plt\n",
              "model_df['mse'].plot(kind='line', figsize=(8, 4), title='mse')\n",
              "plt.gca().spines[['top', 'right']].set_visible(False)"
            ],
            "text/html": [
              "      <div class=\"colab-quickchart-chart-with-code\" id=\"chart-e6a6e941-b176-4c72-b655-898ff1373d6d\">\n",
              "        <img style=\"width: 180px;\" src=\"data:image/png;base64,iVBORw0KGgoAAAANSUhEUgAAAqUAAAFuCAYAAAC4H2HYAAAAOnRFWHRTb2Z0d2FyZQBNYXRwbG90\n",
              "bGliIHZlcnNpb24zLjEwLjAsIGh0dHBzOi8vbWF0cGxvdGxpYi5vcmcvlHJYcgAAAAlwSFlzAAAP\n",
              "YQAAD2EBqD+naQAALrtJREFUeJzt3Xl4VOXdh/HvkIQgQoKA0UgIEUJQEAiBLGJFsVKp1RcLKIss\n",
              "kUDQomixitha+1or2iqWWjcQAhIIyFK18mLdUaohYQkgsiRsCRgIWxaWbDPP+8fESGTLfma5P9c1\n",
              "19XMmYTfeTo53D6TITZjjBEAAABgoSZWDwAAAAAQpQAAALAcUQoAAADLEaUAAACwHFEKAAAAyxGl\n",
              "AAAAsBxRCgAAAMsRpQAAALAcUQoAAADLEaUAAACwHFEKAAAAyxGlAAAAsBxRCgAN6Oabb9ZDDz2k\n",
              "YcOGKSAgQCEhIVq8eLG2bNmi66+/Xi1btlRMTIx27NghSXrnnXfUrVs3BQQEqG3btrr11lsrv1Zx\n",
              "cbGefPJJderUSZdddpn69eunjRs3WnVqAFCviFIAaGALFizQpEmTlJ+fr8cee0wJCQl64oknlJKS\n",
              "oqNHj6p9+/aaPHmyTp06pVGjRumVV15RYWGh9u/fryeffLLy69x///1KS0vT6tWrdfjwYd1zzz26\n",
              "7bbblJ+fb93JAUA9IUoBoIENGTJE/fr1U5MmTRQfH18Zn2FhYWratKlGjhyptLQ0SZKfn5+2bdum\n",
              "I0eOqFmzZrrlllskSUePHtX8+fP16quvKiQkRL6+vnrwwQcVGBioDz74wMrTA4B6QZQCQAMLDg6u\n",
              "/N+XXnrpOe8rKipS8+bN9eGHH+qTTz5Rly5d1L17d82cOVOSlJWVJUmKjY1Vq1atKm8HDhzQ/v37\n",
              "G/FsAKBh+Fo9AADgRzfeeKNuvPFGGWO0evVqDRw4UF27dlVERIQkafPmzQoNDbV4SgCof+yUAoCL\n",
              "OHjwoJYuXar8/HzZbDa1atVKNptNvr6+6tChg+666y5NmjRJ+/btkyQVFRVp1apVys3NtXhyAKg7\n",
              "ohQAXIQxRm+88YY6duyoFi1aaOjQofrLX/6i/v37S5IWLVqk3r17a8CAAWrZsqW6dOmi2bNnyxhj\n",
              "8eQAUHc2w9UMAAAAFmOnFAAAAJYjSgEAAGA5ohQAAACWI0oBAABgOaIUAAAAliNKAQAAYDmiFAAA\n",
              "AJZz+yj94fdCAwAAwH25fZT+8Ov2AAAA4L7cPkoBAADg/ohSAAAAWI4oBQAAgOWIUgAAAFiOKAUA\n",
              "AIDliFIAAABYjigFAACA5YhSAAAAWI4oBQAAgOWIUgAAAFiOKAUAAPAip0vtVo9wTkQpAACAl9hz\n",
              "5KR+/tIXWrZ+v9WjnIUoBQAA8AJ7jpzU8Fnf6PuCYr311W6V2R1Wj1SFr9UDAAAAoGHtOnxCI2al\n",
              "Kq+oRF2uaKnk8bHy83GtvUmiFAAAwIOdGaTXXNlSC8fHqk0Lf6vHOgtRCgAA4KGy8k5oxOxUHXbx\n",
              "IJWIUgAAAI+UlVek4bPW6siJEl0bHKCF42PV+tKmVo91XkQpAACAh8k8VKQRs1N15ESpulYE6WUu\n",
              "HKQS774HAADwKDvPCNJuV7lHkErslAIAAHiMHQeLNHJ2qo6eLNV17QKUnBCrVs1dP0glohQAAMAj\n",
              "bD9YqJGz1+rYyVJ1bxeoBQkxbhOkElEKAADg9rblFuret5xB2iMkUAvGxSqwuZ/VY9UIUQoAAODG\n",
              "vvu+UPe+larjp8rUMyRQbyfEKvAS9wpSiSgFAABwW1u/L9C9b61V/qky9WzfSm+Pi3HLIJWIUgAA\n",
              "ALf07YECjZrjDNLI9q30dkKMApq5Z5BKRCkAAIDb+faAc4e04HSZeoU6d0hbunGQSkQpAACAW9my\n",
              "v0D3vpWqwuJyRYW20nwPCFKJKAUAAHAbm/fna9Rba1VYXK4+HS7TvHExauHvGTnnGWcBAADg4Tbl\n",
              "5GvUnLUqKi5XdNhlSrrPc4JU4teMAgAAuLyMHOcOaVFxuWLCWntckErslAIAALi0jdnHNWZOmopK\n",
              "yhVzdWslxUfrUg8LUokoBQAAcFnr9x3X2LlpOlFSrtirWyvpvmg1b+qZ+Vajl++Li4t11113KSIi\n",
              "Qj179tSAAQOUlZUlScrLy9PAgQPVuXNnXXfddfryyy8rP6+2xwAAALzV+n3HKoM0rqNnB6lUi58p\n",
              "TUxM1I4dO7Rp0yYNGjRI48ePlyQ98cQTiouLU2ZmppKSkjRy5EiVlZXV6RgAAIA3Wrf3mMbMcQZp\n",
              "305tlBQf49FBKtUwSps1a6bbb79dNptNkhQXF6e9e/dKkt555x3df//9kqTo6GhdddVVWr16dZ2O\n",
              "AQAAeJv0vc4d0pOldt0Q3kZzxkbrkqY+Vo/V4OqU3DNnztSgQYN09OhRlZWV6corr6w8FhYWpuzs\n",
              "7FofO5eSkhKVlJRUuc9ut9flFAAAAFxG2p5jik9K06lSu34W3lazx/TxiiCV6vBPQj333HPKysrS\n",
              "9OnT63OeC5o+fboCAwOr3NLS0hrtzwcAAGgoa3cfrQzSGzu31VtjvSdIpVpG6YsvvqgVK1Zo1apV\n",
              "at68udq0aSNfX18dPHiw8jF79+5VaGhorY+dy7Rp01RQUFDlFhMTU5tTAAAAcBmpu48qPildp0rt\n",
              "6hdxuWaP6aNmft4TpFItonTGjBlKSUnRxx9/rFatWlXef/fdd+uNN96QJKWnp+vAgQO66aab6nTs\n",
              "p/z9/RUQEFDl5uPjXf+HAQAAz/LNrqO6Lyldp8vsuinics0a3dvrglSq4c+U7t+/X48++qg6duyo\n",
              "/v37S3KG4tq1a/XCCy9o9OjR6ty5s5o2bark5GT5+flJUq2PAQAAeLKvs45o3Px0FZc5dHOXy/XG\n",
              "KO8MUkmyGWOM1UPUxZQpUzRjxgyrxwAAAKiR/2YdUUJFkPbvcrneGN1b/r7eGaQSv9EJAACg0a3J\n",
              "dAZpSblDt1wTpNdHRXl1kEp1ePc9AAAAau6rzMOVQXrrtQTpD9gpBQAAaCSrdx7WhLfXqbTcoVuv\n",
              "vUKv3tuLIK1AlAIAADSCL3bkKXHBepWWOzSg6xV6dWSUmvryovUPWAkAAIAG9vkZQXpbN4L0XNgp\n",
              "BQAAaECfb8/TxAXrVWp3aGC3K/XKyF7y8yFIf4oVAQAAaCCfbjtUGaS/vI4gvRB2SgEAABrAJ98d\n",
              "0gML16vMbvSr7sH6+/BIgvQCWBkAAIB69vGZQdqDIK0OdkoBAADq0UdbD2rSog0qsxvd2fMqvXxP\n",
              "T/kSpBfFCgEAANSTD789qN8sdAbp/xCkNcJOKQAAQD348NtcPbhoo8odRoMir9JLdxOkNUGUAgAA\n",
              "1NGqLbl6MGWj7A6jX/dqpxfv7imfJjarx3Ir5DsAAEAdrNz8Y5AOJkhrjZ1SAACAWvpg8/d6eHGG\n",
              "M0ij2ulvQwnS2mKnFAAAoBb+venHIB3aO4QgrSN2SgEAAGrovYwD+u2SDDmMdHfvEL0wpIeaEKR1\n",
              "wk4pAABADZwZpMP6tCdI6wlRCgAAUE3/2ri/MkiHR7fX9MHdCdJ6wsv3AAAA1bBiw379bukmOYw0\n",
              "IiZUf7nrOoK0HrFTCgAAcBHL1u/XoxVBOjKWIG0IRCkAAMAFLF2Xo8eWbZIx0qi4UD07iCBtCLx8\n",
              "DwAAcB7vrMvR1OWbZYw0Oq6DnhnUTTYbQdoQ2CkFAAA4hyXp2ZVBOvZ6grShsVMKAADwE4vTsvXE\n",
              "ii2SpPi+YXr6zq4EaQMjSgEAAM6waG22nvyXM0jvuyFMf7yDIG0MRCkAAECFhWv36ff/+laSNO6G\n",
              "q/XUHdcSpI2EKAUAAJC0IHWfnnrXGaTjf3a1fv8rgrQxEaUAAMDrLfhmr556b6skKbFfR0375TUE\n",
              "aSPj3fcAAMCrzf/6xyCdSJBahp1SAADgteb9d4/+9O/vJEn339RJUwd2IUgtQpQCAACvNHfNHj3z\n",
              "gTNIf3NzJz12G0FqJaIUAAB4nbe+2q1nV26TJE3q30m/+wVBajWiFAAAeJUzg/ShW8I1ZUAEQeoC\n",
              "iFIAAOA1Zn+5W3/5P2eQTv55Z/321s4EqYsgSgEAgFd4c/UuTV+1XZL08M8767cDIiyeCGciSgEA\n",
              "gMd7/YtdeuFDZ5A+cmtnPXIrQepqiFIAAODRXvsiS3/9cIckacqACE3+eWeLJ8K5EKUAAMBjvfp5\n",
              "lv72H2eQPjogQg8RpC6LKAUAAB7plU8z9dLHOyVJj93WRZP6h1s8ES6EKAUAAB7nH59makZFkD4+\n",
              "sIt+czNB6uqIUgAA4FH+/slO/f2TTEnS1IHX6IGbO1k8EaqDKAUAAB7j5Y93auanziCd9strNPEm\n",
              "gtRdEKUAAMDtGWP08ieZ+kdFkP7+9ms1oV9Hi6dCTRClAADArRljNOPjnXrlsyxJ0h9+da3G30iQ\n",
              "uhuiFAAAuC1jjF78aIde/XyXJOmpO7oq4WdXWzwVaoMoBQAAbskYo7/9Z4de+8IZpH+8o6vGEaRu\n",
              "iygFAABuxxijFz7coTdWO4P0T3d2VfwNBKk7I0oBAIBbMcbo+VXb9eaXuyVJzwzqpjHXh1k7FOqM\n",
              "KAUAAG7DGKPpq7ZrVkWQ/nlQN40mSD0CUQoAANyCMUZ/WblNb63ZI0n6813XaXRcB4unQn0hSgEA\n",
              "gMszxujPH2zT3P86g/Qvv75O98YSpJ6EKAUAAC7NGKNnPvhOSf/dK0l67tfdNTI21NqhUO+IUgAA\n",
              "4LKMMfrff3+neV/vlSQ9P7i7hscQpJ6IKAUAAC7JGKM/vb9V87/ZJ5vNGaTDoglST0WUAgAAl2OM\n",
              "0R/f26oFqc4gfWFwD90T3d7qsdCAmtTkwZMnT1ZYWJhsNpsyMjIq7w8LC1OXLl0UGRmpyMhILVmy\n",
              "pPJYZmam+vbtq4iICEVHR2vr1q3VOgYAALyTw2H01HvfVgbpX4cQpN6gRlE6dOhQrVmzRh06nP1u\n",
              "tyVLligjI0MZGRkaNmxY5f0TJ05UYmKidu7cqalTpyo+Pr5axwAAgPdxOIz+8N63Sk7Nls0m/W1o\n",
              "T93dhyD1BjWK0n79+ikkJKTaj8/Ly9O6des0atQoSdKQIUOUk5OjrKysCx4DAADex+Ew+v2732rR\n",
              "WmeQvnR3Tw3tXf3ugHurUZReyJgxY9S9e3clJCTo8OHDkqScnBwFBwfL19f5o6s2m02hoaHKzs6+\n",
              "4LHzKSkpUWFhYZWb3W6vr1MAAAAWcTiMnvzXFqWkZauJTZpxT08NjiJIvUm9ROmXX36pzZs3a8OG\n",
              "DWrbtq3Gjh1bH1/2LNOnT1dgYGCVW1paWoP8WQAAoHE4HEbTVmzR4vQcNbFJLw+L1K97EaTepl6i\n",
              "NDTU+c8z+Pn56ZFHHtFXX30lSWrfvr1yc3NVXl4uyflOuuzsbIWGhl7w2PlMmzZNBQUFVW4xMTH1\n",
              "cQoAAMACDofR1OWbtWTdj0E6KLKd1WPBAnWO0pMnTyo/P7/y45SUFPXq1UuSFBQUpKioKCUnJ0uS\n",
              "li9frpCQEIWHh1/w2Pn4+/srICCgys3Hx6eupwAAACxgdxg9vnyzlq7fL58mNs0c3osg9WI2Y4yp\n",
              "7oMnTpyolStX6uDBg2rTpo1atmypjz76SEOGDJHdbpcxRh07dtTMmTMVFhYmSdqxY4fi4+N19OhR\n",
              "BQQEKCkpSd27d7/oseqaMmWKZsyYUaPPAQAA1rI7jB5btkkrNhyoCNJI3dHjKqvHgoVqFKWuiCgF\n",
              "AMC92B1Gjy3dpBUbnUH6j+G99KsewVaPBYvxG50AAECjsTuMHn0nQ+9mfC/fJja9MqKXftmdIAVR\n",
              "CgAAGkm53aFHl27SexVB+s+RvTTwOoIUTkQpAABocOV2h6a8s0nvb/ohSKM08LorrR4LLoQoBQAA\n",
              "Darc7tAjSzL0weZc+fnY9OrIKP2iG0GKqohSAADQYMrtDj28JEMrK4L0tXt7a0DXK6weCy6IKAUA\n",
              "AA2izO7QI4sztHKLM0hfv7e3biVIcR5EKQAAqHdldocmp2zUqm8PqqlPE70+Kko/v5YgxfkRpQAA\n",
              "oF6V2R16aNFGfbjVGaRvju6t/tcEWT0WXBxRCgAA6k1puUMPpWzQf7YeUlPfiiDtQpDi4ohSAABQ\n",
              "L0rLHZq0aIM+/s4ZpLNG99bNBCmqiSgFAAB1Vlru0G8WbtAn25xBOntMH90UcbnVY8GNEKUAAKBO\n",
              "SsrtmrRwgz7Zlif/iiDtR5CihohSAABQayXldj2QvEGfbXcG6Zyx0fpZ57ZWjwU3RJQCAIBaKS6z\n",
              "64Hk9fp8x2E183MG6Q3hBClqhygFAAA1Vlxm1/3J6/VFRZDOHRutvgQp6oAoBQAANVJcZlfigvX6\n",
              "cudhXeLno7nx0bq+Uxurx4KbI0oBAEC1FZfZNeHtdfoq84gu8fNR0n3RiutIkKLuiFIAAFAtZwZp\n",
              "86Y+SoqPVixBinpClAIAgIs6XeoM0jVZziCdd1+MYq5ubfVY8CBEKQAAuKDTpXYlzE/X17uO6tKm\n",
              "Ppo3LkbRYQQp6hdRCgAAzutUabkS5q3TN7udQTp/XIz6EKRoAEQpAAA4p1Ol5Ro3L12pu4+phb+v\n",
              "5o+LVu8OBCkaBlEKAADOcqq0XPclpWvtnh+CNEa9O1xm9VjwYEQpAACo4mRJue6bl660PcfU0t9X\n",
              "8xNiFBVKkKJhEaUAAKDSiZJy3ZeUpvS9x9Wyma8WJMQqsn0rq8eCFyBKAQCAJGeQxs9N07p9ziBN\n",
              "TohVT4IUjYQoBQAAKiouU3xSutbvO66AZr5KHh+rHiGtrB4LXoQoBQDAyxUVl2ns3DRtyM5X4CV+\n",
              "Sk6IVfeQQKvHgpchSgEA8GKFFUG6sSJIF46P1XXtCFI0PqIUAAAvVVhcpjFz0pSRk69WzZ07pAQp\n",
              "rEKUAgDghQpOl2nM3DRtqgjSheNj1e0qghTWIUoBAPAyBafLNGbOWm3aX6DLmvtp4fg4db0qwOqx\n",
              "4OWIUgAAvEjBqTKNnrtWm/cXqPWlTbVwfKyuDSZIYT2iFAAAL5F/qlSj5qzVtwcK1frSplo0IVbX\n",
              "XEmQwjUQpQAAeIH8U6W696212vp9odpc2lSLJsSpy5UtrR4LqESUAgDg4Y6fdAbpd7mFatvCGaQR\n",
              "VxCkcC1EKQAAHuxYRZBuqwjSlAlx6kyQwgURpQAAeKhjJ0s1cnaqth8sUtsW/kqZEEuQwmURpQAA\n",
              "eKCjJ0p071trtf1gkS5v6a+UCXEKD2ph9VjAeRGlAAB4mCMnSnTv7LXacYgghfsgSgEA8CBHTpRo\n",
              "5OxU7Tx0QkEt/ZWSGKdOlxOkcH1EKQAAHuJwkTNIM/NO6IoA5w5pR4IUboIoBQDAA+QVFWvk7LXK\n",
              "yjuhKwOaKSUxTle3vdTqsYBqI0oBAHBzeUXFGjErVbsOn1RwYDOlTIhTGEEKN0OUAgDgxvIKizVi\n",
              "tjNIrwp07pB2aEOQwv0QpQAAuKlDhc4d0t1HnEG6OPF6hbZpbvVYQK0QpQAAuKEzg7Rdq0uUMiGO\n",
              "IIVbI0oBAHAzBwucL9nvqQjSxYlxat+aIIV7I0oBAHAjuQWnNWJWqvYePaWQy5w7pAQpPAFRCgCA\n",
              "m/g+/7RGzE7VvoogXZwYp5DLCFJ4BqIUAAA3cCDfuUOafeyU2re+RIsTr1e7VpdYPRZQb4hSAABc\n",
              "3P7jpzRidqpyjp1WaOvmWpwYp6sIUngYohQAABe2//gpDZ+Vqv3HT6tDm+ZKmUCQwjMRpQAAuKic\n",
              "Y84d0v3HTyusTXOlJMYpOJAghWciSgEAcEE5x5w7pAfyT+vqtpcqZUKcrgxsZvVYQINpYvUAAACg\n",
              "quyjPwZpR4IUXqJGUTp58mSFhYXJZrMpIyOj8v7MzEz17dtXERERio6O1tatW+t8DAAAb+QM0m+c\n",
              "QXr5pUpJJEjhHWoUpUOHDtWaNWvUoUOHKvdPnDhRiYmJ2rlzp6ZOnar4+Pg6HwMAwNvsO3pSw2Z9\n",
              "o+8LitXp8ku1eEKcrgggSOEdbMYYU9NPCgsL07vvvqvIyEjl5eUpPDxcx44dk6+vr4wxCg4O1po1\n",
              "axQQEFCrY+Hh4dWeZcqUKZoxY0ZNTwEAAJey98hJDZ+VqoOFziBNSYxTUEuCFN6jzm90ysnJUXBw\n",
              "sHx9nV/KZrMpNDRU2dnZCgwMrNWx80VpSUmJSkpKqtxnt9vregoAAFhqz5GTGlERpJ2DWmjRhDhd\n",
              "3tLf6rGARuVWb3SaPn26AgMDq9zS0tKsHgsAgFrbffiEhs/6hiCF16tzlLZv3165ubkqLy+XJBlj\n",
              "lJ2drdDQ0FofO59p06apoKCgyi0mJqaupwAAgCV2HT6h4bNSdaiwRBFXtFBKIkEK71XnKA0KClJU\n",
              "VJSSk5MlScuXL1dISIjCw8Nrfex8/P39FRAQUOXm4+NT11MAAKDRZeWd0IhZqcorKtE1V7ZUyoQ4\n",
              "tW1BkMJ71eiNThMnTtTKlSt18OBBtWnTRi1btlRWVpZ27Nih+Ph4HT16VAEBAUpKSlL37t0lqdbH\n",
              "qos3OgEA3E1WXpFGzF6rwxVBunB8rNoQpPBytXr3vSshSgEA7iTzkDNIj5xwBumiCXFqfWlTq8cC\n",
              "LMevGQUAoJE4gzRVR06UqmtwgBaOj9VlBCkgiSgFAKBR7DhYpJGzU3X0ZKm6XRWg5ASCFDgTUQoA\n",
              "QAP7aZAuHB+rVs0JUuBMRCkAAA1o+8FCjZy9VsdOlqp7u0AtSIghSIFzIEoBAGgg331fqHvfStXx\n",
              "U2XqERKoBeNiFdjcz+qxAJfkVr/RCQAAd3FmkPYMCdSCBIIUuBB2SgEAqGdbvy/QvW+tVf6pMvVs\n",
              "30pvj4tR4CUEKXAhRCkAAPXo2wPOIC04XabI9q30dkKMApoRpMDF8PI9AAD15Mwg7RVKkAI1wU4p\n",
              "AAD1YMv+At37VqoKi8sVFdpK88fFqCVBClQbUQoAQB1tysnX6DlrVVhcrt4dLtP8cTFq4c9fsUBN\n",
              "8PI9AAB1kJGTr1EVQdqHIAVqje8aAABqaWP2cY2Zk6aiknLFhLXW3PuiCVKglvjOAQCgFjZkH9fY\n",
              "H4L06tZKio/WpQQpUGu8fA8AQA2t3/fjDmksQQrUC76DAACogfX7jmns3HSdKClXXMfWmhsfreZN\n",
              "+esUqCu+iwAAqKZ1e49p7Nw0nSy16/qObTQ3PlqXNPWxeizAI/DyPQAA1ZC+95jGVARp304EKVDf\n",
              "iFIAAC4ibY9zh/RUqV0/C2+rOWMJUqC+8fI9AAAXkLr7qMbNS9epUrtu7NxWs8f0UTM/ghSob0Qp\n",
              "AADn8c0uZ5CeLiNIgYZGlAIAcA5f7zqihHnrdLrMrn4Rl2vW6N4EKdCAiFIAAH7i66wjGjc/XcVl\n",
              "Dt0UcbneJEiBBscbnQAAOMN/s47ovnnOIO3fhSAFGgs7pQAAVFiTeUQJ89NVUu7QLdcE6fVRUfL3\n",
              "JUiBxsBOKQAAkr7cebgySH9OkAKNjp1SAIDXW73zsCa8vU6l5Q7deu0VevXeXgQp0MiIUgCAV/ti\n",
              "R54SF6xXablDA7peoVdHRqmpLy8kAo2N7zoAgNf6fHueEt92BukvCFLAUuyUAgC80mfbD+n+BRtU\n",
              "andoYLcr9crIXvLzIUgBq/DdBwDwOp9u+zFIf3kdQQq4AnZKAQBe5ZPvDumBhetVZje6vfuVmjmc\n",
              "IAVcAVEKAPAaH209qEmLNqjMbvSrHsH6+7BIghRwEXwnAgC8wn/OCNI7egRrJkEKuBR2SgEAHu/D\n",
              "bw/qwUUbVO4wurPnVXr5np7yJUgBl8J3JADAo63aklsZpIMiCVLAVbFTCgDwWP+3JVcPpWyU3WF0\n",
              "V+RVeumeSPk0sVk9FoBz4D8VAQAeaeXmH4N0cK92BCng4tgpBQB4nH9v+l6PLMlwBmlUO/1taE+C\n",
              "FHBx7JQCADzK+2cE6dDeIQQp4CbYKQUAeIz3Mg7ot0sy5DDS3b1D9PyQHgQp4CaIUgCAR3h34wFN\n",
              "eccZpMP6tNf0wd3VhCAF3AYv3wMA3N6/Nu6vDNLh0QQp4I7YKQUAuLXl6/frd8s2yRhpREx7/eUu\n",
              "ghRwR+yUAgDc1rIzgnRkbChBCrgxohQA4JaWrsvRYxVBOiouVM8Ouo4gBdwYL98DANzOO+k5mrpi\n",
              "s4yRRsd10DODuslmI0gBd0aUAgDcypL0bE1dvkWSNPb6DvrT/xCkgCcgSgEAbiMlLVvTVjiDNL5v\n",
              "mJ6+sytBCngIohQA4BYWrc3Wk/9yBul9N4Tpj3cQpIAnIUoBAC4vOXWf/vDut5KkcTdcrafuuJYg\n",
              "BTwMUQoAcGkLUvfpqYogHf+zq/X7XxGkgCciSgEALuvtb/bqj+9tlSRNuPFqPXk7QQp4KqIUAOCS\n",
              "5n+9V0+/7wzSif066olfXkOQAh6MKAUAuJyk/+7R//77O0nS/Td10tSBXQhSwMMRpQAAlzJnzR79\n",
              "+QNnkD5wcyc9fhtBCniDev01o2FhYerSpYsiIyMVGRmpJUuWSJIyMzPVt29fRUREKDo6Wlu3bq38\n",
              "nAsdAwB4l7e+2l0ZpJP6E6SAN6nXKJWkJUuWKCMjQxkZGRo2bJgkaeLEiUpMTNTOnTs1depUxcfH\n",
              "Vz7+QscAAN7jra9269mV2yRJD90Srt/9giAFvEm9R+lP5eXlad26dRo1apQkaciQIcrJyVFWVtYF\n",
              "jwEAvMesL3dVBunkW8I1ZUAEQQp4mXr/mdIxY8bIGKOYmBg9//zzysnJUXBwsHx9nX+UzWZTaGio\n",
              "srOzFRgYeN5j4eHhZ33tkpISlZSUVLnPbrfX9ykAABrRG6t36flV2yVJD/+8s347IMLiiQBYoV53\n",
              "Sr/88ktt3rxZGzZsUNu2bTV27Nj6/PKaPn26AgMDq9zS0tLq9c8AADSe17/4MUgfuZUgBbxZvUZp\n",
              "aGioJMnPz0+PPPKIvvrqK7Vv3165ubkqLy+XJBljlJ2drdDQ0AseO5dp06apoKCgyi0mJqY+TwEA\n",
              "0Ehe/TxLL3zoDNLf3hqhR24lSAFvVm9RevLkSeXn51d+nJKSol69eikoKEhRUVFKTk6WJC1fvlwh\n",
              "ISEKDw+/4LFz8ff3V0BAQJWbj49PfZ0CAKCR/POzTP3tPzskSY8OiNDDt3a2eCIAVqu3nyk9dOiQ\n",
              "hgwZIrvdLmOMOnbsqLfffluS9Oabbyo+Pl7PPfecAgIClJSUVPl5FzoGAPA8r3yaqZc+3ilJeuy2\n",
              "LprU/9wbEQC8i80YY6weoi6mTJmiGTNmWD0GAKAaZn6SqZc/IUgBnI3f6AQAaBQvf7xTMz/NlCRN\n",
              "HXiNHri5k8UTAXAlRCkAoEEZY/TyJ5n6R0WQTvvlNZp4E0EKoCqiFADQYIwxevnjnfrHZ85fivLk\n",
              "7dcosR9BCuBsRCkAoEEYY/TSRzv1z8+dQfqHX12r8Td2tHgqAK6KKAUA1DtjjF78aIde/XyXJIIU\n",
              "wMURpQCAemWM0V//s0Ovf+EM0j/e0VXjfna1xVMBcHVEKQCg3hhj9PyH2/Xm6t2SpKfv7Kr7biBI\n",
              "AVwcUQoAqBfGGD2/arve/NIZpP/7P900tm+YtUMBcBtEKQCgzowxeu7/tmn2V3skSc8M6qYx14dZ\n",
              "OxQAt0KUAgDqxBijZ1du05w1ziD9813XaXRcB4unAuBuiFIAQK0ZY/TnD7Zp7n+dQfrsXddpFEEK\n",
              "oBaIUgBArRhj9L///k7zvt4rSXru1901MjbU2qEAuC2iFABQYz8N0umDu2tEDEEKoPaIUgBAjRhj\n",
              "9PT7W/X2N/tks0nPD+6uYdEEKYC6IUoBANVmjNEf39uqBanOIH1hcA/dE93e6rEAeACiFABQLQ6H\n",
              "0R/f/1bJqdmy2aS/Dumhu/sQpADqB1EKALgoh8PoD+99q0VrnUH6t6E9NbR3iNVjAfAgRCkA4IIc\n",
              "DqPfv7tFKWk5stmkl+7uqcFRBCmA+kWUAgDOy+EwevJfW7Q4PUdNbNJL9/TUr3sRpADqH1EKADgn\n",
              "h8PoiRWb9c66/Wpik2bcE6m7erWzeiwAHoooBQCcxeEwmrp8s5audwbpy8MiNSiSIAXQcIhSAEAV\n",
              "9oogXVYRpH8f3kv/0/Mqq8cC4OGIUgBAJbvD6LFlm7RiwwH5NLHp78MidSdBCqAREKUAAEkVQbp0\n",
              "k1ZsdAbpP4b30q96BFs9FgAvQZQCAGR3GD36TobezfhePk1semVEL93enSAF0HiIUgDwcuV2hx5d\n",
              "uknvZXwv34og/SVBCqCREaUA4MXK7Q799p1N+vcmZ5D+c2SUBl53pdVjAfBCRCkAeKlyu0OPLMnQ\n",
              "B5tz5dvEplfvjdJt3QhSANYgSgHAC5XZHXpkcYZWbsmVn49Nr46M0i8IUgAWIkoBwMuU2R16ePFG\n",
              "/d+Wg/Lzsen1e3vr1q5XWD0WAC9HlAKAFymzOzQ5ZaNWfXtQTX2a6PVRUfr5tQQpAOsRpQDgJUrL\n",
              "HXooZYP+s/WQmvo00Rujo3TLNQQpANdAlAKAFygtd+jBRRv00XeH1NS3id4c3Vv9uwRZPRYAVCJK\n",
              "AcDDlZY7NGnRBn1cEaSzRvfWzQQpABdDlAKAByspt2vSwg36ZFuemvo20ewxfXRTxOVWjwUAZyFK\n",
              "AcBDlZTb9ZvkDfp0e578K4K0H0EKwEURpQDggUrK7XogeYM+qwjSOWOj9bPOba0eCwDOiygFAA9T\n",
              "XGbXA8nr9fmOw2rm5wzSG8IJUgCujSgFAA9SXGbXxAXrtXqnM0jnjo1WX4IUgBsgSgHAQxSX2ZW4\n",
              "YL2+/CFI46PVtxNBCsA9EKUA4AGKy+ya8PY6fZV5RJf4+WhufLSu79TG6rEAoNqIUgBwc2cGafOm\n",
              "PkqKj1ZsR4IUgHshSgHAjZ0udQbpmixnkM67L0YxV7e2eiwAqDGiFADc1OlSuxLmp+vrXUd1aVMf\n",
              "zRsXo+gwghSAeyJKAcANnSotV8K8dfpmtzNI54+LUR+CFIAbI0oBwM2cKi3XuHnpSt19TC38fTV/\n",
              "XLR6dyBIAbg3ohQA3MjJknLdNy9daXt+CNIY9e5wmdVjAUCdEaUA4CZOlpTrvqR0pe09ppb+vpqf\n",
              "EKOoUIIUgGcgSgHADZwoKdd9SWlK33tcLf199XZCjHoRpAA8CFEKAC7uREm54uemad2+42rZzFcL\n",
              "EmIV2b6V1WMBQL0iSgHAhRUVlyk+KV3r9x1XQDNfJY+PVY+QVlaPBQD1jigFABdVVFymsXPTtCE7\n",
              "XwHNfLVwfJy6hwRaPRYANAiiFABcUGFFkG7MzlfgJX5aOD5W17UjSAF4LqIUAFxMYXGZxsxJU0YO\n",
              "QQrAexClAOBCCk6XaczcNG3KyVer5n5KTiBIAXgHorSa7A6jYW9+Y/UYADxcbkGxDuSf1mXN/bRw\n",
              "fJy6XhVg9UgA0ChcIkozMzM1duxYHTlyRIGBgZo3b566detm9VhnWbfvuNUjAPACBCkAb+QSUTpx\n",
              "4kQlJiYqPj5ey5YtU3x8vNLT060eq4omNumNUVFWjwHA49kUHXaZ2rTwt3oQAGhUNmOMsXKAvLw8\n",
              "hYeH69ixY/L19ZUxRsHBwVqzZo3Cw8Mv+vlTpkzRjBkzGmFSAAAANBTLd0pzcnIUHBwsX1/nKDab\n",
              "TaGhocrOzj4rSktKSlRSUlLlPrvd3mizAgAAoGE0sXqAmpg+fboCAwOr3NLS0qweCwAAAHVkeZS2\n",
              "b99eubm5Ki8vlyQZY5Sdna3Q0NCzHjtt2jQVFBRUucXExDT2yAAAAKhnlkdpUFCQoqKilJycLEla\n",
              "vny5QkJCzvnzpP7+/goICKhy8/HxaeyRAQAAUM8s/5lSSXrzzTcVHx+v5557TgEBAUpKSrJ6JAAA\n",
              "ADQil4jSLl266Jtv+IfpAQAAvJXlL98DAAAARCkAAAAsR5QCAADAckQpAAAALEeUAgAAwHI2Y4yx\n",
              "eoi6GDx4sMLCwhrlz7Lb7UpLS1NMTAz/PuoZWJfzY23OjXU5P9bm3FiX82Ntzo11OT8r1qZDhw56\n",
              "+OGHL/gYt4/SxlRYWKjAwEAVFBQoICDA6nFcButyfqzNubEu58fanBvrcn6szbmxLufnqmvDy/cA\n",
              "AACwHFEKAAAAyxGlAAAAsBxRWgP+/v56+umn5e/vb/UoLoV1OT/W5txYl/Njbc6NdTk/1ubcWJfz\n",
              "c9W14Y1OAAAAsBw7pQAAALAcUQoAAADLEaUAAACwHFEqKTMzU3379lVERISio6O1devWcz5uzpw5\n",
              "6ty5szp16qQJEyaorKysWsfcWXXW5rPPPlNMTIy6du2qbt266fHHH5fD4ZAk7d27Vz4+PoqMjKy8\n",
              "7dq1q7FPo95VZ12++OILXXLJJVXO/fTp05XHvfk5k5SUVGVd2rZtq8GDB0vy3OfM5MmTFRYWJpvN\n",
              "poyMjPM+ztuuM9VZF2+8xkjVWxtvvM5UZ1288RpTXFysu+66SxEREerZs6cGDBigrKyscz72gw8+\n",
              "0DXXXKPOnTtr8ODBKiwsrNaxBmdg+vfvb5KSkowxxixdutT06dPnrMfs3r3bBAcHm9zcXONwOMyd\n",
              "d95p/vnPf170mLurztps2LDB7Nq1yxhjzOnTp80NN9xQ+Tl79uwxgYGBjTRt46nOunz++eemZ8+e\n",
              "5/x8b3/O/FS3bt3MsmXLjDGe+5xZvXq1ycnJMR06dDAbN24852O88TpTnXXxxmuMMdVbG2+8zlRn\n",
              "XX7KG64xp0+fNitXrjQOh8MYY8wrr7xibrrpprMeV1RUZIKCgsy2bduMMcZMmjTJ/O53v7voscbg\n",
              "9VF66NAh07JlS1NWVmaMMcbhcJgrrrjCZGZmVnncX//6VzNx4sTKj1euXGluuOGGix5zZ9Vdm5+a\n",
              "NGmSefrpp40xnvnNX911udBfFjxnfpSammouv/xyU1paaozxzOfMmS70F6k3Xmd+UJPA8PRrzE/V\n",
              "Nkp5zjh52zXmB+np6aZDhw5n3f/OO++Y2267rfLjrVu3mnbt2l30WGPw+pfvc3JyFBwcLF9fX0mS\n",
              "zWZTaGiosrOzqzwuOztbHTp0qPw4LCys8jEXOubOqrs2Zzp48KCWLVumO+64o/K+kydPKjo6WlFR\n",
              "UXrmmWdkt9sbfPaGVJN12bVrl6KiohQdHa3XXnut8n6eMz+aM2eORo8eLT8/v8r7PO05U13eeJ2p\n",
              "KW+4xtSUt11naspbrzEzZ87UoEGDzrr/XM+L3NxclZeXX/BYY/BtlD8FXqGwsFB33nmnHn/8cfXp\n",
              "00eSFBwcrAMHDigoKEjHjh3TsGHD9NJLL+nxxx+3eNqGFxUVpf379yswMFD79+/X7bffrrZt2+qe\n",
              "e+6xejSXcfLkSS1evFipqamV93nzcwYXxjXmbFxnLsxbrzHPPfecsrKy9Omnn1o9So14/U5p+/bt\n",
              "q/xXgDFG2dnZCg0NrfK40NBQ7du3r/LjvXv3Vj7mQsfcWXXXRpKKioo0cOBADRo0SFOmTKm839/f\n",
              "X0FBQZKk1q1ba9y4cfrqq68a5wQaSHXXJSAgQIGBgZKkkJAQjRgxovLcec44LV26VN26dVPXrl0r\n",
              "7/PE50x1eeN1prq86RpTE954nakJb7zGvPjii1qxYoVWrVql5s2bn3X8XM+LH17hutCxxuD1URoU\n",
              "FKSoqCglJydLkpYvX66QkBCFh4dXedyQIUP0/vvv6+DBgzLG6I033tDw4cMvesydVXdtTpw4oYED\n",
              "B2rgwIH6wx/+UOVYXl5e5bs9S0pKtGLFCvXq1atxTqCBVHddcnNzK98hXFRUpA8++KDy3L39OfOD\n",
              "OXPmKCEhocp9nvicqS5vvM5Uh7ddY2rCG68zNeFt15gZM2YoJSVFH3/8sVq1anXOxwwcOFAbNmzQ\n",
              "9u3bJUmvvfZa5fPiQscaRaP99KoL2759u4mLizOdO3c2vXv3Nps3bzbGGJOQkGDee++9ysfNmjXL\n",
              "dOzY0XTs2NGMGzeu8oemL3bMnVVnbZ599lnj6+trevbsWXl79tlnjTHGLF++3HTr1s306NHDdO3a\n",
              "1Tz44IOmuLjYsvOpL9VZl1deecV07dq18tyffvrpyndFGuPdz5kfHteiRQtTWFhY5fM99TmTmJho\n",
              "2rVrZ3x8fExQUJDp1KmTMYbrTHXWxRuvMcZUb2288TpT3e8lb7vG5OTkGEmmY8eOld8nMTExxhhj\n",
              "nnrqKfP6669XPva9994zXbp0MZ06dTKDBg0y+fn51TrW0GzGGNN4CQwAAACczetfvgcAAID1iFIA\n",
              "AABYjigFAACA5YhSAAAAWI4oBQAAgOWIUgAAAFiOKAUAAIDliFIAAABYjigFAACA5YhSAAAAWI4o\n",
              "BQAAgOX+H071BnJNbzlXAAAAAElFTkSuQmCC\n",
              "\">\n",
              "      </div>\n",
              "      <script type=\"text/javascript\">\n",
              "        (() => {\n",
              "          const chartElement = document.getElementById(\"chart-e6a6e941-b176-4c72-b655-898ff1373d6d\");\n",
              "          async function getCodeForChartHandler(event) {\n",
              "            const chartCodeResponse =  await google.colab.kernel.invokeFunction(\n",
              "                'getCodeForChart', [\"chart-e6a6e941-b176-4c72-b655-898ff1373d6d\"], {});\n",
              "            const responseJson = chartCodeResponse.data['application/json'];\n",
              "            await google.colab.notebook.addCell(responseJson.code, 'code');\n",
              "          }\n",
              "          chartElement.onclick = getCodeForChartHandler;\n",
              "        })();\n",
              "      </script>\n",
              "      <style>\n",
              "        .colab-quickchart-chart-with-code  {\n",
              "            display: block;\n",
              "            float: left;\n",
              "            border: 1px solid transparent;\n",
              "        }\n",
              "\n",
              "        .colab-quickchart-chart-with-code:hover {\n",
              "            cursor: pointer;\n",
              "            border: 1px solid #aaa;\n",
              "        }\n",
              "      </style>"
            ]
          },
          "metadata": {}
        },
        {
          "output_type": "display_data",
          "data": {
            "text/plain": [
              "<google.colab._quickchart_helpers.SectionTitle at 0x7abc4d1784d0>"
            ],
            "text/html": [
              "<h4 class=\"colab-quickchart-section-title\">Faceted distributions</h4>\n",
              "<style>\n",
              "  .colab-quickchart-section-title {\n",
              "      clear: both;\n",
              "  }\n",
              "</style>"
            ]
          },
          "metadata": {}
        },
        {
          "output_type": "stream",
          "name": "stderr",
          "text": [
            "<string>:5: FutureWarning: \n",
            "\n",
            "Passing `palette` without assigning `hue` is deprecated and will be removed in v0.14.0. Assign the `y` variable to `hue` and set `legend=False` for the same effect.\n",
            "\n"
          ]
        },
        {
          "output_type": "display_data",
          "data": {
            "text/plain": [
              "from matplotlib import pyplot as plt\n",
              "import seaborn as sns\n",
              "figsize = (12, 1.2 * len(model_df['model'].unique()))\n",
              "plt.figure(figsize=figsize)\n",
              "sns.violinplot(model_df, x='mae', y='model', inner='stick', palette='Dark2')\n",
              "sns.despine(top=True, right=True, bottom=True, left=True)"
            ],
            "text/html": [
              "      <div class=\"colab-quickchart-chart-with-code\" id=\"chart-db8f2be5-1e5e-472f-a809-34cfbf89ac2e\">\n",
              "        <img style=\"width: 180px;\" src=\"data:image/png;base64,iVBORw0KGgoAAAANSUhEUgAAA/oAAAFICAYAAADge4X2AAAAOnRFWHRTb2Z0d2FyZQBNYXRwbG90\n",
              "bGliIHZlcnNpb24zLjEwLjAsIGh0dHBzOi8vbWF0cGxvdGxpYi5vcmcvlHJYcgAAAAlwSFlzAAAP\n",
              "YQAAD2EBqD+naQAAGqFJREFUeJzt3X+slvV9//HX7SEcdApzrlWndCftjk0Fj0CP5zjmYTJ1Uk6D\n",
              "YG00jEJnQAddG+dklmXJli6Hk2mzpdYtDENxOydl9geBTNG240dRkpEemMdCF4bJGExQm9LBytjh\n",
              "HLn3h/me75jacvQc7uPHxyO5E+77vu77et8kd648uT73RaVarVYDAAAAFOG8Wg8AAAAADB+hDwAA\n",
              "AAUR+gAAAFAQoQ8AAAAFEfoAAABQEKEPAAAABRH6AAAAUBChDwAAAAUR+gAAAFAQoQ8AAAAFEfoA\n",
              "AABQEKEPAAAABRH6AAAAUBChDwAAAAUR+gAAAFAQoQ8AAAAFEfoAAABQEKFfuKVLl2bp0qW1HgMA\n",
              "AIBzZEytB2BkvfLKK7UeAQAAgHPIGX0AAAAoiNAHAACAggh9AAAAKIjQBwAAgIIIfQAAACiI0AcA\n",
              "AICCCH0AAAAoiNAHAACAggh9AAAAKIjQBwAAgIIIfQAAACiI0AcAAICCCH0AAAAoiNAHAACAggh9\n",
              "AAAAKIjQBwAAgIIIfQAAACiI0AcAAICCCH0AAAAoiNAHAACAggh9AAAAKIjQBwAAgIIIfQAAACiI\n",
              "0AcAAICCCH0AAAAoiNAHAACAggh9AAAAKIjQBwAAgIIIfQAAACiI0AcAAICCCH0AAAAoiNAHAACA\n",
              "ggh9AAAAKMi7LvSffPLJ3HjjjT9zu8cffzxz5879qds89dRT+ehHP5r6+vrcd999wzIfAAAA1NKY\n",
              "Wg9QS42NjfnKV76Sr3/96/nJT35S63EAAADgHRvRM/qVSiUdHR1pbW1NQ0NDNmzYkM7OzjQ3N6ex\n",
              "sTHbtm0b3LarqytNTU1pampKe3t7XnrppSRJf39/li1blsbGxrS0tGTr1q1n7KOrqyutra2ZNm1a\n",
              "ZsyYkd7e3rOe76qrrsq1116bMWN+9r939PX15fjx42fc+vr6znpfAAAAcC6M+NL9Cy+8MDt37sya\n",
              "NWuyYMGCXH755enp6cnKlSuzfPnyJMmePXuyfPnyPP3003nhhRcyffr0LF68OEmyevXq7Nu3L3v3\n",
              "7s1zzz2X3bt3D773jh07sm7dumzfvj27d+9OR0dH5s+fPyKfo7OzMxMmTDjj1tnZOSL7AgAAgLdr\n",
              "xJfu33nnnUmS5ubmnDhxInfddVeSpKWlJfv370+SbN26NbNmzcoVV1yRJFm2bFm+8IUv5LXXXsvm\n",
              "zZuzcOHCjB07Nkly9913Z82aNUmSjRs3pre3N62trYP7O3r0aE6ePDnsn2PFihW5//77z3isvr5+\n",
              "2PcDAAAA78SIh/64ceOSJHV1dW+4PzAw8KavqVQqb/l+//u5arWaRYsWZeXKlcM17luqr68X9gAA\n",
              "AIx6o+Kq+zNnzswzzzyTw4cPJ0lWrVqVm266KXV1dbn55pvT3d2d/v7+nDp1KmvXrh183Zw5c9Ld\n",
              "3Z2DBw8mSU6fPp2enp6afAYAAAAYDUbFVfcnT56chx9+OLNmzUqSTJw4MY899liSZMmSJdmzZ0+u\n",
              "vvrqXHzxxWlra8uuXbuSJG1tbXnooYcyb968DAwM5NSpU2lvb09zc/NZ7Xfz5s1ZtGhRjh8/nmq1\n",
              "mm984xv5q7/6q8yZM2dkPigAAACMsEq1Wq3WeghGzu23354kWb9+fY0nAQAA4FwYFUv3AQAAgOFR\n",
              "fOhv2rQpU6ZMecPtiSeeqPVoAAAAMOxGxW/0R9Ls2bMze/bsWo8BAAAA50TxZ/QBAADgvUToAwAA\n",
              "QEGEPgAAABRE6AMAAEBBhD4AAAAUROgDAABAQYQ+AAAAFEToAwAAQEGEPgAAABRE6AMAAEBBhD4A\n",
              "AAAUROgDAABAQYQ+AAAAFEToAwAAQEGEPgAAABRE6AMAAEBBhD4AAAAUROgDAABAQYQ+AAAAFETo\n",
              "AwAAQEGEPgAAABRE6AMAAEBBhD4AAAAUROgDAABAQYQ+AAAAFEToAwAAQEGEPgAAABRE6AMAAEBB\n",
              "xtR6AEbWpZdeWusRAAAAOIcq1Wq1WushAAAAgOFh6T4AAAAUROgDAABAQYQ+AAAAFEToAwAAQEGE\n",
              "PgAAABRE6AMAAEBBhD4AAAAUROgDAABAQYQ+AAAAFEToAwAAQEGEPgAAABRE6AMAAEBBhD4AAAAU\n",
              "ROgDAABAQYQ+AAAAFEToF27p0qVZunRprccAAADgHBlT6wEYWa+88kqtRwAAAOAcckYfAAAACiL0\n",
              "AQAAoCBCHwAAAAoi9AEAAKAgQh8AAAAKIvQBAACgIEIfAAAACiL0AQAAoCBCHwAAAAoi9AEAAKAg\n",
              "Qh8AAAAKIvQBAACgIEIfAAAACiL0AQAAoCBCHwAAAAoi9AEAAKAgQh8AAAAKIvQBAACgIEIfAAAA\n",
              "CiL0AQAAoCBCHwAAAAoi9AEAAKAgY852w3nz5qVSqbzl8+vXrx+WgQAAAIC376xDf+7cuSM4BgAA\n",
              "ADAczjr0Fy1adMb9vr6+1NfXD/tAAAAAwNs35N/of//738/kyZPzoQ99KEmya9eu/MEf/MGwDwYA\n",
              "AAAM3ZBD/7Of/WxWrVqV973vfUmSadOm5amnnhr2wQAAAIChG3Lo/+QnP8kNN9wweL9SqWTs2LHD\n",
              "OhQAAADw9gw59MeMGZP+/v7BK/AfOnQodXV1wz4YAAAAMHRDDv3f/d3fzdy5c/PDH/4wf/RHf5S2\n",
              "tja/0QcAAIBR4qyvuv//LFiwIB/84AezcePGnDp1Kt3d3Wcs5QcAAABqZ8ihnyTTp0/P9OnTh3sW\n",
              "AAAA4B0669CfOXPm4O/y38yWLVuGZSAAAADg7Tvr0H/ggQeSJFu3bs3u3btz9913p1KpZO3atZk6\n",
              "deqIDQgAAACcvbO+GF97e3va29vz3HPP5dvf/nYWLFiQ3/qt38qmTZvy7LPPjuSMg5588snceOON\n",
              "P3O7xx9/PHPnzv2p2zzyyCOZPHlyrrnmmjQ1NaW7u3t4hgQAAIAaGvJv9I8ePXrGEv7zzjsvR48e\n",
              "HdahzoVJkyZlx44dmTBhQg4dOpSpU6fmV3/1V/OhD33oTbfv6+tLX1/fGY/V19envr7+XIwLAAAA\n",
              "Z2XI/73ezTffnFmzZqWrqytdXV1pb2/PLbfc8obtKpVKOjo60tramoaGhmzYsCGdnZ1pbm5OY2Nj\n",
              "tm3bNrhtV1dXmpqa0tTUlPb29rz00ktJkv7+/ixbtiyNjY1paWnJ1q1bz9hHV1dXWltbM23atMyY\n",
              "MSO9vb1n/TluuummTJgwIUkyceLEXHbZZTl06NBbbt/Z2ZkJEyaccevs7Dzr/QEAAMC5MOQz+o88\n",
              "8kj++q//Ohs2bEiSzJ07N0uWLHnTbS+88MLs3Lkzmzdvzm233ZZHH300PT09+frXv57ly5fne9/7\n",
              "Xvbs2ZPly5dn165dueKKK9LR0ZHFixfn6aefzurVq7Nv377s3bs3SXLrrbcOvveOHTuybt26bN++\n",
              "PfX19Xn22Wczf/78wW2H4h/+4R/y4x//ONddd91bbrNixYrcf//9ZzzmbD4AAACjzZBDf8yYMfnM\n",
              "Zz6TZcuWJclPvRL/nXfemSRpbm7OiRMnctdddyVJWlpasn///iSvX9xv1qxZueKKK5Iky5Ytyxe+\n",
              "8IW89tpr2bx5cxYuXJixY8cmSe6+++6sWbMmSbJx48b09vamtbV1cH9Hjx7NyZMnh/R5vv/97+e3\n",
              "f/u388QTT+Tnfu7n3nI7y/QBAAB4Nxjy0v3Dhw9n9uzZueCCC3LBBRfk4x//eI4cOfKm244bNy5J\n",
              "UldX94b7AwMDb/qan/YPB//7uWq1mkWLFuX5558fvB05ciTnn3/+WX+WH/zgB/n4xz+er3zlK7nh\n",
              "hhvO+nUAAAAwWg059O+9997ccMMNOXLkSI4cOZIbbrgh99xzz9seYObMmXnmmWdy+PDhJMmqVaty\n",
              "0003pa6uLjfffHO6u7vT39+fU6dOZe3atYOvmzNnTrq7u3Pw4MEkyenTp9PT03PW+/3nf/7nzJ49\n",
              "O6tXr37TawwAAADAu9GQl+4fOnQof//3fz94//Of/3ymTJnytgeYPHlyHn744cyaNSvJ6xfGe+yx\n",
              "x5IkS5YsyZ49e3L11Vfn4osvTltbW3bt2pUkaWtry0MPPZR58+ZlYGAgp06dSnt7e5qbm89qv5/7\n",
              "3Ody7NixPPjgg3nwwQeTJH/2Z392xnUAAAAA4N2mUq1Wq0N5wbXXXptvfetbueyyy5IkL7/8cm69\n",
              "9dYhXfGec+f2229Pkqxfv77GkwAAAHAuDPmM/gMPPJCpU6fmYx/7WJLkmWeeycMPPzzsgwEAAABD\n",
              "N+TQ/9SnPpWpU6dm27ZtSZLf//3fz6RJk4Z7rmGxadOm/OEf/uEbHl+xYsXg/wgAAAAAJRny0n3e\n",
              "XSzdBwAAeG8Z8lX3t2/fnpaWlvzCL/xCxo8fn4suuijjx48fidkAAACAIRry0v0lS5ako6MjLS0t\n",
              "qaurG4mZAAAAgLdpyKE/fvz43HHHHSMxCwAAAPAODXnp/ic+8Yl0dXXl1KlTIzEPAAAA8A4MOfQ/\n",
              "8pGPZNmyZTn//PNTV1eX8847zxJ+AAAAGCWGvHT/937v97Jx48Y0NzcLfAAAABhlhhz673//+/Mb\n",
              "v/EbIzELAAAA8A4Neen+nDlz8uijj+bVV1/N8ePHB28AAABA7VWq1Wp1KC8477z//28DlUol1Wo1\n",
              "lUolr7322rAPxzt3++23J0nWr19f40kAAAA4F4a8dP/06dMjMQcAAAAwDIa8dB8AAAAYvYQ+AAAA\n",
              "FEToAwAAQEGEPgAAABRE6AMAAEBBhD4AAAAUROgDAABAQYQ+AAAAFEToAwAAQEGEPgAAABRE6AMA\n",
              "AEBBhD4AAAAUROgDAABAQYQ+AAAAFEToAwAAQEGEPgAAABRE6AMAAEBBxtR6AEbWpZdeWusRAAAA\n",
              "OIcq1Wq1WushAAAAgOFh6T4AAAAUROgDAABAQYQ+AAAAFEToAwAAQEGEPgAAABRE6AMAAEBBhD4A\n",
              "AAAUROgDAABAQYQ+AAAAFEToAwAAQEGEPgAAABRE6AMAAEBBhD4AAAAUROgDAABAQYQ+AAAAFETo\n",
              "AwAAQEGEPgAAAO9ZS5cuzdKlS2s9xrAaU+sBAAAAoFZeeeWVWo8w7JzRBwAAgIIIfQAAACiI0AcA\n",
              "AICCCH0AAAAoiNAHAACAggh9AAAAKIjQBwAAgIIIfQAAACiI0AcAAICCCH0AAAAoiNAHAACAggh9\n",
              "AAAAKIjQBwAAgIIIfQAAACiI0AcAAICCCH0AAAAoiNAHAACAggh9AAAAKIjQBwAAgIIIfQAAACiI\n",
              "0AcAAICCCH0AAAAoiNAHAACAggh9AAAAKIjQBwAAgIIIfQAAACiI0AcAAICCCH0AAAAoiNAHAACA\n",
              "ggh9AAAAKIjQBwAAgIIIfQAAACiI0AcAAICCvOtC/8knn8yNN974M7d7/PHHM3fu3J+6zV/+5V/m\n",
              "mmuuyZQpUzJ58uQ88sgjwzMkAAAA1MiYWg9QSwsWLMhnPvOZJMnx48czefLktLW1ZerUqTWeDAAA\n",
              "AN6eET2jX6lU0tHRkdbW1jQ0NGTDhg3p7OxMc3NzGhsbs23btsFtu7q60tTUlKamprS3t+ell15K\n",
              "kvT392fZsmVpbGxMS0tLtm7desY+urq60trammnTpmXGjBnp7e096/kmTJgw+OcTJ06kv7//Lbft\n",
              "6+vL8ePHz7j19fWd9b4AAADgXBjxpfsXXnhhdu7cmTVr1mTBggW5/PLL09PTk5UrV2b58uVJkj17\n",
              "9mT58uV5+umn88ILL2T69OlZvHhxkmT16tXZt29f9u7dm+eeey67d+8efO8dO3Zk3bp12b59e3bv\n",
              "3p2Ojo7Mnz9/SPN94xvfyKRJk9LQ0JAHHnjgLc/md3Z2ZsKECWfcOjs73+bfCgAAAIyMEQ/9O++8\n",
              "M0nS3NycEydO5K677kqStLS0ZP/+/UmSrVu3ZtasWbniiiuSJMuWLcuWLVvy2muvZfPmzVm4cGHG\n",
              "jh2bsWPH5u677x58740bN6a3tzetra2ZMmVKPvvZz+bo0aM5efLkWc93xx13ZO/evdm3b1+6u7uz\n",
              "b9++N91uxYoVOXbs2Bm3FStWvK2/EwAAABgpI/4b/XHjxiVJ6urq3nB/YGDgTV9TqVTe8v3+93PV\n",
              "ajWLFi3KypUr3/GcDQ0NaW1tzZNPPpkPf/jDb3i+vr4+9fX173g/AAAAMJJGxVX3Z86cmWeeeSaH\n",
              "Dx9OkqxatSo33XRT6urqcvPNN6e7uzv9/f05depU1q5dO/i6OXPmpLu7OwcPHkySnD59Oj09PWe9\n",
              "3x/84AeDf/7hD3+YLVu2pKmpaZg+FQAAAJx7o+Kq+5MnT87DDz+cWbNmJUkmTpyYxx57LEmyZMmS\n",
              "7NmzJ1dffXUuvvjitLW1ZdeuXUmStra2PPTQQ5k3b14GBgZy6tSptLe3p7m5+az2+6UvfSnPPvts\n",
              "xo4dm2q1mvvuuy+33HLLyHxIAAAAOAcq1Wq1WushAAAAoBZuv/32JMn69etrPMnwGRVL9wEAAIDh\n",
              "UXzob9q0KVOmTHnD7Yknnqj1aAAAADDsRsVv9EfS7NmzM3v27FqPAQAAAOdE8Wf0AQAA4L1E6AMA\n",
              "AEBBhD4AAAAUROgDAABAQYQ+AAAAFEToAwAAQEGEPgAAABRE6AMAAEBBhD4AAAAUROgDAABAQYQ+\n",
              "AAAAFEToAwAAQEGEPgAAABRE6AMAAEBBhD4AAAAUROgDAABAQYQ+AAAAFEToAwAAQEGEPgAAABRE\n",
              "6AMAAEBBhD4AAAAUROgDAABAQYQ+AAAAFEToAwAAQEGEPgAAABRE6AMAAEBBhD4AAAAUROgDAABA\n",
              "QcbUegAAAAColUsvvbTWIwy7SrVardZ6CAAAAGB4WLoPAAAABRH6AAAAUBChDwAAAAUR+gAAAFAQ\n",
              "oQ8AAAAFEfoAAABQEKEPAAAABRH6UCN9fX35kz/5k/T19dV6FBj1fF9gaHxn4Oz5vlCiSrVardZ6\n",
              "CHgvOn78eCZMmJBjx45l/PjxtR4HRjXfFxga3xk4e74vlMgZfQAAACiI0AcAAICCCH0AAAAoiNCH\n",
              "Gqmvr88f//Efp76+vtajwKjn+wJD4zsDZ8/3hRK5GB8AAAAUxBl9AAAAKIjQBwAAgIIIfQAAACiI\n",
              "0Idz4HOf+1waGhpSqVTy/PPPDz6+f//+TJ8+PVdddVWuu+667N27t3ZDwijx3//935k7d26uuuqq\n",
              "XHvttbnlllvy4osvJkleffXVzJo1K42NjZk8eXK2b99e42lhdPjN3/zNNDU1ZcqUKWlra8s//dM/\n",
              "JXGcgZ9m7dq1qVQq2bBhQxLHGMoi9OEcuOOOO/Lcc8/ll3/5l894/N57780999yTf/mXf8mDDz6Y\n",
              "T3/607UZEEaZe+65J/v27Utvb29uu+22LF68OEny+c9/Ptdff33279+ftWvXZv78+env76/xtFB7\n",
              "X/va1/LCCy/k+eefz/333z94PHGcgTd34MCBPPbYY7n++usHH3OMoSRCH86BGTNm5MorrzzjsVdf\n",
              "fTU9PT1ZsGBBkuQTn/hEDh06NHjmEt6rxo0bl9mzZ6dSqSRJrr/++hw4cCDJ6zHzO7/zO0mS6667\n",
              "Lr/0S7+U7373u7UaFUaNn//5nx/887Fjx1KpVBxn4C2cPn06ixcvzpe//OUz/ks9xxhKMqbWA8B7\n",
              "1aFDh3L55ZdnzJjXv4aVSiUf+MAHcvDgwfzKr/xKjaeD0eNLX/pSbrvttvzoRz9Kf39/LrvsssHn\n",
              "GhoacvDgwRpOB6PHwoULs3Xr1iTJpk2bHGfgLfz5n/95fu3Xfi0f/ehHBx9zjKE0Qh+AUWvlypV5\n",
              "8cUXs3nz5pw8ebLW48Co9rd/+7dJkr/5m7/Jgw8+mD/90z+t8UQw+uzZsyff/OY3/f6e4lm6DzUy\n",
              "ceLEHDlyJAMDA0mSarWagwcP5gMf+ECNJ4PR4Ytf/GLWr1+fp59+OhdccEEuueSSjBkzJi+//PLg\n",
              "NgcOHPCdgf9j0aJF2bp1a6688krHGfg/nn322Rw4cCCNjY1paGjIP/7jP+aee+7J1772NccYiiL0\n",
              "oUbe//73Z9q0aenu7k6SfPOb38yVV15pOSXk9WWV69aty3e+850zfnv8yU9+MqtWrUqSfO9738tL\n",
              "L72UX//1X6/RlDA6/Md//EcOHz48eH/Dhg255JJLHGfgTSxdujRHjhzJgQMHcuDAgVx//fVZvXp1\n",
              "li5d6hhDUSrVarVa6yGgdPfee2+eeuqpvPzyy7nkkkty0UUX5cUXX8y+ffvy6U9/Oj/60Y8yfvz4\n",
              "rF27Ntdcc02tx4Wa+vd///dMnDgxH/zgB3PRRRclSerr67Nz58688sor+dSnPpV//dd/zdixY/Po\n",
              "o49m5syZNZ4Yauvf/u3f8slPfjInT57Meeedl/e973354he/mClTpjjOwM9w44035r777svcuXMd\n",
              "YyiK0AcAAICCWLoPAAAABRH6AAAAUBChDwAAAAUR+gAAAFAQoQ8AvGOVSiUdHR1pbW1NQ0NDNmzY\n",
              "kM7OzjQ3N6exsTHbtm1LkgwMDOTWW29Nc3NzJk2alPnz5+fEiROD79PV1ZXW1tZMmzYtM2bMSG9v\n",
              "b40+EQC8ewl9AGBYXHjhhdm5c2fWrFmTBQsW5PLLL09PT09WrlyZ5cuXJ0nq6ury1a9+NT09Pdmz\n",
              "Z08mTJiQL3/5y0mSHTt2ZN26ddm+fXt2796djo6OzJ8/v5YfCQDelcbUegAAoAx33nlnkqS5uTkn\n",
              "TpzIXXfdlSRpaWnJ/v37kyTVajV/8Rd/kaeeeioDAwM5duxYpk+fniTZuHFjent709raOvieR48e\n",
              "zcmTJ3P++eef408DAO9eQh8AGBbjxo1L8vpZ+/97f2BgIEny1a9+NVu2bMl3v/vdjB8/Po888ki2\n",
              "bNmS5PV/BFi0aFFWrlxZg+kBoByW7gMA58yPf/zj/OIv/mLGjx+f//zP/8zjjz8++NycOXPS3d2d\n",
              "gwcPJklOnz6dnp6eGk0KAO9eQh8AOGcWLlyY//qv/8qHP/zhfOxjH0tbW9vgc21tbXnooYcyb968\n",
              "XHvttZk0aVL+7u/+robTAsC7U6VarVZrPQQAAAAwPJzRBwAAgIIIfQAAACiI0AcAAICCCH0AAAAo\n",
              "iNAHAACAggh9AAAAKIjQBwAAgIIIfQAAACiI0AcAAICCCH0AAAAoiNAHAACAgvwPVa5tgyaOIqoA\n",
              "AAAASUVORK5CYII=\n",
              "\">\n",
              "      </div>\n",
              "      <script type=\"text/javascript\">\n",
              "        (() => {\n",
              "          const chartElement = document.getElementById(\"chart-db8f2be5-1e5e-472f-a809-34cfbf89ac2e\");\n",
              "          async function getCodeForChartHandler(event) {\n",
              "            const chartCodeResponse =  await google.colab.kernel.invokeFunction(\n",
              "                'getCodeForChart', [\"chart-db8f2be5-1e5e-472f-a809-34cfbf89ac2e\"], {});\n",
              "            const responseJson = chartCodeResponse.data['application/json'];\n",
              "            await google.colab.notebook.addCell(responseJson.code, 'code');\n",
              "          }\n",
              "          chartElement.onclick = getCodeForChartHandler;\n",
              "        })();\n",
              "      </script>\n",
              "      <style>\n",
              "        .colab-quickchart-chart-with-code  {\n",
              "            display: block;\n",
              "            float: left;\n",
              "            border: 1px solid transparent;\n",
              "        }\n",
              "\n",
              "        .colab-quickchart-chart-with-code:hover {\n",
              "            cursor: pointer;\n",
              "            border: 1px solid #aaa;\n",
              "        }\n",
              "      </style>"
            ]
          },
          "metadata": {}
        },
        {
          "output_type": "stream",
          "name": "stderr",
          "text": [
            "<string>:5: FutureWarning: \n",
            "\n",
            "Passing `palette` without assigning `hue` is deprecated and will be removed in v0.14.0. Assign the `y` variable to `hue` and set `legend=False` for the same effect.\n",
            "\n"
          ]
        },
        {
          "output_type": "display_data",
          "data": {
            "text/plain": [
              "from matplotlib import pyplot as plt\n",
              "import seaborn as sns\n",
              "figsize = (12, 1.2 * len(model_df['model'].unique()))\n",
              "plt.figure(figsize=figsize)\n",
              "sns.violinplot(model_df, x='mse', y='model', inner='stick', palette='Dark2')\n",
              "sns.despine(top=True, right=True, bottom=True, left=True)"
            ],
            "text/html": [
              "      <div class=\"colab-quickchart-chart-with-code\" id=\"chart-aef85799-956d-4581-a99f-ba610df23c51\">\n",
              "        <img style=\"width: 180px;\" src=\"data:image/png;base64,iVBORw0KGgoAAAANSUhEUgAAA/oAAAFICAYAAADge4X2AAAAOnRFWHRTb2Z0d2FyZQBNYXRwbG90\n",
              "bGliIHZlcnNpb24zLjEwLjAsIGh0dHBzOi8vbWF0cGxvdGxpYi5vcmcvlHJYcgAAAAlwSFlzAAAP\n",
              "YQAAD2EBqD+naQAAGqFJREFUeJzt3X+slvV9//HX8ZxxqEVOXbeqYdgz22MzhSOwIyclYmXqesZp\n",
              "EO0PjaUymazhdG1cJ+tYlnRpAieTponWLkxjMTknI8aWQCbqbBGGmobxo6DQhWHWFaZIjawSCTvn\n",
              "ANf3j2Wn5atYDp7Dzfn4eCR3wn3u676v90385PZ5ruu+qKuqqgoAAABQhPNqPQAAAAAwfIQ+AAAA\n",
              "FEToAwAAQEGEPgAAABRE6AMAAEBBhD4AAAAUROgDAABAQYQ+AAAAFEToAwAAQEGEPgAAABRE6AMA\n",
              "AEBBhD4AAAAUROgDAABAQYQ+AAAAFEToAwAAQEGEPgAAABRE6AMAAEBBhH7hFi1alEWLFtV6DAAA\n",
              "AM6ShloPwMg6ePBgrUcAAADgLHJEHwAAAAoi9AEAAKAgQh8AAAAKIvQBAACgIEIfAAAACiL0AQAA\n",
              "oCBCHwAAAAoi9AEAAKAgQh8AAAAKIvQBAACgIEIfAAAACiL0AQAAoCBCHwAAAAoi9AEAAKAgQh8A\n",
              "AAAKIvQBAACgIEIfAAAACiL0AQAAoCBCHwAAAAoi9AEAAKAgQh8AAAAKIvQBAACgIEIfAAAACiL0\n",
              "AQAAoCBCHwAAAAoi9AEAAKAgQh8AAAAKIvQBAACgIEIfAAAACiL0AQAAoCBCHwAAAAoi9AEAAKAg\n",
              "Qh8AAAAKMupC//HHH8911133a7d75JFHMnfu3HfcZt26dfn93//9NDY25u677x6W+QAAAKCWGmo9\n",
              "QC21tLTku9/9bh577LG8+eabtR4HAAAA3rURPaJfV1eXpUuXpr29Pc3NzVmzZk26u7vT1taWlpaW\n",
              "bNy4cXDbnp6etLa2prW1NZ2dnXn55ZeTJAMDA+nq6kpLS0umT5+eDRs2nLSPnp6etLe3Z9q0abn2\n",
              "2muzc+fO057v8ssvz1VXXZWGhl//+46+vr4cPnz4pFtfX99p7wsAAADOhhE/dX/cuHHZvHlzHn74\n",
              "4cybNy+XXHJJtm7dmmXLlmXx4sVJkl27dmXx4sV58skn88ILL2TGjBm56667kiQPPvhg9uzZk927\n",
              "d+e5557L9u3bB1/7+eefz6pVq7Jp06Zs3749S5cuze233z4i76O7uztNTU0n3bq7u0dkXwAAAHCm\n",
              "RvzU/VtvvTVJ0tbWliNHjuS2225LkkyfPj179+5NkmzYsCEdHR2ZMGFCkqSrqyvf+MY3cvz48axf\n",
              "vz533HFHxowZkyRZsGBBHn744STJ2rVrs3PnzrS3tw/u79ChQzl69Oiwv48lS5bkq1/96kk/a2xs\n",
              "HPb9AAAAwLsx4qE/duzYJEl9ff1b7h87duxtn1NXV3fK1/vVx6qqyvz587Ns2bLhGveUGhsbhT0A\n",
              "AADnvHPiqvuzZs3KU089lVdeeSVJsmLFilx//fWpr6/PDTfckN7e3gwMDKS/vz8rV64cfN6cOXPS\n",
              "29ubffv2JUlOnDiRrVu31uQ9AAAAwLngnLjq/qRJk7J8+fJ0dHQkSSZOnJiHHnooSbJw4cLs2rUr\n",
              "V1xxRS688MLMnDkz27ZtS5LMnDkz9957b26++eYcO3Ys/f396ezsTFtb22ntd/369Zk/f34OHz6c\n",
              "qqryve99L3//93+fOXPmjMwbBQAAgBFWV1VVVeshGDm33HJLkmT16tU1ngQAAICz4Zw4dR8AAAAY\n",
              "HsWH/hNPPJEpU6a85fboo4/WejQAAAAYdufEd/RH0uzZszN79uxajwEAAABnRfFH9AEAAOC9ROgD\n",
              "AABAQYQ+AAAAFEToAwAAQEGEPgAAABRE6AMAAEBBhD4AAAAUROgDAABAQYQ+AAAAFEToAwAAQEGE\n",
              "PgAAABRE6AMAAEBBhD4AAAAUROgDAABAQYQ+AAAAFEToAwAAQEGEPgAAABRE6AMAAEBBhD4AAAAU\n",
              "ROgDAABAQYQ+AAAAFEToAwAAQEGEPgAAABRE6AMAAEBBhD4AAAAUROgDAABAQYQ+AAAAFEToAwAA\n",
              "QEEaaj0AI+uiiy6q9QgAAACcRXVVVVW1HgIAAAAYHk7dBwAAgIIIfQAAACiI0AcAAICCCH0AAAAo\n",
              "iNAHAACAggh9AAAAKIjQBwAAgIIIfQAAACiI0AcAAICCCH0AAAAoiNAHAACAggh9AAAAKIjQBwAA\n",
              "gIIIfQAAACiI0AcAAICCCP3CLVq0KIsWLar1GAAAAJwlDbUegJF18ODBWo8AAADAWeSIPgAAABRE\n",
              "6AMAAEBBhD4AAAAUROgDAABAQYQ+AAAAFEToAwAAQEGEPgAAABRE6AMAAEBBhD4AAAAUROgDAABA\n",
              "QYQ+AAAAFEToAwAAQEGEPgAAABRE6AMAAEBBhD4AAAAUROgDAABAQYQ+AAAAFEToAwAAQEGEPgAA\n",
              "ABRE6AMAAEBBhD4AAAAUROgDAABAQRpOd8Obb745dXV1p3x89erVwzIQAAAAcOZOO/Tnzp07gmMA\n",
              "AAAAw+G0Q3/+/Pkn3e/r60tjY+OwDwQAAACcuSF/R//FF1/MpEmT8pGPfCRJsm3btvzlX/7lsA8G\n",
              "AAAADN2QQ//LX/5yVqxYkd/+7d9OkkybNi3r1q0b9sEAAACAoRty6L/55pu55pprBu/X1dVlzJgx\n",
              "wzoUAAAAcGaGHPoNDQ0ZGBgYvAL//v37U19fP+yDAQAAAEM35ND/sz/7s8ydOzevvfZa/uZv/iYz\n",
              "Z870HX0AAAA4R5z2Vff/z7x583LZZZdl7dq16e/vT29v70mn8gMAAAC1M+TQT5IZM2ZkxowZwz0L\n",
              "AAAA8C6ddujPmjVr8Hv5b+eZZ54ZloEAAACAM3faoX/PPfckSTZs2JDt27dnwYIFqaury8qVKzN1\n",
              "6tQRGxAAAAA4fad9Mb7Ozs50dnbmueeey9NPP5158+bl85//fJ544ok8++yzIznjoMcffzzXXXfd\n",
              "r93ukUceydy5c99xm/vvvz+TJk3K5MmT09ramt7e3uEZEgAAAGpoyN/RP3To0Emn8J933nk5dOjQ\n",
              "sA51Nlx55ZV5/vnn09TUlP3792fq1Kn5+Mc/no985CNvu31fX1/6+vpO+lljY2MaGxvPxrgAAABw\n",
              "Wob8z+vdcMMN6ejoSE9PT3p6etLZ2Zkbb7zxLdvV1dVl6dKlaW9vT3Nzc9asWZPu7u60tbWlpaUl\n",
              "GzduHNy2p6cnra2taW1tTWdnZ15++eUkycDAQLq6utLS0pLp06dnw4YNJ+2jp6cn7e3tmTZtWq69\n",
              "9trs3LnztN/H9ddfn6ampiTJxIkTc/HFF2f//v2n3L67uztNTU0n3bq7u097fwAAAHA2DPmI/v33\n",
              "359/+Id/yJo1a5Ikc+fOzcKFC99223HjxmXz5s1Zv359brrppjzwwAPZunVrHnvssSxevDhbtmzJ\n",
              "rl27snjx4mzbti0TJkzI0qVLc9ddd+XJJ5/Mgw8+mD179mT37t1Jkk9+8pODr/38889n1apV2bRp\n",
              "UxobG/Pss8/m9ttvH9x2KH74wx/mv//7v3P11VefcpslS5bkq1/96kk/czQfAACAc82QQ7+hoSFf\n",
              "+tKX0tXVlSTveCX+W2+9NUnS1taWI0eO5LbbbkuSTJ8+PXv37k3yvxf36+joyIQJE5IkXV1d+cY3\n",
              "vpHjx49n/fr1ueOOOzJmzJgkyYIFC/Lwww8nSdauXZudO3emvb19cH+HDh3K0aNHh/R+Xnzxxdx5\n",
              "55159NFH8/73v/+U2zlNHwAAgNFgyKfuv/LKK5k9e3bOP//8nH/++fnUpz6VAwcOvO22Y8eOTZLU\n",
              "19e/5f6xY8fe9jnv9IuDX32sqqrMnz8/O3bsGLwdOHAg73vf+077vfzkJz/Jpz71qXz3u9/NNddc\n",
              "c9rPAwAAgHPVkEP/i1/8Yq655pocOHAgBw4cyDXXXJM//dM/PeMBZs2alaeeeiqvvPJKkmTFihW5\n",
              "/vrrU19fnxtuuCG9vb0ZGBhIf39/Vq5cOfi8OXPmpLe3N/v27UuSnDhxIlu3bj3t/f7bv/1bZs+e\n",
              "nQcffPBtrzEAAAAAo9GQT93fv39//umf/mnw/l/91V9lypQpZzzApEmTsnz58nR0dCT53wvjPfTQ\n",
              "Q0mShQsXZteuXbniiity4YUXZubMmdm2bVuSZObMmbn33ntz880359ixY+nv709nZ2fa2tpOa79f\n",
              "+cpX8sYbb+RrX/tavva1ryVJ/u7v/u6k6wAAAADAaFNXVVU1lCdcddVV+ed//udcfPHFSZJXX301\n",
              "n/zkJ4d0xXvOnltuuSVJsnr16hpPAgAAwNkw5CP699xzT6ZOnZo/+qM/SpI89dRTWb58+bAPBgAA\n",
              "AAzdkEP/C1/4QqZOnZqNGzcmSf7iL/4iV1555XDPNSyeeOKJ/PVf//Vbfr5kyZLBfxEAAAAASjLk\n",
              "U/cZXZy6DwAA8N4y5Kvub9q0KdOnT89v/uZvZvz48bngggsyfvz4kZgNAAAAGKIhn7q/cOHCLF26\n",
              "NNOnT099ff1IzAQAAACcoSGH/vjx4/OZz3xmJGYBAAAA3qUhn7r/6U9/Oj09Penv7x+JeQAAAIB3\n",
              "Ycih/3u/93vp6urK+973vtTX1+e8885zCj8AAACcI4Z86v6f//mfZ+3atWlraxP4AAAAcI4Zcuh/\n",
              "6EMfyh/8wR+MxCwAAADAuzTkU/fnzJmTBx54ID//+c9z+PDhwRsAAABQe3VVVVVDecJ55/3ydwN1\n",
              "dXWpqip1dXU5fvz4sA/Hu3fLLbckSVavXl3jSQAAADgbhnzq/okTJ0ZiDgAAAGAYDPnUfQAAAODc\n",
              "JfQBAACgIEIfAAAACiL0AQAAoCBCHwAAAAoi9AEAAKAgQh8AAAAKIvQBAACgIEIfAAAACiL0AQAA\n",
              "oCBCHwAAAAoi9AEAAKAgQh8AAAAKIvQBAACgIEIfAAAACiL0AQAAoCBCHwAAAArSUOsBGFkXXXRR\n",
              "rUcAAADgLKqrqqqq9RAAAADA8HDqPgAAABRE6AMAAEBBhD4AAAAUROgDAABAQYQ+AAAAFEToAwAA\n",
              "QEGEPgAAABRE6AMAAEBBhD4AAAAUROgDAABAQYQ+AAAAFEToAwAAQEGEPgAAABRE6AMAAEBBhD4A\n",
              "AAAUROgDAABAQYQ+AAAA71mLFi3KokWLaj3GsGqo9QAAAABQKwcPHqz1CMPOEX0AAAAoiNAHAACA\n",
              "ggh9AAAAKIjQBwAAgIIIfQAAACiI0AcAAICCCH0AAAAoiNAHAACAggh9AAAAKIjQBwAAgIIIfQAA\n",
              "ACiI0AcAAICCCH0AAAAoiNAHAACAggh9AAAAKIjQBwAAgIIIfQAAACiI0AcAAICCCH0AAAAoiNAH\n",
              "AACAggh9AAAAKIjQBwAAgIIIfQAAACiI0AcAAICCCH0AAAAoiNAHAACAggh9AAAAKIjQBwAAgIII\n",
              "fQAAACiI0AcAAICCCH0AAAAoiNAHAACAggh9AAAAKMioC/3HH38811133a/d7pFHHsncuXPfcZvv\n",
              "fOc7mTx5cqZMmZJJkybl/vvvH54hAQAAoEYaaj1ALc2bNy9f+tKXkiSHDx/OpEmTMnPmzEydOrXG\n",
              "kwEAAMCZGdEj+nV1dVm6dGna29vT3NycNWvWpLu7O21tbWlpacnGjRsHt+3p6Ulra2taW1vT2dmZ\n",
              "l19+OUkyMDCQrq6utLS0ZPr06dmwYcNJ++jp6Ul7e3umTZuWa6+9Njt37jzt+Zqamgb/fOTIkQwM\n",
              "DJxy276+vhw+fPikW19f32nvCwAAAM6GET91f9y4cdm8eXMefvjhzJs3L5dcckm2bt2aZcuWZfHi\n",
              "xUmSXbt2ZfHixXnyySfzwgsvZMaMGbnrrruSJA8++GD27NmT3bt357nnnsv27dsHX/v555/PqlWr\n",
              "smnTpmzfvj1Lly7N7bffPqT5vve97+XKK69Mc3Nz7rnnnlMeze/u7k5TU9NJt+7u7jP8WwEAAICR\n",
              "MeKhf+uttyZJ2tracuTIkdx2221JkunTp2fv3r1Jkg0bNqSjoyMTJkxIknR1deWZZ57J8ePHs379\n",
              "+txxxx0ZM2ZMxowZkwULFgy+9tq1a7Nz5860t7dnypQp+fKXv5xDhw7l6NGjpz3fZz7zmezevTt7\n",
              "9uxJb29v9uzZ87bbLVmyJG+88cZJtyVLlpzR3wkAAACMlBH/jv7YsWOTJPX19W+5f+zYsbd9Tl1d\n",
              "3Slf71cfq6oq8+fPz7Jly971nM3NzWlvb8/jjz+ej33sY295vLGxMY2Nje96PwAAADCSzomr7s+a\n",
              "NStPPfVUXnnllSTJihUrcv3116e+vj433HBDent7MzAwkP7+/qxcuXLweXPmzElvb2/27duXJDlx\n",
              "4kS2bt162vv9yU9+Mvjn1157Lc8880xaW1uH6V0BAADA2XdOXHV/0qRJWb58eTo6OpIkEydOzEMP\n",
              "PZQkWbhwYXbt2pUrrrgiF154YWbOnJlt27YlSWbOnJl77703N998c44dO5b+/v50dnamra3ttPZ7\n",
              "33335dlnn82YMWNSVVXuvvvu3HjjjSPzJgEAAOAsqKuqqqr1EAAAAFALt9xyS5Jk9erVNZ5k+JwT\n",
              "p+4DAAAAw6P40H/iiScyZcqUt9weffTRWo8GAAAAw+6c+I7+SJo9e3Zmz55d6zEAAADgrCj+iD4A\n",
              "AAC8lwh9AAAAKIjQBwAAgIIIfQAAACiI0AcAAICCCH0AAAAoiNAHAACAggh9AAAAKIjQBwAAgIII\n",
              "fQAAACiI0AcAAICCCH0AAAAoiNAHAACAggh9AAAAKIjQBwAAgIIIfQAAACiI0AcAAICCCH0AAAAo\n",
              "iNAHAACAggh9AAAAKIjQBwAAgIIIfQAAACiI0AcAAICCCH0AAAAoiNAHAACAggh9AAAAKIjQBwAA\n",
              "gIIIfQAAAChIQ60HAAAAgFq56KKLaj3CsKurqqqq9RAAAADA8HDqPgAAABRE6AMAAEBBhD4AAAAU\n",
              "ROgDAABAQYQ+AAAAFEToAwAAQEGEPgAAABRE6I9CfX19+du//dv09fXVehSoOesBTmZNwC9ZD3Ay\n",
              "a+K9o66qqqrWQzA0hw8fTlNTU954442MHz++1uNATVkPcDJrAn7JeoCTWRPvHY7oAwAAQEGEPgAA\n",
              "ABRE6AMAAEBBhP4o1NjYmK9//etpbGys9ShQc9YDnMyagF+yHuBk1sR7h4vxAQAAQEEc0QcAAICC\n",
              "CH0AAAAoiNAHAACAggj9UWbv3r2ZMWNGLr/88lx99dXZvXt3rUeCEdXc3JyPfexjmTJlSqZMmZJH\n",
              "H300yTuvBeuEknzlK19Jc3Nz6urqsmPHjsGfn+kasD4YzU61Hk71WZFYD5Ttf/7nfzJ37txcfvnl\n",
              "ueqqq3LjjTfmpZdeSpL8/Oc/T0dHR1paWjJp0qRs2rRp8Hln+hijSMWoMmvWrGrlypVVVVXVY489\n",
              "VrW1tdV2IBhhH/7wh6sf//jHb/n5O60F64SS/Mu//Eu1f//+t6yFM10D1gej2anWw6k+K6rKeqBs\n",
              "R48erdatW1edOHGiqqqq+va3v1194hOfqKqqqu68887q61//elVVVfWv//qv1YQJE6r+/v539Rij\n",
              "h9AfRQ4ePFhdcMEF1cDAQFVVVXXixInqoosuqvbu3VvjyWDkvN3/vL3TWrBOKNWvroUzXQPWB6U4\n",
              "3dC3Hniv2bJlS/XhD3+4qqqqev/7318dOHBg8LGrr766+sEPfvCuHmP0cOr+KLJ///5ccsklaWho\n",
              "SJLU1dXl0ksvzb59+2o8GYysO+64I5MnT86f/Mmf5LXXXnvHtWCd8F5wpmvA+qBk//9nRXLmawVG\n",
              "q/vuuy833XRTXn/99QwMDOTiiy8efKy5uTn79u0748cYXYQ+cE7btGlTXnjhhWzfvj2/9Vu/lfnz\n",
              "59d6JADOMT4rIFm2bFleeumldHd313oUzgENtR6A0zdx4sQcOHAgx44dS0NDQ6qqyr59+3LppZfW\n",
              "ejQYMf/33/dv/MZv5O67787ll1/+jmth/Pjx1gnFO9M1YH1Qqrf7rEjOfK3AaPPNb34zq1evzg9/\n",
              "+MOcf/75Of/889PQ0JBXX3118Oj8f/7nf+bSSy/NBz/4wTN6jNHFEf1R5EMf+lCmTZuW3t7eJMn3\n",
              "v//9/M7v/E4++tGP1ngyGBlHjhzJL37xi8H7q1atytSpU99xLVgnvBec6RqwPijRqT4rkjNfKzCa\n",
              "fOtb38qqVavygx/8IB/4wAcGf/7Zz342K1asSJJs2bIlL7/8cj7xiU+8q8cYPeqqqqpqPQSnb8+e\n",
              "PfnjP/7jvP766xk/fnxWrlyZyZMn13osGBH/8R//kU9/+tM5fvx4qqrKZZddlvvuuy/Nzc3vuBas\n",
              "E0ryxS9+MevWrcurr76aD37wg7ngggvy0ksvnfEasD4Yzd5uPTz99NOn/KxIrAfK9l//9V+ZOHFi\n",
              "LrvsslxwwQVJksbGxmzevDkHDx7MF77whfz0pz/NmDFj8sADD2TWrFlJcsaPMXoIfQAAACiIU/cB\n",
              "AACgIEIfAAAACiL0AQAAoCBCHwAAAAoi9AGAYVFXV5elS5emvb09zc3NWbNmTbq7u9PW1paWlpZs\n",
              "3LgxSfLaa6/lD//wDzN58uS0trbmzjvvHHyNb37zm5k+fXqmTZuWjo6O/OxnP6vRuwGA0auh1gMA\n",
              "AOUYN25cNm/enPXr1+emm27KAw88kK1bt+axxx7L4sWLs2XLlvT29uZ3f/d38/TTTydJDh06lCT5\n",
              "x3/8x+zZsyc/+tGPUl9fn56ennR1dWXdunW1fEsAMOr45/UAgGFRV1eXAwcO5OKLL84bb7yRD3zg\n",
              "Azl69GjGjh2bn/3sZ7nqqqvyi1/8Ij/60Y9y66235rOf/WyuvfbadHR0pLGxMZ/73OeyZcuWNDU1\n",
              "JUmOHz+eJHnxxRdr+bYAYNRx6j4AMGzGjh2bJKmvr3/L/WPHjiVJPv7xj2fHjh1pb2/P6tWrc/XV\n",
              "V+f48eOpqipLlizJjh07smPHjrz44osiHwDOgNAHAM6qn/70pxk3blw+97nP5dvf/nb+/d//PW++\n",
              "+Wbmzp2bFStWDJ7KPzAwkB//+Mc1nhYARh/f0QcAzqqNGzfmW9/61uBR/uXLl6epqSmf//zn8/rr\n",
              "r2fWrFlJkmPHjmXBggWZOnVqjScGgNHFd/QBAACgIE7dBwAAgIIIfQAAACiI0AcAAICCCH0AAAAo\n",
              "iNAHAACAggh9AAAAKIjQBwAAgIIIfQAAACiI0AcAAICCCH0AAAAoiNAHAACAgvw//Qg3/hcifmQA\n",
              "AAAASUVORK5CYII=\n",
              "\">\n",
              "      </div>\n",
              "      <script type=\"text/javascript\">\n",
              "        (() => {\n",
              "          const chartElement = document.getElementById(\"chart-aef85799-956d-4581-a99f-ba610df23c51\");\n",
              "          async function getCodeForChartHandler(event) {\n",
              "            const chartCodeResponse =  await google.colab.kernel.invokeFunction(\n",
              "                'getCodeForChart', [\"chart-aef85799-956d-4581-a99f-ba610df23c51\"], {});\n",
              "            const responseJson = chartCodeResponse.data['application/json'];\n",
              "            await google.colab.notebook.addCell(responseJson.code, 'code');\n",
              "          }\n",
              "          chartElement.onclick = getCodeForChartHandler;\n",
              "        })();\n",
              "      </script>\n",
              "      <style>\n",
              "        .colab-quickchart-chart-with-code  {\n",
              "            display: block;\n",
              "            float: left;\n",
              "            border: 1px solid transparent;\n",
              "        }\n",
              "\n",
              "        .colab-quickchart-chart-with-code:hover {\n",
              "            cursor: pointer;\n",
              "            border: 1px solid #aaa;\n",
              "        }\n",
              "      </style>"
            ]
          },
          "metadata": {}
        }
      ]
    }
  ],
  "metadata": {
    "accelerator": "GPU",
    "colab": {
      "gpuType": "T4",
      "provenance": []
    },
    "kernelspec": {
      "display_name": "Python 3",
      "name": "python3"
    },
    "language_info": {
      "name": "python"
    }
  },
  "nbformat": 4,
  "nbformat_minor": 0
}